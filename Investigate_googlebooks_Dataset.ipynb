{
 "cells": [
  {
   "cell_type": "markdown",
   "metadata": {},
   "source": [
    "\n",
    "\n",
    "# Project: Investigate the Google Books  Dataset \n",
    "\n",
    "## Table of Contents\n",
    "<ul>\n",
    "<li><a href=\"#intro\">Introduction</a></li>\n",
    "<li><a href=\"#wrangling\">Data Wrangling</a></li>\n",
    "<li><a href=\"#eda\">Exploratory Data Analysis</a></li>\n",
    "<li><a href=\"#conclusions\">Conclusions</a></li>\n",
    "</ul>"
   ]
  },
  {
   "cell_type": "markdown",
   "metadata": {},
   "source": [
    "<a id='intro'></a>\n",
    "## Introduction\n",
    "\n",
    "The selected dataset was acquired from Google Books store using google API. the dataset contains xx books each book has xx feature. the data gathered will help in exploring popularity of books and using the following analysis I will examine the correlations between the features in a tryy to determined what features can make a book popular. \n",
    "\n",
    "### Resources\n",
    "These website were used in the creation of the code below.\n",
    "<li><b>Dataset</b> :https://www.kaggle.com/bilalyussef/google-books-dataset</li>\n",
    "<li>https://www.w3schools.com/</li>\n",
    "<li>https://pandas.pydata.org/</li>\n",
    "<li>https://stackoverflow.com/</li>\n"
   ]
  },
  {
   "cell_type": "code",
   "execution_count": 2,
   "metadata": {},
   "outputs": [],
   "source": [
    "# imports and load data\n",
    "import numpy as np\n",
    "import pandas as pd\n",
    "import matplotlib.pyplot as plt\n",
    "import seaborn as sb\n"
   ]
  },
  {
   "cell_type": "markdown",
   "metadata": {},
   "source": [
    "<a id='wrangling'></a>\n",
    "## Data Wrangling\n",
    "in this step I will explor dataset column and datatypes and drop un-needed columns for this project.\n",
    "\n",
    "### General Properties"
   ]
  },
  {
   "cell_type": "code",
   "execution_count": 3,
   "metadata": {},
   "outputs": [
    {
     "name": "stdout",
     "output_type": "stream",
     "text": [
      "<class 'pandas.core.frame.DataFrame'>\n",
      "RangeIndex: 1299 entries, 0 to 1298\n",
      "Data columns (total 14 columns):\n",
      " #   Column          Non-Null Count  Dtype  \n",
      "---  ------          --------------  -----  \n",
      " 0   Unnamed: 0      1299 non-null   int64  \n",
      " 1   title           1299 non-null   object \n",
      " 2   author          1299 non-null   object \n",
      " 3   rating          1224 non-null   float64\n",
      " 4   voters          1224 non-null   object \n",
      " 5   price           1299 non-null   float64\n",
      " 6   currency        1299 non-null   object \n",
      " 7   description     1296 non-null   object \n",
      " 8   publisher       1299 non-null   object \n",
      " 9   page_count      1299 non-null   int64  \n",
      " 10  generes         1299 non-null   object \n",
      " 11  ISBN            1299 non-null   object \n",
      " 12  language        1299 non-null   object \n",
      " 13  published_date  1299 non-null   object \n",
      "dtypes: float64(2), int64(2), object(10)\n",
      "memory usage: 142.2+ KB\n"
     ]
    }
   ],
   "source": [
    "# Load data from books.csv \n",
    "books = pd.read_csv('google/google_books_1299.csv',sep=',',error_bad_lines=False)\n",
    "books.info()"
   ]
  },
  {
   "cell_type": "code",
   "execution_count": 4,
   "metadata": {},
   "outputs": [
    {
     "data": {
      "text/html": [
       "<div>\n",
       "<style scoped>\n",
       "    .dataframe tbody tr th:only-of-type {\n",
       "        vertical-align: middle;\n",
       "    }\n",
       "\n",
       "    .dataframe tbody tr th {\n",
       "        vertical-align: top;\n",
       "    }\n",
       "\n",
       "    .dataframe thead th {\n",
       "        text-align: right;\n",
       "    }\n",
       "</style>\n",
       "<table border=\"1\" class=\"dataframe\">\n",
       "  <thead>\n",
       "    <tr style=\"text-align: right;\">\n",
       "      <th></th>\n",
       "      <th>Unnamed: 0</th>\n",
       "      <th>title</th>\n",
       "      <th>author</th>\n",
       "      <th>rating</th>\n",
       "      <th>voters</th>\n",
       "      <th>price</th>\n",
       "      <th>currency</th>\n",
       "      <th>description</th>\n",
       "      <th>publisher</th>\n",
       "      <th>page_count</th>\n",
       "      <th>generes</th>\n",
       "      <th>ISBN</th>\n",
       "      <th>language</th>\n",
       "      <th>published_date</th>\n",
       "    </tr>\n",
       "  </thead>\n",
       "  <tbody>\n",
       "    <tr>\n",
       "      <th>0</th>\n",
       "      <td>0</td>\n",
       "      <td>Attack on Titan: Volume 13</td>\n",
       "      <td>Hajime Isayama</td>\n",
       "      <td>4.6</td>\n",
       "      <td>428</td>\n",
       "      <td>43.28</td>\n",
       "      <td>SAR</td>\n",
       "      <td>NO SAFE PLACE LEFT At great cost to the Garris...</td>\n",
       "      <td>Kodansha Comics</td>\n",
       "      <td>192</td>\n",
       "      <td>none</td>\n",
       "      <td>9781612626864</td>\n",
       "      <td>English</td>\n",
       "      <td>Jul 31, 2014</td>\n",
       "    </tr>\n",
       "  </tbody>\n",
       "</table>\n",
       "</div>"
      ],
      "text/plain": [
       "   Unnamed: 0                       title          author  rating voters  \\\n",
       "0           0  Attack on Titan: Volume 13  Hajime Isayama     4.6    428   \n",
       "\n",
       "   price currency                                        description  \\\n",
       "0  43.28      SAR  NO SAFE PLACE LEFT At great cost to the Garris...   \n",
       "\n",
       "         publisher  page_count generes           ISBN language published_date  \n",
       "0  Kodansha Comics         192    none  9781612626864  English   Jul 31, 2014  "
      ]
     },
     "execution_count": 4,
     "metadata": {},
     "output_type": "execute_result"
    }
   ],
   "source": [
    "books.head(1)"
   ]
  },
  {
   "cell_type": "markdown",
   "metadata": {},
   "source": [
    "## Observation"
   ]
  },
  {
   "cell_type": "markdown",
   "metadata": {},
   "source": [
    "1) We have total <b>14 columns</b> with a max of <b>1299  entries</b> in each column.<br/>\n",
    "2) Data has no missing values nor nulls.<br/>\n",
    "3) Some columns need renaming and shorten for better usage and display.<br/>\n",
    "4) Some columns are not needed for this analysis and will be dropped.<br/>\n",
    "5) For this analysis we don't need \"published_date\" I will extract year in a new column.<br/>\n",
    "6) Columns except \"voters\" are in good data type, I will change voters data types to int64.<br/>"
   ]
  },
  {
   "cell_type": "markdown",
   "metadata": {},
   "source": [
    "## Dropping unwanted columns"
   ]
  },
  {
   "cell_type": "code",
   "execution_count": 5,
   "metadata": {},
   "outputs": [],
   "source": [
    "books.drop(['Unnamed: 0','description','ISBN'],axis =1,inplace = True)"
   ]
  },
  {
   "cell_type": "code",
   "execution_count": 6,
   "metadata": {},
   "outputs": [
    {
     "data": {
      "text/plain": [
       "Index(['title', 'author', 'rating', 'voters', 'price', 'currency', 'publisher',\n",
       "       'page_count', 'generes', 'language', 'published_date'],\n",
       "      dtype='object')"
      ]
     },
     "execution_count": 6,
     "metadata": {},
     "output_type": "execute_result"
    }
   ],
   "source": [
    "books.columns"
   ]
  },
  {
   "cell_type": "code",
   "execution_count": 7,
   "metadata": {},
   "outputs": [],
   "source": [
    "# extract publication year to a new column\n",
    "books['published_year']=books['published_date'].str[-4:]"
   ]
  },
  {
   "cell_type": "code",
   "execution_count": 8,
   "metadata": {},
   "outputs": [],
   "source": [
    "books.drop(['published_date'],axis =1,inplace = True)"
   ]
  },
  {
   "cell_type": "markdown",
   "metadata": {},
   "source": [
    "## Renaming columns"
   ]
  },
  {
   "cell_type": "code",
   "execution_count": 9,
   "metadata": {},
   "outputs": [],
   "source": [
    "books.rename(columns={'language':'lang','page_count': 'pages','voters':'votes'},inplace=True)"
   ]
  },
  {
   "cell_type": "markdown",
   "metadata": {},
   "source": [
    "### Data Cleaning \n",
    "in this step I will examine the data for duplicates and empty / NAN fields."
   ]
  },
  {
   "cell_type": "code",
   "execution_count": 10,
   "metadata": {
    "scrolled": true
   },
   "outputs": [
    {
     "name": "stdout",
     "output_type": "stream",
     "text": [
      "<class 'pandas.core.frame.DataFrame'>\n",
      "RangeIndex: 1299 entries, 0 to 1298\n",
      "Data columns (total 11 columns):\n",
      " #   Column          Non-Null Count  Dtype  \n",
      "---  ------          --------------  -----  \n",
      " 0   title           1299 non-null   object \n",
      " 1   author          1299 non-null   object \n",
      " 2   rating          1224 non-null   float64\n",
      " 3   votes           1224 non-null   object \n",
      " 4   price           1299 non-null   float64\n",
      " 5   currency        1299 non-null   object \n",
      " 6   publisher       1299 non-null   object \n",
      " 7   pages           1299 non-null   int64  \n",
      " 8   generes         1299 non-null   object \n",
      " 9   lang            1299 non-null   object \n",
      " 10  published_year  1299 non-null   object \n",
      "dtypes: float64(2), int64(1), object(8)\n",
      "memory usage: 111.8+ KB\n"
     ]
    }
   ],
   "source": [
    "books.info()"
   ]
  },
  {
   "cell_type": "markdown",
   "metadata": {},
   "source": [
    "<b>We have some missing data in columns (rating , voters)</b>"
   ]
  },
  {
   "cell_type": "code",
   "execution_count": 11,
   "metadata": {},
   "outputs": [
    {
     "data": {
      "text/html": [
       "<div>\n",
       "<style scoped>\n",
       "    .dataframe tbody tr th:only-of-type {\n",
       "        vertical-align: middle;\n",
       "    }\n",
       "\n",
       "    .dataframe tbody tr th {\n",
       "        vertical-align: top;\n",
       "    }\n",
       "\n",
       "    .dataframe thead th {\n",
       "        text-align: right;\n",
       "    }\n",
       "</style>\n",
       "<table border=\"1\" class=\"dataframe\">\n",
       "  <thead>\n",
       "    <tr style=\"text-align: right;\">\n",
       "      <th></th>\n",
       "      <th>title</th>\n",
       "      <th>author</th>\n",
       "      <th>rating</th>\n",
       "      <th>votes</th>\n",
       "      <th>price</th>\n",
       "      <th>currency</th>\n",
       "      <th>publisher</th>\n",
       "      <th>pages</th>\n",
       "      <th>generes</th>\n",
       "      <th>lang</th>\n",
       "      <th>published_year</th>\n",
       "    </tr>\n",
       "  </thead>\n",
       "  <tbody>\n",
       "    <tr>\n",
       "      <th>18</th>\n",
       "      <td>Ask A Footballer</td>\n",
       "      <td>James Milner</td>\n",
       "      <td>NaN</td>\n",
       "      <td>NaN</td>\n",
       "      <td>98.42</td>\n",
       "      <td>SAR</td>\n",
       "      <td>Hachette UK</td>\n",
       "      <td>320</td>\n",
       "      <td>Biography &amp;amp, Autobiography , Sports</td>\n",
       "      <td>English</td>\n",
       "      <td>2019</td>\n",
       "    </tr>\n",
       "    <tr>\n",
       "      <th>48</th>\n",
       "      <td>Martha Stewart's Cookie Perfection: 100+ Recip...</td>\n",
       "      <td>Editors of Martha Stewart Living</td>\n",
       "      <td>NaN</td>\n",
       "      <td>NaN</td>\n",
       "      <td>66.87</td>\n",
       "      <td>SAR</td>\n",
       "      <td>Clarkson Potter</td>\n",
       "      <td>256</td>\n",
       "      <td>Cooking , Methods , Baking</td>\n",
       "      <td>English</td>\n",
       "      <td>2019</td>\n",
       "    </tr>\n",
       "    <tr>\n",
       "      <th>58</th>\n",
       "      <td>The Guardians: The explosive new thriller from...</td>\n",
       "      <td>John Grisham</td>\n",
       "      <td>NaN</td>\n",
       "      <td>NaN</td>\n",
       "      <td>98.42</td>\n",
       "      <td>SAR</td>\n",
       "      <td>Hachette UK</td>\n",
       "      <td>384</td>\n",
       "      <td>Fiction , Thrillers , Suspense</td>\n",
       "      <td>English</td>\n",
       "      <td>2019</td>\n",
       "    </tr>\n",
       "    <tr>\n",
       "      <th>63</th>\n",
       "      <td>Marketing (The Brian Tracy Success Library)</td>\n",
       "      <td>Brian Tracy</td>\n",
       "      <td>NaN</td>\n",
       "      <td>NaN</td>\n",
       "      <td>29.40</td>\n",
       "      <td>SAR</td>\n",
       "      <td>AMACOM</td>\n",
       "      <td>112</td>\n",
       "      <td>Business &amp;amp, Economics , Marketing , General</td>\n",
       "      <td>English</td>\n",
       "      <td>2014</td>\n",
       "    </tr>\n",
       "    <tr>\n",
       "      <th>78</th>\n",
       "      <td>No Mercy: The brand new novel from the Queen o...</td>\n",
       "      <td>Martina Cole</td>\n",
       "      <td>NaN</td>\n",
       "      <td>NaN</td>\n",
       "      <td>98.42</td>\n",
       "      <td>SAR</td>\n",
       "      <td>Hachette UK</td>\n",
       "      <td>416</td>\n",
       "      <td>Fiction , Crime</td>\n",
       "      <td>English</td>\n",
       "      <td>2019</td>\n",
       "    </tr>\n",
       "    <tr>\n",
       "      <th>...</th>\n",
       "      <td>...</td>\n",
       "      <td>...</td>\n",
       "      <td>...</td>\n",
       "      <td>...</td>\n",
       "      <td>...</td>\n",
       "      <td>...</td>\n",
       "      <td>...</td>\n",
       "      <td>...</td>\n",
       "      <td>...</td>\n",
       "      <td>...</td>\n",
       "      <td>...</td>\n",
       "    </tr>\n",
       "    <tr>\n",
       "      <th>1244</th>\n",
       "      <td>Marketing (The Brian Tracy Success Library)</td>\n",
       "      <td>Brian Tracy</td>\n",
       "      <td>NaN</td>\n",
       "      <td>NaN</td>\n",
       "      <td>29.40</td>\n",
       "      <td>SAR</td>\n",
       "      <td>AMACOM</td>\n",
       "      <td>112</td>\n",
       "      <td>none</td>\n",
       "      <td>English</td>\n",
       "      <td>2014</td>\n",
       "    </tr>\n",
       "    <tr>\n",
       "      <th>1265</th>\n",
       "      <td>Martha Stewart's Cookie Perfection: 100+ Recip...</td>\n",
       "      <td>Editors of Martha Stewart Living</td>\n",
       "      <td>NaN</td>\n",
       "      <td>NaN</td>\n",
       "      <td>66.87</td>\n",
       "      <td>SAR</td>\n",
       "      <td>Clarkson Potter</td>\n",
       "      <td>256</td>\n",
       "      <td>Cooking , Courses &amp;amp, Dishes , Cookies</td>\n",
       "      <td>English</td>\n",
       "      <td>2019</td>\n",
       "    </tr>\n",
       "    <tr>\n",
       "      <th>1288</th>\n",
       "      <td>The Essentials of Finance and Accounting for N...</td>\n",
       "      <td>Edward Fields</td>\n",
       "      <td>NaN</td>\n",
       "      <td>NaN</td>\n",
       "      <td>58.99</td>\n",
       "      <td>SAR</td>\n",
       "      <td>AMACOM</td>\n",
       "      <td>320</td>\n",
       "      <td>Business &amp;amp, Economics , Accounting , General</td>\n",
       "      <td>English</td>\n",
       "      <td>2011</td>\n",
       "    </tr>\n",
       "    <tr>\n",
       "      <th>1290</th>\n",
       "      <td>Management (The Brian Tracy Success Library)</td>\n",
       "      <td>Brian Tracy</td>\n",
       "      <td>NaN</td>\n",
       "      <td>NaN</td>\n",
       "      <td>38.44</td>\n",
       "      <td>SAR</td>\n",
       "      <td>AMACOM</td>\n",
       "      <td>112</td>\n",
       "      <td>none</td>\n",
       "      <td>English</td>\n",
       "      <td>2014</td>\n",
       "    </tr>\n",
       "    <tr>\n",
       "      <th>1291</th>\n",
       "      <td>The Essentials of Finance and Accounting for N...</td>\n",
       "      <td>Edward Fields</td>\n",
       "      <td>NaN</td>\n",
       "      <td>NaN</td>\n",
       "      <td>58.99</td>\n",
       "      <td>SAR</td>\n",
       "      <td>AMACOM</td>\n",
       "      <td>320</td>\n",
       "      <td>none</td>\n",
       "      <td>English</td>\n",
       "      <td>2011</td>\n",
       "    </tr>\n",
       "  </tbody>\n",
       "</table>\n",
       "<p>75 rows × 11 columns</p>\n",
       "</div>"
      ],
      "text/plain": [
       "                                                  title  \\\n",
       "18                                     Ask A Footballer   \n",
       "48    Martha Stewart's Cookie Perfection: 100+ Recip...   \n",
       "58    The Guardians: The explosive new thriller from...   \n",
       "63          Marketing (The Brian Tracy Success Library)   \n",
       "78    No Mercy: The brand new novel from the Queen o...   \n",
       "...                                                 ...   \n",
       "1244        Marketing (The Brian Tracy Success Library)   \n",
       "1265  Martha Stewart's Cookie Perfection: 100+ Recip...   \n",
       "1288  The Essentials of Finance and Accounting for N...   \n",
       "1290       Management (The Brian Tracy Success Library)   \n",
       "1291  The Essentials of Finance and Accounting for N...   \n",
       "\n",
       "                                author  rating votes  price currency  \\\n",
       "18                        James Milner     NaN   NaN  98.42      SAR   \n",
       "48    Editors of Martha Stewart Living     NaN   NaN  66.87      SAR   \n",
       "58                        John Grisham     NaN   NaN  98.42      SAR   \n",
       "63                         Brian Tracy     NaN   NaN  29.40      SAR   \n",
       "78                        Martina Cole     NaN   NaN  98.42      SAR   \n",
       "...                                ...     ...   ...    ...      ...   \n",
       "1244                       Brian Tracy     NaN   NaN  29.40      SAR   \n",
       "1265  Editors of Martha Stewart Living     NaN   NaN  66.87      SAR   \n",
       "1288                     Edward Fields     NaN   NaN  58.99      SAR   \n",
       "1290                       Brian Tracy     NaN   NaN  38.44      SAR   \n",
       "1291                     Edward Fields     NaN   NaN  58.99      SAR   \n",
       "\n",
       "            publisher  pages                                          generes  \\\n",
       "18        Hachette UK    320           Biography &amp, Autobiography , Sports   \n",
       "48    Clarkson Potter    256                       Cooking , Methods , Baking   \n",
       "58        Hachette UK    384                   Fiction , Thrillers , Suspense   \n",
       "63             AMACOM    112   Business &amp, Economics , Marketing , General   \n",
       "78        Hachette UK    416                                  Fiction , Crime   \n",
       "...               ...    ...                                              ...   \n",
       "1244           AMACOM    112                                             none   \n",
       "1265  Clarkson Potter    256         Cooking , Courses &amp, Dishes , Cookies   \n",
       "1288           AMACOM    320  Business &amp, Economics , Accounting , General   \n",
       "1290           AMACOM    112                                             none   \n",
       "1291           AMACOM    320                                             none   \n",
       "\n",
       "         lang published_year  \n",
       "18    English           2019  \n",
       "48    English           2019  \n",
       "58    English           2019  \n",
       "63    English           2014  \n",
       "78    English           2019  \n",
       "...       ...            ...  \n",
       "1244  English           2014  \n",
       "1265  English           2019  \n",
       "1288  English           2011  \n",
       "1290  English           2014  \n",
       "1291  English           2011  \n",
       "\n",
       "[75 rows x 11 columns]"
      ]
     },
     "execution_count": 11,
     "metadata": {},
     "output_type": "execute_result"
    }
   ],
   "source": [
    "#checking for null values\n",
    "books[books.rating.isna()]"
   ]
  },
  {
   "cell_type": "markdown",
   "metadata": {},
   "source": [
    "<b>Rating and votes are not mandatory for every book, I will set the Nan values to 0 as it will not affect the analysis</b>"
   ]
  },
  {
   "cell_type": "code",
   "execution_count": 12,
   "metadata": {},
   "outputs": [],
   "source": [
    "books.fillna(0,inplace=True)"
   ]
  },
  {
   "cell_type": "code",
   "execution_count": 13,
   "metadata": {},
   "outputs": [
    {
     "data": {
      "text/plain": [
       "title             0\n",
       "author            0\n",
       "rating            0\n",
       "votes             0\n",
       "price             0\n",
       "currency          0\n",
       "publisher         0\n",
       "pages             0\n",
       "generes           0\n",
       "lang              0\n",
       "published_year    0\n",
       "dtype: int64"
      ]
     },
     "execution_count": 13,
     "metadata": {},
     "output_type": "execute_result"
    }
   ],
   "source": [
    "books.isna().sum()"
   ]
  },
  {
   "cell_type": "code",
   "execution_count": 14,
   "metadata": {},
   "outputs": [
    {
     "data": {
      "text/plain": [
       "351"
      ]
     },
     "execution_count": 14,
     "metadata": {},
     "output_type": "execute_result"
    }
   ],
   "source": [
    "# checking for duplicates\n",
    "books.duplicated().sum()"
   ]
  },
  {
   "cell_type": "code",
   "execution_count": 15,
   "metadata": {},
   "outputs": [
    {
     "data": {
      "text/html": [
       "<div>\n",
       "<style scoped>\n",
       "    .dataframe tbody tr th:only-of-type {\n",
       "        vertical-align: middle;\n",
       "    }\n",
       "\n",
       "    .dataframe tbody tr th {\n",
       "        vertical-align: top;\n",
       "    }\n",
       "\n",
       "    .dataframe thead th {\n",
       "        text-align: right;\n",
       "    }\n",
       "</style>\n",
       "<table border=\"1\" class=\"dataframe\">\n",
       "  <thead>\n",
       "    <tr style=\"text-align: right;\">\n",
       "      <th></th>\n",
       "      <th>title</th>\n",
       "      <th>author</th>\n",
       "      <th>rating</th>\n",
       "      <th>votes</th>\n",
       "      <th>price</th>\n",
       "      <th>currency</th>\n",
       "      <th>publisher</th>\n",
       "      <th>pages</th>\n",
       "      <th>generes</th>\n",
       "      <th>lang</th>\n",
       "      <th>published_year</th>\n",
       "    </tr>\n",
       "  </thead>\n",
       "  <tbody>\n",
       "    <tr>\n",
       "      <th>23</th>\n",
       "      <td>The Mysterious Affair at Styles (Poirot)</td>\n",
       "      <td>Agatha Christie</td>\n",
       "      <td>4.6</td>\n",
       "      <td>57</td>\n",
       "      <td>19.28</td>\n",
       "      <td>SAR</td>\n",
       "      <td>HarperCollins UK</td>\n",
       "      <td>208</td>\n",
       "      <td>none</td>\n",
       "      <td>English</td>\n",
       "      <td>2010</td>\n",
       "    </tr>\n",
       "    <tr>\n",
       "      <th>82</th>\n",
       "      <td>Attack on Titan: Volume 13</td>\n",
       "      <td>Hajime Isayama</td>\n",
       "      <td>4.6</td>\n",
       "      <td>428</td>\n",
       "      <td>43.28</td>\n",
       "      <td>SAR</td>\n",
       "      <td>Kodansha Comics</td>\n",
       "      <td>192</td>\n",
       "      <td>none</td>\n",
       "      <td>English</td>\n",
       "      <td>2014</td>\n",
       "    </tr>\n",
       "    <tr>\n",
       "      <th>86</th>\n",
       "      <td>Heart and Brain: An Awkward Yeti Collection</td>\n",
       "      <td>The Awkward Yeti</td>\n",
       "      <td>4.7</td>\n",
       "      <td>87</td>\n",
       "      <td>33.14</td>\n",
       "      <td>SAR</td>\n",
       "      <td>Andrews McMeel Publishing</td>\n",
       "      <td>144</td>\n",
       "      <td>none</td>\n",
       "      <td>English</td>\n",
       "      <td>2015</td>\n",
       "    </tr>\n",
       "    <tr>\n",
       "      <th>110</th>\n",
       "      <td>A Feast for Crows (A Song of Ice and Fire, Boo...</td>\n",
       "      <td>George R.R. Martin</td>\n",
       "      <td>4.5</td>\n",
       "      <td>832</td>\n",
       "      <td>29.29</td>\n",
       "      <td>SAR</td>\n",
       "      <td>HarperCollins UK</td>\n",
       "      <td>864</td>\n",
       "      <td>none</td>\n",
       "      <td>English</td>\n",
       "      <td>2011</td>\n",
       "    </tr>\n",
       "    <tr>\n",
       "      <th>136</th>\n",
       "      <td>Crossroads of Twilight: Book Ten of 'The Wheel...</td>\n",
       "      <td>Robert Jordan</td>\n",
       "      <td>4.4</td>\n",
       "      <td>427</td>\n",
       "      <td>33.42</td>\n",
       "      <td>SAR</td>\n",
       "      <td>Tor Fantasy</td>\n",
       "      <td>704</td>\n",
       "      <td>none</td>\n",
       "      <td>English</td>\n",
       "      <td>2010</td>\n",
       "    </tr>\n",
       "    <tr>\n",
       "      <th>...</th>\n",
       "      <td>...</td>\n",
       "      <td>...</td>\n",
       "      <td>...</td>\n",
       "      <td>...</td>\n",
       "      <td>...</td>\n",
       "      <td>...</td>\n",
       "      <td>...</td>\n",
       "      <td>...</td>\n",
       "      <td>...</td>\n",
       "      <td>...</td>\n",
       "      <td>...</td>\n",
       "    </tr>\n",
       "    <tr>\n",
       "      <th>1291</th>\n",
       "      <td>The Essentials of Finance and Accounting for N...</td>\n",
       "      <td>Edward Fields</td>\n",
       "      <td>0.0</td>\n",
       "      <td>0</td>\n",
       "      <td>58.99</td>\n",
       "      <td>SAR</td>\n",
       "      <td>AMACOM</td>\n",
       "      <td>320</td>\n",
       "      <td>none</td>\n",
       "      <td>English</td>\n",
       "      <td>2011</td>\n",
       "    </tr>\n",
       "    <tr>\n",
       "      <th>1292</th>\n",
       "      <td>Eeny Meeny: DI Helen Grace 1</td>\n",
       "      <td>M. J. Arlidge</td>\n",
       "      <td>4.2</td>\n",
       "      <td>278</td>\n",
       "      <td>42.16</td>\n",
       "      <td>SAR</td>\n",
       "      <td>Penguin UK</td>\n",
       "      <td>464</td>\n",
       "      <td>none</td>\n",
       "      <td>English</td>\n",
       "      <td>2014</td>\n",
       "    </tr>\n",
       "    <tr>\n",
       "      <th>1293</th>\n",
       "      <td>The Infinite Game</td>\n",
       "      <td>Simon Sinek</td>\n",
       "      <td>3.8</td>\n",
       "      <td>4</td>\n",
       "      <td>71.63</td>\n",
       "      <td>SAR</td>\n",
       "      <td>Penguin</td>\n",
       "      <td>272</td>\n",
       "      <td>none</td>\n",
       "      <td>English</td>\n",
       "      <td>2019</td>\n",
       "    </tr>\n",
       "    <tr>\n",
       "      <th>1296</th>\n",
       "      <td>How to Understand Business Finance: Edition 2</td>\n",
       "      <td>Bob Cinnamon</td>\n",
       "      <td>3.5</td>\n",
       "      <td>4</td>\n",
       "      <td>46.85</td>\n",
       "      <td>SAR</td>\n",
       "      <td>Kogan Page Publishers</td>\n",
       "      <td>176</td>\n",
       "      <td>none</td>\n",
       "      <td>English</td>\n",
       "      <td>2010</td>\n",
       "    </tr>\n",
       "    <tr>\n",
       "      <th>1297</th>\n",
       "      <td>Spider-Man: Kraven's Last Hunt</td>\n",
       "      <td>J. M. DeMatteis</td>\n",
       "      <td>4.6</td>\n",
       "      <td>74</td>\n",
       "      <td>43.28</td>\n",
       "      <td>SAR</td>\n",
       "      <td>Marvel Entertainment</td>\n",
       "      <td>168</td>\n",
       "      <td>none</td>\n",
       "      <td>English</td>\n",
       "      <td>2014</td>\n",
       "    </tr>\n",
       "  </tbody>\n",
       "</table>\n",
       "<p>351 rows × 11 columns</p>\n",
       "</div>"
      ],
      "text/plain": [
       "                                                  title              author  \\\n",
       "23             The Mysterious Affair at Styles (Poirot)     Agatha Christie   \n",
       "82                           Attack on Titan: Volume 13      Hajime Isayama   \n",
       "86          Heart and Brain: An Awkward Yeti Collection    The Awkward Yeti   \n",
       "110   A Feast for Crows (A Song of Ice and Fire, Boo...  George R.R. Martin   \n",
       "136   Crossroads of Twilight: Book Ten of 'The Wheel...       Robert Jordan   \n",
       "...                                                 ...                 ...   \n",
       "1291  The Essentials of Finance and Accounting for N...       Edward Fields   \n",
       "1292                       Eeny Meeny: DI Helen Grace 1       M. J. Arlidge   \n",
       "1293                                  The Infinite Game         Simon Sinek   \n",
       "1296      How to Understand Business Finance: Edition 2        Bob Cinnamon   \n",
       "1297                     Spider-Man: Kraven's Last Hunt     J. M. DeMatteis   \n",
       "\n",
       "      rating votes  price currency                  publisher  pages generes  \\\n",
       "23       4.6    57  19.28      SAR           HarperCollins UK    208    none   \n",
       "82       4.6   428  43.28      SAR            Kodansha Comics    192    none   \n",
       "86       4.7    87  33.14      SAR  Andrews McMeel Publishing    144    none   \n",
       "110      4.5   832  29.29      SAR           HarperCollins UK    864    none   \n",
       "136      4.4   427  33.42      SAR                Tor Fantasy    704    none   \n",
       "...      ...   ...    ...      ...                        ...    ...     ...   \n",
       "1291     0.0     0  58.99      SAR                     AMACOM    320    none   \n",
       "1292     4.2   278  42.16      SAR                 Penguin UK    464    none   \n",
       "1293     3.8     4  71.63      SAR                    Penguin    272    none   \n",
       "1296     3.5     4  46.85      SAR      Kogan Page Publishers    176    none   \n",
       "1297     4.6    74  43.28      SAR       Marvel Entertainment    168    none   \n",
       "\n",
       "         lang published_year  \n",
       "23    English           2010  \n",
       "82    English           2014  \n",
       "86    English           2015  \n",
       "110   English           2011  \n",
       "136   English           2010  \n",
       "...       ...            ...  \n",
       "1291  English           2011  \n",
       "1292  English           2014  \n",
       "1293  English           2019  \n",
       "1296  English           2010  \n",
       "1297  English           2014  \n",
       "\n",
       "[351 rows x 11 columns]"
      ]
     },
     "execution_count": 15,
     "metadata": {},
     "output_type": "execute_result"
    }
   ],
   "source": [
    "books[books.duplicated()]"
   ]
  },
  {
   "cell_type": "markdown",
   "metadata": {},
   "source": [
    ">As I examin the duplicates I noticed that the geners column is affecting the duplicate result. so I will exclude it<br>\n",
    " "
   ]
  },
  {
   "cell_type": "code",
   "execution_count": 19,
   "metadata": {},
   "outputs": [
    {
     "data": {
      "text/plain": [
       "351"
      ]
     },
     "execution_count": 19,
     "metadata": {},
     "output_type": "execute_result"
    }
   ],
   "source": [
    "books.duplicated(subset=books.columns.difference(['geners'])).sum()"
   ]
  },
  {
   "cell_type": "code",
   "execution_count": 21,
   "metadata": {},
   "outputs": [
    {
     "data": {
      "text/plain": [
       "246"
      ]
     },
     "execution_count": 21,
     "metadata": {},
     "output_type": "execute_result"
    }
   ],
   "source": [
    "len(books.title.unique())"
   ]
  },
  {
   "cell_type": "code",
   "execution_count": 128,
   "metadata": {},
   "outputs": [],
   "source": [
    "books.drop_duplicates(inplace=True)"
   ]
  },
  {
   "cell_type": "code",
   "execution_count": 129,
   "metadata": {},
   "outputs": [
    {
     "data": {
      "text/plain": [
       "0"
      ]
     },
     "execution_count": 129,
     "metadata": {},
     "output_type": "execute_result"
    }
   ],
   "source": [
    "# Rechecking for duplicates\n",
    "books.duplicated().sum()"
   ]
  },
  {
   "cell_type": "markdown",
   "metadata": {},
   "source": [
    "## Observation"
   ]
  },
  {
   "cell_type": "markdown",
   "metadata": {},
   "source": [
    "Null values and duplicated rows has been handeled. The data now has no null or missing values and has no duplicated rows."
   ]
  },
  {
   "cell_type": "markdown",
   "metadata": {},
   "source": [
    "### Final Dataset after cleaning"
   ]
  },
  {
   "cell_type": "code",
   "execution_count": 130,
   "metadata": {},
   "outputs": [
    {
     "data": {
      "text/plain": [
       "(948, 11)"
      ]
     },
     "execution_count": 130,
     "metadata": {},
     "output_type": "execute_result"
    }
   ],
   "source": [
    "books.shape"
   ]
  },
  {
   "cell_type": "markdown",
   "metadata": {},
   "source": [
    "### Adjusting column data and data types"
   ]
  },
  {
   "cell_type": "code",
   "execution_count": 131,
   "metadata": {},
   "outputs": [
    {
     "data": {
      "text/plain": [
       "title               object\n",
       "author              object\n",
       "rating             float64\n",
       "votes               object\n",
       "price              float64\n",
       "currency            object\n",
       "publisher           object\n",
       "pages                int64\n",
       "generes             object\n",
       "lang                object\n",
       "published_year    category\n",
       "lange             category\n",
       "dtype: object"
      ]
     },
     "execution_count": 131,
     "metadata": {},
     "output_type": "execute_result"
    }
   ],
   "source": [
    "# the publication_year column is not in correct datatype\n",
    "books['published_year']=books['published_year'].astype('category')\n",
    "# the lang column is not in correct datatype\n",
    "books['lange']=books['lang'].astype('category')\n",
    "books.dtypes"
   ]
  },
  {
   "cell_type": "code",
   "execution_count": 132,
   "metadata": {},
   "outputs": [
    {
     "data": {
      "text/plain": [
       "title               object\n",
       "author              object\n",
       "rating             float64\n",
       "votes               object\n",
       "price              float64\n",
       "currency            object\n",
       "publisher           object\n",
       "pages                int64\n",
       "generes             object\n",
       "lang                object\n",
       "published_year    category\n",
       "lange             category\n",
       "dtype: object"
      ]
     },
     "execution_count": 132,
     "metadata": {},
     "output_type": "execute_result"
    }
   ],
   "source": [
    "books['votes']=books['votes'].str.replace(',','')\n",
    "books.dtypes"
   ]
  },
  {
   "cell_type": "code",
   "execution_count": 133,
   "metadata": {},
   "outputs": [],
   "source": [
    "books.head(20)\n",
    "books['votes'].fillna(0,inplace=True)\n",
    "books['votes']=books['votes'].astype('float64')"
   ]
  },
  {
   "cell_type": "code",
   "execution_count": 134,
   "metadata": {},
   "outputs": [
    {
     "name": "stdout",
     "output_type": "stream",
     "text": [
      "Final columns in dataset (Rows,Columns) :  (948, 12)\n"
     ]
    }
   ],
   "source": [
    "print(\"Final columns in dataset (Rows,Columns) : \",books.shape)"
   ]
  },
  {
   "cell_type": "code",
   "execution_count": 135,
   "metadata": {},
   "outputs": [
    {
     "data": {
      "text/html": [
       "<div>\n",
       "<style scoped>\n",
       "    .dataframe tbody tr th:only-of-type {\n",
       "        vertical-align: middle;\n",
       "    }\n",
       "\n",
       "    .dataframe tbody tr th {\n",
       "        vertical-align: top;\n",
       "    }\n",
       "\n",
       "    .dataframe thead th {\n",
       "        text-align: right;\n",
       "    }\n",
       "</style>\n",
       "<table border=\"1\" class=\"dataframe\">\n",
       "  <thead>\n",
       "    <tr style=\"text-align: right;\">\n",
       "      <th></th>\n",
       "      <th>title</th>\n",
       "      <th>author</th>\n",
       "      <th>rating</th>\n",
       "      <th>votes</th>\n",
       "      <th>price</th>\n",
       "      <th>currency</th>\n",
       "      <th>publisher</th>\n",
       "      <th>pages</th>\n",
       "      <th>generes</th>\n",
       "      <th>lang</th>\n",
       "      <th>published_year</th>\n",
       "      <th>lange</th>\n",
       "    </tr>\n",
       "  </thead>\n",
       "  <tbody>\n",
       "    <tr>\n",
       "      <th>0</th>\n",
       "      <td>Attack on Titan: Volume 13</td>\n",
       "      <td>Hajime Isayama</td>\n",
       "      <td>4.6</td>\n",
       "      <td>428.0</td>\n",
       "      <td>43.28</td>\n",
       "      <td>SAR</td>\n",
       "      <td>Kodansha Comics</td>\n",
       "      <td>192</td>\n",
       "      <td>none</td>\n",
       "      <td>English</td>\n",
       "      <td>2014</td>\n",
       "      <td>English</td>\n",
       "    </tr>\n",
       "    <tr>\n",
       "      <th>1</th>\n",
       "      <td>Antiques Roadkill: A Trash 'n' Treasures Mystery</td>\n",
       "      <td>Barbara Allan</td>\n",
       "      <td>3.3</td>\n",
       "      <td>23.0</td>\n",
       "      <td>26.15</td>\n",
       "      <td>SAR</td>\n",
       "      <td>Kensington Publishing Corp.</td>\n",
       "      <td>288</td>\n",
       "      <td>Fiction , Mystery &amp;amp, Detective , Cozy , Gen...</td>\n",
       "      <td>English</td>\n",
       "      <td>2007</td>\n",
       "      <td>English</td>\n",
       "    </tr>\n",
       "    <tr>\n",
       "      <th>2</th>\n",
       "      <td>The Art of Super Mario Odyssey</td>\n",
       "      <td>Nintendo</td>\n",
       "      <td>3.9</td>\n",
       "      <td>9.0</td>\n",
       "      <td>133.85</td>\n",
       "      <td>SAR</td>\n",
       "      <td>Dark Horse Comics</td>\n",
       "      <td>368</td>\n",
       "      <td>Games &amp;amp, Activities , Video &amp;amp, Electronic</td>\n",
       "      <td>English</td>\n",
       "      <td>2019</td>\n",
       "      <td>English</td>\n",
       "    </tr>\n",
       "    <tr>\n",
       "      <th>3</th>\n",
       "      <td>Getting Away Is Deadly: An Ellie Avery Mystery</td>\n",
       "      <td>Sara Rosett</td>\n",
       "      <td>4.0</td>\n",
       "      <td>10.0</td>\n",
       "      <td>26.15</td>\n",
       "      <td>SAR</td>\n",
       "      <td>Kensington Publishing Corp.</td>\n",
       "      <td>320</td>\n",
       "      <td>none</td>\n",
       "      <td>English</td>\n",
       "      <td>2009</td>\n",
       "      <td>English</td>\n",
       "    </tr>\n",
       "    <tr>\n",
       "      <th>4</th>\n",
       "      <td>The Painted Man (The Demon Cycle, Book 1)</td>\n",
       "      <td>Peter V. Brett</td>\n",
       "      <td>4.5</td>\n",
       "      <td>577.0</td>\n",
       "      <td>28.54</td>\n",
       "      <td>SAR</td>\n",
       "      <td>HarperCollins UK</td>\n",
       "      <td>544</td>\n",
       "      <td>Fiction , Fantasy , Dark Fantasy</td>\n",
       "      <td>English</td>\n",
       "      <td>2009</td>\n",
       "      <td>English</td>\n",
       "    </tr>\n",
       "    <tr>\n",
       "      <th>5</th>\n",
       "      <td>A Feast for Crows (A Song of Ice and Fire, Boo...</td>\n",
       "      <td>George R.R. Martin</td>\n",
       "      <td>4.5</td>\n",
       "      <td>832.0</td>\n",
       "      <td>29.29</td>\n",
       "      <td>SAR</td>\n",
       "      <td>HarperCollins UK</td>\n",
       "      <td>864</td>\n",
       "      <td>none</td>\n",
       "      <td>English</td>\n",
       "      <td>2011</td>\n",
       "      <td>English</td>\n",
       "    </tr>\n",
       "    <tr>\n",
       "      <th>6</th>\n",
       "      <td>God of War: The Official Novelization</td>\n",
       "      <td>J.M. Barlog</td>\n",
       "      <td>4.5</td>\n",
       "      <td>94.0</td>\n",
       "      <td>15.82</td>\n",
       "      <td>SAR</td>\n",
       "      <td>Titan Books</td>\n",
       "      <td>400</td>\n",
       "      <td>Fiction , Media Tie-In</td>\n",
       "      <td>English</td>\n",
       "      <td>2018</td>\n",
       "      <td>English</td>\n",
       "    </tr>\n",
       "    <tr>\n",
       "      <th>7</th>\n",
       "      <td>Edgedancer: From the Stormlight Archive</td>\n",
       "      <td>Brandon Sanderson</td>\n",
       "      <td>4.8</td>\n",
       "      <td>221.0</td>\n",
       "      <td>36.79</td>\n",
       "      <td>SAR</td>\n",
       "      <td>Tor Books</td>\n",
       "      <td>226</td>\n",
       "      <td>Fiction , Fantasy , Epic</td>\n",
       "      <td>English</td>\n",
       "      <td>2017</td>\n",
       "      <td>English</td>\n",
       "    </tr>\n",
       "    <tr>\n",
       "      <th>8</th>\n",
       "      <td>Blood, Sweat, and Pixels: The Triumphant, Turb...</td>\n",
       "      <td>Jason Schreier</td>\n",
       "      <td>4.3</td>\n",
       "      <td>135.0</td>\n",
       "      <td>50.25</td>\n",
       "      <td>SAR</td>\n",
       "      <td>HarperCollins</td>\n",
       "      <td>304</td>\n",
       "      <td>Games &amp;amp, Activities , Video &amp;amp, Electronic</td>\n",
       "      <td>English</td>\n",
       "      <td>2017</td>\n",
       "      <td>English</td>\n",
       "    </tr>\n",
       "    <tr>\n",
       "      <th>9</th>\n",
       "      <td>Twas The Nightshift Before Christmas: Festive ...</td>\n",
       "      <td>Adam Kay</td>\n",
       "      <td>4.7</td>\n",
       "      <td>47.0</td>\n",
       "      <td>41.82</td>\n",
       "      <td>SAR</td>\n",
       "      <td>Pan Macmillan</td>\n",
       "      <td>112</td>\n",
       "      <td>Biography &amp;amp, Autobiography , Medical (incl....</td>\n",
       "      <td>English</td>\n",
       "      <td>2019</td>\n",
       "      <td>English</td>\n",
       "    </tr>\n",
       "  </tbody>\n",
       "</table>\n",
       "</div>"
      ],
      "text/plain": [
       "                                               title              author  \\\n",
       "0                         Attack on Titan: Volume 13      Hajime Isayama   \n",
       "1   Antiques Roadkill: A Trash 'n' Treasures Mystery       Barbara Allan   \n",
       "2                     The Art of Super Mario Odyssey            Nintendo   \n",
       "3     Getting Away Is Deadly: An Ellie Avery Mystery         Sara Rosett   \n",
       "4          The Painted Man (The Demon Cycle, Book 1)      Peter V. Brett   \n",
       "5  A Feast for Crows (A Song of Ice and Fire, Boo...  George R.R. Martin   \n",
       "6              God of War: The Official Novelization         J.M. Barlog   \n",
       "7            Edgedancer: From the Stormlight Archive   Brandon Sanderson   \n",
       "8  Blood, Sweat, and Pixels: The Triumphant, Turb...      Jason Schreier   \n",
       "9  Twas The Nightshift Before Christmas: Festive ...            Adam Kay   \n",
       "\n",
       "   rating  votes   price currency                    publisher  pages  \\\n",
       "0     4.6  428.0   43.28      SAR              Kodansha Comics    192   \n",
       "1     3.3   23.0   26.15      SAR  Kensington Publishing Corp.    288   \n",
       "2     3.9    9.0  133.85      SAR            Dark Horse Comics    368   \n",
       "3     4.0   10.0   26.15      SAR  Kensington Publishing Corp.    320   \n",
       "4     4.5  577.0   28.54      SAR             HarperCollins UK    544   \n",
       "5     4.5  832.0   29.29      SAR             HarperCollins UK    864   \n",
       "6     4.5   94.0   15.82      SAR                  Titan Books    400   \n",
       "7     4.8  221.0   36.79      SAR                    Tor Books    226   \n",
       "8     4.3  135.0   50.25      SAR                HarperCollins    304   \n",
       "9     4.7   47.0   41.82      SAR                Pan Macmillan    112   \n",
       "\n",
       "                                             generes     lang published_year  \\\n",
       "0                                               none  English           2014   \n",
       "1  Fiction , Mystery &amp, Detective , Cozy , Gen...  English           2007   \n",
       "2    Games &amp, Activities , Video &amp, Electronic  English           2019   \n",
       "3                                               none  English           2009   \n",
       "4                   Fiction , Fantasy , Dark Fantasy  English           2009   \n",
       "5                                               none  English           2011   \n",
       "6                             Fiction , Media Tie-In  English           2018   \n",
       "7                           Fiction , Fantasy , Epic  English           2017   \n",
       "8    Games &amp, Activities , Video &amp, Electronic  English           2017   \n",
       "9  Biography &amp, Autobiography , Medical (incl....  English           2019   \n",
       "\n",
       "     lange  \n",
       "0  English  \n",
       "1  English  \n",
       "2  English  \n",
       "3  English  \n",
       "4  English  \n",
       "5  English  \n",
       "6  English  \n",
       "7  English  \n",
       "8  English  \n",
       "9  English  "
      ]
     },
     "execution_count": 135,
     "metadata": {},
     "output_type": "execute_result"
    }
   ],
   "source": [
    "books.head(10)"
   ]
  },
  {
   "cell_type": "markdown",
   "metadata": {},
   "source": [
    "<b>Nominal variables:</b> title, authors,publisher<br>\n",
    "<b>Categorical variables: </b>lang , published_year<br>\n",
    "<b>Quantitative variable:</b> pages,votes<br>\n",
    "<b>Qualitative Variable:</b> rating<br>\n"
   ]
  },
  {
   "cell_type": "markdown",
   "metadata": {},
   "source": [
    "<a id='eda'></a>\n",
    "## Exploratory Data Analysis\n",
    "\n",
    "In this section I'm trying to answer the following questions:\n",
    "<ol>\n",
    "<li>Calcualte and visualize the books/language ratio</li>\n",
    "<li>which year has the <b>max/min production</b> of books</li>\n",
    "<li>which books has the <b>max/min ratings </b></li>\n",
    "<li>which books has the<b> max/min votes </b> of all times</li>\n",
    "<li>which authors has the <b>max/min votes</b></li>\n",
    "<li>which authors has the <b>max/min ratings</b> </li>\n",
    "</ol>\n",
    "\n"
   ]
  },
  {
   "cell_type": "markdown",
   "metadata": {},
   "source": [
    "### Summary statistics"
   ]
  },
  {
   "cell_type": "code",
   "execution_count": 235,
   "metadata": {},
   "outputs": [
    {
     "data": {
      "text/html": [
       "<div>\n",
       "<style scoped>\n",
       "    .dataframe tbody tr th:only-of-type {\n",
       "        vertical-align: middle;\n",
       "    }\n",
       "\n",
       "    .dataframe tbody tr th {\n",
       "        vertical-align: top;\n",
       "    }\n",
       "\n",
       "    .dataframe thead th {\n",
       "        text-align: right;\n",
       "    }\n",
       "</style>\n",
       "<table border=\"1\" class=\"dataframe\">\n",
       "  <thead>\n",
       "    <tr style=\"text-align: right;\">\n",
       "      <th></th>\n",
       "      <th>rating</th>\n",
       "      <th>price</th>\n",
       "      <th>pages</th>\n",
       "    </tr>\n",
       "  </thead>\n",
       "  <tbody>\n",
       "    <tr>\n",
       "      <th>count</th>\n",
       "      <td>948.000000</td>\n",
       "      <td>948.000000</td>\n",
       "      <td>9.480000e+02</td>\n",
       "    </tr>\n",
       "    <tr>\n",
       "      <th>mean</th>\n",
       "      <td>4.145992</td>\n",
       "      <td>47.098439</td>\n",
       "      <td>1.031783e+10</td>\n",
       "    </tr>\n",
       "    <tr>\n",
       "      <th>std</th>\n",
       "      <td>1.119895</td>\n",
       "      <td>52.757294</td>\n",
       "      <td>3.176819e+11</td>\n",
       "    </tr>\n",
       "    <tr>\n",
       "      <th>min</th>\n",
       "      <td>0.000000</td>\n",
       "      <td>0.000000</td>\n",
       "      <td>7.000000e+00</td>\n",
       "    </tr>\n",
       "    <tr>\n",
       "      <th>25%</th>\n",
       "      <td>4.100000</td>\n",
       "      <td>23.850000</td>\n",
       "      <td>2.080000e+02</td>\n",
       "    </tr>\n",
       "    <tr>\n",
       "      <th>50%</th>\n",
       "      <td>4.500000</td>\n",
       "      <td>39.340000</td>\n",
       "      <td>3.200000e+02</td>\n",
       "    </tr>\n",
       "    <tr>\n",
       "      <th>75%</th>\n",
       "      <td>4.700000</td>\n",
       "      <td>59.030000</td>\n",
       "      <td>4.160000e+02</td>\n",
       "    </tr>\n",
       "    <tr>\n",
       "      <th>max</th>\n",
       "      <td>5.000000</td>\n",
       "      <td>886.080000</td>\n",
       "      <td>9.781302e+12</td>\n",
       "    </tr>\n",
       "  </tbody>\n",
       "</table>\n",
       "</div>"
      ],
      "text/plain": [
       "           rating       price         pages\n",
       "count  948.000000  948.000000  9.480000e+02\n",
       "mean     4.145992   47.098439  1.031783e+10\n",
       "std      1.119895   52.757294  3.176819e+11\n",
       "min      0.000000    0.000000  7.000000e+00\n",
       "25%      4.100000   23.850000  2.080000e+02\n",
       "50%      4.500000   39.340000  3.200000e+02\n",
       "75%      4.700000   59.030000  4.160000e+02\n",
       "max      5.000000  886.080000  9.781302e+12"
      ]
     },
     "execution_count": 235,
     "metadata": {},
     "output_type": "execute_result"
    }
   ],
   "source": [
    "books.describe()"
   ]
  },
  {
   "cell_type": "markdown",
   "metadata": {},
   "source": [
    "> We have outlier values in price"
   ]
  },
  {
   "cell_type": "markdown",
   "metadata": {},
   "source": [
    "### Analysis of Geners data\n",
    "## What should we publish?"
   ]
  },
  {
   "cell_type": "markdown",
   "metadata": {},
   "source": [
    "A first attamp to analys the books market is to examine publishing ratio per gener. a popular book gener among publishing companies is considered as a safe pet but focusing on smaller section of the market can give us a competitve edge."
   ]
  },
  {
   "cell_type": "code",
   "execution_count": 136,
   "metadata": {},
   "outputs": [],
   "source": [
    "# Extracting generes into a list\n",
    "genrs=books.groupby('generes').count()['title'].reset_index()\n",
    "l=genrs.generes.tolist()\n",
    "geners=set(','.join(l).split(','))\n",
    "geners=[x.strip(' ') for x in geners]\n",
    "geners=[x.strip(' &amp') for x in geners]"
   ]
  },
  {
   "cell_type": "markdown",
   "metadata": {},
   "source": [
    "### What are the geners with the highest production ratio"
   ]
  },
  {
   "cell_type": "code",
   "execution_count": 142,
   "metadata": {},
   "outputs": [
    {
     "name": "stderr",
     "output_type": "stream",
     "text": [
      "C:\\Users\\shaimaa\\miniconda3\\envs\\myenv\\lib\\site-packages\\pandas\\core\\strings\\accessor.py:101: UserWarning: This pattern has match groups. To actually get the groups, use str.extract.\n",
      "  return func(self, *args, **kwargs)\n"
     ]
    },
    {
     "data": {
      "text/html": [
       "<div>\n",
       "<style scoped>\n",
       "    .dataframe tbody tr th:only-of-type {\n",
       "        vertical-align: middle;\n",
       "    }\n",
       "\n",
       "    .dataframe tbody tr th {\n",
       "        vertical-align: top;\n",
       "    }\n",
       "\n",
       "    .dataframe thead th {\n",
       "        text-align: right;\n",
       "    }\n",
       "</style>\n",
       "<table border=\"1\" class=\"dataframe\">\n",
       "  <thead>\n",
       "    <tr style=\"text-align: right;\">\n",
       "      <th></th>\n",
       "      <th>gener</th>\n",
       "      <th>Ratio</th>\n",
       "    </tr>\n",
       "  </thead>\n",
       "  <tbody>\n",
       "    <tr>\n",
       "      <th>116</th>\n",
       "      <td>Fiction</td>\n",
       "      <td>44.0</td>\n",
       "    </tr>\n",
       "    <tr>\n",
       "      <th>67</th>\n",
       "      <td>none</td>\n",
       "      <td>24.0</td>\n",
       "    </tr>\n",
       "    <tr>\n",
       "      <th>103</th>\n",
       "      <td>General</td>\n",
       "      <td>17.0</td>\n",
       "    </tr>\n",
       "    <tr>\n",
       "      <th>98</th>\n",
       "      <td>Business</td>\n",
       "      <td>12.0</td>\n",
       "    </tr>\n",
       "    <tr>\n",
       "      <th>156</th>\n",
       "      <td>Economics</td>\n",
       "      <td>12.0</td>\n",
       "    </tr>\n",
       "    <tr>\n",
       "      <th>16</th>\n",
       "      <td>Fantasy</td>\n",
       "      <td>11.0</td>\n",
       "    </tr>\n",
       "    <tr>\n",
       "      <th>30</th>\n",
       "      <td>Mystery</td>\n",
       "      <td>10.0</td>\n",
       "    </tr>\n",
       "    <tr>\n",
       "      <th>15</th>\n",
       "      <td>Detective</td>\n",
       "      <td>10.0</td>\n",
       "    </tr>\n",
       "    <tr>\n",
       "      <th>169</th>\n",
       "      <td>Thrillers</td>\n",
       "      <td>8.0</td>\n",
       "    </tr>\n",
       "    <tr>\n",
       "      <th>128</th>\n",
       "      <td>Science</td>\n",
       "      <td>6.0</td>\n",
       "    </tr>\n",
       "    <tr>\n",
       "      <th>89</th>\n",
       "      <td>Graphic Novels</td>\n",
       "      <td>6.0</td>\n",
       "    </tr>\n",
       "    <tr>\n",
       "      <th>86</th>\n",
       "      <td>Comics</td>\n",
       "      <td>6.0</td>\n",
       "    </tr>\n",
       "    <tr>\n",
       "      <th>213</th>\n",
       "      <td>Action</td>\n",
       "      <td>5.0</td>\n",
       "    </tr>\n",
       "    <tr>\n",
       "      <th>20</th>\n",
       "      <td>Adventure</td>\n",
       "      <td>5.0</td>\n",
       "    </tr>\n",
       "    <tr>\n",
       "      <th>194</th>\n",
       "      <td>Self-Hel</td>\n",
       "      <td>4.0</td>\n",
       "    </tr>\n",
       "    <tr>\n",
       "      <th>19</th>\n",
       "      <td>Science Fiction</td>\n",
       "      <td>4.0</td>\n",
       "    </tr>\n",
       "    <tr>\n",
       "      <th>182</th>\n",
       "      <td>Crime</td>\n",
       "      <td>4.0</td>\n",
       "    </tr>\n",
       "    <tr>\n",
       "      <th>250</th>\n",
       "      <td>Suspense</td>\n",
       "      <td>4.0</td>\n",
       "    </tr>\n",
       "    <tr>\n",
       "      <th>143</th>\n",
       "      <td>Epic</td>\n",
       "      <td>4.0</td>\n",
       "    </tr>\n",
       "    <tr>\n",
       "      <th>53</th>\n",
       "      <td>Superheroes</td>\n",
       "      <td>3.0</td>\n",
       "    </tr>\n",
       "  </tbody>\n",
       "</table>\n",
       "</div>"
      ],
      "text/plain": [
       "               gener  Ratio\n",
       "116          Fiction   44.0\n",
       "67              none   24.0\n",
       "103          General   17.0\n",
       "98          Business   12.0\n",
       "156        Economics   12.0\n",
       "16           Fantasy   11.0\n",
       "30           Mystery   10.0\n",
       "15         Detective   10.0\n",
       "169        Thrillers    8.0\n",
       "128          Science    6.0\n",
       "89    Graphic Novels    6.0\n",
       "86            Comics    6.0\n",
       "213           Action    5.0\n",
       "20         Adventure    5.0\n",
       "194         Self-Hel    4.0\n",
       "19   Science Fiction    4.0\n",
       "182            Crime    4.0\n",
       "250         Suspense    4.0\n",
       "143             Epic    4.0\n",
       "53       Superheroes    3.0"
      ]
     },
     "execution_count": 142,
     "metadata": {},
     "output_type": "execute_result"
    }
   ],
   "source": [
    "gen_dict=dict.fromkeys(geners, 0)\n",
    "for i in geners:\n",
    "    x=books.generes.str.contains(i).sum()\n",
    "    gen_dict[i]=x \n",
    "#convert dictionary to a series\n",
    "gen_df = pd.Series(gen_dict).reset_index()\n",
    "gen_df.rename(columns={'index':'gener',0: 'Ratio'},inplace=True)\n",
    "gen_df.sort_values(by='Ratio',ascending=False,inplace=True)\n",
    "\n",
    "# Discard geners with less than 5 books\n",
    "gen_df=gen_df[gen_df.Ratio>=10]\n",
    "\n",
    "# top 20 publishing geners\n",
    "gen_dft20=gen_df.head(20).copy()\n",
    "gen_dft20.set_index('gener',drop=True)\n",
    "gen_dft20.Ratio=round(gen_dft20.Ratio/books.shape[0]*100)\n",
    "gen_dft20"
   ]
  },
  {
   "cell_type": "code",
   "execution_count": 140,
   "metadata": {},
   "outputs": [
    {
     "data": {
      "text/plain": [
       "<AxesSubplot:xlabel='Ratio', ylabel='gener'>"
      ]
     },
     "execution_count": 140,
     "metadata": {},
     "output_type": "execute_result"
    },
    {
     "data": {
      "image/png": "[encoded data removed]",
      "text/plain": [
       "<Figure size 432x288 with 1 Axes>"
      ]
     },
     "metadata": {
      "needs_background": "light"
     },
     "output_type": "display_data"
    }
   ],
   "source": [
    "sb.barplot(y=\"gener\",x=\"Ratio\",data=gen_dft20)"
   ]
  },
  {
   "cell_type": "markdown",
   "metadata": {},
   "source": [
    "> Fiction Books leading the market with almost 50% of books production."
   ]
  },
  {
   "cell_type": "markdown",
   "metadata": {},
   "source": [
    "### What are the geners with the lowest production ratio "
   ]
  },
  {
   "cell_type": "code",
   "execution_count": 143,
   "metadata": {},
   "outputs": [
    {
     "data": {
      "text/html": [
       "<div>\n",
       "<style scoped>\n",
       "    .dataframe tbody tr th:only-of-type {\n",
       "        vertical-align: middle;\n",
       "    }\n",
       "\n",
       "    .dataframe tbody tr th {\n",
       "        vertical-align: top;\n",
       "    }\n",
       "\n",
       "    .dataframe thead th {\n",
       "        text-align: right;\n",
       "    }\n",
       "</style>\n",
       "<table border=\"1\" class=\"dataframe\">\n",
       "  <thead>\n",
       "    <tr style=\"text-align: right;\">\n",
       "      <th></th>\n",
       "      <th>gener</th>\n",
       "      <th>Ratio</th>\n",
       "    </tr>\n",
       "  </thead>\n",
       "  <tbody>\n",
       "    <tr>\n",
       "      <th>143</th>\n",
       "      <td>Epic</td>\n",
       "      <td>3.691983</td>\n",
       "    </tr>\n",
       "    <tr>\n",
       "      <th>53</th>\n",
       "      <td>Superheroes</td>\n",
       "      <td>3.375527</td>\n",
       "    </tr>\n",
       "    <tr>\n",
       "      <th>81</th>\n",
       "      <td>Personal Growth</td>\n",
       "      <td>2.742616</td>\n",
       "    </tr>\n",
       "    <tr>\n",
       "      <th>151</th>\n",
       "      <td>Juvenile Fiction</td>\n",
       "      <td>2.215190</td>\n",
       "    </tr>\n",
       "    <tr>\n",
       "      <th>201</th>\n",
       "      <td>Women</td>\n",
       "      <td>2.109705</td>\n",
       "    </tr>\n",
       "    <tr>\n",
       "      <th>183</th>\n",
       "      <td>Motivational</td>\n",
       "      <td>1.898734</td>\n",
       "    </tr>\n",
       "    <tr>\n",
       "      <th>209</th>\n",
       "      <td>Women Sleuths</td>\n",
       "      <td>1.793249</td>\n",
       "    </tr>\n",
       "    <tr>\n",
       "      <th>50</th>\n",
       "      <td>Psychology</td>\n",
       "      <td>1.793249</td>\n",
       "    </tr>\n",
       "    <tr>\n",
       "      <th>129</th>\n",
       "      <td>Finance</td>\n",
       "      <td>1.687764</td>\n",
       "    </tr>\n",
       "    <tr>\n",
       "      <th>37</th>\n",
       "      <td>Autobiography</td>\n",
       "      <td>1.687764</td>\n",
       "    </tr>\n",
       "    <tr>\n",
       "      <th>57</th>\n",
       "      <td>Biography</td>\n",
       "      <td>1.687764</td>\n",
       "    </tr>\n",
       "    <tr>\n",
       "      <th>180</th>\n",
       "      <td>Management</td>\n",
       "      <td>1.582278</td>\n",
       "    </tr>\n",
       "    <tr>\n",
       "      <th>232</th>\n",
       "      <td>Amateur Sleuth</td>\n",
       "      <td>1.582278</td>\n",
       "    </tr>\n",
       "    <tr>\n",
       "      <th>136</th>\n",
       "      <td>Success</td>\n",
       "      <td>1.582278</td>\n",
       "    </tr>\n",
       "    <tr>\n",
       "      <th>10</th>\n",
       "      <td>Comics &amp; Graphic Novels</td>\n",
       "      <td>1.582278</td>\n",
       "    </tr>\n",
       "    <tr>\n",
       "      <th>202</th>\n",
       "      <td>Humor</td>\n",
       "      <td>1.371308</td>\n",
       "    </tr>\n",
       "    <tr>\n",
       "      <th>78</th>\n",
       "      <td>Cozy</td>\n",
       "      <td>1.265823</td>\n",
       "    </tr>\n",
       "    <tr>\n",
       "      <th>8</th>\n",
       "      <td>Personal Finance</td>\n",
       "      <td>1.160338</td>\n",
       "    </tr>\n",
       "    <tr>\n",
       "      <th>110</th>\n",
       "      <td>Military</td>\n",
       "      <td>1.054852</td>\n",
       "    </tr>\n",
       "    <tr>\n",
       "      <th>102</th>\n",
       "      <td>Classics</td>\n",
       "      <td>1.054852</td>\n",
       "    </tr>\n",
       "  </tbody>\n",
       "</table>\n",
       "</div>"
      ],
      "text/plain": [
       "                       gener     Ratio\n",
       "143                     Epic  3.691983\n",
       "53               Superheroes  3.375527\n",
       "81           Personal Growth  2.742616\n",
       "151         Juvenile Fiction  2.215190\n",
       "201                    Women  2.109705\n",
       "183             Motivational  1.898734\n",
       "209            Women Sleuths  1.793249\n",
       "50                Psychology  1.793249\n",
       "129                  Finance  1.687764\n",
       "37             Autobiography  1.687764\n",
       "57                 Biography  1.687764\n",
       "180               Management  1.582278\n",
       "232           Amateur Sleuth  1.582278\n",
       "136                  Success  1.582278\n",
       "10   Comics & Graphic Novels  1.582278\n",
       "202                    Humor  1.371308\n",
       "78                      Cozy  1.265823\n",
       "8           Personal Finance  1.160338\n",
       "110                 Military  1.054852\n",
       "102                 Classics  1.054852"
      ]
     },
     "execution_count": 143,
     "metadata": {},
     "output_type": "execute_result"
    },
    {
     "data": {
      "image/png": "[encoded data removed]",
      "text/plain": [
       "<Figure size 432x288 with 1 Axes>"
      ]
     },
     "metadata": {
      "needs_background": "light"
     },
     "output_type": "display_data"
    }
   ],
   "source": [
    "gen_dfl20=gen_df.tail(20).copy()\n",
    "\n",
    "gen_dfl20.set_index('gener',drop=True)\n",
    "gen_dfl20.Ratio=gen_dfl20.Ratio/books.shape[0]*100\n",
    "sb.barplot(y=\"gener\",x=\"Ratio\",data=gen_dfl20)\n",
    "gen_dfl20"
   ]
  },
  {
   "cell_type": "markdown",
   "metadata": {},
   "source": [
    "> We have many promising geners to concure here, but to consider one of these geners as a safe invistment we need to combin sales data of each gener."
   ]
  },
  {
   "cell_type": "markdown",
   "metadata": {},
   "source": [
    "### Fiction or non-Fiction"
   ]
  },
  {
   "cell_type": "code",
   "execution_count": 144,
   "metadata": {},
   "outputs": [],
   "source": [
    "x=[]\n",
    "for i in books['generes']:\n",
    "    if 'Fiction' in i:\n",
    "        x.append('Fiction')\n",
    "    else:\n",
    "        x.append('Non-Fiction')\n",
    "books['gener']=x"
   ]
  },
  {
   "cell_type": "code",
   "execution_count": 147,
   "metadata": {},
   "outputs": [
    {
     "data": {
      "text/html": [
       "<div>\n",
       "<style scoped>\n",
       "    .dataframe tbody tr th:only-of-type {\n",
       "        vertical-align: middle;\n",
       "    }\n",
       "\n",
       "    .dataframe tbody tr th {\n",
       "        vertical-align: top;\n",
       "    }\n",
       "\n",
       "    .dataframe thead th {\n",
       "        text-align: right;\n",
       "    }\n",
       "</style>\n",
       "<table border=\"1\" class=\"dataframe\">\n",
       "  <thead>\n",
       "    <tr style=\"text-align: right;\">\n",
       "      <th></th>\n",
       "      <th>gener</th>\n",
       "      <th>rating</th>\n",
       "      <th>votes</th>\n",
       "      <th>price</th>\n",
       "      <th>pages</th>\n",
       "    </tr>\n",
       "  </thead>\n",
       "  <tbody>\n",
       "    <tr>\n",
       "      <th>0</th>\n",
       "      <td>Fiction</td>\n",
       "      <td>4.373923</td>\n",
       "      <td>818.059809</td>\n",
       "      <td>36.94488</td>\n",
       "      <td>4.970072e+02</td>\n",
       "    </tr>\n",
       "    <tr>\n",
       "      <th>1</th>\n",
       "      <td>Non-Fiction</td>\n",
       "      <td>3.966226</td>\n",
       "      <td>824.654717</td>\n",
       "      <td>55.10634</td>\n",
       "      <td>1.845529e+10</td>\n",
       "    </tr>\n",
       "  </tbody>\n",
       "</table>\n",
       "</div>"
      ],
      "text/plain": [
       "         gener    rating       votes     price         pages\n",
       "0      Fiction  4.373923  818.059809  36.94488  4.970072e+02\n",
       "1  Non-Fiction  3.966226  824.654717  55.10634  1.845529e+10"
      ]
     },
     "execution_count": 147,
     "metadata": {},
     "output_type": "execute_result"
    }
   ],
   "source": [
    "gen_mean=books.groupby('gener').mean().reset_index()\n",
    "gen_mean"
   ]
  },
  {
   "cell_type": "code",
   "execution_count": 146,
   "metadata": {},
   "outputs": [
    {
     "data": {
      "text/plain": [
       "<AxesSubplot:xlabel='gener', ylabel='rating'>"
      ]
     },
     "execution_count": 146,
     "metadata": {},
     "output_type": "execute_result"
    },
    {
     "data": {
      "image/png": "[encoded data removed]",
      "text/plain": [
       "<Figure size 432x288 with 1 Axes>"
      ]
     },
     "metadata": {
      "needs_background": "light"
     },
     "output_type": "display_data"
    }
   ],
   "source": [
    "sb.barplot(x=\"gener\",y=\"rating\",data=gen_mean)"
   ]
  },
  {
   "cell_type": "markdown",
   "metadata": {},
   "source": [
    ">The mean consumer rating for Fiction books is higher than the rating of non-Fiction books."
   ]
  },
  {
   "cell_type": "code",
   "execution_count": 148,
   "metadata": {},
   "outputs": [
    {
     "data": {
      "text/plain": [
       "<AxesSubplot:xlabel='gener', ylabel='votes'>"
      ]
     },
     "execution_count": 148,
     "metadata": {},
     "output_type": "execute_result"
    },
    {
     "data": {
      "image/png": "[encoded data removed]",
      "text/plain": [
       "<Figure size 432x288 with 1 Axes>"
      ]
     },
     "metadata": {
      "needs_background": "light"
     },
     "output_type": "display_data"
    }
   ],
   "source": [
    "sb.barplot(x=\"gener\",y=\"votes\",data=gen_mean)"
   ]
  },
  {
   "cell_type": "markdown",
   "metadata": {},
   "source": [
    "> the 2 categories has the same engagement, consumers votes for both categories with no significant difference."
   ]
  },
  {
   "cell_type": "code",
   "execution_count": 149,
   "metadata": {},
   "outputs": [
    {
     "data": {
      "text/plain": [
       "<AxesSubplot:xlabel='gener', ylabel='price'>"
      ]
     },
     "execution_count": 149,
     "metadata": {},
     "output_type": "execute_result"
    },
    {
     "data": {
      "image/png": "[encoded data removed]",
      "text/plain": [
       "<Figure size 432x288 with 1 Axes>"
      ]
     },
     "metadata": {
      "needs_background": "light"
     },
     "output_type": "display_data"
    }
   ],
   "source": [
    "sb.barplot(x=\"gener\",y=\"price\",data=gen_mean)"
   ]
  },
  {
   "cell_type": "markdown",
   "metadata": {},
   "source": [
    ">Fiction books average prices 34% lower than non-Fiction books, publishing Fictions books with prices higher than the $37 average will be a risk."
   ]
  },
  {
   "cell_type": "code",
   "execution_count": 409,
   "metadata": {},
   "outputs": [
    {
     "data": {
      "text/plain": [
       "Text(0, 0.5, 'votes')"
      ]
     },
     "execution_count": 409,
     "metadata": {},
     "output_type": "execute_result"
    },
    {
     "data": {
      "image/png": "[encoded data removed]",
      "text/plain": [
       "<Figure size 432x288 with 1 Axes>"
      ]
     },
     "metadata": {
      "needs_background": "light"
     },
     "output_type": "display_data"
    }
   ],
   "source": [
    "sb.regplot(data = books, x = 'price', y = 'votes');\n",
    "plt.xlabel('price')\n",
    "plt.ylabel('votes')"
   ]
  },
  {
   "cell_type": "markdown",
   "metadata": {},
   "source": [
    "> Price and votes has a negative correlation. the more the price, the less the votes.<br>\n",
    "The graph aslo shows outlier values which could affect the scatterplot."
   ]
  },
  {
   "cell_type": "code",
   "execution_count": 412,
   "metadata": {},
   "outputs": [
    {
     "data": {
      "text/plain": [
       "Text(0, 0.5, 'votes')"
      ]
     },
     "execution_count": 412,
     "metadata": {},
     "output_type": "execute_result"
    },
    {
     "data": {
      "image/png": "[encoded data removed]",
      "text/plain": [
       "<Figure size 432x288 with 1 Axes>"
      ]
     },
     "metadata": {
      "needs_background": "light"
     },
     "output_type": "display_data"
    }
   ],
   "source": [
    "sb.regplot(data = books, x = 'price', y = 'rating');\n",
    "plt.xlabel('price')\n",
    "plt.ylabel('votes')"
   ]
  },
  {
   "cell_type": "markdown",
   "metadata": {},
   "source": [
    "> Price and ratings has a negative correlation. the more the price, the less the rating.<br>\n",
    "The next step is to analys the variabe corelation with and without outliers."
   ]
  },
  {
   "cell_type": "code",
   "execution_count": 415,
   "metadata": {},
   "outputs": [
    {
     "data": {
      "text/plain": [
       "<AxesSubplot:xlabel='price'>"
      ]
     },
     "execution_count": 415,
     "metadata": {},
     "output_type": "execute_result"
    },
    {
     "data": {
      "image/png": "[encoded data removed]",
      "text/plain": [
       "<Figure size 432x288 with 1 Axes>"
      ]
     },
     "metadata": {
      "needs_background": "light"
     },
     "output_type": "display_data"
    }
   ],
   "source": [
    "base_color = sb.color_palette()[0]\n",
    "sb.boxplot(data = books, x = 'price', color=base_color)"
   ]
  },
  {
   "cell_type": "code",
   "execution_count": null,
   "metadata": {},
   "outputs": [],
   "source": []
  },
  {
   "cell_type": "code",
   "execution_count": 42,
   "metadata": {},
   "outputs": [
    {
     "data": {
      "text/plain": [
       "lang\n",
       "False      586\n",
       "True     10537\n",
       "Name: title, dtype: int64"
      ]
     },
     "execution_count": 42,
     "metadata": {},
     "output_type": "execute_result"
    }
   ],
   "source": [
    "eng_books=books.isin(['en-CA','en-GB','en-US','eng']).groupby('lang').count()['title']\n",
    "eng_books"
   ]
  },
  {
   "cell_type": "code",
   "execution_count": 86,
   "metadata": {},
   "outputs": [
    {
     "name": "stderr",
     "output_type": "stream",
     "text": [
      "C:\\Users\\shaimaa\\miniconda3\\envs\\myenv\\lib\\site-packages\\seaborn\\_decorators.py:36: FutureWarning: Pass the following variables as keyword args: x, y. From version 0.12, the only valid positional argument will be `data`, and passing other arguments without an explicit keyword will result in an error or misinterpretation.\n",
      "  warnings.warn(\n"
     ]
    },
    {
     "data": {
      "image/png": "[encoded data removed]",
      "text/plain": [
       "<Figure size 432x288 with 1 Axes>"
      ]
     },
     "metadata": {
      "needs_background": "light"
     },
     "output_type": "display_data"
    }
   ],
   "source": [
    "sb.barplot(['non-English','English'],eng_books.to_numpy())\n",
    " \n",
    "for i in range (eng_books.shape[0]):\n",
    "    count = eng_books[i]\n",
    "\n",
    "    # Refer here for details of the text() - https://matplotlib.org/3.1.1/api/_as_gen/matplotlib.pyplot.text.html\n",
    "    plt.text( x=i, y=count+500, s=count, ha = 'center', va='top')\n",
    "    "
   ]
  },
  {
   "cell_type": "code",
   "execution_count": 80,
   "metadata": {},
   "outputs": [
    {
     "data": {
      "image/png": "[encoded data removed]",
      "text/plain": [
       "<Figure size 432x288 with 1 Axes>"
      ]
     },
     "metadata": {
      "needs_background": "light"
     },
     "output_type": "display_data"
    }
   ],
   "source": [
    "plt.bar(['non-English','English'],eng_books.to_numpy())\n",
    "# Labeling the axes\n",
    "plt.xlabel('generation_id')\n",
    "plt.ylabel('count')\n",
    "\n",
    "# Dsiplay the plot\n",
    "plt.show()"
   ]
  },
  {
   "cell_type": "code",
   "execution_count": 73,
   "metadata": {},
   "outputs": [
    {
     "data": {
      "image/png": "[encoded data removed]",
      "text/plain": [
       "<Figure size 432x288 with 1 Axes>"
      ]
     },
     "metadata": {},
     "output_type": "display_data"
    }
   ],
   "source": [
    "plt.pie(eng_books, labels = ['non-English','English'], startangle = 90, counterclock = False,wedgeprops = {'width' : 0.5});\n",
    "plt.axis('square');"
   ]
  },
  {
   "cell_type": "markdown",
   "metadata": {},
   "source": [
    "### 1. Books production during last 20 years"
   ]
  },
  {
   "cell_type": "code",
   "execution_count": 111,
   "metadata": {},
   "outputs": [
    {
     "data": {
      "text/html": [
       "<div>\n",
       "<style scoped>\n",
       "    .dataframe tbody tr th:only-of-type {\n",
       "        vertical-align: middle;\n",
       "    }\n",
       "\n",
       "    .dataframe tbody tr th {\n",
       "        vertical-align: top;\n",
       "    }\n",
       "\n",
       "    .dataframe thead th {\n",
       "        text-align: right;\n",
       "    }\n",
       "</style>\n",
       "<table border=\"1\" class=\"dataframe\">\n",
       "  <thead>\n",
       "    <tr style=\"text-align: right;\">\n",
       "      <th></th>\n",
       "      <th>publication_year</th>\n",
       "      <th>title</th>\n",
       "    </tr>\n",
       "  </thead>\n",
       "  <tbody>\n",
       "    <tr>\n",
       "      <th>0</th>\n",
       "      <td>2001</td>\n",
       "      <td>656</td>\n",
       "    </tr>\n",
       "    <tr>\n",
       "      <th>1</th>\n",
       "      <td>2002</td>\n",
       "      <td>798</td>\n",
       "    </tr>\n",
       "    <tr>\n",
       "      <th>2</th>\n",
       "      <td>2003</td>\n",
       "      <td>931</td>\n",
       "    </tr>\n",
       "    <tr>\n",
       "      <th>3</th>\n",
       "      <td>2004</td>\n",
       "      <td>1069</td>\n",
       "    </tr>\n",
       "    <tr>\n",
       "      <th>4</th>\n",
       "      <td>2005</td>\n",
       "      <td>1260</td>\n",
       "    </tr>\n",
       "    <tr>\n",
       "      <th>5</th>\n",
       "      <td>2006</td>\n",
       "      <td>1700</td>\n",
       "    </tr>\n",
       "    <tr>\n",
       "      <th>6</th>\n",
       "      <td>2007</td>\n",
       "      <td>518</td>\n",
       "    </tr>\n",
       "    <tr>\n",
       "      <th>7</th>\n",
       "      <td>2008</td>\n",
       "      <td>49</td>\n",
       "    </tr>\n",
       "    <tr>\n",
       "      <th>8</th>\n",
       "      <td>2009</td>\n",
       "      <td>42</td>\n",
       "    </tr>\n",
       "    <tr>\n",
       "      <th>9</th>\n",
       "      <td>2010</td>\n",
       "      <td>37</td>\n",
       "    </tr>\n",
       "    <tr>\n",
       "      <th>10</th>\n",
       "      <td>2011</td>\n",
       "      <td>24</td>\n",
       "    </tr>\n",
       "    <tr>\n",
       "      <th>11</th>\n",
       "      <td>2012</td>\n",
       "      <td>21</td>\n",
       "    </tr>\n",
       "    <tr>\n",
       "      <th>12</th>\n",
       "      <td>2013</td>\n",
       "      <td>15</td>\n",
       "    </tr>\n",
       "    <tr>\n",
       "      <th>13</th>\n",
       "      <td>2014</td>\n",
       "      <td>9</td>\n",
       "    </tr>\n",
       "    <tr>\n",
       "      <th>14</th>\n",
       "      <td>2015</td>\n",
       "      <td>10</td>\n",
       "    </tr>\n",
       "    <tr>\n",
       "      <th>15</th>\n",
       "      <td>2016</td>\n",
       "      <td>6</td>\n",
       "    </tr>\n",
       "    <tr>\n",
       "      <th>16</th>\n",
       "      <td>2017</td>\n",
       "      <td>7</td>\n",
       "    </tr>\n",
       "    <tr>\n",
       "      <th>17</th>\n",
       "      <td>2018</td>\n",
       "      <td>5</td>\n",
       "    </tr>\n",
       "    <tr>\n",
       "      <th>18</th>\n",
       "      <td>2019</td>\n",
       "      <td>6</td>\n",
       "    </tr>\n",
       "    <tr>\n",
       "      <th>19</th>\n",
       "      <td>2020</td>\n",
       "      <td>1</td>\n",
       "    </tr>\n",
       "  </tbody>\n",
       "</table>\n",
       "</div>"
      ],
      "text/plain": [
       "   publication_year  title\n",
       "0              2001    656\n",
       "1              2002    798\n",
       "2              2003    931\n",
       "3              2004   1069\n",
       "4              2005   1260\n",
       "5              2006   1700\n",
       "6              2007    518\n",
       "7              2008     49\n",
       "8              2009     42\n",
       "9              2010     37\n",
       "10             2011     24\n",
       "11             2012     21\n",
       "12             2013     15\n",
       "13             2014      9\n",
       "14             2015     10\n",
       "15             2016      6\n",
       "16             2017      7\n",
       "17             2018      5\n",
       "18             2019      6\n",
       "19             2020      1"
      ]
     },
     "execution_count": 111,
     "metadata": {},
     "output_type": "execute_result"
    }
   ],
   "source": [
    "# Group data by year\n",
    "yearly_prod=books.groupby('publication_year').count()['title'].tail(20)\n",
    "years=yearly_prod.reset_index()\n",
    "years"
   ]
  },
  {
   "cell_type": "code",
   "execution_count": 113,
   "metadata": {},
   "outputs": [
    {
     "data": {
      "text/plain": [
       "<BarContainer object of 20 artists>"
      ]
     },
     "execution_count": 113,
     "metadata": {},
     "output_type": "execute_result"
    },
    {
     "data": {
      "image/png": "[encoded data removed]",
      "text/plain": [
       "<Figure size 432x288 with 1 Axes>"
      ]
     },
     "metadata": {
      "needs_background": "light"
     },
     "output_type": "display_data"
    }
   ],
   "source": [
    "plt.bar(years.publication_year.to_numpy(),years.title)"
   ]
  },
  {
   "cell_type": "code",
   "execution_count": 114,
   "metadata": {},
   "outputs": [
    {
     "name": "stdout",
     "output_type": "stream",
     "text": [
      "Average production in the last 10 years:  title    358.2\n",
      "dtype: float64\n",
      "Max production :  title    1700\n",
      "dtype: int64\n",
      "Min production :  title    1\n",
      "dtype: int64\n"
     ]
    }
   ],
   "source": [
    "print('Average production in the last 10 years: ',years.mean())\n",
    "print('Max production : ',years.max())\n",
    "print('Min production : ',years.min())\n"
   ]
  },
  {
   "cell_type": "code",
   "execution_count": 183,
   "metadata": {},
   "outputs": [
    {
     "data": {
      "text/plain": [
       "(array([1.1052e+04, 3.8000e+01, 1.3000e+01, 8.0000e+00, 7.0000e+00,\n",
       "        4.0000e+00, 0.0000e+00, 0.0000e+00, 0.0000e+00, 1.0000e+00]),\n",
       " array([      0. ,  459766.6,  919533.2, 1379299.8, 1839066.4, 2298833. ,\n",
       "        2758599.6, 3218366.2, 3678132.8, 4137899.4, 4597666. ]),\n",
       " <BarContainer object of 10 artists>)"
      ]
     },
     "execution_count": 183,
     "metadata": {},
     "output_type": "execute_result"
    },
    {
     "data": {
      "image/png": "[encoded data removed]",
      "text/plain": [
       "<Figure size 432x288 with 1 Axes>"
      ]
     },
     "metadata": {
      "needs_background": "light"
     },
     "output_type": "display_data"
    }
   ],
   "source": []
  },
  {
   "cell_type": "markdown",
   "metadata": {},
   "source": [
    "### 2. Top 20 rated books on Goodreads"
   ]
  },
  {
   "cell_type": "code",
   "execution_count": 151,
   "metadata": {},
   "outputs": [
    {
     "data": {
      "text/html": [
       "<div>\n",
       "<style scoped>\n",
       "    .dataframe tbody tr th:only-of-type {\n",
       "        vertical-align: middle;\n",
       "    }\n",
       "\n",
       "    .dataframe tbody tr th {\n",
       "        vertical-align: top;\n",
       "    }\n",
       "\n",
       "    .dataframe thead th {\n",
       "        text-align: right;\n",
       "    }\n",
       "</style>\n",
       "<table border=\"1\" class=\"dataframe\">\n",
       "  <thead>\n",
       "    <tr style=\"text-align: right;\">\n",
       "      <th></th>\n",
       "      <th>author</th>\n",
       "      <th>rating</th>\n",
       "      <th>votes</th>\n",
       "      <th>price</th>\n",
       "      <th>currency</th>\n",
       "      <th>publisher</th>\n",
       "      <th>pages</th>\n",
       "      <th>generes</th>\n",
       "      <th>lang</th>\n",
       "      <th>published_year</th>\n",
       "      <th>lange</th>\n",
       "      <th>gener</th>\n",
       "    </tr>\n",
       "    <tr>\n",
       "      <th>title</th>\n",
       "      <th></th>\n",
       "      <th></th>\n",
       "      <th></th>\n",
       "      <th></th>\n",
       "      <th></th>\n",
       "      <th></th>\n",
       "      <th></th>\n",
       "      <th></th>\n",
       "      <th></th>\n",
       "      <th></th>\n",
       "      <th></th>\n",
       "      <th></th>\n",
       "    </tr>\n",
       "  </thead>\n",
       "  <tbody>\n",
       "    <tr>\n",
       "      <th>Competitive Advantage: Creating and Sustaining Superior Performance</th>\n",
       "      <td>Michael E. Porter</td>\n",
       "      <td>5.0</td>\n",
       "      <td>6.0</td>\n",
       "      <td>78.72</td>\n",
       "      <td>SAR</td>\n",
       "      <td>Simon and Schuster</td>\n",
       "      <td>592</td>\n",
       "      <td>Business &amp;amp, Economics , General</td>\n",
       "      <td>English</td>\n",
       "      <td>2008</td>\n",
       "      <td>English</td>\n",
       "      <td>Non-Fiction</td>\n",
       "    </tr>\n",
       "    <tr>\n",
       "      <th>Summary: The Compound Effect</th>\n",
       "      <td>Nine99 Innovation Lab</td>\n",
       "      <td>5.0</td>\n",
       "      <td>1.0</td>\n",
       "      <td>3.94</td>\n",
       "      <td>SAR</td>\n",
       "      <td>Nine99 Innovation Lab (OPC) Pvt Ltd</td>\n",
       "      <td>7</td>\n",
       "      <td>Business &amp; Economics , Mentoring &amp; Coaching</td>\n",
       "      <td>English</td>\n",
       "      <td>2019</td>\n",
       "      <td>English</td>\n",
       "      <td>Non-Fiction</td>\n",
       "    </tr>\n",
       "    <tr>\n",
       "      <th>The Red Signal: An Agatha Christie Short Story</th>\n",
       "      <td>Agatha Christie</td>\n",
       "      <td>5.0</td>\n",
       "      <td>4.0</td>\n",
       "      <td>7.50</td>\n",
       "      <td>SAR</td>\n",
       "      <td>HarperCollins UK</td>\n",
       "      <td>40</td>\n",
       "      <td>Fiction , Short Stories (single author)</td>\n",
       "      <td>English</td>\n",
       "      <td>2011</td>\n",
       "      <td>English</td>\n",
       "      <td>Fiction</td>\n",
       "    </tr>\n",
       "    <tr>\n",
       "      <th>The Queen of Nothing (The Folk of the Air #3)</th>\n",
       "      <td>Holly Black</td>\n",
       "      <td>5.0</td>\n",
       "      <td>11.0</td>\n",
       "      <td>36.86</td>\n",
       "      <td>SAR</td>\n",
       "      <td>Bonnier Zaffre Ltd.</td>\n",
       "      <td>448</td>\n",
       "      <td>Young Adult Fiction , Family , General</td>\n",
       "      <td>English</td>\n",
       "      <td>2019</td>\n",
       "      <td>English</td>\n",
       "      <td>Fiction</td>\n",
       "    </tr>\n",
       "    <tr>\n",
       "      <th>The Queen of Nothing (The Folk of the Air #3)</th>\n",
       "      <td>Holly Black</td>\n",
       "      <td>5.0</td>\n",
       "      <td>11.0</td>\n",
       "      <td>36.86</td>\n",
       "      <td>SAR</td>\n",
       "      <td>Bonnier Zaffre Ltd.</td>\n",
       "      <td>448</td>\n",
       "      <td>Young Adult Fiction , Fantasy , Epic</td>\n",
       "      <td>English</td>\n",
       "      <td>2019</td>\n",
       "      <td>English</td>\n",
       "      <td>Fiction</td>\n",
       "    </tr>\n",
       "    <tr>\n",
       "      <th>Start Day Trading Now: A Quick and Easy Introduction to Making Money While Managing Your Risk</th>\n",
       "      <td>Michael Sincere</td>\n",
       "      <td>5.0</td>\n",
       "      <td>2.0</td>\n",
       "      <td>47.22</td>\n",
       "      <td>SAR</td>\n",
       "      <td>Simon and Schuster</td>\n",
       "      <td>224</td>\n",
       "      <td>Business &amp;amp, Economics , Personal Finance , ...</td>\n",
       "      <td>English</td>\n",
       "      <td>2011</td>\n",
       "      <td>English</td>\n",
       "      <td>Non-Fiction</td>\n",
       "    </tr>\n",
       "    <tr>\n",
       "      <th>Indistractable: How to Control Your Attention and Choose Your Life</th>\n",
       "      <td>Nir Eyal</td>\n",
       "      <td>5.0</td>\n",
       "      <td>2.0</td>\n",
       "      <td>69.24</td>\n",
       "      <td>SAR</td>\n",
       "      <td>Bloomsbury Publishing</td>\n",
       "      <td>400</td>\n",
       "      <td>Self-Help , Self-Management , Stress Management</td>\n",
       "      <td>English</td>\n",
       "      <td>2019</td>\n",
       "      <td>English</td>\n",
       "      <td>Non-Fiction</td>\n",
       "    </tr>\n",
       "    <tr>\n",
       "      <th>Final Option: 'The best one yet'</th>\n",
       "      <td>Clive Cussler</td>\n",
       "      <td>5.0</td>\n",
       "      <td>3.0</td>\n",
       "      <td>93.75</td>\n",
       "      <td>SAR</td>\n",
       "      <td>Penguin UK</td>\n",
       "      <td>400</td>\n",
       "      <td>none</td>\n",
       "      <td>English</td>\n",
       "      <td>2019</td>\n",
       "      <td>English</td>\n",
       "      <td>Non-Fiction</td>\n",
       "    </tr>\n",
       "    <tr>\n",
       "      <th>Home Work: A Memoir of My Hollywood Years</th>\n",
       "      <td>Julie Andrews</td>\n",
       "      <td>5.0</td>\n",
       "      <td>1.0</td>\n",
       "      <td>98.42</td>\n",
       "      <td>SAR</td>\n",
       "      <td>Hachette UK</td>\n",
       "      <td>352</td>\n",
       "      <td>Music , Genres &amp;amp, Styles , Musicals</td>\n",
       "      <td>English</td>\n",
       "      <td>2019</td>\n",
       "      <td>English</td>\n",
       "      <td>Non-Fiction</td>\n",
       "    </tr>\n",
       "    <tr>\n",
       "      <th>The Red Signal: An Agatha Christie Short Story</th>\n",
       "      <td>Agatha Christie</td>\n",
       "      <td>5.0</td>\n",
       "      <td>4.0</td>\n",
       "      <td>7.50</td>\n",
       "      <td>SAR</td>\n",
       "      <td>HarperCollins UK</td>\n",
       "      <td>40</td>\n",
       "      <td>Fiction , Mystery &amp;amp, Detective , General</td>\n",
       "      <td>English</td>\n",
       "      <td>2011</td>\n",
       "      <td>English</td>\n",
       "      <td>Fiction</td>\n",
       "    </tr>\n",
       "    <tr>\n",
       "      <th>No One Is Too Small to Make a Difference</th>\n",
       "      <td>Greta Thunberg</td>\n",
       "      <td>5.0</td>\n",
       "      <td>2.0</td>\n",
       "      <td>38.18</td>\n",
       "      <td>SAR</td>\n",
       "      <td>Penguin</td>\n",
       "      <td>112</td>\n",
       "      <td>none</td>\n",
       "      <td>English</td>\n",
       "      <td>2019</td>\n",
       "      <td>English</td>\n",
       "      <td>Non-Fiction</td>\n",
       "    </tr>\n",
       "    <tr>\n",
       "      <th>Indistractable: How to Control Your Attention and Choose Your Life</th>\n",
       "      <td>Nir Eyal</td>\n",
       "      <td>5.0</td>\n",
       "      <td>2.0</td>\n",
       "      <td>69.24</td>\n",
       "      <td>SAR</td>\n",
       "      <td>Bloomsbury Publishing</td>\n",
       "      <td>400</td>\n",
       "      <td>none</td>\n",
       "      <td>English</td>\n",
       "      <td>2019</td>\n",
       "      <td>English</td>\n",
       "      <td>Non-Fiction</td>\n",
       "    </tr>\n",
       "    <tr>\n",
       "      <th>Indistractable: How to Control Your Attention and Choose Your Life</th>\n",
       "      <td>Nir Eyal</td>\n",
       "      <td>5.0</td>\n",
       "      <td>2.0</td>\n",
       "      <td>69.24</td>\n",
       "      <td>SAR</td>\n",
       "      <td>Bloomsbury Publishing</td>\n",
       "      <td>400</td>\n",
       "      <td>Family &amp;amp, Relationships , Life Stages , Sch...</td>\n",
       "      <td>English</td>\n",
       "      <td>2019</td>\n",
       "      <td>English</td>\n",
       "      <td>Non-Fiction</td>\n",
       "    </tr>\n",
       "    <tr>\n",
       "      <th>Home Work: A Memoir of My Hollywood Years</th>\n",
       "      <td>Julie Andrews</td>\n",
       "      <td>5.0</td>\n",
       "      <td>1.0</td>\n",
       "      <td>98.42</td>\n",
       "      <td>SAR</td>\n",
       "      <td>Hachette UK</td>\n",
       "      <td>352</td>\n",
       "      <td>none</td>\n",
       "      <td>English</td>\n",
       "      <td>2019</td>\n",
       "      <td>English</td>\n",
       "      <td>Non-Fiction</td>\n",
       "    </tr>\n",
       "    <tr>\n",
       "      <th>Final Option: 'The best one yet'</th>\n",
       "      <td>Clive Cussler</td>\n",
       "      <td>5.0</td>\n",
       "      <td>3.0</td>\n",
       "      <td>93.75</td>\n",
       "      <td>SAR</td>\n",
       "      <td>Penguin UK</td>\n",
       "      <td>400</td>\n",
       "      <td>Fiction , Thrillers , Suspense</td>\n",
       "      <td>English</td>\n",
       "      <td>2019</td>\n",
       "      <td>English</td>\n",
       "      <td>Fiction</td>\n",
       "    </tr>\n",
       "    <tr>\n",
       "      <th>That Time I got Reincarnated as a Slime 11</th>\n",
       "      <td>Story by FUSE</td>\n",
       "      <td>5.0</td>\n",
       "      <td>13.0</td>\n",
       "      <td>43.28</td>\n",
       "      <td>SAR</td>\n",
       "      <td>Kodansha America LLC</td>\n",
       "      <td>208</td>\n",
       "      <td>Comics &amp;amp, Graphic Novels , Manga , General</td>\n",
       "      <td>English</td>\n",
       "      <td>2019</td>\n",
       "      <td>English</td>\n",
       "      <td>Non-Fiction</td>\n",
       "    </tr>\n",
       "    <tr>\n",
       "      <th>Final Option: 'The best one yet'</th>\n",
       "      <td>Clive Cussler</td>\n",
       "      <td>5.0</td>\n",
       "      <td>3.0</td>\n",
       "      <td>93.75</td>\n",
       "      <td>SAR</td>\n",
       "      <td>Penguin UK</td>\n",
       "      <td>400</td>\n",
       "      <td>Fiction , Fantasy , Action &amp;amp, Adventure</td>\n",
       "      <td>English</td>\n",
       "      <td>2019</td>\n",
       "      <td>English</td>\n",
       "      <td>Fiction</td>\n",
       "    </tr>\n",
       "    <tr>\n",
       "      <th>Moby Dick. Illustrated edition</th>\n",
       "      <td>Melville Herman</td>\n",
       "      <td>5.0</td>\n",
       "      <td>3.0</td>\n",
       "      <td>0.17</td>\n",
       "      <td>SAR</td>\n",
       "      <td>Strelbytskyy Multimedia Publishing</td>\n",
       "      <td>771</td>\n",
       "      <td>Fiction , Action &amp; Adventure</td>\n",
       "      <td>English</td>\n",
       "      <td>2018</td>\n",
       "      <td>English</td>\n",
       "      <td>Fiction</td>\n",
       "    </tr>\n",
       "    <tr>\n",
       "      <th>15 Delicious Slow Cooker Recipes</th>\n",
       "      <td>Sallie Stone</td>\n",
       "      <td>5.0</td>\n",
       "      <td>3.0</td>\n",
       "      <td>0.00</td>\n",
       "      <td>Free</td>\n",
       "      <td>BookRix</td>\n",
       "      <td>18</td>\n",
       "      <td>Cooking , General</td>\n",
       "      <td>English</td>\n",
       "      <td>2019</td>\n",
       "      <td>English</td>\n",
       "      <td>Non-Fiction</td>\n",
       "    </tr>\n",
       "    <tr>\n",
       "      <th>Start Day Trading Now: A Quick and Easy Introduction to Making Money While Managing Your Risk</th>\n",
       "      <td>Michael Sincere</td>\n",
       "      <td>5.0</td>\n",
       "      <td>2.0</td>\n",
       "      <td>47.22</td>\n",
       "      <td>SAR</td>\n",
       "      <td>Simon and Schuster</td>\n",
       "      <td>224</td>\n",
       "      <td>Business &amp;amp, Economics , General</td>\n",
       "      <td>English</td>\n",
       "      <td>2011</td>\n",
       "      <td>English</td>\n",
       "      <td>Non-Fiction</td>\n",
       "    </tr>\n",
       "  </tbody>\n",
       "</table>\n",
       "</div>"
      ],
      "text/plain": [
       "                                                                   author  \\\n",
       "title                                                                       \n",
       "Competitive Advantage: Creating and Sustaining ...      Michael E. Porter   \n",
       "Summary: The Compound Effect                        Nine99 Innovation Lab   \n",
       "The Red Signal: An Agatha Christie Short Story            Agatha Christie   \n",
       "The Queen of Nothing (The Folk of the Air #3)                 Holly Black   \n",
       "The Queen of Nothing (The Folk of the Air #3)                 Holly Black   \n",
       "Start Day Trading Now: A Quick and Easy Introdu...        Michael Sincere   \n",
       "Indistractable: How to Control Your Attention a...               Nir Eyal   \n",
       "Final Option: 'The best one yet'                            Clive Cussler   \n",
       "Home Work: A Memoir of My Hollywood Years                   Julie Andrews   \n",
       "The Red Signal: An Agatha Christie Short Story            Agatha Christie   \n",
       "No One Is Too Small to Make a Difference                   Greta Thunberg   \n",
       "Indistractable: How to Control Your Attention a...               Nir Eyal   \n",
       "Indistractable: How to Control Your Attention a...               Nir Eyal   \n",
       "Home Work: A Memoir of My Hollywood Years                   Julie Andrews   \n",
       "Final Option: 'The best one yet'                            Clive Cussler   \n",
       "That Time I got Reincarnated as a Slime 11                  Story by FUSE   \n",
       "Final Option: 'The best one yet'                            Clive Cussler   \n",
       "Moby Dick. Illustrated edition                            Melville Herman   \n",
       "15 Delicious Slow Cooker Recipes                             Sallie Stone   \n",
       "Start Day Trading Now: A Quick and Easy Introdu...        Michael Sincere   \n",
       "\n",
       "                                                    rating  votes  price  \\\n",
       "title                                                                      \n",
       "Competitive Advantage: Creating and Sustaining ...     5.0    6.0  78.72   \n",
       "Summary: The Compound Effect                           5.0    1.0   3.94   \n",
       "The Red Signal: An Agatha Christie Short Story         5.0    4.0   7.50   \n",
       "The Queen of Nothing (The Folk of the Air #3)          5.0   11.0  36.86   \n",
       "The Queen of Nothing (The Folk of the Air #3)          5.0   11.0  36.86   \n",
       "Start Day Trading Now: A Quick and Easy Introdu...     5.0    2.0  47.22   \n",
       "Indistractable: How to Control Your Attention a...     5.0    2.0  69.24   \n",
       "Final Option: 'The best one yet'                       5.0    3.0  93.75   \n",
       "Home Work: A Memoir of My Hollywood Years              5.0    1.0  98.42   \n",
       "The Red Signal: An Agatha Christie Short Story         5.0    4.0   7.50   \n",
       "No One Is Too Small to Make a Difference               5.0    2.0  38.18   \n",
       "Indistractable: How to Control Your Attention a...     5.0    2.0  69.24   \n",
       "Indistractable: How to Control Your Attention a...     5.0    2.0  69.24   \n",
       "Home Work: A Memoir of My Hollywood Years              5.0    1.0  98.42   \n",
       "Final Option: 'The best one yet'                       5.0    3.0  93.75   \n",
       "That Time I got Reincarnated as a Slime 11             5.0   13.0  43.28   \n",
       "Final Option: 'The best one yet'                       5.0    3.0  93.75   \n",
       "Moby Dick. Illustrated edition                         5.0    3.0   0.17   \n",
       "15 Delicious Slow Cooker Recipes                       5.0    3.0   0.00   \n",
       "Start Day Trading Now: A Quick and Easy Introdu...     5.0    2.0  47.22   \n",
       "\n",
       "                                                   currency  \\\n",
       "title                                                         \n",
       "Competitive Advantage: Creating and Sustaining ...      SAR   \n",
       "Summary: The Compound Effect                            SAR   \n",
       "The Red Signal: An Agatha Christie Short Story          SAR   \n",
       "The Queen of Nothing (The Folk of the Air #3)           SAR   \n",
       "The Queen of Nothing (The Folk of the Air #3)           SAR   \n",
       "Start Day Trading Now: A Quick and Easy Introdu...      SAR   \n",
       "Indistractable: How to Control Your Attention a...      SAR   \n",
       "Final Option: 'The best one yet'                        SAR   \n",
       "Home Work: A Memoir of My Hollywood Years               SAR   \n",
       "The Red Signal: An Agatha Christie Short Story          SAR   \n",
       "No One Is Too Small to Make a Difference                SAR   \n",
       "Indistractable: How to Control Your Attention a...      SAR   \n",
       "Indistractable: How to Control Your Attention a...      SAR   \n",
       "Home Work: A Memoir of My Hollywood Years               SAR   \n",
       "Final Option: 'The best one yet'                        SAR   \n",
       "That Time I got Reincarnated as a Slime 11              SAR   \n",
       "Final Option: 'The best one yet'                        SAR   \n",
       "Moby Dick. Illustrated edition                          SAR   \n",
       "15 Delicious Slow Cooker Recipes                       Free   \n",
       "Start Day Trading Now: A Quick and Easy Introdu...      SAR   \n",
       "\n",
       "                                                                              publisher  \\\n",
       "title                                                                                     \n",
       "Competitive Advantage: Creating and Sustaining ...                   Simon and Schuster   \n",
       "Summary: The Compound Effect                        Nine99 Innovation Lab (OPC) Pvt Ltd   \n",
       "The Red Signal: An Agatha Christie Short Story                         HarperCollins UK   \n",
       "The Queen of Nothing (The Folk of the Air #3)                       Bonnier Zaffre Ltd.   \n",
       "The Queen of Nothing (The Folk of the Air #3)                       Bonnier Zaffre Ltd.   \n",
       "Start Day Trading Now: A Quick and Easy Introdu...                   Simon and Schuster   \n",
       "Indistractable: How to Control Your Attention a...                Bloomsbury Publishing   \n",
       "Final Option: 'The best one yet'                                             Penguin UK   \n",
       "Home Work: A Memoir of My Hollywood Years                                   Hachette UK   \n",
       "The Red Signal: An Agatha Christie Short Story                         HarperCollins UK   \n",
       "No One Is Too Small to Make a Difference                                        Penguin   \n",
       "Indistractable: How to Control Your Attention a...                Bloomsbury Publishing   \n",
       "Indistractable: How to Control Your Attention a...                Bloomsbury Publishing   \n",
       "Home Work: A Memoir of My Hollywood Years                                   Hachette UK   \n",
       "Final Option: 'The best one yet'                                             Penguin UK   \n",
       "That Time I got Reincarnated as a Slime 11                         Kodansha America LLC   \n",
       "Final Option: 'The best one yet'                                             Penguin UK   \n",
       "Moby Dick. Illustrated edition                       Strelbytskyy Multimedia Publishing   \n",
       "15 Delicious Slow Cooker Recipes                                                BookRix   \n",
       "Start Day Trading Now: A Quick and Easy Introdu...                   Simon and Schuster   \n",
       "\n",
       "                                                    pages  \\\n",
       "title                                                       \n",
       "Competitive Advantage: Creating and Sustaining ...    592   \n",
       "Summary: The Compound Effect                            7   \n",
       "The Red Signal: An Agatha Christie Short Story         40   \n",
       "The Queen of Nothing (The Folk of the Air #3)         448   \n",
       "The Queen of Nothing (The Folk of the Air #3)         448   \n",
       "Start Day Trading Now: A Quick and Easy Introdu...    224   \n",
       "Indistractable: How to Control Your Attention a...    400   \n",
       "Final Option: 'The best one yet'                      400   \n",
       "Home Work: A Memoir of My Hollywood Years             352   \n",
       "The Red Signal: An Agatha Christie Short Story         40   \n",
       "No One Is Too Small to Make a Difference              112   \n",
       "Indistractable: How to Control Your Attention a...    400   \n",
       "Indistractable: How to Control Your Attention a...    400   \n",
       "Home Work: A Memoir of My Hollywood Years             352   \n",
       "Final Option: 'The best one yet'                      400   \n",
       "That Time I got Reincarnated as a Slime 11            208   \n",
       "Final Option: 'The best one yet'                      400   \n",
       "Moby Dick. Illustrated edition                        771   \n",
       "15 Delicious Slow Cooker Recipes                       18   \n",
       "Start Day Trading Now: A Quick and Easy Introdu...    224   \n",
       "\n",
       "                                                                                              generes  \\\n",
       "title                                                                                                   \n",
       "Competitive Advantage: Creating and Sustaining ...                 Business &amp, Economics , General   \n",
       "Summary: The Compound Effect                              Business & Economics , Mentoring & Coaching   \n",
       "The Red Signal: An Agatha Christie Short Story                Fiction , Short Stories (single author)   \n",
       "The Queen of Nothing (The Folk of the Air #3)                  Young Adult Fiction , Family , General   \n",
       "The Queen of Nothing (The Folk of the Air #3)                    Young Adult Fiction , Fantasy , Epic   \n",
       "Start Day Trading Now: A Quick and Easy Introdu...  Business &amp, Economics , Personal Finance , ...   \n",
       "Indistractable: How to Control Your Attention a...    Self-Help , Self-Management , Stress Management   \n",
       "Final Option: 'The best one yet'                                                                 none   \n",
       "Home Work: A Memoir of My Hollywood Years                      Music , Genres &amp, Styles , Musicals   \n",
       "The Red Signal: An Agatha Christie Short Story            Fiction , Mystery &amp, Detective , General   \n",
       "No One Is Too Small to Make a Difference                                                         none   \n",
       "Indistractable: How to Control Your Attention a...                                               none   \n",
       "Indistractable: How to Control Your Attention a...  Family &amp, Relationships , Life Stages , Sch...   \n",
       "Home Work: A Memoir of My Hollywood Years                                                        none   \n",
       "Final Option: 'The best one yet'                                       Fiction , Thrillers , Suspense   \n",
       "That Time I got Reincarnated as a Slime 11              Comics &amp, Graphic Novels , Manga , General   \n",
       "Final Option: 'The best one yet'                           Fiction , Fantasy , Action &amp, Adventure   \n",
       "Moby Dick. Illustrated edition                                           Fiction , Action & Adventure   \n",
       "15 Delicious Slow Cooker Recipes                                                    Cooking , General   \n",
       "Start Day Trading Now: A Quick and Easy Introdu...                 Business &amp, Economics , General   \n",
       "\n",
       "                                                       lang published_year  \\\n",
       "title                                                                        \n",
       "Competitive Advantage: Creating and Sustaining ...  English           2008   \n",
       "Summary: The Compound Effect                        English           2019   \n",
       "The Red Signal: An Agatha Christie Short Story      English           2011   \n",
       "The Queen of Nothing (The Folk of the Air #3)       English           2019   \n",
       "The Queen of Nothing (The Folk of the Air #3)       English           2019   \n",
       "Start Day Trading Now: A Quick and Easy Introdu...  English           2011   \n",
       "Indistractable: How to Control Your Attention a...  English           2019   \n",
       "Final Option: 'The best one yet'                    English           2019   \n",
       "Home Work: A Memoir of My Hollywood Years           English           2019   \n",
       "The Red Signal: An Agatha Christie Short Story      English           2011   \n",
       "No One Is Too Small to Make a Difference            English           2019   \n",
       "Indistractable: How to Control Your Attention a...  English           2019   \n",
       "Indistractable: How to Control Your Attention a...  English           2019   \n",
       "Home Work: A Memoir of My Hollywood Years           English           2019   \n",
       "Final Option: 'The best one yet'                    English           2019   \n",
       "That Time I got Reincarnated as a Slime 11          English           2019   \n",
       "Final Option: 'The best one yet'                    English           2019   \n",
       "Moby Dick. Illustrated edition                      English           2018   \n",
       "15 Delicious Slow Cooker Recipes                    English           2019   \n",
       "Start Day Trading Now: A Quick and Easy Introdu...  English           2011   \n",
       "\n",
       "                                                      lange        gener  \n",
       "title                                                                     \n",
       "Competitive Advantage: Creating and Sustaining ...  English  Non-Fiction  \n",
       "Summary: The Compound Effect                        English  Non-Fiction  \n",
       "The Red Signal: An Agatha Christie Short Story      English      Fiction  \n",
       "The Queen of Nothing (The Folk of the Air #3)       English      Fiction  \n",
       "The Queen of Nothing (The Folk of the Air #3)       English      Fiction  \n",
       "Start Day Trading Now: A Quick and Easy Introdu...  English  Non-Fiction  \n",
       "Indistractable: How to Control Your Attention a...  English  Non-Fiction  \n",
       "Final Option: 'The best one yet'                    English  Non-Fiction  \n",
       "Home Work: A Memoir of My Hollywood Years           English  Non-Fiction  \n",
       "The Red Signal: An Agatha Christie Short Story      English      Fiction  \n",
       "No One Is Too Small to Make a Difference            English  Non-Fiction  \n",
       "Indistractable: How to Control Your Attention a...  English  Non-Fiction  \n",
       "Indistractable: How to Control Your Attention a...  English  Non-Fiction  \n",
       "Home Work: A Memoir of My Hollywood Years           English  Non-Fiction  \n",
       "Final Option: 'The best one yet'                    English      Fiction  \n",
       "That Time I got Reincarnated as a Slime 11          English  Non-Fiction  \n",
       "Final Option: 'The best one yet'                    English      Fiction  \n",
       "Moby Dick. Illustrated edition                      English      Fiction  \n",
       "15 Delicious Slow Cooker Recipes                    English  Non-Fiction  \n",
       "Start Day Trading Now: A Quick and Easy Introdu...  English  Non-Fiction  "
      ]
     },
     "execution_count": 151,
     "metadata": {},
     "output_type": "execute_result"
    }
   ],
   "source": [
    "### sort dataset by ratings\n",
    "books_ratings=books[books.rating>4.5].sort_values(by='rating',ascending=False).head(20)\n",
    "books_ratings.set_index('title',drop=True,inplace=True)\n",
    "books_ratings\n"
   ]
  },
  {
   "cell_type": "markdown",
   "metadata": {},
   "source": [
    "### Top 20 Highest rating authors"
   ]
  },
  {
   "cell_type": "code",
   "execution_count": 158,
   "metadata": {},
   "outputs": [
    {
     "data": {
      "text/plain": [
       "Text(0.5, 1.0, 'Top 20 authors with highest rated books')"
      ]
     },
     "execution_count": 158,
     "metadata": {},
     "output_type": "execute_result"
    },
    {
     "data": {
      "image/png": "[encoded data removed]",
      "text/plain": [
       "<Figure size 864x576 with 1 Axes>"
      ]
     },
     "metadata": {
      "needs_background": "light"
     },
     "output_type": "display_data"
    }
   ],
   "source": [
    "plt.subplots(figsize=(12,8))\n",
    "ax = books_ratings.groupby(\"author\").sum()['rating'].sort_values().plot.barh(width=0.9,color=sb.color_palette('gist_rainbow',12))\n",
    "ax.set_xlabel(\"Total books \", fontsize=15)\n",
    "ax.set_ylabel(\"Authors\", fontsize=15)\n",
    "ax.set_title(\"Top 20 authors with highest rated books\",fontsize=20,color='black')"
   ]
  },
  {
   "cell_type": "code",
   "execution_count": 218,
   "metadata": {},
   "outputs": [
    {
     "name": "stdout",
     "output_type": "stream",
     "text": [
      "\n",
      "Highest rated books\n",
      "                                                    title\n",
      "0      Harry Potter and the Half-Blood Prince (Harry ...\n",
      "3      Harry Potter and the Prisoner of Azkaban (Harr...\n",
      "4      Harry Potter Boxed Set  Books 1-5 (Harry Potte...\n",
      "6           Harry Potter Collection (Harry Potter  #1-6)\n",
      "21     J.R.R. Tolkien 4-Book Boxed Set: The Hobbit an...\n",
      "...                                                  ...\n",
      "10675  Harry Potter and the Goblet of Fire (Harry Pot...\n",
      "10790                                       Looking East\n",
      "10918  Fullmetal Alchemist  Vol. 6 (Fullmetal Alchemi...\n",
      "10937  The Price of the Ticket: Collected Nonfiction ...\n",
      "10940  Code Check Electrical: An Illustrated Guide to...\n",
      "\n",
      "[230 rows x 1 columns]\n",
      "----------------------------------------\n",
      "\n",
      "Lowest rated books\n",
      "                                                    title\n",
      "265    Out to Eat London 2002 (Lonely Planet Out to Eat)\n",
      "375                       Juiced Official Strategy Guide\n",
      "987             Open City 6: The Only Woman He Ever Left\n",
      "1681                                        V.S. Naipaul\n",
      "2532   How To Meditate: An Anthology Of Talks On Medi...\n",
      "2533          Insights: Talks On The Nature Of Existence\n",
      "2758                 Venac sonetnih venaca; Puževa srma\n",
      "3234            Puzzle Pack: The Witch of Blackbird Pond\n",
      "3492   Brodie's notes on Aldous Huxley's brave new world\n",
      "3912   The Boys of the Archangel Raphael: A Youth Con...\n",
      "4241                                 American Film Guide\n",
      "4677   The Man and the Author: John Milton: Twentieth...\n",
      "5323   Canopy: A Work for Voice and Light in Harvard ...\n",
      "5537   McDougal Littell Science: Student Edition Grad...\n",
      "5670   The Halloween Activity Book: Creepy  Crawly  H...\n",
      "6380          Laguna  I Love You: The Best of \"Our Town\"\n",
      "6502               Field Guide to Home Buying in America\n",
      "6558                   American Writers  Supplement VIII\n",
      "6839                The Two Tocquevilles  Father and Son\n",
      "6859                            The Road To War  1933 39\n",
      "6877   I'll Be Home Before Midnight and I Won't Get P...\n",
      "7144   Mythographi Graeci 1: Apollodori Bibliotheca  ...\n",
      "7399                    Sclerotherapy and vein treatment\n",
      "7573                            The Berlin Phenomenology\n",
      "7634        Your Child and Jesus: A Family Activity Book\n",
      "7797                   Beckett Football Card Price Guide\n",
      "7998   The Art of Loving by Erich Fromm: A True Story...\n",
      "8109   The Earth and Its Peoples: A Global History  V...\n",
      "8812                                        Citizen Girl\n",
      "9331       Random House Crossword Mega Omnibus  Volume 1\n",
      "9437   Classroom Interactions as Cross-Cultural Encou...\n",
      "9539                                Mandala Sand Art Kit\n",
      "10138                                      Day and Night\n",
      "10497  The Fantastic Vampire: Studies in the Children...\n",
      "10917  The Leadership Challenge: Skills for Taking Ch...\n",
      "11027  Anthony Thwaite: In Conversation With Peter Da...\n",
      "11091             The Die Broke Financial Problem Solver\n"
     ]
    }
   ],
   "source": [
    "highest_rated=books[books['rating']>=4.5]\n",
    "lowest_rated=books[books['rating']<=2.5]\n",
    "print('\\nHighest rated books\\n',highest_rated[[\"title\"]])\n",
    "print('-'*40)\n",
    "print('\\nLowest rated books\\n',lowest_rated[[\"title\"]])"
   ]
  },
  {
   "cell_type": "markdown",
   "metadata": {},
   "source": [
    "### 3.which book has the max/min reviews"
   ]
  },
  {
   "cell_type": "code",
   "execution_count": 223,
   "metadata": {},
   "outputs": [
    {
     "data": {
      "text/html": [
       "<div>\n",
       "<style scoped>\n",
       "    .dataframe tbody tr th:only-of-type {\n",
       "        vertical-align: middle;\n",
       "    }\n",
       "\n",
       "    .dataframe tbody tr th {\n",
       "        vertical-align: top;\n",
       "    }\n",
       "\n",
       "    .dataframe thead th {\n",
       "        text-align: right;\n",
       "    }\n",
       "</style>\n",
       "<table border=\"1\" class=\"dataframe\">\n",
       "  <thead>\n",
       "    <tr style=\"text-align: right;\">\n",
       "      <th></th>\n",
       "      <th>title</th>\n",
       "      <th>authors</th>\n",
       "      <th>rating</th>\n",
       "      <th>reviews</th>\n",
       "    </tr>\n",
       "  </thead>\n",
       "  <tbody>\n",
       "    <tr>\n",
       "      <th>10336</th>\n",
       "      <td>Twilight (Twilight  #1)</td>\n",
       "      <td>Stephenie Meyer</td>\n",
       "      <td>3.59</td>\n",
       "      <td>94265</td>\n",
       "    </tr>\n",
       "  </tbody>\n",
       "</table>\n",
       "</div>"
      ],
      "text/plain": [
       "                         title          authors  rating  reviews\n",
       "10336  Twilight (Twilight  #1)  Stephenie Meyer    3.59    94265"
      ]
     },
     "execution_count": 223,
     "metadata": {},
     "output_type": "execute_result"
    }
   ],
   "source": [
    "max_reviews=books[books['reviews']==books['reviews'].max()]\n",
    "max_reviews[[\"title\",\"authors\",\"rating\",\"reviews\"]].head()\n"
   ]
  },
  {
   "cell_type": "code",
   "execution_count": 224,
   "metadata": {},
   "outputs": [
    {
     "data": {
      "text/html": [
       "<div>\n",
       "<style scoped>\n",
       "    .dataframe tbody tr th:only-of-type {\n",
       "        vertical-align: middle;\n",
       "    }\n",
       "\n",
       "    .dataframe tbody tr th {\n",
       "        vertical-align: top;\n",
       "    }\n",
       "\n",
       "    .dataframe thead th {\n",
       "        text-align: right;\n",
       "    }\n",
       "</style>\n",
       "<table border=\"1\" class=\"dataframe\">\n",
       "  <thead>\n",
       "    <tr style=\"text-align: right;\">\n",
       "      <th></th>\n",
       "      <th>title</th>\n",
       "      <th>authors</th>\n",
       "      <th>rating</th>\n",
       "      <th>reviews</th>\n",
       "    </tr>\n",
       "  </thead>\n",
       "  <tbody>\n",
       "    <tr>\n",
       "      <th>31</th>\n",
       "      <td>Molly Hatchet - 5 of the Best</td>\n",
       "      <td>Molly Hatchet</td>\n",
       "      <td>4.33</td>\n",
       "      <td>0</td>\n",
       "    </tr>\n",
       "    <tr>\n",
       "      <th>77</th>\n",
       "      <td>The Power of One: The Solo Play for Playwright...</td>\n",
       "      <td>Louis E. Catron</td>\n",
       "      <td>3.67</td>\n",
       "      <td>0</td>\n",
       "    </tr>\n",
       "    <tr>\n",
       "      <th>80</th>\n",
       "      <td>What to Sell on ebay and Where to Get It: The ...</td>\n",
       "      <td>Chris Malta/Lisa Suttora</td>\n",
       "      <td>3.62</td>\n",
       "      <td>0</td>\n",
       "    </tr>\n",
       "    <tr>\n",
       "      <th>82</th>\n",
       "      <td>eBay: Top 100 Simplified Tips &amp; Tricks</td>\n",
       "      <td>Julia Wilkinson</td>\n",
       "      <td>4.27</td>\n",
       "      <td>0</td>\n",
       "    </tr>\n",
       "    <tr>\n",
       "      <th>102</th>\n",
       "      <td>Dalit: The Black Untaouchables of India</td>\n",
       "      <td>V.T. Rajshekar/Y.N. Kly</td>\n",
       "      <td>4.20</td>\n",
       "      <td>0</td>\n",
       "    </tr>\n",
       "  </tbody>\n",
       "</table>\n",
       "</div>"
      ],
      "text/plain": [
       "                                                 title  \\\n",
       "31                       Molly Hatchet - 5 of the Best   \n",
       "77   The Power of One: The Solo Play for Playwright...   \n",
       "80   What to Sell on ebay and Where to Get It: The ...   \n",
       "82              eBay: Top 100 Simplified Tips & Tricks   \n",
       "102            Dalit: The Black Untaouchables of India   \n",
       "\n",
       "                      authors  rating  reviews  \n",
       "31              Molly Hatchet    4.33        0  \n",
       "77            Louis E. Catron    3.67        0  \n",
       "80   Chris Malta/Lisa Suttora    3.62        0  \n",
       "82            Julia Wilkinson    4.27        0  \n",
       "102   V.T. Rajshekar/Y.N. Kly    4.20        0  "
      ]
     },
     "execution_count": 224,
     "metadata": {},
     "output_type": "execute_result"
    }
   ],
   "source": [
    "min_reviews=books[books['reviews']==books['reviews'].min()]\n",
    "min_reviews[[\"title\",\"authors\",\"rating\",\"reviews\"]].head()"
   ]
  },
  {
   "cell_type": "markdown",
   "metadata": {},
   "source": [
    "<a id='conclusions'></a>\n",
    "## Conclusions\n",
    "Using the dataset samples (3854 after cleaning) and during years (1960 : 2015 ) I found the following:\n",
    "<ul>\n",
    "<li>Movie production is steadly increasing every year with an average around 170 movie per year in the last decade.</li>\n",
    "<li>2011 was the year with the highest production with 199 movie released that year.</li>\n",
    "<li> \"Avatar\" is the highest profit movie of the recorded samples also \"The Warrior's Way\" is the Lowest profit movie of of the recorded samples </li>\n",
    "<li> Out of 3854 movies there were 22 movie with a vote average above 8 and 9 movies below 3.5 of vote average.</li>\n",
    "<li> The genre \"Comedy\" has the highest profit of 12183078642 US dollar.</li>\n",
    "<li> Comedy is the most poular genre of all movies in the dataset.</li>\n",
    "</ul>\n",
    "\n",
    "## Limitations\n",
    "<li>The dataset contained missing values in (Budget, revenue) columns, which may affect the analysis after dropping rows of missing values:<br/>\n",
    "Zero Budget rows: 5696 And Zero revenue rows: 6016\n",
    "\n",
    "</li>\n",
    "\n",
    "<li>\n",
    "Mixed genres affect the genre profits analysis which can be improved by separate genrs or using another approach with this analysis.    \n",
    "</li>\n",
    "        \n",
    "## Submitting your Project \n",
    "\n",
    "> Before you submit your project, you need to create a .html or .pdf version of this notebook in the workspace here. To do that, run the code cell below. If it worked correctly, you should get a return code of 0, and you should see the generated .html file in the workspace directory (click on the orange Jupyter icon in the upper left).\n",
    "\n",
    "> Alternatively, you can download this report as .html via the **File** > **Download as** submenu, and then manually upload it into the workspace directory by clicking on the orange Jupyter icon in the upper left, then using the Upload button.\n",
    "\n",
    "> Once you've done this, you can submit your project by clicking on the \"Submit Project\" button in the lower right here. This will create and submit a zip file with this .ipynb doc and the .html or .pdf version you created. Congratulations!"
   ]
  },
  {
   "cell_type": "code",
   "execution_count": null,
   "metadata": {},
   "outputs": [],
   "source": [
    "from subprocess import call\n",
    "call(['python', '-m', 'nbconvert', 'Investigate_a_Dataset.ipynb'])"
   ]
  }
 ],
 "metadata": {
  "kernelspec": {
   "display_name": "Python 3",
   "language": "python",
   "name": "python3"
  },
  "language_info": {
   "codemirror_mode": {
    "name": "ipython",
    "version": 3
   },
   "file_extension": ".py",
   "mimetype": "text/x-python",
   "name": "python",
   "nbconvert_exporter": "python",
   "pygments_lexer": "ipython3",
   "version": "3.8.8"
  }
 },
 "nbformat": 4,
 "nbformat_minor": 2
}
