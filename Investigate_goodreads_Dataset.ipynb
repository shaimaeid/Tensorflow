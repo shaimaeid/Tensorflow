{
 "cells": [
  {
   "cell_type": "markdown",
   "metadata": {},
   "source": [
    "\n",
    "\n",
    "# Project: Investigate the TMDB  Dataset \n",
    "\n",
    "## Table of Contents\n",
    "<ul>\n",
    "<li><a href=\"#intro\">Introduction</a></li>\n",
    "<li><a href=\"#wrangling\">Data Wrangling</a></li>\n",
    "<li><a href=\"#eda\">Exploratory Data Analysis</a></li>\n",
    "<li><a href=\"#conclusions\">Conclusions</a></li>\n",
    "</ul>"
   ]
  },
  {
   "cell_type": "markdown",
   "metadata": {},
   "source": [
    "<a id='intro'></a>\n",
    "## Introduction\n",
    "\n",
    "The selected TMDb movie dataset contains information about 10,000 movies collected from The Movie Database (TMDb), including user ratings and revenue.it also include moviews budget, gener and release date. <br>\n",
    "using the available data I will visualize the trend of movie production over the years, extract summaries about profits , movie production per year , per gener and explor the relation between gener , popularity , buget and revenue.\n",
    "\n",
    "### Resources\n",
    "These website were used in the creation of the code below.\n",
    "<li>https://www.w3schools.com/</li>\n",
    "<li>https://pandas.pydata.org/</li>\n",
    "<li>https://stackoverflow.com/questions/15705630/get-the-rows-which-have-the-max-value-in-groups-using-groupby</li>\n"
   ]
  },
  {
   "cell_type": "code",
   "execution_count": 33,
   "metadata": {},
   "outputs": [],
   "source": [
    "# imports and load data\n",
    "import numpy as np\n",
    "import pandas as pd\n",
    "import matplotlib.pyplot as plt\n",
    "import seaborn as sb\n"
   ]
  },
  {
   "cell_type": "markdown",
   "metadata": {},
   "source": [
    "<a id='wrangling'></a>\n",
    "## Data Wrangling\n",
    "in this step I will explor dataset column and datatypes and drop un-needed columns for this project.\n",
    "\n",
    "### General Properties"
   ]
  },
  {
   "cell_type": "code",
   "execution_count": 2,
   "metadata": {},
   "outputs": [
    {
     "name": "stdout",
     "output_type": "stream",
     "text": [
      "<class 'pandas.core.frame.DataFrame'>\n",
      "RangeIndex: 11123 entries, 0 to 11122\n",
      "Data columns (total 12 columns):\n",
      " #   Column              Non-Null Count  Dtype  \n",
      "---  ------              --------------  -----  \n",
      " 0   bookID              11123 non-null  int64  \n",
      " 1   title               11123 non-null  object \n",
      " 2   authors             11123 non-null  object \n",
      " 3   average_rating      11123 non-null  float64\n",
      " 4   isbn                11123 non-null  object \n",
      " 5   isbn13              11123 non-null  int64  \n",
      " 6   language_code       11123 non-null  object \n",
      " 7     num_pages         11123 non-null  int64  \n",
      " 8   ratings_count       11123 non-null  int64  \n",
      " 9   text_reviews_count  11123 non-null  int64  \n",
      " 10  publication_date    11123 non-null  object \n",
      " 11  publisher           11123 non-null  object \n",
      "dtypes: float64(1), int64(5), object(6)\n",
      "memory usage: 1.0+ MB\n"
     ]
    },
    {
     "name": "stderr",
     "output_type": "stream",
     "text": [
      "b'Skipping line 3350: expected 12 fields, saw 13\\nSkipping line 4704: expected 12 fields, saw 13\\nSkipping line 5879: expected 12 fields, saw 13\\nSkipping line 8981: expected 12 fields, saw 13\\n'\n"
     ]
    }
   ],
   "source": [
    "# Load data from books.csv \n",
    "books = pd.read_csv('books.csv',sep=',',error_bad_lines=False)\n",
    "books.info()"
   ]
  },
  {
   "cell_type": "markdown",
   "metadata": {},
   "source": [
    "## Observation"
   ]
  },
  {
   "cell_type": "markdown",
   "metadata": {},
   "source": [
    "1) We have total <b>12 columns</b> with a max of <b>11123 entries</b> in each column.<br/>\n",
    "2) Data has no missing values nor nulls.<br/>\n",
    "3) Some columns need renaming and shorten for better usage and display.<br/>\n",
    "4) Columns:bookID,isbn,isbn13 are not needed for this analysis and will be dropped.<br/>\n",
    "5) For this analysis we don't need \"publication date\" I will extract year in a new column and drop \"publication date\"<br/>\n",
    "6) Columns except \"publication date\" are in good data type.<br/>"
   ]
  },
  {
   "cell_type": "code",
   "execution_count": 4,
   "metadata": {},
   "outputs": [],
   "source": [
    "# extract publication year to a new column\n",
    "books['publication_year']=books['publication_date'].str[-4:]"
   ]
  },
  {
   "cell_type": "code",
   "execution_count": 23,
   "metadata": {},
   "outputs": [
    {
     "data": {
      "text/plain": [
       "title                 object\n",
       "authors               object\n",
       "rating               float64\n",
       "lang                category\n",
       "pages                  int64\n",
       "ratings_count          int64\n",
       "reviews                int64\n",
       "publisher             object\n",
       "publication_year    category\n",
       "dtype: object"
      ]
     },
     "execution_count": 23,
     "metadata": {},
     "output_type": "execute_result"
    }
   ],
   "source": [
    "# the publication_year column is not in correct datatype\n",
    "books['publication_year']=books['publication_year'].astype('category')\n",
    "# the lang column is not in correct datatype\n",
    "books['lang']=books['lang'].astype('category')\n",
    "books.dtypes"
   ]
  },
  {
   "cell_type": "markdown",
   "metadata": {},
   "source": [
    "## Dropping unwanted columns"
   ]
  },
  {
   "cell_type": "code",
   "execution_count": 5,
   "metadata": {},
   "outputs": [],
   "source": [
    "books.drop(['bookID','isbn','isbn13','publication_date'],axis =1,inplace = True)"
   ]
  },
  {
   "cell_type": "code",
   "execution_count": 6,
   "metadata": {},
   "outputs": [
    {
     "data": {
      "text/plain": [
       "Index(['title', 'authors', 'average_rating', 'language_code', '  num_pages',\n",
       "       'ratings_count', 'text_reviews_count', 'publisher', 'publication_year'],\n",
       "      dtype='object')"
      ]
     },
     "execution_count": 6,
     "metadata": {},
     "output_type": "execute_result"
    }
   ],
   "source": [
    "books.columns"
   ]
  },
  {
   "cell_type": "markdown",
   "metadata": {},
   "source": [
    "## Renaming columns"
   ]
  },
  {
   "cell_type": "code",
   "execution_count": 7,
   "metadata": {},
   "outputs": [],
   "source": [
    "books.rename(columns={'average_rating':'rating','language_code':'lang','  num_pages': 'pages','text_reviews_count':'reviews'},inplace=True)"
   ]
  },
  {
   "cell_type": "code",
   "execution_count": 8,
   "metadata": {},
   "outputs": [
    {
     "name": "stdout",
     "output_type": "stream",
     "text": [
      "Final columns in dataset (Rows,Columns) :  (11123, 9)\n"
     ]
    }
   ],
   "source": [
    "print(\"Final columns in dataset (Rows,Columns) : \",books.shape)"
   ]
  },
  {
   "cell_type": "code",
   "execution_count": 22,
   "metadata": {},
   "outputs": [
    {
     "data": {
      "text/html": [
       "<div>\n",
       "<style scoped>\n",
       "    .dataframe tbody tr th:only-of-type {\n",
       "        vertical-align: middle;\n",
       "    }\n",
       "\n",
       "    .dataframe tbody tr th {\n",
       "        vertical-align: top;\n",
       "    }\n",
       "\n",
       "    .dataframe thead th {\n",
       "        text-align: right;\n",
       "    }\n",
       "</style>\n",
       "<table border=\"1\" class=\"dataframe\">\n",
       "  <thead>\n",
       "    <tr style=\"text-align: right;\">\n",
       "      <th></th>\n",
       "      <th>title</th>\n",
       "      <th>authors</th>\n",
       "      <th>rating</th>\n",
       "      <th>lang</th>\n",
       "      <th>pages</th>\n",
       "      <th>ratings_count</th>\n",
       "      <th>reviews</th>\n",
       "      <th>publisher</th>\n",
       "      <th>publication_year</th>\n",
       "    </tr>\n",
       "  </thead>\n",
       "  <tbody>\n",
       "    <tr>\n",
       "      <th>0</th>\n",
       "      <td>Harry Potter and the Half-Blood Prince (Harry ...</td>\n",
       "      <td>J.K. Rowling/Mary GrandPré</td>\n",
       "      <td>4.57</td>\n",
       "      <td>eng</td>\n",
       "      <td>652</td>\n",
       "      <td>2095690</td>\n",
       "      <td>27591</td>\n",
       "      <td>Scholastic Inc.</td>\n",
       "      <td>2006</td>\n",
       "    </tr>\n",
       "    <tr>\n",
       "      <th>1</th>\n",
       "      <td>Harry Potter and the Order of the Phoenix (Har...</td>\n",
       "      <td>J.K. Rowling/Mary GrandPré</td>\n",
       "      <td>4.49</td>\n",
       "      <td>eng</td>\n",
       "      <td>870</td>\n",
       "      <td>2153167</td>\n",
       "      <td>29221</td>\n",
       "      <td>Scholastic Inc.</td>\n",
       "      <td>2004</td>\n",
       "    </tr>\n",
       "    <tr>\n",
       "      <th>2</th>\n",
       "      <td>Harry Potter and the Chamber of Secrets (Harry...</td>\n",
       "      <td>J.K. Rowling</td>\n",
       "      <td>4.42</td>\n",
       "      <td>eng</td>\n",
       "      <td>352</td>\n",
       "      <td>6333</td>\n",
       "      <td>244</td>\n",
       "      <td>Scholastic</td>\n",
       "      <td>2003</td>\n",
       "    </tr>\n",
       "    <tr>\n",
       "      <th>3</th>\n",
       "      <td>Harry Potter and the Prisoner of Azkaban (Harr...</td>\n",
       "      <td>J.K. Rowling/Mary GrandPré</td>\n",
       "      <td>4.56</td>\n",
       "      <td>eng</td>\n",
       "      <td>435</td>\n",
       "      <td>2339585</td>\n",
       "      <td>36325</td>\n",
       "      <td>Scholastic Inc.</td>\n",
       "      <td>2004</td>\n",
       "    </tr>\n",
       "    <tr>\n",
       "      <th>4</th>\n",
       "      <td>Harry Potter Boxed Set  Books 1-5 (Harry Potte...</td>\n",
       "      <td>J.K. Rowling/Mary GrandPré</td>\n",
       "      <td>4.78</td>\n",
       "      <td>eng</td>\n",
       "      <td>2690</td>\n",
       "      <td>41428</td>\n",
       "      <td>164</td>\n",
       "      <td>Scholastic</td>\n",
       "      <td>2004</td>\n",
       "    </tr>\n",
       "  </tbody>\n",
       "</table>\n",
       "</div>"
      ],
      "text/plain": [
       "                                               title  \\\n",
       "0  Harry Potter and the Half-Blood Prince (Harry ...   \n",
       "1  Harry Potter and the Order of the Phoenix (Har...   \n",
       "2  Harry Potter and the Chamber of Secrets (Harry...   \n",
       "3  Harry Potter and the Prisoner of Azkaban (Harr...   \n",
       "4  Harry Potter Boxed Set  Books 1-5 (Harry Potte...   \n",
       "\n",
       "                      authors  rating lang  pages  ratings_count  reviews  \\\n",
       "0  J.K. Rowling/Mary GrandPré    4.57  eng    652        2095690    27591   \n",
       "1  J.K. Rowling/Mary GrandPré    4.49  eng    870        2153167    29221   \n",
       "2                J.K. Rowling    4.42  eng    352           6333      244   \n",
       "3  J.K. Rowling/Mary GrandPré    4.56  eng    435        2339585    36325   \n",
       "4  J.K. Rowling/Mary GrandPré    4.78  eng   2690          41428      164   \n",
       "\n",
       "         publisher publication_year  \n",
       "0  Scholastic Inc.             2006  \n",
       "1  Scholastic Inc.             2004  \n",
       "2       Scholastic             2003  \n",
       "3  Scholastic Inc.             2004  \n",
       "4       Scholastic             2004  "
      ]
     },
     "execution_count": 22,
     "metadata": {},
     "output_type": "execute_result"
    }
   ],
   "source": [
    "books.head()"
   ]
  },
  {
   "cell_type": "markdown",
   "metadata": {},
   "source": [
    "<b>Nominal variables:</b> title, authors,publisher<br>\n",
    "<b>Categorical variables: </b>lang , publication _year<br>\n",
    "<b>Quantitative variable:</b> pages,ratings_count,reviews<br>\n",
    "<b>Qualitative Variable:</b> rating<br>\n"
   ]
  },
  {
   "cell_type": "markdown",
   "metadata": {},
   "source": [
    "### Data Cleaning \n",
    "in this step I will examine the data for duplicates and empty / NAN fields."
   ]
  },
  {
   "cell_type": "code",
   "execution_count": 13,
   "metadata": {},
   "outputs": [
    {
     "name": "stdout",
     "output_type": "stream",
     "text": [
      "<class 'pandas.core.frame.DataFrame'>\n",
      "RangeIndex: 11123 entries, 0 to 11122\n",
      "Data columns (total 9 columns):\n",
      " #   Column            Non-Null Count  Dtype  \n",
      "---  ------            --------------  -----  \n",
      " 0   title             11123 non-null  object \n",
      " 1   authors           11123 non-null  object \n",
      " 2   rating            11123 non-null  float64\n",
      " 3   lang              11123 non-null  object \n",
      " 4   pages             11123 non-null  int64  \n",
      " 5   ratings_count     11123 non-null  int64  \n",
      " 6   reviews           11123 non-null  int64  \n",
      " 7   publisher         11123 non-null  object \n",
      " 8   publication_year  11123 non-null  int64  \n",
      "dtypes: float64(1), int64(4), object(4)\n",
      "memory usage: 782.2+ KB\n"
     ]
    }
   ],
   "source": [
    "books.info()"
   ]
  },
  {
   "cell_type": "markdown",
   "metadata": {},
   "source": [
    "we still have some missing data in columns (director , genres)"
   ]
  },
  {
   "cell_type": "code",
   "execution_count": 14,
   "metadata": {},
   "outputs": [
    {
     "data": {
      "text/plain": [
       "title               0\n",
       "authors             0\n",
       "rating              0\n",
       "lang                0\n",
       "pages               0\n",
       "ratings_count       0\n",
       "reviews             0\n",
       "publisher           0\n",
       "publication_year    0\n",
       "dtype: int64"
      ]
     },
     "execution_count": 14,
     "metadata": {},
     "output_type": "execute_result"
    }
   ],
   "source": [
    "#checking for null values\n",
    "books.isna().sum()"
   ]
  },
  {
   "cell_type": "code",
   "execution_count": 17,
   "metadata": {},
   "outputs": [
    {
     "data": {
      "text/plain": [
       "0"
      ]
     },
     "execution_count": 17,
     "metadata": {},
     "output_type": "execute_result"
    }
   ],
   "source": [
    "# checking for duplicates\n",
    "books.duplicated().sum()"
   ]
  },
  {
   "cell_type": "markdown",
   "metadata": {},
   "source": [
    "## Observation"
   ]
  },
  {
   "cell_type": "markdown",
   "metadata": {},
   "source": [
    "The data has no null or missing values and has no duplicated rows."
   ]
  },
  {
   "cell_type": "markdown",
   "metadata": {},
   "source": [
    "### Final Dataset after cleaning"
   ]
  },
  {
   "cell_type": "code",
   "execution_count": 19,
   "metadata": {},
   "outputs": [
    {
     "data": {
      "text/plain": [
       "(11123, 9)"
      ]
     },
     "execution_count": 19,
     "metadata": {},
     "output_type": "execute_result"
    }
   ],
   "source": [
    "books.shape"
   ]
  },
  {
   "cell_type": "markdown",
   "metadata": {},
   "source": [
    "### Summary statistics"
   ]
  },
  {
   "cell_type": "code",
   "execution_count": 20,
   "metadata": {},
   "outputs": [
    {
     "data": {
      "text/html": [
       "<div>\n",
       "<style scoped>\n",
       "    .dataframe tbody tr th:only-of-type {\n",
       "        vertical-align: middle;\n",
       "    }\n",
       "\n",
       "    .dataframe tbody tr th {\n",
       "        vertical-align: top;\n",
       "    }\n",
       "\n",
       "    .dataframe thead th {\n",
       "        text-align: right;\n",
       "    }\n",
       "</style>\n",
       "<table border=\"1\" class=\"dataframe\">\n",
       "  <thead>\n",
       "    <tr style=\"text-align: right;\">\n",
       "      <th></th>\n",
       "      <th>rating</th>\n",
       "      <th>pages</th>\n",
       "      <th>ratings_count</th>\n",
       "      <th>reviews</th>\n",
       "      <th>publication_year</th>\n",
       "    </tr>\n",
       "  </thead>\n",
       "  <tbody>\n",
       "    <tr>\n",
       "      <th>count</th>\n",
       "      <td>11123.000000</td>\n",
       "      <td>11123.000000</td>\n",
       "      <td>1.112300e+04</td>\n",
       "      <td>11123.000000</td>\n",
       "      <td>11123.000000</td>\n",
       "    </tr>\n",
       "    <tr>\n",
       "      <th>mean</th>\n",
       "      <td>3.934075</td>\n",
       "      <td>336.405556</td>\n",
       "      <td>1.794285e+04</td>\n",
       "      <td>542.048099</td>\n",
       "      <td>2000.169019</td>\n",
       "    </tr>\n",
       "    <tr>\n",
       "      <th>std</th>\n",
       "      <td>0.350485</td>\n",
       "      <td>241.152626</td>\n",
       "      <td>1.124992e+05</td>\n",
       "      <td>2576.619589</td>\n",
       "      <td>8.247227</td>\n",
       "    </tr>\n",
       "    <tr>\n",
       "      <th>min</th>\n",
       "      <td>0.000000</td>\n",
       "      <td>0.000000</td>\n",
       "      <td>0.000000e+00</td>\n",
       "      <td>0.000000</td>\n",
       "      <td>1900.000000</td>\n",
       "    </tr>\n",
       "    <tr>\n",
       "      <th>25%</th>\n",
       "      <td>3.770000</td>\n",
       "      <td>192.000000</td>\n",
       "      <td>1.040000e+02</td>\n",
       "      <td>9.000000</td>\n",
       "      <td>1998.000000</td>\n",
       "    </tr>\n",
       "    <tr>\n",
       "      <th>50%</th>\n",
       "      <td>3.960000</td>\n",
       "      <td>299.000000</td>\n",
       "      <td>7.450000e+02</td>\n",
       "      <td>47.000000</td>\n",
       "      <td>2003.000000</td>\n",
       "    </tr>\n",
       "    <tr>\n",
       "      <th>75%</th>\n",
       "      <td>4.140000</td>\n",
       "      <td>416.000000</td>\n",
       "      <td>5.000500e+03</td>\n",
       "      <td>238.000000</td>\n",
       "      <td>2005.000000</td>\n",
       "    </tr>\n",
       "    <tr>\n",
       "      <th>max</th>\n",
       "      <td>5.000000</td>\n",
       "      <td>6576.000000</td>\n",
       "      <td>4.597666e+06</td>\n",
       "      <td>94265.000000</td>\n",
       "      <td>2020.000000</td>\n",
       "    </tr>\n",
       "  </tbody>\n",
       "</table>\n",
       "</div>"
      ],
      "text/plain": [
       "             rating         pages  ratings_count       reviews  \\\n",
       "count  11123.000000  11123.000000   1.112300e+04  11123.000000   \n",
       "mean       3.934075    336.405556   1.794285e+04    542.048099   \n",
       "std        0.350485    241.152626   1.124992e+05   2576.619589   \n",
       "min        0.000000      0.000000   0.000000e+00      0.000000   \n",
       "25%        3.770000    192.000000   1.040000e+02      9.000000   \n",
       "50%        3.960000    299.000000   7.450000e+02     47.000000   \n",
       "75%        4.140000    416.000000   5.000500e+03    238.000000   \n",
       "max        5.000000   6576.000000   4.597666e+06  94265.000000   \n",
       "\n",
       "       publication_year  \n",
       "count      11123.000000  \n",
       "mean        2000.169019  \n",
       "std            8.247227  \n",
       "min         1900.000000  \n",
       "25%         1998.000000  \n",
       "50%         2003.000000  \n",
       "75%         2005.000000  \n",
       "max         2020.000000  "
      ]
     },
     "execution_count": 20,
     "metadata": {},
     "output_type": "execute_result"
    }
   ],
   "source": [
    "books.describe()"
   ]
  },
  {
   "cell_type": "markdown",
   "metadata": {},
   "source": [
    "<a id='eda'></a>\n",
    "## Exploratory Data Analysis\n",
    "\n",
    "In this section I'm trying to answer the following questions:\n",
    "<ol>\n",
    "<li>Calcualte and visualize the books/language ratio</li>\n",
    "<li>which year has the <b>max/min production</b> of books</li>\n",
    "<li>which book has the <b>max/min ratings </b></li>\n",
    "<li>which books has the<b> max/min reviews </b> of all times</li>\n",
    "<li>which authors has the <b>max/min reviews</b></li>\n",
    "<li>which authors has the <b>max/min ratings</b> </li>\n",
    "</ol>\n",
    "\n"
   ]
  },
  {
   "cell_type": "code",
   "execution_count": 42,
   "metadata": {},
   "outputs": [
    {
     "data": {
      "text/plain": [
       "lang\n",
       "False      586\n",
       "True     10537\n",
       "Name: title, dtype: int64"
      ]
     },
     "execution_count": 42,
     "metadata": {},
     "output_type": "execute_result"
    }
   ],
   "source": [
    "eng_books=books.isin(['en-CA','en-GB','en-US','eng']).groupby('lang').count()['title']\n",
    "eng_books"
   ]
  },
  {
   "cell_type": "code",
   "execution_count": 86,
   "metadata": {},
   "outputs": [
    {
     "name": "stderr",
     "output_type": "stream",
     "text": [
      "C:\\Users\\shaimaa\\miniconda3\\envs\\myenv\\lib\\site-packages\\seaborn\\_decorators.py:36: FutureWarning: Pass the following variables as keyword args: x, y. From version 0.12, the only valid positional argument will be `data`, and passing other arguments without an explicit keyword will result in an error or misinterpretation.\n",
      "  warnings.warn(\n"
     ]
    },
    {
     "data": {
      "image/png": "[encoded data removed]",
      "text/plain": [
       "<Figure size 432x288 with 1 Axes>"
      ]
     },
     "metadata": {
      "needs_background": "light"
     },
     "output_type": "display_data"
    }
   ],
   "source": [
    "sb.barplot(['non-English','English'],eng_books.to_numpy())\n",
    " \n",
    "for i in range (eng_books.shape[0]):\n",
    "    count = eng_books[i]\n",
    "\n",
    "    # Refer here for details of the text() - https://matplotlib.org/3.1.1/api/_as_gen/matplotlib.pyplot.text.html\n",
    "    plt.text( x=i, y=count+500, s=count, ha = 'center', va='top')\n",
    "    "
   ]
  },
  {
   "cell_type": "code",
   "execution_count": 80,
   "metadata": {},
   "outputs": [
    {
     "data": {
      "image/png": "[encoded data removed]",
      "text/plain": [
       "<Figure size 432x288 with 1 Axes>"
      ]
     },
     "metadata": {
      "needs_background": "light"
     },
     "output_type": "display_data"
    }
   ],
   "source": [
    "plt.bar(['non-English','English'],eng_books.to_numpy())\n",
    "# Labeling the axes\n",
    "plt.xlabel('generation_id')\n",
    "plt.ylabel('count')\n",
    "\n",
    "# Dsiplay the plot\n",
    "plt.show()"
   ]
  },
  {
   "cell_type": "code",
   "execution_count": 73,
   "metadata": {},
   "outputs": [
    {
     "data": {
      "image/png": "[encoded data removed]",
      "text/plain": [
       "<Figure size 432x288 with 1 Axes>"
      ]
     },
     "metadata": {},
     "output_type": "display_data"
    }
   ],
   "source": [
    "plt.pie(eng_books, labels = ['non-English','English'], startangle = 90, counterclock = False,wedgeprops = {'width' : 0.5});\n",
    "plt.axis('square');"
   ]
  },
  {
   "cell_type": "markdown",
   "metadata": {},
   "source": [
    "### 1. Books production during last 20 years"
   ]
  },
  {
   "cell_type": "code",
   "execution_count": 111,
   "metadata": {},
   "outputs": [
    {
     "data": {
      "text/html": [
       "<div>\n",
       "<style scoped>\n",
       "    .dataframe tbody tr th:only-of-type {\n",
       "        vertical-align: middle;\n",
       "    }\n",
       "\n",
       "    .dataframe tbody tr th {\n",
       "        vertical-align: top;\n",
       "    }\n",
       "\n",
       "    .dataframe thead th {\n",
       "        text-align: right;\n",
       "    }\n",
       "</style>\n",
       "<table border=\"1\" class=\"dataframe\">\n",
       "  <thead>\n",
       "    <tr style=\"text-align: right;\">\n",
       "      <th></th>\n",
       "      <th>publication_year</th>\n",
       "      <th>title</th>\n",
       "    </tr>\n",
       "  </thead>\n",
       "  <tbody>\n",
       "    <tr>\n",
       "      <th>0</th>\n",
       "      <td>2001</td>\n",
       "      <td>656</td>\n",
       "    </tr>\n",
       "    <tr>\n",
       "      <th>1</th>\n",
       "      <td>2002</td>\n",
       "      <td>798</td>\n",
       "    </tr>\n",
       "    <tr>\n",
       "      <th>2</th>\n",
       "      <td>2003</td>\n",
       "      <td>931</td>\n",
       "    </tr>\n",
       "    <tr>\n",
       "      <th>3</th>\n",
       "      <td>2004</td>\n",
       "      <td>1069</td>\n",
       "    </tr>\n",
       "    <tr>\n",
       "      <th>4</th>\n",
       "      <td>2005</td>\n",
       "      <td>1260</td>\n",
       "    </tr>\n",
       "    <tr>\n",
       "      <th>5</th>\n",
       "      <td>2006</td>\n",
       "      <td>1700</td>\n",
       "    </tr>\n",
       "    <tr>\n",
       "      <th>6</th>\n",
       "      <td>2007</td>\n",
       "      <td>518</td>\n",
       "    </tr>\n",
       "    <tr>\n",
       "      <th>7</th>\n",
       "      <td>2008</td>\n",
       "      <td>49</td>\n",
       "    </tr>\n",
       "    <tr>\n",
       "      <th>8</th>\n",
       "      <td>2009</td>\n",
       "      <td>42</td>\n",
       "    </tr>\n",
       "    <tr>\n",
       "      <th>9</th>\n",
       "      <td>2010</td>\n",
       "      <td>37</td>\n",
       "    </tr>\n",
       "    <tr>\n",
       "      <th>10</th>\n",
       "      <td>2011</td>\n",
       "      <td>24</td>\n",
       "    </tr>\n",
       "    <tr>\n",
       "      <th>11</th>\n",
       "      <td>2012</td>\n",
       "      <td>21</td>\n",
       "    </tr>\n",
       "    <tr>\n",
       "      <th>12</th>\n",
       "      <td>2013</td>\n",
       "      <td>15</td>\n",
       "    </tr>\n",
       "    <tr>\n",
       "      <th>13</th>\n",
       "      <td>2014</td>\n",
       "      <td>9</td>\n",
       "    </tr>\n",
       "    <tr>\n",
       "      <th>14</th>\n",
       "      <td>2015</td>\n",
       "      <td>10</td>\n",
       "    </tr>\n",
       "    <tr>\n",
       "      <th>15</th>\n",
       "      <td>2016</td>\n",
       "      <td>6</td>\n",
       "    </tr>\n",
       "    <tr>\n",
       "      <th>16</th>\n",
       "      <td>2017</td>\n",
       "      <td>7</td>\n",
       "    </tr>\n",
       "    <tr>\n",
       "      <th>17</th>\n",
       "      <td>2018</td>\n",
       "      <td>5</td>\n",
       "    </tr>\n",
       "    <tr>\n",
       "      <th>18</th>\n",
       "      <td>2019</td>\n",
       "      <td>6</td>\n",
       "    </tr>\n",
       "    <tr>\n",
       "      <th>19</th>\n",
       "      <td>2020</td>\n",
       "      <td>1</td>\n",
       "    </tr>\n",
       "  </tbody>\n",
       "</table>\n",
       "</div>"
      ],
      "text/plain": [
       "   publication_year  title\n",
       "0              2001    656\n",
       "1              2002    798\n",
       "2              2003    931\n",
       "3              2004   1069\n",
       "4              2005   1260\n",
       "5              2006   1700\n",
       "6              2007    518\n",
       "7              2008     49\n",
       "8              2009     42\n",
       "9              2010     37\n",
       "10             2011     24\n",
       "11             2012     21\n",
       "12             2013     15\n",
       "13             2014      9\n",
       "14             2015     10\n",
       "15             2016      6\n",
       "16             2017      7\n",
       "17             2018      5\n",
       "18             2019      6\n",
       "19             2020      1"
      ]
     },
     "execution_count": 111,
     "metadata": {},
     "output_type": "execute_result"
    }
   ],
   "source": [
    "# Group data by year\n",
    "yearly_prod=books.groupby('publication_year').count()['title'].tail(20)\n",
    "years=yearly_prod.reset_index()\n",
    "years"
   ]
  },
  {
   "cell_type": "code",
   "execution_count": 113,
   "metadata": {},
   "outputs": [
    {
     "data": {
      "text/plain": [
       "<BarContainer object of 20 artists>"
      ]
     },
     "execution_count": 113,
     "metadata": {},
     "output_type": "execute_result"
    },
    {
     "data": {
      "image/png": "[encoded data removed]",
      "text/plain": [
       "<Figure size 432x288 with 1 Axes>"
      ]
     },
     "metadata": {
      "needs_background": "light"
     },
     "output_type": "display_data"
    }
   ],
   "source": [
    "plt.bar(years.publication_year.to_numpy(),years.title)"
   ]
  },
  {
   "cell_type": "code",
   "execution_count": 114,
   "metadata": {},
   "outputs": [
    {
     "name": "stdout",
     "output_type": "stream",
     "text": [
      "Average production in the last 10 years:  title    358.2\n",
      "dtype: float64\n",
      "Max production :  title    1700\n",
      "dtype: int64\n",
      "Min production :  title    1\n",
      "dtype: int64\n"
     ]
    }
   ],
   "source": [
    "print('Average production in the last 10 years: ',years.mean())\n",
    "print('Max production : ',years.max())\n",
    "print('Min production : ',years.min())\n"
   ]
  },
  {
   "cell_type": "code",
   "execution_count": 183,
   "metadata": {},
   "outputs": [
    {
     "data": {
      "text/plain": [
       "(array([1.1052e+04, 3.8000e+01, 1.3000e+01, 8.0000e+00, 7.0000e+00,\n",
       "        4.0000e+00, 0.0000e+00, 0.0000e+00, 0.0000e+00, 1.0000e+00]),\n",
       " array([      0. ,  459766.6,  919533.2, 1379299.8, 1839066.4, 2298833. ,\n",
       "        2758599.6, 3218366.2, 3678132.8, 4137899.4, 4597666. ]),\n",
       " <BarContainer object of 10 artists>)"
      ]
     },
     "execution_count": 183,
     "metadata": {},
     "output_type": "execute_result"
    },
    {
     "data": {
      "image/png": "[encoded data removed]",
      "text/plain": [
       "<Figure size 432x288 with 1 Axes>"
      ]
     },
     "metadata": {
      "needs_background": "light"
     },
     "output_type": "display_data"
    }
   ],
   "source": []
  },
  {
   "cell_type": "markdown",
   "metadata": {},
   "source": [
    "### 2. Top 20 rated books on Goodreads"
   ]
  },
  {
   "cell_type": "code",
   "execution_count": 216,
   "metadata": {},
   "outputs": [
    {
     "data": {
      "text/html": [
       "<div>\n",
       "<style scoped>\n",
       "    .dataframe tbody tr th:only-of-type {\n",
       "        vertical-align: middle;\n",
       "    }\n",
       "\n",
       "    .dataframe tbody tr th {\n",
       "        vertical-align: top;\n",
       "    }\n",
       "\n",
       "    .dataframe thead th {\n",
       "        text-align: right;\n",
       "    }\n",
       "</style>\n",
       "<table border=\"1\" class=\"dataframe\">\n",
       "  <thead>\n",
       "    <tr style=\"text-align: right;\">\n",
       "      <th></th>\n",
       "      <th>authors</th>\n",
       "      <th>rating</th>\n",
       "      <th>lang</th>\n",
       "      <th>pages</th>\n",
       "      <th>ratings_count</th>\n",
       "      <th>reviews</th>\n",
       "      <th>publisher</th>\n",
       "      <th>publication_year</th>\n",
       "    </tr>\n",
       "    <tr>\n",
       "      <th>title</th>\n",
       "      <th></th>\n",
       "      <th></th>\n",
       "      <th></th>\n",
       "      <th></th>\n",
       "      <th></th>\n",
       "      <th></th>\n",
       "      <th></th>\n",
       "      <th></th>\n",
       "    </tr>\n",
       "  </thead>\n",
       "  <tbody>\n",
       "    <tr>\n",
       "      <th>Harry Potter and the Prisoner of Azkaban (Harry Potter  #3)</th>\n",
       "      <td>J.K. Rowling/Mary GrandPré</td>\n",
       "      <td>4.56</td>\n",
       "      <td>eng</td>\n",
       "      <td>435</td>\n",
       "      <td>2339585</td>\n",
       "      <td>36325</td>\n",
       "      <td>Scholastic Inc.</td>\n",
       "      <td>2004</td>\n",
       "    </tr>\n",
       "    <tr>\n",
       "      <th>Harry Potter and the Half-Blood Prince (Harry Potter  #6)</th>\n",
       "      <td>J.K. Rowling/Mary GrandPré</td>\n",
       "      <td>4.57</td>\n",
       "      <td>eng</td>\n",
       "      <td>652</td>\n",
       "      <td>2095690</td>\n",
       "      <td>27591</td>\n",
       "      <td>Scholastic Inc.</td>\n",
       "      <td>2006</td>\n",
       "    </tr>\n",
       "    <tr>\n",
       "      <th>The Complete Maus</th>\n",
       "      <td>Art Spiegelman</td>\n",
       "      <td>4.55</td>\n",
       "      <td>eng</td>\n",
       "      <td>296</td>\n",
       "      <td>111475</td>\n",
       "      <td>5966</td>\n",
       "      <td>Penguin Books</td>\n",
       "      <td>2003</td>\n",
       "    </tr>\n",
       "    <tr>\n",
       "      <th>J.R.R. Tolkien 4-Book Boxed Set: The Hobbit and The Lord of the Rings</th>\n",
       "      <td>J.R.R. Tolkien</td>\n",
       "      <td>4.59</td>\n",
       "      <td>eng</td>\n",
       "      <td>1728</td>\n",
       "      <td>101233</td>\n",
       "      <td>1550</td>\n",
       "      <td>Ballantine Books</td>\n",
       "      <td>2012</td>\n",
       "    </tr>\n",
       "    <tr>\n",
       "      <th>Season of Mists (The Sandman  #4)</th>\n",
       "      <td>Neil Gaiman/Matt Wagner/George Pratt/Dick Gior...</td>\n",
       "      <td>4.54</td>\n",
       "      <td>eng</td>\n",
       "      <td>217</td>\n",
       "      <td>50951</td>\n",
       "      <td>1038</td>\n",
       "      <td>Vertigo</td>\n",
       "      <td>1999</td>\n",
       "    </tr>\n",
       "    <tr>\n",
       "      <th>The Calvin and Hobbes Tenth Anniversary Book</th>\n",
       "      <td>Bill Watterson</td>\n",
       "      <td>4.63</td>\n",
       "      <td>eng</td>\n",
       "      <td>208</td>\n",
       "      <td>49122</td>\n",
       "      <td>368</td>\n",
       "      <td>Andrews McMeel Publishing</td>\n",
       "      <td>1995</td>\n",
       "    </tr>\n",
       "    <tr>\n",
       "      <th>Harry Potter Boxed Set  Books 1-5 (Harry Potter  #1-5)</th>\n",
       "      <td>J.K. Rowling/Mary GrandPré</td>\n",
       "      <td>4.78</td>\n",
       "      <td>eng</td>\n",
       "      <td>2690</td>\n",
       "      <td>41428</td>\n",
       "      <td>164</td>\n",
       "      <td>Scholastic</td>\n",
       "      <td>2004</td>\n",
       "    </tr>\n",
       "    <tr>\n",
       "      <th>The Wake (The Sandman  #10)</th>\n",
       "      <td>Neil Gaiman/Michael Zulli/Jon J. Muth/Charles ...</td>\n",
       "      <td>4.52</td>\n",
       "      <td>eng</td>\n",
       "      <td>191</td>\n",
       "      <td>37038</td>\n",
       "      <td>767</td>\n",
       "      <td>Vertigo</td>\n",
       "      <td>1999</td>\n",
       "    </tr>\n",
       "    <tr>\n",
       "      <th>The Complete Calvin and Hobbes</th>\n",
       "      <td>Bill Watterson</td>\n",
       "      <td>4.82</td>\n",
       "      <td>eng</td>\n",
       "      <td>1456</td>\n",
       "      <td>32213</td>\n",
       "      <td>930</td>\n",
       "      <td>Andrews McMeel Publishing</td>\n",
       "      <td>2005</td>\n",
       "    </tr>\n",
       "    <tr>\n",
       "      <th>Harry Potter Collection (Harry Potter  #1-6)</th>\n",
       "      <td>J.K. Rowling</td>\n",
       "      <td>4.73</td>\n",
       "      <td>eng</td>\n",
       "      <td>3342</td>\n",
       "      <td>28242</td>\n",
       "      <td>808</td>\n",
       "      <td>Scholastic</td>\n",
       "      <td>2005</td>\n",
       "    </tr>\n",
       "    <tr>\n",
       "      <th>The Lord of the Rings: The Art of the Fellowship of the Ring</th>\n",
       "      <td>Gary Russell</td>\n",
       "      <td>4.59</td>\n",
       "      <td>eng</td>\n",
       "      <td>192</td>\n",
       "      <td>26153</td>\n",
       "      <td>102</td>\n",
       "      <td>Houghton Mifflin Harcourt</td>\n",
       "      <td>2002</td>\n",
       "    </tr>\n",
       "    <tr>\n",
       "      <th>It's a Magical World (Calvin and Hobbes  #11)</th>\n",
       "      <td>Bill Watterson</td>\n",
       "      <td>4.76</td>\n",
       "      <td>eng</td>\n",
       "      <td>176</td>\n",
       "      <td>23875</td>\n",
       "      <td>303</td>\n",
       "      <td>Andrews McMeel Publishing</td>\n",
       "      <td>1996</td>\n",
       "    </tr>\n",
       "    <tr>\n",
       "      <th>The Complete Novels</th>\n",
       "      <td>Jane Austen</td>\n",
       "      <td>4.55</td>\n",
       "      <td>eng</td>\n",
       "      <td>1344</td>\n",
       "      <td>21633</td>\n",
       "      <td>351</td>\n",
       "      <td>Penguin</td>\n",
       "      <td>1996</td>\n",
       "    </tr>\n",
       "    <tr>\n",
       "      <th>The Days Are Just Packed</th>\n",
       "      <td>Bill Watterson</td>\n",
       "      <td>4.69</td>\n",
       "      <td>eng</td>\n",
       "      <td>176</td>\n",
       "      <td>20308</td>\n",
       "      <td>244</td>\n",
       "      <td>Andrews McMeel Publishing</td>\n",
       "      <td>1993</td>\n",
       "    </tr>\n",
       "    <tr>\n",
       "      <th>The Lord of the Rings: Weapons and Warfare</th>\n",
       "      <td>Chris   Smith/Christopher  Lee/Richard Taylor</td>\n",
       "      <td>4.53</td>\n",
       "      <td>eng</td>\n",
       "      <td>218</td>\n",
       "      <td>19822</td>\n",
       "      <td>46</td>\n",
       "      <td>Houghton Mifflin Harcourt</td>\n",
       "      <td>2003</td>\n",
       "    </tr>\n",
       "    <tr>\n",
       "      <th>Collected Fictions</th>\n",
       "      <td>Jorge Luis Borges/Andrew Hurley</td>\n",
       "      <td>4.58</td>\n",
       "      <td>eng</td>\n",
       "      <td>565</td>\n",
       "      <td>18874</td>\n",
       "      <td>791</td>\n",
       "      <td>Penguin Classics Deluxe Edition</td>\n",
       "      <td>1999</td>\n",
       "    </tr>\n",
       "    <tr>\n",
       "      <th>Harry Potter and the Goblet of Fire (Harry Potter  #4)</th>\n",
       "      <td>J.K. Rowling</td>\n",
       "      <td>4.56</td>\n",
       "      <td>eng</td>\n",
       "      <td>636</td>\n",
       "      <td>18754</td>\n",
       "      <td>906</td>\n",
       "      <td>Bloomsbury</td>\n",
       "      <td>2000</td>\n",
       "    </tr>\n",
       "    <tr>\n",
       "      <th>Fullmetal Alchemist  Vol. 3 (Fullmetal Alchemist  #3)</th>\n",
       "      <td>Hiromu Arakawa/Akira Watanabe</td>\n",
       "      <td>4.56</td>\n",
       "      <td>eng</td>\n",
       "      <td>192</td>\n",
       "      <td>16666</td>\n",
       "      <td>299</td>\n",
       "      <td>VIZ Media LLC</td>\n",
       "      <td>2005</td>\n",
       "    </tr>\n",
       "    <tr>\n",
       "      <th>The Absolute Sandman  Volume One</th>\n",
       "      <td>Neil Gaiman/Mike Dringenberg/Chris Bachalo/Mic...</td>\n",
       "      <td>4.65</td>\n",
       "      <td>eng</td>\n",
       "      <td>612</td>\n",
       "      <td>15640</td>\n",
       "      <td>512</td>\n",
       "      <td>Vertigo</td>\n",
       "      <td>2006</td>\n",
       "    </tr>\n",
       "    <tr>\n",
       "      <th>Homicidal Psycho Jungle Cat (Calvin and Hobbes #9)</th>\n",
       "      <td>Bill Watterson</td>\n",
       "      <td>4.72</td>\n",
       "      <td>eng</td>\n",
       "      <td>176</td>\n",
       "      <td>15365</td>\n",
       "      <td>290</td>\n",
       "      <td>Andrews McMeel Publishing</td>\n",
       "      <td>1994</td>\n",
       "    </tr>\n",
       "  </tbody>\n",
       "</table>\n",
       "</div>"
      ],
      "text/plain": [
       "                                                                                              authors  \\\n",
       "title                                                                                                   \n",
       "Harry Potter and the Prisoner of Azkaban (Harry...                         J.K. Rowling/Mary GrandPré   \n",
       "Harry Potter and the Half-Blood Prince (Harry P...                         J.K. Rowling/Mary GrandPré   \n",
       "The Complete Maus                                                                      Art Spiegelman   \n",
       "J.R.R. Tolkien 4-Book Boxed Set: The Hobbit and...                                     J.R.R. Tolkien   \n",
       "Season of Mists (The Sandman  #4)                   Neil Gaiman/Matt Wagner/George Pratt/Dick Gior...   \n",
       "The Calvin and Hobbes Tenth Anniversary Book                                           Bill Watterson   \n",
       "Harry Potter Boxed Set  Books 1-5 (Harry Potter...                         J.K. Rowling/Mary GrandPré   \n",
       "The Wake (The Sandman  #10)                         Neil Gaiman/Michael Zulli/Jon J. Muth/Charles ...   \n",
       "The Complete Calvin and Hobbes                                                         Bill Watterson   \n",
       "Harry Potter Collection (Harry Potter  #1-6)                                             J.K. Rowling   \n",
       "The Lord of the Rings: The Art of the Fellowshi...                                       Gary Russell   \n",
       "It's a Magical World (Calvin and Hobbes  #11)                                          Bill Watterson   \n",
       "The Complete Novels                                                                       Jane Austen   \n",
       "The Days Are Just Packed                                                               Bill Watterson   \n",
       "The Lord of the Rings: Weapons and Warfare              Chris   Smith/Christopher  Lee/Richard Taylor   \n",
       "Collected Fictions                                                    Jorge Luis Borges/Andrew Hurley   \n",
       "Harry Potter and the Goblet of Fire (Harry Pott...                                       J.K. Rowling   \n",
       "Fullmetal Alchemist  Vol. 3 (Fullmetal Alchemis...                      Hiromu Arakawa/Akira Watanabe   \n",
       "The Absolute Sandman  Volume One                    Neil Gaiman/Mike Dringenberg/Chris Bachalo/Mic...   \n",
       "Homicidal Psycho Jungle Cat (Calvin and Hobbes #9)                                     Bill Watterson   \n",
       "\n",
       "                                                    rating lang  pages  \\\n",
       "title                                                                    \n",
       "Harry Potter and the Prisoner of Azkaban (Harry...    4.56  eng    435   \n",
       "Harry Potter and the Half-Blood Prince (Harry P...    4.57  eng    652   \n",
       "The Complete Maus                                     4.55  eng    296   \n",
       "J.R.R. Tolkien 4-Book Boxed Set: The Hobbit and...    4.59  eng   1728   \n",
       "Season of Mists (The Sandman  #4)                     4.54  eng    217   \n",
       "The Calvin and Hobbes Tenth Anniversary Book          4.63  eng    208   \n",
       "Harry Potter Boxed Set  Books 1-5 (Harry Potter...    4.78  eng   2690   \n",
       "The Wake (The Sandman  #10)                           4.52  eng    191   \n",
       "The Complete Calvin and Hobbes                        4.82  eng   1456   \n",
       "Harry Potter Collection (Harry Potter  #1-6)          4.73  eng   3342   \n",
       "The Lord of the Rings: The Art of the Fellowshi...    4.59  eng    192   \n",
       "It's a Magical World (Calvin and Hobbes  #11)         4.76  eng    176   \n",
       "The Complete Novels                                   4.55  eng   1344   \n",
       "The Days Are Just Packed                              4.69  eng    176   \n",
       "The Lord of the Rings: Weapons and Warfare            4.53  eng    218   \n",
       "Collected Fictions                                    4.58  eng    565   \n",
       "Harry Potter and the Goblet of Fire (Harry Pott...    4.56  eng    636   \n",
       "Fullmetal Alchemist  Vol. 3 (Fullmetal Alchemis...    4.56  eng    192   \n",
       "The Absolute Sandman  Volume One                      4.65  eng    612   \n",
       "Homicidal Psycho Jungle Cat (Calvin and Hobbes #9)    4.72  eng    176   \n",
       "\n",
       "                                                    ratings_count  reviews  \\\n",
       "title                                                                        \n",
       "Harry Potter and the Prisoner of Azkaban (Harry...        2339585    36325   \n",
       "Harry Potter and the Half-Blood Prince (Harry P...        2095690    27591   \n",
       "The Complete Maus                                          111475     5966   \n",
       "J.R.R. Tolkien 4-Book Boxed Set: The Hobbit and...         101233     1550   \n",
       "Season of Mists (The Sandman  #4)                           50951     1038   \n",
       "The Calvin and Hobbes Tenth Anniversary Book                49122      368   \n",
       "Harry Potter Boxed Set  Books 1-5 (Harry Potter...          41428      164   \n",
       "The Wake (The Sandman  #10)                                 37038      767   \n",
       "The Complete Calvin and Hobbes                              32213      930   \n",
       "Harry Potter Collection (Harry Potter  #1-6)                28242      808   \n",
       "The Lord of the Rings: The Art of the Fellowshi...          26153      102   \n",
       "It's a Magical World (Calvin and Hobbes  #11)               23875      303   \n",
       "The Complete Novels                                         21633      351   \n",
       "The Days Are Just Packed                                    20308      244   \n",
       "The Lord of the Rings: Weapons and Warfare                  19822       46   \n",
       "Collected Fictions                                          18874      791   \n",
       "Harry Potter and the Goblet of Fire (Harry Pott...          18754      906   \n",
       "Fullmetal Alchemist  Vol. 3 (Fullmetal Alchemis...          16666      299   \n",
       "The Absolute Sandman  Volume One                            15640      512   \n",
       "Homicidal Psycho Jungle Cat (Calvin and Hobbes #9)          15365      290   \n",
       "\n",
       "                                                                          publisher  \\\n",
       "title                                                                                 \n",
       "Harry Potter and the Prisoner of Azkaban (Harry...                  Scholastic Inc.   \n",
       "Harry Potter and the Half-Blood Prince (Harry P...                  Scholastic Inc.   \n",
       "The Complete Maus                                                     Penguin Books   \n",
       "J.R.R. Tolkien 4-Book Boxed Set: The Hobbit and...                 Ballantine Books   \n",
       "Season of Mists (The Sandman  #4)                                           Vertigo   \n",
       "The Calvin and Hobbes Tenth Anniversary Book              Andrews McMeel Publishing   \n",
       "Harry Potter Boxed Set  Books 1-5 (Harry Potter...                       Scholastic   \n",
       "The Wake (The Sandman  #10)                                                 Vertigo   \n",
       "The Complete Calvin and Hobbes                            Andrews McMeel Publishing   \n",
       "Harry Potter Collection (Harry Potter  #1-6)                             Scholastic   \n",
       "The Lord of the Rings: The Art of the Fellowshi...        Houghton Mifflin Harcourt   \n",
       "It's a Magical World (Calvin and Hobbes  #11)             Andrews McMeel Publishing   \n",
       "The Complete Novels                                                         Penguin   \n",
       "The Days Are Just Packed                                  Andrews McMeel Publishing   \n",
       "The Lord of the Rings: Weapons and Warfare                Houghton Mifflin Harcourt   \n",
       "Collected Fictions                                  Penguin Classics Deluxe Edition   \n",
       "Harry Potter and the Goblet of Fire (Harry Pott...                       Bloomsbury   \n",
       "Fullmetal Alchemist  Vol. 3 (Fullmetal Alchemis...                    VIZ Media LLC   \n",
       "The Absolute Sandman  Volume One                                            Vertigo   \n",
       "Homicidal Psycho Jungle Cat (Calvin and Hobbes #9)        Andrews McMeel Publishing   \n",
       "\n",
       "                                                   publication_year  \n",
       "title                                                                \n",
       "Harry Potter and the Prisoner of Azkaban (Harry...             2004  \n",
       "Harry Potter and the Half-Blood Prince (Harry P...             2006  \n",
       "The Complete Maus                                              2003  \n",
       "J.R.R. Tolkien 4-Book Boxed Set: The Hobbit and...             2012  \n",
       "Season of Mists (The Sandman  #4)                              1999  \n",
       "The Calvin and Hobbes Tenth Anniversary Book                   1995  \n",
       "Harry Potter Boxed Set  Books 1-5 (Harry Potter...             2004  \n",
       "The Wake (The Sandman  #10)                                    1999  \n",
       "The Complete Calvin and Hobbes                                 2005  \n",
       "Harry Potter Collection (Harry Potter  #1-6)                   2005  \n",
       "The Lord of the Rings: The Art of the Fellowshi...             2002  \n",
       "It's a Magical World (Calvin and Hobbes  #11)                  1996  \n",
       "The Complete Novels                                            1996  \n",
       "The Days Are Just Packed                                       1993  \n",
       "The Lord of the Rings: Weapons and Warfare                     2003  \n",
       "Collected Fictions                                             1999  \n",
       "Harry Potter and the Goblet of Fire (Harry Pott...             2000  \n",
       "Fullmetal Alchemist  Vol. 3 (Fullmetal Alchemis...             2005  \n",
       "The Absolute Sandman  Volume One                               2006  \n",
       "Homicidal Psycho Jungle Cat (Calvin and Hobbes #9)             1994  "
      ]
     },
     "execution_count": 216,
     "metadata": {},
     "output_type": "execute_result"
    }
   ],
   "source": [
    "### sort dataset by ratings\n",
    "median=books.ratings_count.median()\n",
    "books_ratings=books[(books.rating>4.5) & (books.ratings_count>median)].sort_values(by=['ratings_count','rating'],ascending=False).head(20)\n",
    "books_ratings.set_index('title',drop=True,inplace=True)\n",
    "books_ratings\n"
   ]
  },
  {
   "cell_type": "markdown",
   "metadata": {},
   "source": [
    "### Top 20 Highest rating authors"
   ]
  },
  {
   "cell_type": "code",
   "execution_count": 217,
   "metadata": {},
   "outputs": [
    {
     "data": {
      "text/plain": [
       "Text(0.5, 1.0, 'Top 10 authors with most books')"
      ]
     },
     "execution_count": 217,
     "metadata": {},
     "output_type": "execute_result"
    },
    {
     "data": {
      "image/png": "[encoded data removed]",
      "text/plain": [
       "<Figure size 864x576 with 1 Axes>"
      ]
     },
     "metadata": {
      "needs_background": "light"
     },
     "output_type": "display_data"
    }
   ],
   "source": [
    "plt.subplots(figsize=(12,8))\n",
    "ax = books_ratings.groupby(\"authors\").count()['rating'].sort_values().plot.barh(width=0.9,color=sb.color_palette('gist_rainbow',12))\n",
    "ax.set_xlabel(\"Total books \", fontsize=15)\n",
    "ax.set_ylabel(\"Authors\", fontsize=15)\n",
    "ax.set_title(\"Top 20 authors with highest rated books\",fontsize=20,color='black')"
   ]
  },
  {
   "cell_type": "code",
   "execution_count": 218,
   "metadata": {},
   "outputs": [
    {
     "name": "stdout",
     "output_type": "stream",
     "text": [
      "\n",
      "Highest rated books\n",
      "                                                    title\n",
      "0      Harry Potter and the Half-Blood Prince (Harry ...\n",
      "3      Harry Potter and the Prisoner of Azkaban (Harr...\n",
      "4      Harry Potter Boxed Set  Books 1-5 (Harry Potte...\n",
      "6           Harry Potter Collection (Harry Potter  #1-6)\n",
      "21     J.R.R. Tolkien 4-Book Boxed Set: The Hobbit an...\n",
      "...                                                  ...\n",
      "10675  Harry Potter and the Goblet of Fire (Harry Pot...\n",
      "10790                                       Looking East\n",
      "10918  Fullmetal Alchemist  Vol. 6 (Fullmetal Alchemi...\n",
      "10937  The Price of the Ticket: Collected Nonfiction ...\n",
      "10940  Code Check Electrical: An Illustrated Guide to...\n",
      "\n",
      "[230 rows x 1 columns]\n",
      "----------------------------------------\n",
      "\n",
      "Lowest rated books\n",
      "                                                    title\n",
      "265    Out to Eat London 2002 (Lonely Planet Out to Eat)\n",
      "375                       Juiced Official Strategy Guide\n",
      "987             Open City 6: The Only Woman He Ever Left\n",
      "1681                                        V.S. Naipaul\n",
      "2532   How To Meditate: An Anthology Of Talks On Medi...\n",
      "2533          Insights: Talks On The Nature Of Existence\n",
      "2758                 Venac sonetnih venaca; Puževa srma\n",
      "3234            Puzzle Pack: The Witch of Blackbird Pond\n",
      "3492   Brodie's notes on Aldous Huxley's brave new world\n",
      "3912   The Boys of the Archangel Raphael: A Youth Con...\n",
      "4241                                 American Film Guide\n",
      "4677   The Man and the Author: John Milton: Twentieth...\n",
      "5323   Canopy: A Work for Voice and Light in Harvard ...\n",
      "5537   McDougal Littell Science: Student Edition Grad...\n",
      "5670   The Halloween Activity Book: Creepy  Crawly  H...\n",
      "6380          Laguna  I Love You: The Best of \"Our Town\"\n",
      "6502               Field Guide to Home Buying in America\n",
      "6558                   American Writers  Supplement VIII\n",
      "6839                The Two Tocquevilles  Father and Son\n",
      "6859                            The Road To War  1933 39\n",
      "6877   I'll Be Home Before Midnight and I Won't Get P...\n",
      "7144   Mythographi Graeci 1: Apollodori Bibliotheca  ...\n",
      "7399                    Sclerotherapy and vein treatment\n",
      "7573                            The Berlin Phenomenology\n",
      "7634        Your Child and Jesus: A Family Activity Book\n",
      "7797                   Beckett Football Card Price Guide\n",
      "7998   The Art of Loving by Erich Fromm: A True Story...\n",
      "8109   The Earth and Its Peoples: A Global History  V...\n",
      "8812                                        Citizen Girl\n",
      "9331       Random House Crossword Mega Omnibus  Volume 1\n",
      "9437   Classroom Interactions as Cross-Cultural Encou...\n",
      "9539                                Mandala Sand Art Kit\n",
      "10138                                      Day and Night\n",
      "10497  The Fantastic Vampire: Studies in the Children...\n",
      "10917  The Leadership Challenge: Skills for Taking Ch...\n",
      "11027  Anthony Thwaite: In Conversation With Peter Da...\n",
      "11091             The Die Broke Financial Problem Solver\n"
     ]
    }
   ],
   "source": [
    "highest_rated=books[books['rating']>=4.5]\n",
    "lowest_rated=books[books['rating']<=2.5]\n",
    "print('\\nHighest rated books\\n',highest_rated[[\"title\"]])\n",
    "print('-'*40)\n",
    "print('\\nLowest rated books\\n',lowest_rated[[\"title\"]])"
   ]
  },
  {
   "cell_type": "markdown",
   "metadata": {},
   "source": [
    "### 3.which book has the max/min reviews"
   ]
  },
  {
   "cell_type": "code",
   "execution_count": 223,
   "metadata": {},
   "outputs": [
    {
     "data": {
      "text/html": [
       "<div>\n",
       "<style scoped>\n",
       "    .dataframe tbody tr th:only-of-type {\n",
       "        vertical-align: middle;\n",
       "    }\n",
       "\n",
       "    .dataframe tbody tr th {\n",
       "        vertical-align: top;\n",
       "    }\n",
       "\n",
       "    .dataframe thead th {\n",
       "        text-align: right;\n",
       "    }\n",
       "</style>\n",
       "<table border=\"1\" class=\"dataframe\">\n",
       "  <thead>\n",
       "    <tr style=\"text-align: right;\">\n",
       "      <th></th>\n",
       "      <th>title</th>\n",
       "      <th>authors</th>\n",
       "      <th>rating</th>\n",
       "      <th>reviews</th>\n",
       "    </tr>\n",
       "  </thead>\n",
       "  <tbody>\n",
       "    <tr>\n",
       "      <th>10336</th>\n",
       "      <td>Twilight (Twilight  #1)</td>\n",
       "      <td>Stephenie Meyer</td>\n",
       "      <td>3.59</td>\n",
       "      <td>94265</td>\n",
       "    </tr>\n",
       "  </tbody>\n",
       "</table>\n",
       "</div>"
      ],
      "text/plain": [
       "                         title          authors  rating  reviews\n",
       "10336  Twilight (Twilight  #1)  Stephenie Meyer    3.59    94265"
      ]
     },
     "execution_count": 223,
     "metadata": {},
     "output_type": "execute_result"
    }
   ],
   "source": [
    "max_reviews=books[books['reviews']==books['reviews'].max()]\n",
    "max_reviews[[\"title\",\"authors\",\"rating\",\"reviews\"]].head()\n"
   ]
  },
  {
   "cell_type": "code",
   "execution_count": 224,
   "metadata": {},
   "outputs": [
    {
     "data": {
      "text/html": [
       "<div>\n",
       "<style scoped>\n",
       "    .dataframe tbody tr th:only-of-type {\n",
       "        vertical-align: middle;\n",
       "    }\n",
       "\n",
       "    .dataframe tbody tr th {\n",
       "        vertical-align: top;\n",
       "    }\n",
       "\n",
       "    .dataframe thead th {\n",
       "        text-align: right;\n",
       "    }\n",
       "</style>\n",
       "<table border=\"1\" class=\"dataframe\">\n",
       "  <thead>\n",
       "    <tr style=\"text-align: right;\">\n",
       "      <th></th>\n",
       "      <th>title</th>\n",
       "      <th>authors</th>\n",
       "      <th>rating</th>\n",
       "      <th>reviews</th>\n",
       "    </tr>\n",
       "  </thead>\n",
       "  <tbody>\n",
       "    <tr>\n",
       "      <th>31</th>\n",
       "      <td>Molly Hatchet - 5 of the Best</td>\n",
       "      <td>Molly Hatchet</td>\n",
       "      <td>4.33</td>\n",
       "      <td>0</td>\n",
       "    </tr>\n",
       "    <tr>\n",
       "      <th>77</th>\n",
       "      <td>The Power of One: The Solo Play for Playwright...</td>\n",
       "      <td>Louis E. Catron</td>\n",
       "      <td>3.67</td>\n",
       "      <td>0</td>\n",
       "    </tr>\n",
       "    <tr>\n",
       "      <th>80</th>\n",
       "      <td>What to Sell on ebay and Where to Get It: The ...</td>\n",
       "      <td>Chris Malta/Lisa Suttora</td>\n",
       "      <td>3.62</td>\n",
       "      <td>0</td>\n",
       "    </tr>\n",
       "    <tr>\n",
       "      <th>82</th>\n",
       "      <td>eBay: Top 100 Simplified Tips &amp; Tricks</td>\n",
       "      <td>Julia Wilkinson</td>\n",
       "      <td>4.27</td>\n",
       "      <td>0</td>\n",
       "    </tr>\n",
       "    <tr>\n",
       "      <th>102</th>\n",
       "      <td>Dalit: The Black Untaouchables of India</td>\n",
       "      <td>V.T. Rajshekar/Y.N. Kly</td>\n",
       "      <td>4.20</td>\n",
       "      <td>0</td>\n",
       "    </tr>\n",
       "  </tbody>\n",
       "</table>\n",
       "</div>"
      ],
      "text/plain": [
       "                                                 title  \\\n",
       "31                       Molly Hatchet - 5 of the Best   \n",
       "77   The Power of One: The Solo Play for Playwright...   \n",
       "80   What to Sell on ebay and Where to Get It: The ...   \n",
       "82              eBay: Top 100 Simplified Tips & Tricks   \n",
       "102            Dalit: The Black Untaouchables of India   \n",
       "\n",
       "                      authors  rating  reviews  \n",
       "31              Molly Hatchet    4.33        0  \n",
       "77            Louis E. Catron    3.67        0  \n",
       "80   Chris Malta/Lisa Suttora    3.62        0  \n",
       "82            Julia Wilkinson    4.27        0  \n",
       "102   V.T. Rajshekar/Y.N. Kly    4.20        0  "
      ]
     },
     "execution_count": 224,
     "metadata": {},
     "output_type": "execute_result"
    }
   ],
   "source": [
    "min_reviews=books[books['reviews']==books['reviews'].min()]\n",
    "min_reviews[[\"title\",\"authors\",\"rating\",\"reviews\"]].head()"
   ]
  },
  {
   "cell_type": "markdown",
   "metadata": {},
   "source": [
    "<a id='conclusions'></a>\n",
    "## Conclusions\n",
    "Using the dataset samples (3854 after cleaning) and during years (1960 : 2015 ) I found the following:\n",
    "<ul>\n",
    "<li>Movie production is steadly increasing every year with an average around 170 movie per year in the last decade.</li>\n",
    "<li>2011 was the year with the highest production with 199 movie released that year.</li>\n",
    "<li> \"Avatar\" is the highest profit movie of the recorded samples also \"The Warrior's Way\" is the Lowest profit movie of of the recorded samples </li>\n",
    "<li> Out of 3854 movies there were 22 movie with a vote average above 8 and 9 movies below 3.5 of vote average.</li>\n",
    "<li> The genre \"Comedy\" has the highest profit of 12183078642 US dollar.</li>\n",
    "<li> Comedy is the most poular genre of all movies in the dataset.</li>\n",
    "</ul>\n",
    "\n",
    "## Limitations\n",
    "<li>The dataset contained missing values in (Budget, revenue) columns, which may affect the analysis after dropping rows of missing values:<br/>\n",
    "Zero Budget rows: 5696 And Zero revenue rows: 6016\n",
    "\n",
    "</li>\n",
    "\n",
    "<li>\n",
    "Mixed genres affect the genre profits analysis which can be improved by separate genrs or using another approach with this analysis.    \n",
    "</li>\n",
    "        \n",
    "## Submitting your Project \n",
    "\n",
    "> Before you submit your project, you need to create a .html or .pdf version of this notebook in the workspace here. To do that, run the code cell below. If it worked correctly, you should get a return code of 0, and you should see the generated .html file in the workspace directory (click on the orange Jupyter icon in the upper left).\n",
    "\n",
    "> Alternatively, you can download this report as .html via the **File** > **Download as** submenu, and then manually upload it into the workspace directory by clicking on the orange Jupyter icon in the upper left, then using the Upload button.\n",
    "\n",
    "> Once you've done this, you can submit your project by clicking on the \"Submit Project\" button in the lower right here. This will create and submit a zip file with this .ipynb doc and the .html or .pdf version you created. Congratulations!"
   ]
  },
  {
   "cell_type": "code",
   "execution_count": null,
   "metadata": {},
   "outputs": [],
   "source": [
    "from subprocess import call\n",
    "call(['python', '-m', 'nbconvert', 'Investigate_a_Dataset.ipynb'])"
   ]
  }
 ],
 "metadata": {
  "kernelspec": {
   "display_name": "Python 3",
   "language": "python",
   "name": "python3"
  },
  "language_info": {
   "codemirror_mode": {
    "name": "ipython",
    "version": 3
   },
   "file_extension": ".py",
   "mimetype": "text/x-python",
   "name": "python",
   "nbconvert_exporter": "python",
   "pygments_lexer": "ipython3",
   "version": "3.8.8"
  }
 },
 "nbformat": 4,
 "nbformat_minor": 2
}
