{
 "cells": [
  {
   "cell_type": "markdown",
   "metadata": {
    "papermill": {
     "duration": 0.040143,
     "end_time": "2021-05-31T13:53:59.991572",
     "exception": false,
     "start_time": "2021-05-31T13:53:59.951429",
     "status": "completed"
    },
    "tags": []
   },
   "source": [
    "<p id=\"part0\"></p>\n",
    "\n",
    "<p style=\"font-family: Arials; line-height: 2; font-size: 24px; font-weight: bold; letter-spacing: 2px; text-align: center; color: #FF8C00\">EDA dataset Amazon's Top 50 bestselling books from 2009 to 2019</p>\n",
    "\n",
    "<img src=\"https://specials-images.forbesimg.com/imageserve/1194545635/960x0.jpg?cropX1=0&cropX2=5196&cropY1=507&cropY2=2943\" width=\"100%\" align=\"center\" hspace=\"5%\" vspace=\"5%\"/>\n",
    "\n",
    "<p style=\"font-family: Arials; font-size: 20px; font-style: normal; font-weight: bold; letter-spacing: 3px; color: #808080; line-height:1.0\">TABLE OF CONTENT</p>\n",
    "\n",
    "<p style=\"font-family: Arials; font-size: 16px; font-style: normal; font-weight: bold; letter-spacing: 2px; color: #808080; line-height:1.3\"><a href=\"#part1\" style=\"color:#808080\">0 PROLOGUE</a></p>\n",
    "\n",
    "<p style=\"font-family: Arials; font-size: 16px; font-style: normal; font-weight: bold; letter-spacing: 2px; color: #808080; line-height:1.3\"><a href=\"#part2\" style=\"color:#808080\">1 IMPORTING LIBRARIES</a></p>\n",
    "\n",
    "<p style=\"font-family: Arials; font-size: 16px; font-style: normal; font-weight: bold; letter-spacing: 2px; color: #808080; line-height:1.3\"><a href=\"#part3\" style=\"color:#808080\">2 DATA DESCRIPTION AND DATA CLEANING</a></p>\n",
    "\n",
    "<p style=\"text-indent: 1vw; font-family: Arials; font-size: 14px; font-style: normal; font-weight: bold; letter-spacing: 2px; color: #808080; line-height:1.3\">\n",
    "<a href=\"#part4\" style=\"color:#808080\">2.1 Data types</a></p>\n",
    "\n",
    "<p style=\"text-indent: 1vw; font-family: Arials; font-size: 14px; font-style: normal; font-weight: bold; letter-spacing: 2px; color: #808080; line-height:1.3\">\n",
    "<a href=\"#part5\" style=\"color:#808080\">2.2 Missing values</a></p>\n",
    "\n",
    "<p style=\"text-indent: 1vw; font-family: Arials; font-size: 14px; font-style: normal; font-weight: bold; letter-spacing: 2px; color: #808080; line-height:1.3\">\n",
    "<a href=\"#part6\" style=\"color:#808080\">2.3 Duplicates</a></p>\n",
    "\n",
    "<p style=\"text-indent: 1vw; font-family: Arials; font-size: 14px; font-style: normal; font-weight: bold; letter-spacing: 2px; color: #808080; line-height:1.3\">\n",
    "<a href=\"#part7\" style=\"color:#808080\">2.4 Categorical data</a></p>\n",
    "\n",
    "<p style=\"text-indent: 1vw; font-family: Arials; font-size: 14px; font-style: normal; font-weight: bold; letter-spacing: 2px; color: #808080; line-height:1.3\">\n",
    "<a href=\"#part8\" style=\"color:#808080\">2.5 Numeric data</a></p>\n",
    "\n",
    "<p style=\"font-family: Arials; font-size: 16px; font-style: normal; font-weight: bold; letter-spacing: 2px; color: #808080; line-height:1.3\"><a href=\"#part9\" style=\"color:#808080\">3 TESTING HYPOTHESES</a></p>\n",
    "\n",
    "<p style=\"font-family: Arials; font-size: 16px; font-style: normal; font-weight: bold; letter-spacing: 2px; color: #808080; line-height:1.3\"><a href=\"#part10\" style=\"color:#808080\">4 FINAL CONCLUSIONS</a></p>"
   ]
  },
  {
   "cell_type": "markdown",
   "metadata": {
    "papermill": {
     "duration": 0.036659,
     "end_time": "2021-05-31T13:54:00.065618",
     "exception": false,
     "start_time": "2021-05-31T13:54:00.028959",
     "status": "completed"
    },
    "tags": []
   },
   "source": [
    "<p id=\"part1\"></p>\n",
    "\n",
    "<p style=\"font-family: Arials; font-size: 16px; font-style: bold; font-weight: bold; letter-spacing: 3px; color: #FF8C00\">0 PROLOGUE</p>\n",
    "<hr style=\"height: 0.5px; border: 0; background-color: #808080\">\n",
    "\n",
    "<p style=\"font-family: Arials, sans-serif; font-size: 14px; color: rgba(0,0,0,.7)\">In that work, exploratory data analysis has been carried out dataset Amazon's Top 50 bestselling books from 2009 to 2019.</p>\n",
    "\n",
    "<p style=\"font-family: Arials, sans-serif; font-size: 14px; color: rgba(0,0,0,.7)\"><strong>FEATURES:</strong></p>\n",
    "\n",
    "<ol style=\"font-family: Arials, sans-serif; font-size: 14px; line-height:1.5; color: rgba(0,0,0,.7)\">\n",
    "<li><strong>Name</strong> - Name of the Book</li>\n",
    "<p></p>    \n",
    "<li><strong>Author</strong> - The author of the Book</li>\n",
    "<p></p>\n",
    "<li><strong>User Rating</strong> - Amazon User Rating</li>\n",
    "<p></p>    \n",
    "<li><strong>Reviews</strong> - Number of written reviews on amazon</li>   \n",
    "<p></p>    \n",
    "<li><strong>Price</strong> - The price of the book (As at 13/10/2020)</li>   \n",
    "<p></p>    \n",
    "<li><strong>Year</strong> - The Year(s) it ranked on the bestseller</li>    \n",
    "<p></p>    \n",
    "<li><strong>Genre</strong> - Whether fiction or non-fiction</li>      \n",
    "<p></p>    \n",
    "</ol>\n",
    "\n",
    "<p style=\"font-family: Arials, sans-serif; font-size: 14px; line-height:1.0; color: rgba(0,0,0,.7)\"><strong>ANSWER TO THE FOLLOWING QUESTIONS ARE GIVEN:</strong></p>\n",
    "\n",
    "<ol style=\"font-family: Arials, sans-serif; font-size: 14px; line-height:1.5; color: rgba(0,0,0,.7)\">\n",
    "<li>Which author's books receive the highest average rating (top authors).</li>\n",
    "<p></p>\n",
    "<li>Which author has written the most bestsellers (top authors).</li>\n",
    "<p></p>\n",
    "<li>Which book has the most reviews (top books).</li>\n",
    "<p></p>\n",
    "<li>Which genres become bestsellers more often.</li>\n",
    "<p></p>\n",
    "<li>Are genres different by rating.</li>\n",
    "</ol>"
   ]
  },
  {
   "cell_type": "markdown",
   "metadata": {
    "papermill": {
     "duration": 0.036557,
     "end_time": "2021-05-31T13:54:00.139483",
     "exception": false,
     "start_time": "2021-05-31T13:54:00.102926",
     "status": "completed"
    },
    "tags": []
   },
   "source": [
    "<p style=\"font-family: Arials; line-height: 1.5; font-size: 16px; font-weight: bold; letter-spacing: 2px; text-align: center; color: #FF8C00\">If you liked this notebook, please put your votes.</p>\n",
    "<p style=\"text-align: center\">😊😊😊</p>"
   ]
  },
  {
   "cell_type": "markdown",
   "metadata": {
    "papermill": {
     "duration": 0.036343,
     "end_time": "2021-05-31T13:54:00.212522",
     "exception": false,
     "start_time": "2021-05-31T13:54:00.176179",
     "status": "completed"
    },
    "tags": []
   },
   "source": [
    "<p id=\"part2\"></p>\n",
    "\n",
    "# <span style=\"font-family: Arials; font-size: 16px; font-style: normal; font-weight: bold; letter-spacing: 3px; color: #FF8C00\">1 IMPORTING LIBRARIES</span>\n",
    "<hr style=\"height: 0.5px; border: 0; background-color: #808080\">\n",
    "\n",
    "<p style=\"font-family: Arials, sans-serif; font-size: 14px; line-height:1.0; color: rgba(0,0,0,.7)\"><strong>LIBRARIES:</strong></p>\n",
    "\n",
    "<ol style=\"font-family: Arials, sans-serif; font-size: 14px; line-height:1.5; color: rgba(0,0,0,.7)\">\n",
    "<li>Library <strong>pandas</strong> will be required to work with data in tabular representation.</li>\n",
    "<p></p>\n",
    "<li>Library <strong>numpy</strong> will be required to round the data in the correlation matrix.</li>\n",
    "<p></p>\n",
    "<li>Library <strong>fuzzywuzzy</strong> will be needed to replace the same values but different in writing.</li>\n",
    "<p></p>\n",
    "<li>Library <strong>missingno</strong> will be required to visualize missing values in the data.</li>\n",
    "<p></p>\n",
    "<li>Library <strong>collections</strong> will be required to count the values in the list.</li>\n",
    "<p></p>    \n",
    "<li>Library <strong>matplotlib, seaborn, plotly</strong> required for data visualization.</li>\n",
    "<p></p>\n",
    "<li>Library <strong>scipy</strong> will be required to test hypotheses.</li>\n",
    "<p></p>\n",
    "</ol>"
   ]
  },
  {
   "cell_type": "code",
   "execution_count": 1,
   "metadata": {
    "_kg_hide-input": true,
    "execution": {
     "iopub.execute_input": "2021-05-31T13:54:00.291816Z",
     "iopub.status.busy": "2021-05-31T13:54:00.291220Z",
     "iopub.status.idle": "2021-05-31T13:54:03.337923Z",
     "shell.execute_reply": "2021-05-31T13:54:03.337113Z"
    },
    "papermill": {
     "duration": 3.08922,
     "end_time": "2021-05-31T13:54:03.338120",
     "exception": false,
     "start_time": "2021-05-31T13:54:00.248900",
     "status": "completed"
    },
    "tags": []
   },
   "outputs": [],
   "source": [
    "import pandas as pd\n",
    "import numpy as np\n",
    "import missingno\n",
    "import fuzzywuzzy\n",
    "from fuzzywuzzy import process\n",
    "import collections\n",
    "import matplotlib.pyplot as plt\n",
    "from plotly.subplots import make_subplots\n",
    "import plotly.graph_objects as go\n",
    "import plotly.figure_factory as ff\n",
    "from scipy.stats import shapiro\n",
    "from scipy.stats import mannwhitneyu"
   ]
  },
  {
   "cell_type": "markdown",
   "metadata": {
    "papermill": {
     "duration": 0.03601,
     "end_time": "2021-05-31T13:54:03.410419",
     "exception": false,
     "start_time": "2021-05-31T13:54:03.374409",
     "status": "completed"
    },
    "tags": []
   },
   "source": [
    "<p id=\"part3\"></p>\n",
    "\n",
    "# <span style=\"font-family: Arials; font-size: 16px; font-style: normal; font-weight: bold; letter-spacing: 3px; color: #FF8C00\">2 DATA DESCRIPTION AND DATA CLEANING</span>\n",
    "<hr style=\"height: 0.5px; border: 0; background-color: #808080\">\n",
    "\n",
    "<p style=\"font-family: Arials, sans-serif; font-size: 14px; color: rgba(0,0,0,.7)\">In this block, exploratory data analysis will be carried out, data types, missing values, duplicates, measures of the central trend, and also the relationship between variables will be described.</p>"
   ]
  },
  {
   "cell_type": "markdown",
   "metadata": {
    "papermill": {
     "duration": 0.035948,
     "end_time": "2021-05-31T13:54:03.482381",
     "exception": false,
     "start_time": "2021-05-31T13:54:03.446433",
     "status": "completed"
    },
    "tags": []
   },
   "source": [
    "<p id=\"part4\"></p>\n",
    "\n",
    "<p style=\"font-family: Arials; font-size: 16px; font-style: normal; font-weight: normal; letter-spacing: 3px; color: #FF8C00; line-height:1.0\">2.1 Data types</p>"
   ]
  },
  {
   "cell_type": "code",
   "execution_count": 2,
   "metadata": {
    "execution": {
     "iopub.execute_input": "2021-05-31T13:54:03.559914Z",
     "iopub.status.busy": "2021-05-31T13:54:03.559284Z",
     "iopub.status.idle": "2021-05-31T13:54:03.609807Z",
     "shell.execute_reply": "2021-05-31T13:54:03.610319Z"
    },
    "papermill": {
     "duration": 0.092275,
     "end_time": "2021-05-31T13:54:03.610493",
     "exception": false,
     "start_time": "2021-05-31T13:54:03.518218",
     "status": "completed"
    },
    "tags": []
   },
   "outputs": [
    {
     "data": {
      "text/html": [
       "<div>\n",
       "<style scoped>\n",
       "    .dataframe tbody tr th:only-of-type {\n",
       "        vertical-align: middle;\n",
       "    }\n",
       "\n",
       "    .dataframe tbody tr th {\n",
       "        vertical-align: top;\n",
       "    }\n",
       "\n",
       "    .dataframe thead th {\n",
       "        text-align: right;\n",
       "    }\n",
       "</style>\n",
       "<table border=\"1\" class=\"dataframe\">\n",
       "  <thead>\n",
       "    <tr style=\"text-align: right;\">\n",
       "      <th></th>\n",
       "      <th>Name</th>\n",
       "      <th>Author</th>\n",
       "      <th>User Rating</th>\n",
       "      <th>Reviews</th>\n",
       "      <th>Price</th>\n",
       "      <th>Year</th>\n",
       "      <th>Genre</th>\n",
       "    </tr>\n",
       "  </thead>\n",
       "  <tbody>\n",
       "    <tr>\n",
       "      <th>0</th>\n",
       "      <td>10-Day Green Smoothie Cleanse</td>\n",
       "      <td>JJ Smith</td>\n",
       "      <td>4.7</td>\n",
       "      <td>17350</td>\n",
       "      <td>8</td>\n",
       "      <td>2016</td>\n",
       "      <td>Non Fiction</td>\n",
       "    </tr>\n",
       "    <tr>\n",
       "      <th>1</th>\n",
       "      <td>11/22/63: A Novel</td>\n",
       "      <td>Stephen King</td>\n",
       "      <td>4.6</td>\n",
       "      <td>2052</td>\n",
       "      <td>22</td>\n",
       "      <td>2011</td>\n",
       "      <td>Fiction</td>\n",
       "    </tr>\n",
       "    <tr>\n",
       "      <th>2</th>\n",
       "      <td>12 Rules for Life: An Antidote to Chaos</td>\n",
       "      <td>Jordan B. Peterson</td>\n",
       "      <td>4.7</td>\n",
       "      <td>18979</td>\n",
       "      <td>15</td>\n",
       "      <td>2018</td>\n",
       "      <td>Non Fiction</td>\n",
       "    </tr>\n",
       "    <tr>\n",
       "      <th>3</th>\n",
       "      <td>1984 (Signet Classics)</td>\n",
       "      <td>George Orwell</td>\n",
       "      <td>4.7</td>\n",
       "      <td>21424</td>\n",
       "      <td>6</td>\n",
       "      <td>2017</td>\n",
       "      <td>Fiction</td>\n",
       "    </tr>\n",
       "    <tr>\n",
       "      <th>4</th>\n",
       "      <td>5,000 Awesome Facts (About Everything!) (Natio...</td>\n",
       "      <td>National Geographic Kids</td>\n",
       "      <td>4.8</td>\n",
       "      <td>7665</td>\n",
       "      <td>12</td>\n",
       "      <td>2019</td>\n",
       "      <td>Non Fiction</td>\n",
       "    </tr>\n",
       "  </tbody>\n",
       "</table>\n",
       "</div>"
      ],
      "text/plain": [
       "                                                Name  \\\n",
       "0                      10-Day Green Smoothie Cleanse   \n",
       "1                                  11/22/63: A Novel   \n",
       "2            12 Rules for Life: An Antidote to Chaos   \n",
       "3                             1984 (Signet Classics)   \n",
       "4  5,000 Awesome Facts (About Everything!) (Natio...   \n",
       "\n",
       "                     Author  User Rating  Reviews  Price  Year        Genre  \n",
       "0                  JJ Smith          4.7    17350      8  2016  Non Fiction  \n",
       "1              Stephen King          4.6     2052     22  2011      Fiction  \n",
       "2        Jordan B. Peterson          4.7    18979     15  2018  Non Fiction  \n",
       "3             George Orwell          4.7    21424      6  2017      Fiction  \n",
       "4  National Geographic Kids          4.8     7665     12  2019  Non Fiction  "
      ]
     },
     "execution_count": 2,
     "metadata": {},
     "output_type": "execute_result"
    }
   ],
   "source": [
    "# Reading data\n",
    "bestsellers = pd.read_csv('../input/amazon-top-50-bestselling-books-2009-2019/bestsellers with categories.csv') # Loading data\n",
    "bestsellers.head() # Displaying the first 5 lines of the dataset"
   ]
  },
  {
   "cell_type": "code",
   "execution_count": 3,
   "metadata": {
    "execution": {
     "iopub.execute_input": "2021-05-31T13:54:03.688075Z",
     "iopub.status.busy": "2021-05-31T13:54:03.687458Z",
     "iopub.status.idle": "2021-05-31T13:54:03.693752Z",
     "shell.execute_reply": "2021-05-31T13:54:03.694399Z"
    },
    "papermill": {
     "duration": 0.046571,
     "end_time": "2021-05-31T13:54:03.694614",
     "exception": false,
     "start_time": "2021-05-31T13:54:03.648043",
     "status": "completed"
    },
    "tags": []
   },
   "outputs": [
    {
     "name": "stdout",
     "output_type": "stream",
     "text": [
      "Data contain 550 records and 7 columns.\n"
     ]
    }
   ],
   "source": [
    "# Let's look at the dimension of the data\n",
    "print(f'Data contain {bestsellers.shape[0]} records and {bestsellers.shape[1]} columns.')"
   ]
  },
  {
   "cell_type": "code",
   "execution_count": 4,
   "metadata": {
    "execution": {
     "iopub.execute_input": "2021-05-31T13:54:03.774676Z",
     "iopub.status.busy": "2021-05-31T13:54:03.773844Z",
     "iopub.status.idle": "2021-05-31T13:54:03.780644Z",
     "shell.execute_reply": "2021-05-31T13:54:03.781257Z"
    },
    "papermill": {
     "duration": 0.048316,
     "end_time": "2021-05-31T13:54:03.781414",
     "exception": false,
     "start_time": "2021-05-31T13:54:03.733098",
     "status": "completed"
    },
    "tags": []
   },
   "outputs": [
    {
     "data": {
      "text/plain": [
       "Name            object\n",
       "Author          object\n",
       "User Rating    float64\n",
       "Reviews          int64\n",
       "Price            int64\n",
       "Year             int64\n",
       "Genre           object\n",
       "dtype: object"
      ]
     },
     "execution_count": 4,
     "metadata": {},
     "output_type": "execute_result"
    }
   ],
   "source": [
    "# Let's deduce data types\n",
    "bestsellers.dtypes"
   ]
  },
  {
   "cell_type": "markdown",
   "metadata": {
    "papermill": {
     "duration": 0.047054,
     "end_time": "2021-05-31T13:54:03.880887",
     "exception": false,
     "start_time": "2021-05-31T13:54:03.833833",
     "status": "completed"
    },
    "tags": []
   },
   "source": [
    "<p style=\"font-family: Arials, sans-serif; font-size: 14px; color: rgba(0,0,0,.7)\">Data contains 3 categorical columns and 4 columns contains numeric values. Let's convert the genre to the category data type, leaving the year as a number.</p>"
   ]
  },
  {
   "cell_type": "code",
   "execution_count": 5,
   "metadata": {
    "execution": {
     "iopub.execute_input": "2021-05-31T13:54:03.962485Z",
     "iopub.status.busy": "2021-05-31T13:54:03.961551Z",
     "iopub.status.idle": "2021-05-31T13:54:03.968322Z",
     "shell.execute_reply": "2021-05-31T13:54:03.968898Z"
    },
    "papermill": {
     "duration": 0.048568,
     "end_time": "2021-05-31T13:54:03.969099",
     "exception": false,
     "start_time": "2021-05-31T13:54:03.920531",
     "status": "completed"
    },
    "tags": []
   },
   "outputs": [],
   "source": [
    "# Change the data type\n",
    "bestsellers.Genre = bestsellers.Genre.astype('category')"
   ]
  },
  {
   "cell_type": "markdown",
   "metadata": {
    "papermill": {
     "duration": 0.038551,
     "end_time": "2021-05-31T13:54:04.047232",
     "exception": false,
     "start_time": "2021-05-31T13:54:04.008681",
     "status": "completed"
    },
    "tags": []
   },
   "source": [
    "<p id=\"part5\"></p>\n",
    "\n",
    "<p style=\"font-family: Arials; font-size: 16px; font-style: normal; font-weight: normal; letter-spacing: 3px; color: #FF8C00; line-height:1.0\">2.2 Missing values</p>"
   ]
  },
  {
   "cell_type": "markdown",
   "metadata": {
    "papermill": {
     "duration": 0.038062,
     "end_time": "2021-05-31T13:54:04.124631",
     "exception": false,
     "start_time": "2021-05-31T13:54:04.086569",
     "status": "completed"
    },
    "tags": []
   },
   "source": [
    "<p style = \"font-family: Inter, sans-serif; font-size: 14px; color: rgba(0,0,0,.7)\"> Let's calculate the percentage of blanks and filled values for all columns.</p>"
   ]
  },
  {
   "cell_type": "code",
   "execution_count": 6,
   "metadata": {
    "execution": {
     "iopub.execute_input": "2021-05-31T13:54:04.205556Z",
     "iopub.status.busy": "2021-05-31T13:54:04.204643Z",
     "iopub.status.idle": "2021-05-31T13:54:04.215381Z",
     "shell.execute_reply": "2021-05-31T13:54:04.214700Z"
    },
    "papermill": {
     "duration": 0.052796,
     "end_time": "2021-05-31T13:54:04.215558",
     "exception": false,
     "start_time": "2021-05-31T13:54:04.162762",
     "status": "completed"
    },
    "tags": []
   },
   "outputs": [
    {
     "name": "stdout",
     "output_type": "stream",
     "text": [
      "Name - 0.0%\n",
      "Author - 0.0%\n",
      "User Rating - 0.0%\n",
      "Reviews - 0.0%\n",
      "Price - 0.0%\n",
      "Year - 0.0%\n",
      "Genre - 0.0%\n"
     ]
    }
   ],
   "source": [
    "# loop through the columns and check the missing values\n",
    "for col in bestsellers.columns:\n",
    "    pct_missing = bestsellers[col].isnull().mean()\n",
    "    print(f'{col} - {pct_missing :.1%}')"
   ]
  },
  {
   "cell_type": "markdown",
   "metadata": {
    "papermill": {
     "duration": 0.03848,
     "end_time": "2021-05-31T13:54:04.293526",
     "exception": false,
     "start_time": "2021-05-31T13:54:04.255046",
     "status": "completed"
    },
    "tags": []
   },
   "source": [
    "<p style = \"font-family: Inter, sans-serif; font-size: 14px; color: rgba(0,0,0,.7)\">Visualizing missing values.</p>"
   ]
  },
  {
   "cell_type": "code",
   "execution_count": 7,
   "metadata": {
    "_kg_hide-input": true,
    "execution": {
     "iopub.execute_input": "2021-05-31T13:54:04.378291Z",
     "iopub.status.busy": "2021-05-31T13:54:04.377353Z",
     "iopub.status.idle": "2021-05-31T13:54:04.728441Z",
     "shell.execute_reply": "2021-05-31T13:54:04.727927Z"
    },
    "papermill": {
     "duration": 0.395739,
     "end_time": "2021-05-31T13:54:04.728597",
     "exception": false,
     "start_time": "2021-05-31T13:54:04.332858",
     "status": "completed"
    },
    "tags": []
   },
   "outputs": [
    {
     "data": {
      "image/png": "[encoded data removed]",
      "text/plain": [
       "<Figure size 1800x720 with 2 Axes>"
      ]
     },
     "metadata": {
      "needs_background": "light"
     },
     "output_type": "display_data"
    }
   ],
   "source": [
    "# Build a matrix of missing values\n",
    "missingno.matrix(bestsellers, fontsize = 16)\n",
    "plt.show()"
   ]
  },
  {
   "cell_type": "markdown",
   "metadata": {
    "papermill": {
     "duration": 0.040162,
     "end_time": "2021-05-31T13:54:04.808746",
     "exception": false,
     "start_time": "2021-05-31T13:54:04.768584",
     "status": "completed"
    },
    "tags": []
   },
   "source": [
    "<div style=\"background: #DCDCDC\"><p style=\"font-family: Arials, sans-serif; font-size: 16px; color: #000000\"><strong>CONCLUSION:</strong> The data has no missing values, so no further transformations are required.</p></div>"
   ]
  },
  {
   "cell_type": "markdown",
   "metadata": {
    "papermill": {
     "duration": 0.040295,
     "end_time": "2021-05-31T13:54:04.889935",
     "exception": false,
     "start_time": "2021-05-31T13:54:04.849640",
     "status": "completed"
    },
    "tags": []
   },
   "source": [
    "<p id=\"part6\"></p>\n",
    "\n",
    "<p style=\"font-family: Arials; font-size: 16px; font-style: normal; font-weight: normal; letter-spacing: 3px; color: #FF8C00; line-height:1.0\">2.3 Duplicates</p>"
   ]
  },
  {
   "cell_type": "code",
   "execution_count": 8,
   "metadata": {
    "execution": {
     "iopub.execute_input": "2021-05-31T13:54:04.979698Z",
     "iopub.status.busy": "2021-05-31T13:54:04.979067Z",
     "iopub.status.idle": "2021-05-31T13:54:04.982674Z",
     "shell.execute_reply": "2021-05-31T13:54:04.982021Z"
    },
    "papermill": {
     "duration": 0.05289,
     "end_time": "2021-05-31T13:54:04.982808",
     "exception": false,
     "start_time": "2021-05-31T13:54:04.929918",
     "status": "completed"
    },
    "tags": []
   },
   "outputs": [
    {
     "name": "stdout",
     "output_type": "stream",
     "text": [
      "Сolumns without numeric data: Name, Author, Genre.\n"
     ]
    }
   ],
   "source": [
    "# Forming categorical columns\n",
    "col_name_without_numeric_data = list(bestsellers.select_dtypes(exclude=('int', 'float')).columns)\n",
    "print(f'Сolumns without numeric data: {\", \".join(col_name_without_numeric_data)}.')"
   ]
  },
  {
   "cell_type": "code",
   "execution_count": 9,
   "metadata": {
    "execution": {
     "iopub.execute_input": "2021-05-31T13:54:05.074910Z",
     "iopub.status.busy": "2021-05-31T13:54:05.073864Z",
     "iopub.status.idle": "2021-05-31T13:54:05.077969Z",
     "shell.execute_reply": "2021-05-31T13:54:05.077440Z"
    },
    "papermill": {
     "duration": 0.053719,
     "end_time": "2021-05-31T13:54:05.078107",
     "exception": false,
     "start_time": "2021-05-31T13:54:05.024388",
     "status": "completed"
    },
    "tags": []
   },
   "outputs": [
    {
     "name": "stdout",
     "output_type": "stream",
     "text": [
      "Column Name contains duplicates.\n",
      "Column Author contains duplicates.\n",
      "Column Genre contains duplicates.\n"
     ]
    }
   ],
   "source": [
    "# Let's see the duplicates in the columns\n",
    "for col in col_name_without_numeric_data:\n",
    "    if bestsellers[col].duplicated().any() == True:\n",
    "        print (f'Column {col} contains duplicates.')\n",
    "    else:\n",
    "        print (f'Column {col} does not contain duplicates.')"
   ]
  },
  {
   "cell_type": "markdown",
   "metadata": {
    "papermill": {
     "duration": 0.041261,
     "end_time": "2021-05-31T13:54:05.160612",
     "exception": false,
     "start_time": "2021-05-31T13:54:05.119351",
     "status": "completed"
    },
    "tags": []
   },
   "source": [
    "<p style=\"font-family: Arials, sans-serif; font-size: 14px; color: rgba(0,0,0,.7)\">Check if the columns contains words in different case and extra spaces.</p>"
   ]
  },
  {
   "cell_type": "code",
   "execution_count": 10,
   "metadata": {
    "execution": {
     "iopub.execute_input": "2021-05-31T13:54:05.251316Z",
     "iopub.status.busy": "2021-05-31T13:54:05.250370Z",
     "iopub.status.idle": "2021-05-31T13:54:05.258432Z",
     "shell.execute_reply": "2021-05-31T13:54:05.257839Z"
    },
    "papermill": {
     "duration": 0.056442,
     "end_time": "2021-05-31T13:54:05.258560",
     "exception": false,
     "start_time": "2021-05-31T13:54:05.202118",
     "status": "completed"
    },
    "tags": []
   },
   "outputs": [
    {
     "name": "stdout",
     "output_type": "stream",
     "text": [
      "Before Name: 351 After Name: 350\n",
      "Before Author: 248 After Author: 248\n",
      "Before Genre: 2 After Genre: 2\n"
     ]
    }
   ],
   "source": [
    "# Check if spelling errors have been hit\n",
    "for col in col_name_without_numeric_data:\n",
    "    print(f'Before {col}: {len(set(bestsellers[col]))} After {col}: {len(set(bestsellers[col].str.title().str.strip()))}')"
   ]
  },
  {
   "cell_type": "markdown",
   "metadata": {
    "papermill": {
     "duration": 0.042344,
     "end_time": "2021-05-31T13:54:05.342971",
     "exception": false,
     "start_time": "2021-05-31T13:54:05.300627",
     "status": "completed"
    },
    "tags": []
   },
   "source": [
    "<p style=\"font-family: Arials, sans-serif; font-size: 14px; color: rgba(0,0,0,.7)\">Indeed, there were typing errors in the Name column. Let's fix it.</p>"
   ]
  },
  {
   "cell_type": "code",
   "execution_count": 11,
   "metadata": {
    "execution": {
     "iopub.execute_input": "2021-05-31T13:54:05.434884Z",
     "iopub.status.busy": "2021-05-31T13:54:05.433896Z",
     "iopub.status.idle": "2021-05-31T13:54:05.436788Z",
     "shell.execute_reply": "2021-05-31T13:54:05.436297Z"
    },
    "papermill": {
     "duration": 0.051588,
     "end_time": "2021-05-31T13:54:05.436936",
     "exception": false,
     "start_time": "2021-05-31T13:54:05.385348",
     "status": "completed"
    },
    "tags": []
   },
   "outputs": [],
   "source": [
    "# Correct the errors\n",
    "bestsellers.Name = bestsellers.Name.str.title().str.strip()"
   ]
  },
  {
   "cell_type": "code",
   "execution_count": 12,
   "metadata": {
    "execution": {
     "iopub.execute_input": "2021-05-31T13:54:05.531295Z",
     "iopub.status.busy": "2021-05-31T13:54:05.530630Z",
     "iopub.status.idle": "2021-05-31T13:54:05.533927Z",
     "shell.execute_reply": "2021-05-31T13:54:05.534391Z"
    },
    "papermill": {
     "duration": 0.055761,
     "end_time": "2021-05-31T13:54:05.534548",
     "exception": false,
     "start_time": "2021-05-31T13:54:05.478787",
     "status": "completed"
    },
    "tags": []
   },
   "outputs": [
    {
     "name": "stdout",
     "output_type": "stream",
     "text": [
      "Before Name: 350 After Name: 350\n",
      "Before Author: 248 After Author: 248\n",
      "Before Genre: 2 After Genre: 2\n"
     ]
    }
   ],
   "source": [
    "# Check if the changes have passed\n",
    "for col in col_name_without_numeric_data:\n",
    "    print(f'Before {col}: {len(set(bestsellers[col]))} After {col}: {len(set(bestsellers[col].str.title().str.strip()))}')"
   ]
  },
  {
   "cell_type": "markdown",
   "metadata": {
    "papermill": {
     "duration": 0.041336,
     "end_time": "2021-05-31T13:54:05.618332",
     "exception": false,
     "start_time": "2021-05-31T13:54:05.576996",
     "status": "completed"
    },
    "tags": []
   },
   "source": [
    "<p style=\"font-family: Arials, sans-serif; font-size: 14px; color: rgba(0,0,0,.7)\">Let's check if there are the same author names but with different spellings.</p>"
   ]
  },
  {
   "cell_type": "code",
   "execution_count": 13,
   "metadata": {
    "_kg_hide-input": false,
    "_kg_hide-output": true,
    "execution": {
     "iopub.execute_input": "2021-05-31T13:54:05.705263Z",
     "iopub.status.busy": "2021-05-31T13:54:05.704648Z",
     "iopub.status.idle": "2021-05-31T13:54:05.711849Z",
     "shell.execute_reply": "2021-05-31T13:54:05.712321Z"
    },
    "papermill": {
     "duration": 0.052434,
     "end_time": "2021-05-31T13:54:05.712481",
     "exception": false,
     "start_time": "2021-05-31T13:54:05.660047",
     "status": "completed"
    },
    "tags": []
   },
   "outputs": [
    {
     "data": {
      "text/plain": [
       "array(['Abraham Verghese', 'Adam Gasiewski', 'Adam Mansbach', 'Adir Levy',\n",
       "       'Admiral William H. McRaven', 'Adult Coloring Book Designs',\n",
       "       'Alan Moore', 'Alex Michaelides', 'Alice Schertle', 'Allie Brosh',\n",
       "       'American Psychiatric Association',\n",
       "       'American Psychological Association', 'Amor Towles', 'Amy Ramos',\n",
       "       'Amy Shields', 'Andy Weir', 'Angie Grace', 'Angie Thomas',\n",
       "       'Ann Voskamp', 'Ann Whitford Paul', 'Anthony Bourdain',\n",
       "       'Anthony Doerr', 'Atul Gawande', 'Audrey Niffenegger',\n",
       "       'B. J. Novak', 'Bessel van der Kolk M.D.', 'Bill Martin Jr.',\n",
       "       \"Bill O'Reilly\", 'Bill Simmons', 'Blue Star Coloring',\n",
       "       'Bob Woodward', 'Brandon Stanton', 'Brené Brown',\n",
       "       'Brian Kilmeade', 'Bruce Springsteen', 'Carol S. Dweck',\n",
       "       'Celeste Ng', 'Charlaine Harris', 'Charles Duhigg',\n",
       "       'Charles Krauthammer', 'Cheryl Strayed', 'Chip Gaines',\n",
       "       'Chip Heath', 'Chris Cleave', 'Chris Kyle', 'Chrissy Teigen',\n",
       "       'Christina Baker Kline', 'Christopher Paolini',\n",
       "       'Coloring Books for Adults', 'Craig Smith', 'Crispin Boyer', 'DK',\n",
       "       'Dale Carnegie', 'Dan Brown', 'Daniel H. Pink',\n",
       "       'Daniel James Brown', 'Daniel Kahneman', 'Daniel Lipkowitz',\n",
       "       'Dav Pilkey', 'Dave Ramsey', 'David Goggins', 'David Grann',\n",
       "       'David McCullough', 'David Perlmutter MD', 'David Platt',\n",
       "       'David Zinczenko', 'Deborah Diesen',\n",
       "       'Delegates of the Constitutional\\x85', 'Delia Owens',\n",
       "       'Dinah Bucholz', 'Don Miguel Ruiz', 'Donna Tartt', 'Doug Lemov',\n",
       "       'Dr. Seuss', 'Dr. Steven R Gundry MD', 'Drew Daywalt', 'E L James',\n",
       "       'Eben Alexander', 'Edward Klein', 'Edward M. Kennedy',\n",
       "       'Elie Wiesel', 'Elizabeth Strout', 'Emily Winfield Martin',\n",
       "       'Eric Carle', 'Eric Larson', 'Ernest Cline', 'F. A. Hayek',\n",
       "       'F. Scott Fitzgerald', 'Francis Chan', 'Fredrik Backman', 'Gallup',\n",
       "       'Garth Stein', 'Gary Chapman', 'Gayle Forman', 'Geneen Roth',\n",
       "       'George Orwell', 'George R. R. Martin', 'George R.R. Martin',\n",
       "       'George W. Bush', 'Giles Andreae', 'Gillian Flynn', 'Glenn Beck',\n",
       "       'Golden Books', 'Greg Mortenson', 'Harper Lee', 'Heidi Murkoff',\n",
       "       'Hillary Rodham Clinton', 'Hopscotch Girls', 'Howard Stern',\n",
       "       'Ian K. Smith M.D.', 'Ina Garten', 'J. D. Vance', 'J. K. Rowling',\n",
       "       'J.K. Rowling', 'JJ Smith', 'James Comey', 'James Dashner',\n",
       "       'James Patterson', 'Jay Asher', 'Jaycee Dugard', 'Jeff Kinney',\n",
       "       'Jen Sincero', 'Jennifer Smith', 'Jill Twiss', 'Jim Collins',\n",
       "       'Joanna Gaines', 'Joel Fuhrman MD', 'Johanna Basford',\n",
       "       'John Green', 'John Grisham', 'John Heilemann', 'Jon Meacham',\n",
       "       'Jon Stewart', 'Jonathan Cahn', 'Jordan B. Peterson',\n",
       "       'Julia Child', 'Justin Halpern', 'Kathryn Stockett',\n",
       "       'Keith Richards', 'Ken Follett', 'Kevin Kwan', 'Khaled Hosseini',\n",
       "       'Kristin Hannah', 'Larry Schweikart', 'Laura Hillenbrand',\n",
       "       'Laurel Randolph', 'Lin-Manuel Miranda', 'Lysa TerKeurst',\n",
       "       'M Prefontaine', \"Madeleine L'Engle\", 'Malcolm Gladwell',\n",
       "       'Margaret Atwood', 'Margaret Wise Brown', 'Marie Kondō',\n",
       "       'Marjorie Sarnat', 'Mark Hyman M.D.', 'Mark Manson', 'Mark Owen',\n",
       "       'Mark R. Levin', 'Mark Twain', 'Markus Zusak', 'Marty Noble',\n",
       "       'Mary Ann Shaffer', 'Maurice Sendak', 'Melissa Hartwig Urban',\n",
       "       'Michael Lewis', 'Michael Pollan', 'Michael Wolff',\n",
       "       'Michelle Obama', 'Mike Moreno', 'Mitch Albom', 'Muriel Barbery',\n",
       "       'Naomi Kleinberg', 'Nathan W. Pyle', 'National Geographic Kids',\n",
       "       'Neil deGrasse Tyson', 'Paper Peony Press', 'Patrick Lencioni',\n",
       "       'Patrick Thorpe', 'Paul Kalanithi', 'Paula Hawkins',\n",
       "       'Paula McLain', 'Paulo Coelho', 'Pete Souza', 'Peter A. Lillback',\n",
       "       'Phil Robertson', 'Pierre Dukan', 'Pretty Simple Press',\n",
       "       'R. J. Palacio', 'RH Disney', 'Rachel Hollis', 'Raina Telgemeier',\n",
       "       'Randall Munroe', 'Randy Pausch', 'Ray Bradbury', 'Rebecca Skloot',\n",
       "       'Ree Drummond', 'Rick Riordan', 'Rob Bell', 'Rob Elliott',\n",
       "       'Robert Jordan', 'Robert Munsch', 'Rod Campbell', 'Roger Priddy',\n",
       "       'Ron Chernow', 'Rupi Kaur', 'Rush Limbaugh', 'Samin Nosrat',\n",
       "       'Sandra Boynton', 'Sara Gruen', 'Sarah Palin', 'Sarah Young',\n",
       "       \"Sasha O'Hara\", 'Scholastic', 'School Zone',\n",
       "       'Sherri Duskey Rinker', 'Sheryl Sandberg', 'Silly Bear',\n",
       "       'Stephen Kendrick', 'Stephen King', 'Stephen R. Covey',\n",
       "       'Stephenie Meyer', 'Steve Harvey', 'Steven D. Levitt',\n",
       "       'Stieg Larsson', 'Susan Cain', 'Suzanne Collins',\n",
       "       'Ta-Nehisi Coates', 'Tara Westover', 'Tatiana de Rosnay',\n",
       "       'The College Board', 'The Staff of The Late Show with\\x85',\n",
       "       'The Washington Post', 'Thomas Campbell', 'Thomas Piketty',\n",
       "       'Thug Kitchen', 'Timothy Ferriss', 'Tina Fey', 'Todd Burpo',\n",
       "       'Tony Hsieh', 'Tucker Carlson', 'Veronica Roth',\n",
       "       'W. Cleon Skousen', 'Walter Isaacson', 'William Davis',\n",
       "       'William P. Young', 'Wizards RPG Team', 'Zhi Gang Sha'],\n",
       "      dtype=object)"
      ]
     },
     "execution_count": 13,
     "metadata": {},
     "output_type": "execute_result"
    }
   ],
   "source": [
    "# Check the column Autor\n",
    "authors = bestsellers.Author.sort_values().unique()\n",
    "authors"
   ]
  },
  {
   "cell_type": "markdown",
   "metadata": {
    "papermill": {
     "duration": 0.042644,
     "end_time": "2021-05-31T13:54:05.798255",
     "exception": false,
     "start_time": "2021-05-31T13:54:05.755611",
     "status": "completed"
    },
    "tags": []
   },
   "source": [
    "<p style=\"font-family: Arials, sans-serif; font-size: 14px; color: rgba(0,0,0,.7)\">Names of authors George R. R. Martin, George R.R. Martin and J. K. Rowling, J.K. Rowling have different spellings although they are the same authors. Let's fix it.</p>"
   ]
  },
  {
   "cell_type": "code",
   "execution_count": 14,
   "metadata": {
    "execution": {
     "iopub.execute_input": "2021-05-31T13:54:05.886637Z",
     "iopub.status.busy": "2021-05-31T13:54:05.886040Z",
     "iopub.status.idle": "2021-05-31T13:54:05.999401Z",
     "shell.execute_reply": "2021-05-31T13:54:05.999872Z"
    },
    "papermill": {
     "duration": 0.159592,
     "end_time": "2021-05-31T13:54:06.000060",
     "exception": false,
     "start_time": "2021-05-31T13:54:05.840468",
     "status": "completed"
    },
    "tags": []
   },
   "outputs": [
    {
     "data": {
      "text/plain": [
       "[('George R. R. Martin', 100),\n",
       " ('George R.R. Martin', 100),\n",
       " ('George Orwell', 53),\n",
       " ('Bill Martin Jr.', 52),\n",
       " ('Greg Mortenson', 52)]"
      ]
     },
     "execution_count": 14,
     "metadata": {},
     "output_type": "execute_result"
    }
   ],
   "source": [
    "# Let's build a list of the most similar spellings\n",
    "matches_author_name = fuzzywuzzy.process.extract('George R.R. Martin', authors, limit=5, scorer=fuzzywuzzy.fuzz.token_sort_ratio)\n",
    "matches_author_name"
   ]
  },
  {
   "cell_type": "code",
   "execution_count": 15,
   "metadata": {
    "execution": {
     "iopub.execute_input": "2021-05-31T13:54:06.088881Z",
     "iopub.status.busy": "2021-05-31T13:54:06.088260Z",
     "iopub.status.idle": "2021-05-31T13:54:06.093897Z",
     "shell.execute_reply": "2021-05-31T13:54:06.094405Z"
    },
    "papermill": {
     "duration": 0.051713,
     "end_time": "2021-05-31T13:54:06.094562",
     "exception": false,
     "start_time": "2021-05-31T13:54:06.042849",
     "status": "completed"
    },
    "tags": []
   },
   "outputs": [],
   "source": [
    "# Replace the names of the authors with the correct ones\n",
    "bestsellers = bestsellers.replace('George R. R. Martin', 'George R.R. Martin')\n",
    "bestsellers = bestsellers.replace('J. K. Rowling', 'J.K. Rowling')"
   ]
  },
  {
   "cell_type": "code",
   "execution_count": 16,
   "metadata": {
    "execution": {
     "iopub.execute_input": "2021-05-31T13:54:06.185385Z",
     "iopub.status.busy": "2021-05-31T13:54:06.184796Z",
     "iopub.status.idle": "2021-05-31T13:54:06.194711Z",
     "shell.execute_reply": "2021-05-31T13:54:06.195415Z"
    },
    "papermill": {
     "duration": 0.056657,
     "end_time": "2021-05-31T13:54:06.195620",
     "exception": false,
     "start_time": "2021-05-31T13:54:06.138963",
     "status": "completed"
    },
    "tags": []
   },
   "outputs": [
    {
     "name": "stdout",
     "output_type": "stream",
     "text": [
      "Before Name: 350 After Name: 350\n",
      "Before Author: 246 After Author: 246\n",
      "Before Genre: 2 After Genre: 2\n"
     ]
    }
   ],
   "source": [
    "# Check if the changes have passed\n",
    "for col in col_name_without_numeric_data:\n",
    "    print(f'Before {col}: {len(set(bestsellers[col]))} After {col}: {len(set(bestsellers[col].str.title().str.strip()))}')"
   ]
  },
  {
   "cell_type": "code",
   "execution_count": 17,
   "metadata": {
    "execution": {
     "iopub.execute_input": "2021-05-31T13:54:06.292551Z",
     "iopub.status.busy": "2021-05-31T13:54:06.291938Z",
     "iopub.status.idle": "2021-05-31T13:54:06.294533Z",
     "shell.execute_reply": "2021-05-31T13:54:06.295023Z"
    },
    "papermill": {
     "duration": 0.055064,
     "end_time": "2021-05-31T13:54:06.295180",
     "exception": false,
     "start_time": "2021-05-31T13:54:06.240116",
     "status": "completed"
    },
    "tags": []
   },
   "outputs": [
    {
     "data": {
      "text/plain": [
       "['Non Fiction', 'Fiction']\n",
       "Categories (2, object): ['Non Fiction', 'Fiction']"
      ]
     },
     "execution_count": 17,
     "metadata": {},
     "output_type": "execute_result"
    }
   ],
   "source": [
    "# Check the column Genre\n",
    "genre = bestsellers.Genre.unique()\n",
    "genre"
   ]
  },
  {
   "cell_type": "markdown",
   "metadata": {
    "papermill": {
     "duration": 0.04476,
     "end_time": "2021-05-31T13:54:06.385659",
     "exception": false,
     "start_time": "2021-05-31T13:54:06.340899",
     "status": "completed"
    },
    "tags": []
   },
   "source": [
    "<p style=\"font-family: Arials, sans-serif; font-size: 14px; color: rgba(0,0,0,.7)\">Everything is fine with genres.</p>"
   ]
  },
  {
   "cell_type": "code",
   "execution_count": 18,
   "metadata": {
    "execution": {
     "iopub.execute_input": "2021-05-31T13:54:06.478467Z",
     "iopub.status.busy": "2021-05-31T13:54:06.477673Z",
     "iopub.status.idle": "2021-05-31T13:54:06.483999Z",
     "shell.execute_reply": "2021-05-31T13:54:06.484488Z"
    },
    "papermill": {
     "duration": 0.05411,
     "end_time": "2021-05-31T13:54:06.484637",
     "exception": false,
     "start_time": "2021-05-31T13:54:06.430527",
     "status": "completed"
    },
    "tags": []
   },
   "outputs": [
    {
     "data": {
      "text/plain": [
       "[2009, 2010, 2011, 2012, 2013, 2014, 2015, 2016, 2017, 2018, 2019]"
      ]
     },
     "execution_count": 18,
     "metadata": {},
     "output_type": "execute_result"
    }
   ],
   "source": [
    "# Check the column Year\n",
    "years = list(bestsellers.Year.unique())\n",
    "sorted(years)"
   ]
  },
  {
   "cell_type": "markdown",
   "metadata": {
    "papermill": {
     "duration": 0.044303,
     "end_time": "2021-05-31T13:54:06.573251",
     "exception": false,
     "start_time": "2021-05-31T13:54:06.528948",
     "status": "completed"
    },
    "tags": []
   },
   "source": [
    "<p style=\"font-family: Arials, sans-serif; font-size: 14px; color: rgba(0,0,0,.7)\">Everything is fine with years.</p>"
   ]
  },
  {
   "cell_type": "markdown",
   "metadata": {
    "papermill": {
     "duration": 0.044049,
     "end_time": "2021-05-31T13:54:06.661764",
     "exception": false,
     "start_time": "2021-05-31T13:54:06.617715",
     "status": "completed"
    },
    "tags": []
   },
   "source": [
    "<p style=\"font-family: Arials, sans-serif; font-size: 14px; color: rgba(0,0,0,.7)\">In addition, there may be duplicate rows in the data. Let's display the last 5 lines of the dataframe.</p>"
   ]
  },
  {
   "cell_type": "code",
   "execution_count": 19,
   "metadata": {
    "execution": {
     "iopub.execute_input": "2021-05-31T13:54:06.765545Z",
     "iopub.status.busy": "2021-05-31T13:54:06.764703Z",
     "iopub.status.idle": "2021-05-31T13:54:06.767915Z",
     "shell.execute_reply": "2021-05-31T13:54:06.768380Z"
    },
    "papermill": {
     "duration": 0.061855,
     "end_time": "2021-05-31T13:54:06.768540",
     "exception": false,
     "start_time": "2021-05-31T13:54:06.706685",
     "status": "completed"
    },
    "tags": []
   },
   "outputs": [
    {
     "data": {
      "text/html": [
       "<div>\n",
       "<style scoped>\n",
       "    .dataframe tbody tr th:only-of-type {\n",
       "        vertical-align: middle;\n",
       "    }\n",
       "\n",
       "    .dataframe tbody tr th {\n",
       "        vertical-align: top;\n",
       "    }\n",
       "\n",
       "    .dataframe thead th {\n",
       "        text-align: right;\n",
       "    }\n",
       "</style>\n",
       "<table border=\"1\" class=\"dataframe\">\n",
       "  <thead>\n",
       "    <tr style=\"text-align: right;\">\n",
       "      <th></th>\n",
       "      <th>Name</th>\n",
       "      <th>Author</th>\n",
       "      <th>User Rating</th>\n",
       "      <th>Reviews</th>\n",
       "      <th>Price</th>\n",
       "      <th>Year</th>\n",
       "      <th>Genre</th>\n",
       "    </tr>\n",
       "  </thead>\n",
       "  <tbody>\n",
       "    <tr>\n",
       "      <th>545</th>\n",
       "      <td>Wrecking Ball (Diary Of A Wimpy Kid Book 14)</td>\n",
       "      <td>Jeff Kinney</td>\n",
       "      <td>4.9</td>\n",
       "      <td>9413</td>\n",
       "      <td>8</td>\n",
       "      <td>2019</td>\n",
       "      <td>Fiction</td>\n",
       "    </tr>\n",
       "    <tr>\n",
       "      <th>546</th>\n",
       "      <td>You Are A Badass: How To Stop Doubting Your Gr...</td>\n",
       "      <td>Jen Sincero</td>\n",
       "      <td>4.7</td>\n",
       "      <td>14331</td>\n",
       "      <td>8</td>\n",
       "      <td>2016</td>\n",
       "      <td>Non Fiction</td>\n",
       "    </tr>\n",
       "    <tr>\n",
       "      <th>547</th>\n",
       "      <td>You Are A Badass: How To Stop Doubting Your Gr...</td>\n",
       "      <td>Jen Sincero</td>\n",
       "      <td>4.7</td>\n",
       "      <td>14331</td>\n",
       "      <td>8</td>\n",
       "      <td>2017</td>\n",
       "      <td>Non Fiction</td>\n",
       "    </tr>\n",
       "    <tr>\n",
       "      <th>548</th>\n",
       "      <td>You Are A Badass: How To Stop Doubting Your Gr...</td>\n",
       "      <td>Jen Sincero</td>\n",
       "      <td>4.7</td>\n",
       "      <td>14331</td>\n",
       "      <td>8</td>\n",
       "      <td>2018</td>\n",
       "      <td>Non Fiction</td>\n",
       "    </tr>\n",
       "    <tr>\n",
       "      <th>549</th>\n",
       "      <td>You Are A Badass: How To Stop Doubting Your Gr...</td>\n",
       "      <td>Jen Sincero</td>\n",
       "      <td>4.7</td>\n",
       "      <td>14331</td>\n",
       "      <td>8</td>\n",
       "      <td>2019</td>\n",
       "      <td>Non Fiction</td>\n",
       "    </tr>\n",
       "  </tbody>\n",
       "</table>\n",
       "</div>"
      ],
      "text/plain": [
       "                                                  Name       Author  \\\n",
       "545       Wrecking Ball (Diary Of A Wimpy Kid Book 14)  Jeff Kinney   \n",
       "546  You Are A Badass: How To Stop Doubting Your Gr...  Jen Sincero   \n",
       "547  You Are A Badass: How To Stop Doubting Your Gr...  Jen Sincero   \n",
       "548  You Are A Badass: How To Stop Doubting Your Gr...  Jen Sincero   \n",
       "549  You Are A Badass: How To Stop Doubting Your Gr...  Jen Sincero   \n",
       "\n",
       "     User Rating  Reviews  Price  Year        Genre  \n",
       "545          4.9     9413      8  2019      Fiction  \n",
       "546          4.7    14331      8  2016  Non Fiction  \n",
       "547          4.7    14331      8  2017  Non Fiction  \n",
       "548          4.7    14331      8  2018  Non Fiction  \n",
       "549          4.7    14331      8  2019  Non Fiction  "
      ]
     },
     "execution_count": 19,
     "metadata": {},
     "output_type": "execute_result"
    }
   ],
   "source": [
    "# Let's display the last 5 lines of the dataframe\n",
    "bestsellers.tail()"
   ]
  },
  {
   "cell_type": "markdown",
   "metadata": {
    "papermill": {
     "duration": 0.044399,
     "end_time": "2021-05-31T13:54:06.858149",
     "exception": false,
     "start_time": "2021-05-31T13:54:06.813750",
     "status": "completed"
    },
    "tags": []
   },
   "source": [
    "<p style=\"font-family: Arials, sans-serif; font-size: 14px; color: rgba(0,0,0,.7)\">In addition, it is worth noting that there are duplicate rows in the data, but with different years. Let's remove duplicates. Let's leave the data without years for later analysis.</p>"
   ]
  },
  {
   "cell_type": "code",
   "execution_count": 20,
   "metadata": {
    "execution": {
     "iopub.execute_input": "2021-05-31T13:54:06.951887Z",
     "iopub.status.busy": "2021-05-31T13:54:06.951253Z",
     "iopub.status.idle": "2021-05-31T13:54:06.954682Z",
     "shell.execute_reply": "2021-05-31T13:54:06.955208Z"
    },
    "papermill": {
     "duration": 0.052335,
     "end_time": "2021-05-31T13:54:06.955366",
     "exception": false,
     "start_time": "2021-05-31T13:54:06.903031",
     "status": "completed"
    },
    "tags": []
   },
   "outputs": [],
   "source": [
    "# Delete the year column\n",
    "del bestsellers['Year']"
   ]
  },
  {
   "cell_type": "code",
   "execution_count": 21,
   "metadata": {
    "execution": {
     "iopub.execute_input": "2021-05-31T13:54:07.050398Z",
     "iopub.status.busy": "2021-05-31T13:54:07.049794Z",
     "iopub.status.idle": "2021-05-31T13:54:07.070699Z",
     "shell.execute_reply": "2021-05-31T13:54:07.070218Z"
    },
    "papermill": {
     "duration": 0.069191,
     "end_time": "2021-05-31T13:54:07.070860",
     "exception": false,
     "start_time": "2021-05-31T13:54:07.001669",
     "status": "completed"
    },
    "tags": []
   },
   "outputs": [
    {
     "name": "stdout",
     "output_type": "stream",
     "text": [
      "<class 'pandas.core.frame.DataFrame'>\n",
      "Int64Index: 361 entries, 0 to 546\n",
      "Data columns (total 6 columns):\n",
      " #   Column       Non-Null Count  Dtype   \n",
      "---  ------       --------------  -----   \n",
      " 0   Name         361 non-null    object  \n",
      " 1   Author       361 non-null    object  \n",
      " 2   User Rating  361 non-null    float64 \n",
      " 3   Reviews      361 non-null    int64   \n",
      " 4   Price        361 non-null    int64   \n",
      " 5   Genre        361 non-null    category\n",
      "dtypes: category(1), float64(1), int64(2), object(2)\n",
      "memory usage: 17.4+ KB\n"
     ]
    }
   ],
   "source": [
    "# Remove duplicates and check how many books are left in the data\n",
    "bestsellers = bestsellers.drop_duplicates(keep='first')\n",
    "bestsellers.info()"
   ]
  },
  {
   "cell_type": "markdown",
   "metadata": {
    "papermill": {
     "duration": 0.044765,
     "end_time": "2021-05-31T13:54:07.161286",
     "exception": false,
     "start_time": "2021-05-31T13:54:07.116521",
     "status": "completed"
    },
    "tags": []
   },
   "source": [
    "<p style=\"font-family: Arials, sans-serif; font-size: 14px; color: rgba(0,0,0,.7)\">We received 11 more books than they actually have. Let's see why duplication occurs.</p>"
   ]
  },
  {
   "cell_type": "code",
   "execution_count": 22,
   "metadata": {
    "execution": {
     "iopub.execute_input": "2021-05-31T13:54:07.255285Z",
     "iopub.status.busy": "2021-05-31T13:54:07.254362Z",
     "iopub.status.idle": "2021-05-31T13:54:07.260587Z",
     "shell.execute_reply": "2021-05-31T13:54:07.261027Z"
    },
    "papermill": {
     "duration": 0.054438,
     "end_time": "2021-05-31T13:54:07.261186",
     "exception": false,
     "start_time": "2021-05-31T13:54:07.206748",
     "status": "completed"
    },
    "tags": []
   },
   "outputs": [
    {
     "name": "stdout",
     "output_type": "stream",
     "text": [
      "[('The Help', 3), ('Gone Girl', 2), (\"Quiet: The Power Of Introverts In A World That Can'T Stop Talking\", 2), ('The 5 Love Languages: The Secret To Love That Lasts', 2), ('The 7 Habits Of Highly Effective People: Powerful Lessons In Personal Change', 2), ('The Fault In Our Stars', 2), ('The Girl On The Train', 2), ('The Immortal Life Of Henrietta Lacks', 2), ('To Kill A Mockingbird', 2), ('Unbroken: A World War Ii Story Of Survival, Resilience, And Redemption', 2), ('10-Day Green Smoothie Cleanse', 1)]\n"
     ]
    }
   ],
   "source": [
    "# Let's count the number of each book in the data\n",
    "count_books = collections.Counter(bestsellers.Name.tolist())\n",
    "print(count_books.most_common(11))"
   ]
  },
  {
   "cell_type": "markdown",
   "metadata": {
    "papermill": {
     "duration": 0.046034,
     "end_time": "2021-05-31T13:54:07.354184",
     "exception": false,
     "start_time": "2021-05-31T13:54:07.308150",
     "status": "completed"
    },
    "tags": []
   },
   "source": [
    "<p style=\"font-family: Arials, sans-serif; font-size: 14px; color: rgba(0,0,0,.7)\">Сheck with the example of a book <strong>The Help</strong>.</p>\n"
   ]
  },
  {
   "cell_type": "code",
   "execution_count": 23,
   "metadata": {
    "execution": {
     "iopub.execute_input": "2021-05-31T13:54:07.449369Z",
     "iopub.status.busy": "2021-05-31T13:54:07.448763Z",
     "iopub.status.idle": "2021-05-31T13:54:07.460452Z",
     "shell.execute_reply": "2021-05-31T13:54:07.460953Z"
    },
    "papermill": {
     "duration": 0.060749,
     "end_time": "2021-05-31T13:54:07.461132",
     "exception": false,
     "start_time": "2021-05-31T13:54:07.400383",
     "status": "completed"
    },
    "tags": []
   },
   "outputs": [
    {
     "data": {
      "text/html": [
       "<div>\n",
       "<style scoped>\n",
       "    .dataframe tbody tr th:only-of-type {\n",
       "        vertical-align: middle;\n",
       "    }\n",
       "\n",
       "    .dataframe tbody tr th {\n",
       "        vertical-align: top;\n",
       "    }\n",
       "\n",
       "    .dataframe thead th {\n",
       "        text-align: right;\n",
       "    }\n",
       "</style>\n",
       "<table border=\"1\" class=\"dataframe\">\n",
       "  <thead>\n",
       "    <tr style=\"text-align: right;\">\n",
       "      <th></th>\n",
       "      <th>Name</th>\n",
       "      <th>Author</th>\n",
       "      <th>User Rating</th>\n",
       "      <th>Reviews</th>\n",
       "      <th>Price</th>\n",
       "      <th>Genre</th>\n",
       "    </tr>\n",
       "  </thead>\n",
       "  <tbody>\n",
       "    <tr>\n",
       "      <th>402</th>\n",
       "      <td>The Help</td>\n",
       "      <td>Kathryn Stockett</td>\n",
       "      <td>4.8</td>\n",
       "      <td>13871</td>\n",
       "      <td>6</td>\n",
       "      <td>Fiction</td>\n",
       "    </tr>\n",
       "    <tr>\n",
       "      <th>404</th>\n",
       "      <td>The Help</td>\n",
       "      <td>Kathryn Stockett</td>\n",
       "      <td>4.8</td>\n",
       "      <td>13871</td>\n",
       "      <td>8</td>\n",
       "      <td>Fiction</td>\n",
       "    </tr>\n",
       "    <tr>\n",
       "      <th>405</th>\n",
       "      <td>The Help</td>\n",
       "      <td>Kathryn Stockett</td>\n",
       "      <td>4.8</td>\n",
       "      <td>13871</td>\n",
       "      <td>7</td>\n",
       "      <td>Fiction</td>\n",
       "    </tr>\n",
       "  </tbody>\n",
       "</table>\n",
       "</div>"
      ],
      "text/plain": [
       "         Name            Author  User Rating  Reviews  Price    Genre\n",
       "402  The Help  Kathryn Stockett          4.8    13871      6  Fiction\n",
       "404  The Help  Kathryn Stockett          4.8    13871      8  Fiction\n",
       "405  The Help  Kathryn Stockett          4.8    13871      7  Fiction"
      ]
     },
     "execution_count": 23,
     "metadata": {},
     "output_type": "execute_result"
    }
   ],
   "source": [
    "# Display information on the book The Help\n",
    "bestsellers[bestsellers['Name'] == 'The Help']"
   ]
  },
  {
   "cell_type": "markdown",
   "metadata": {
    "papermill": {
     "duration": 0.047039,
     "end_time": "2021-05-31T13:54:07.555297",
     "exception": false,
     "start_time": "2021-05-31T13:54:07.508258",
     "status": "completed"
    },
    "tags": []
   },
   "source": [
    "<p style=\"font-family: Arials, sans-serif; font-size: 14px; color: rgba(0,0,0,.7)\">Records are duplicated by price. Apparently, in different years the book costs differently, which is quite logical taking into account inflation, demand, etc. Let's leave only the last entries.</p>"
   ]
  },
  {
   "cell_type": "code",
   "execution_count": 24,
   "metadata": {
    "execution": {
     "iopub.execute_input": "2021-05-31T13:54:07.652083Z",
     "iopub.status.busy": "2021-05-31T13:54:07.651514Z",
     "iopub.status.idle": "2021-05-31T13:54:07.670942Z",
     "shell.execute_reply": "2021-05-31T13:54:07.671511Z"
    },
    "papermill": {
     "duration": 0.06948,
     "end_time": "2021-05-31T13:54:07.671671",
     "exception": false,
     "start_time": "2021-05-31T13:54:07.602191",
     "status": "completed"
    },
    "tags": []
   },
   "outputs": [
    {
     "data": {
      "text/html": [
       "<div>\n",
       "<style scoped>\n",
       "    .dataframe tbody tr th:only-of-type {\n",
       "        vertical-align: middle;\n",
       "    }\n",
       "\n",
       "    .dataframe tbody tr th {\n",
       "        vertical-align: top;\n",
       "    }\n",
       "\n",
       "    .dataframe thead th {\n",
       "        text-align: right;\n",
       "    }\n",
       "</style>\n",
       "<table border=\"1\" class=\"dataframe\">\n",
       "  <thead>\n",
       "    <tr style=\"text-align: right;\">\n",
       "      <th></th>\n",
       "      <th>Name</th>\n",
       "      <th>Author</th>\n",
       "      <th>User Rating</th>\n",
       "      <th>Reviews</th>\n",
       "      <th>Price</th>\n",
       "      <th>Genre</th>\n",
       "    </tr>\n",
       "  </thead>\n",
       "  <tbody>\n",
       "    <tr>\n",
       "      <th>0</th>\n",
       "      <td>10-Day Green Smoothie Cleanse</td>\n",
       "      <td>JJ Smith</td>\n",
       "      <td>4.7</td>\n",
       "      <td>17350</td>\n",
       "      <td>8</td>\n",
       "      <td>Non Fiction</td>\n",
       "    </tr>\n",
       "    <tr>\n",
       "      <th>1</th>\n",
       "      <td>11/22/63: A Novel</td>\n",
       "      <td>Stephen King</td>\n",
       "      <td>4.6</td>\n",
       "      <td>2052</td>\n",
       "      <td>22</td>\n",
       "      <td>Fiction</td>\n",
       "    </tr>\n",
       "    <tr>\n",
       "      <th>2</th>\n",
       "      <td>12 Rules For Life: An Antidote To Chaos</td>\n",
       "      <td>Jordan B. Peterson</td>\n",
       "      <td>4.7</td>\n",
       "      <td>18979</td>\n",
       "      <td>15</td>\n",
       "      <td>Non Fiction</td>\n",
       "    </tr>\n",
       "    <tr>\n",
       "      <th>3</th>\n",
       "      <td>1984 (Signet Classics)</td>\n",
       "      <td>George Orwell</td>\n",
       "      <td>4.7</td>\n",
       "      <td>21424</td>\n",
       "      <td>6</td>\n",
       "      <td>Fiction</td>\n",
       "    </tr>\n",
       "    <tr>\n",
       "      <th>4</th>\n",
       "      <td>5,000 Awesome Facts (About Everything!) (Natio...</td>\n",
       "      <td>National Geographic Kids</td>\n",
       "      <td>4.8</td>\n",
       "      <td>7665</td>\n",
       "      <td>12</td>\n",
       "      <td>Non Fiction</td>\n",
       "    </tr>\n",
       "    <tr>\n",
       "      <th>...</th>\n",
       "      <td>...</td>\n",
       "      <td>...</td>\n",
       "      <td>...</td>\n",
       "      <td>...</td>\n",
       "      <td>...</td>\n",
       "      <td>...</td>\n",
       "    </tr>\n",
       "    <tr>\n",
       "      <th>538</th>\n",
       "      <td>Winter Of The World: Book Two Of The Century T...</td>\n",
       "      <td>Ken Follett</td>\n",
       "      <td>4.5</td>\n",
       "      <td>10760</td>\n",
       "      <td>15</td>\n",
       "      <td>Fiction</td>\n",
       "    </tr>\n",
       "    <tr>\n",
       "      <th>539</th>\n",
       "      <td>Women Food And God: An Unexpected Path To Almo...</td>\n",
       "      <td>Geneen Roth</td>\n",
       "      <td>4.2</td>\n",
       "      <td>1302</td>\n",
       "      <td>11</td>\n",
       "      <td>Non Fiction</td>\n",
       "    </tr>\n",
       "    <tr>\n",
       "      <th>540</th>\n",
       "      <td>Wonder</td>\n",
       "      <td>R. J. Palacio</td>\n",
       "      <td>4.8</td>\n",
       "      <td>21625</td>\n",
       "      <td>9</td>\n",
       "      <td>Fiction</td>\n",
       "    </tr>\n",
       "    <tr>\n",
       "      <th>545</th>\n",
       "      <td>Wrecking Ball (Diary Of A Wimpy Kid Book 14)</td>\n",
       "      <td>Jeff Kinney</td>\n",
       "      <td>4.9</td>\n",
       "      <td>9413</td>\n",
       "      <td>8</td>\n",
       "      <td>Fiction</td>\n",
       "    </tr>\n",
       "    <tr>\n",
       "      <th>546</th>\n",
       "      <td>You Are A Badass: How To Stop Doubting Your Gr...</td>\n",
       "      <td>Jen Sincero</td>\n",
       "      <td>4.7</td>\n",
       "      <td>14331</td>\n",
       "      <td>8</td>\n",
       "      <td>Non Fiction</td>\n",
       "    </tr>\n",
       "  </tbody>\n",
       "</table>\n",
       "<p>350 rows × 6 columns</p>\n",
       "</div>"
      ],
      "text/plain": [
       "                                                  Name  \\\n",
       "0                        10-Day Green Smoothie Cleanse   \n",
       "1                                    11/22/63: A Novel   \n",
       "2              12 Rules For Life: An Antidote To Chaos   \n",
       "3                               1984 (Signet Classics)   \n",
       "4    5,000 Awesome Facts (About Everything!) (Natio...   \n",
       "..                                                 ...   \n",
       "538  Winter Of The World: Book Two Of The Century T...   \n",
       "539  Women Food And God: An Unexpected Path To Almo...   \n",
       "540                                             Wonder   \n",
       "545       Wrecking Ball (Diary Of A Wimpy Kid Book 14)   \n",
       "546  You Are A Badass: How To Stop Doubting Your Gr...   \n",
       "\n",
       "                       Author  User Rating  Reviews  Price        Genre  \n",
       "0                    JJ Smith          4.7    17350      8  Non Fiction  \n",
       "1                Stephen King          4.6     2052     22      Fiction  \n",
       "2          Jordan B. Peterson          4.7    18979     15  Non Fiction  \n",
       "3               George Orwell          4.7    21424      6      Fiction  \n",
       "4    National Geographic Kids          4.8     7665     12  Non Fiction  \n",
       "..                        ...          ...      ...    ...          ...  \n",
       "538               Ken Follett          4.5    10760     15      Fiction  \n",
       "539               Geneen Roth          4.2     1302     11  Non Fiction  \n",
       "540             R. J. Palacio          4.8    21625      9      Fiction  \n",
       "545               Jeff Kinney          4.9     9413      8      Fiction  \n",
       "546               Jen Sincero          4.7    14331      8  Non Fiction  \n",
       "\n",
       "[350 rows x 6 columns]"
      ]
     },
     "execution_count": 24,
     "metadata": {},
     "output_type": "execute_result"
    }
   ],
   "source": [
    "# Drop duplicates\n",
    "bestsellers = bestsellers.drop_duplicates(subset='Name', keep='last')\n",
    "bestsellers"
   ]
  },
  {
   "cell_type": "markdown",
   "metadata": {
    "papermill": {
     "duration": 0.047105,
     "end_time": "2021-05-31T13:54:07.766572",
     "exception": false,
     "start_time": "2021-05-31T13:54:07.719467",
     "status": "completed"
    },
    "tags": []
   },
   "source": [
    "<div style=\"background: #DCDCDC\"><p style=\"font-family: Arials, sans-serif; font-size: 16px; color: #000000\"><strong>CONCLUSION:</strong> Thus, the data contains 350 different books written by 246 authors. All books are presented in two categories (Non Fiction, Fiction).</p></div>"
   ]
  },
  {
   "cell_type": "markdown",
   "metadata": {
    "papermill": {
     "duration": 0.047198,
     "end_time": "2021-05-31T13:54:07.861622",
     "exception": false,
     "start_time": "2021-05-31T13:54:07.814424",
     "status": "completed"
    },
    "tags": []
   },
   "source": [
    "<p id=\"part7\"></p>\n",
    "\n",
    "<p style=\"font-family: Arials; font-size: 16px; font-style: normal; font-weight: normal; letter-spacing: 3px; color: #FF8C00; line-height:1.0\">2.4 Categorical data</p>\n",
    "<p style=\"font-family: Arials, sans-serif; font-size: 14px; color: rgba(0,0,0,.7)\">In this section, we will analyze categorical data and answer the following questions:</p>\n",
    "<ol style=\"font-family: Arials, sans-serif; font-size: 14px; line-height:1.5; color: rgba(0,0,0,.7)\">\n",
    "<li>Which author's books receive the highest average rating (top authors).</li>\n",
    "<p></p>\n",
    "<li>Which author has written the most bestsellers (top authors).</li>\n",
    "<p></p>\n",
    "<li>Which genres become bestsellers more often.</li>\n",
    "<p></p>\n",
    "<li>Which book has the most reviews (top books).</li>\n",
    "<p></p>\n",
    "</ol>"
   ]
  },
  {
   "cell_type": "markdown",
   "metadata": {
    "papermill": {
     "duration": 0.04772,
     "end_time": "2021-05-31T13:54:07.956963",
     "exception": false,
     "start_time": "2021-05-31T13:54:07.909243",
     "status": "completed"
    },
    "tags": []
   },
   "source": [
    "<p style=\"font-family: Arials, sans-serif; font-size: 14px; color: rgba(0,0,0,.7)\">Let's create new dataframes based on the average rating of authors, the number of books written by authors, the number of reviews for books and the number of books by genre. We visualize the received information.</p>"
   ]
  },
  {
   "cell_type": "code",
   "execution_count": 25,
   "metadata": {
    "_kg_hide-input": true,
    "execution": {
     "iopub.execute_input": "2021-05-31T13:54:08.055027Z",
     "iopub.status.busy": "2021-05-31T13:54:08.054447Z",
     "iopub.status.idle": "2021-05-31T13:54:08.074204Z",
     "shell.execute_reply": "2021-05-31T13:54:08.074658Z"
    },
    "papermill": {
     "duration": 0.070387,
     "end_time": "2021-05-31T13:54:08.074809",
     "exception": false,
     "start_time": "2021-05-31T13:54:08.004422",
     "status": "completed"
    },
    "tags": []
   },
   "outputs": [],
   "source": [
    "# We take all authors with the highest average rating\n",
    "top_13_autors = bestsellers.groupby('Author')[['User Rating']].mean()\\\n",
    "                                                              .sort_values('User Rating', ascending=False)\\\n",
    "                                                              .head(13)\\\n",
    "                                                              .reset_index()\n",
    "# We take the authors who have written the most bestsellers\n",
    "number_of_books_written = bestsellers.groupby('Author')[['Name']].count()\\\n",
    "                                                                 .sort_values('Name', ascending=False)\\\n",
    "                                                                 .head(10)\\\n",
    "                                                                 .reset_index()\n",
    "\n",
    "# We take books with the number of reviews\n",
    "books_with_the_number_of_reviews = bestsellers.groupby('Name')[['Reviews']].sum()\\\n",
    "                                                                           .sort_values('Reviews', ascending=False)\\\n",
    "                                                                           .head(5)\\\n",
    "                                                                           .reset_index()\n",
    "\n",
    "# We take the number of books by genre\n",
    "number_of_books_by_genre = bestsellers.groupby('Genre')[['Name']].count()\\\n",
    "                                                                 .sort_values('Name', ascending=False)\\\n",
    "                                                                 .head(10)\\\n",
    "                                                                 .reset_index()"
   ]
  },
  {
   "cell_type": "code",
   "execution_count": 26,
   "metadata": {
    "_kg_hide-input": true,
    "execution": {
     "iopub.execute_input": "2021-05-31T13:54:08.172977Z",
     "iopub.status.busy": "2021-05-31T13:54:08.172219Z",
     "iopub.status.idle": "2021-05-31T13:54:08.631456Z",
     "shell.execute_reply": "2021-05-31T13:54:08.632255Z"
    },
    "papermill": {
     "duration": 0.510219,
     "end_time": "2021-05-31T13:54:08.632485",
     "exception": false,
     "start_time": "2021-05-31T13:54:08.122266",
     "status": "completed"
    },
    "tags": []
   },
   "outputs": [
    {
     "data": {
      "text/html": [
       "        <script type=\"text/javascript\">\n",
       "        window.PlotlyConfig = {MathJaxConfig: 'local'};\n",
       "        if (window.MathJax) {MathJax.Hub.Config({SVG: {font: \"STIX-Web\"}});}\n",
       "        if (typeof require !== 'undefined') {\n",
       "        require.undef(\"plotly\");\n",
       "        requirejs.config({\n",
       "            paths: {\n",
       "                'plotly': ['https://cdn.plot.ly/plotly-latest.min']\n",
       "            }\n",
       "        });\n",
       "        require(['plotly'], function(Plotly) {\n",
       "            window._Plotly = Plotly;\n",
       "        });\n",
       "        }\n",
       "        </script>\n",
       "        "
      ]
     },
     "metadata": {},
     "output_type": "display_data"
    },
    {
     "data": {
      "text/html": [
       "<div>                            <div id=\"b829da48-df60-4cf8-a043-fb94ed0bd76b\" class=\"plotly-graph-div\" style=\"height:525px; width:100%;\"></div>            <script type=\"text/javascript\">                require([\"plotly\"], function(Plotly) {                    window.PLOTLYENV=window.PLOTLYENV || {};                                    if (document.getElementById(\"b829da48-df60-4cf8-a043-fb94ed0bd76b\")) {                    Plotly.newPlot(                        \"b829da48-df60-4cf8-a043-fb94ed0bd76b\",                        [{\"cells\": {\"fill\": {\"color\": \"White\"}, \"line\": {\"color\": \"darkslategray\"}, \"values\": [[\"Nathan W. Pyle\", \"Patrick Thorpe\", \"Eric Carle\", \"Emily Winfield Martin\", \"Chip Gaines\", \"Jill Twiss\", \"Rush Limbaugh\", \"Sherri Duskey Rinker\", \"Alice Schertle\", \"Pete Souza\", \"Sarah Young\", \"Lin-Manuel Miranda\", \"Bill Martin Jr.\"], [4.9, 4.9, 4.9, 4.9, 4.9, 4.9, 4.9, 4.9, 4.9, 4.9, 4.9, 4.9, 4.9]]}, \"columnorder\": [1, 2], \"columnwidth\": [100, 50], \"header\": {\"fill\": {\"color\": \"Salmon\"}, \"height\": 30, \"line\": {\"color\": \"darkslategray\"}, \"values\": [\"Author\", \"User Rating\"]}, \"type\": \"table\"}],                        {\"font\": {\"color\": \"black\", \"family\": \"Arial\", \"size\": 12}, \"showlegend\": false, \"template\": {\"data\": {\"bar\": [{\"error_x\": {\"color\": \"#2a3f5f\"}, \"error_y\": {\"color\": \"#2a3f5f\"}, \"marker\": {\"line\": {\"color\": \"#E5ECF6\", \"width\": 0.5}}, \"type\": \"bar\"}], \"barpolar\": [{\"marker\": {\"line\": {\"color\": \"#E5ECF6\", \"width\": 0.5}}, \"type\": \"barpolar\"}], \"carpet\": [{\"aaxis\": {\"endlinecolor\": \"#2a3f5f\", \"gridcolor\": \"white\", \"linecolor\": \"white\", \"minorgridcolor\": \"white\", \"startlinecolor\": \"#2a3f5f\"}, \"baxis\": {\"endlinecolor\": \"#2a3f5f\", \"gridcolor\": \"white\", \"linecolor\": \"white\", \"minorgridcolor\": \"white\", \"startlinecolor\": \"#2a3f5f\"}, \"type\": \"carpet\"}], \"choropleth\": [{\"colorbar\": {\"outlinewidth\": 0, \"ticks\": \"\"}, \"type\": \"choropleth\"}], \"contour\": [{\"colorbar\": {\"outlinewidth\": 0, \"ticks\": \"\"}, \"colorscale\": [[0.0, \"#0d0887\"], [0.1111111111111111, \"#46039f\"], [0.2222222222222222, \"#7201a8\"], [0.3333333333333333, \"#9c179e\"], [0.4444444444444444, \"#bd3786\"], [0.5555555555555556, \"#d8576b\"], [0.6666666666666666, \"#ed7953\"], [0.7777777777777778, \"#fb9f3a\"], [0.8888888888888888, \"#fdca26\"], [1.0, \"#f0f921\"]], \"type\": \"contour\"}], \"contourcarpet\": [{\"colorbar\": {\"outlinewidth\": 0, \"ticks\": \"\"}, \"type\": \"contourcarpet\"}], \"heatmap\": [{\"colorbar\": {\"outlinewidth\": 0, \"ticks\": \"\"}, \"colorscale\": [[0.0, \"#0d0887\"], [0.1111111111111111, \"#46039f\"], [0.2222222222222222, \"#7201a8\"], [0.3333333333333333, \"#9c179e\"], [0.4444444444444444, \"#bd3786\"], [0.5555555555555556, \"#d8576b\"], [0.6666666666666666, \"#ed7953\"], [0.7777777777777778, \"#fb9f3a\"], [0.8888888888888888, \"#fdca26\"], [1.0, \"#f0f921\"]], \"type\": \"heatmap\"}], \"heatmapgl\": [{\"colorbar\": {\"outlinewidth\": 0, \"ticks\": \"\"}, \"colorscale\": [[0.0, \"#0d0887\"], [0.1111111111111111, \"#46039f\"], [0.2222222222222222, \"#7201a8\"], [0.3333333333333333, \"#9c179e\"], [0.4444444444444444, \"#bd3786\"], [0.5555555555555556, \"#d8576b\"], [0.6666666666666666, \"#ed7953\"], [0.7777777777777778, \"#fb9f3a\"], [0.8888888888888888, \"#fdca26\"], [1.0, \"#f0f921\"]], \"type\": \"heatmapgl\"}], \"histogram\": [{\"marker\": {\"colorbar\": {\"outlinewidth\": 0, \"ticks\": \"\"}}, \"type\": \"histogram\"}], \"histogram2d\": [{\"colorbar\": {\"outlinewidth\": 0, \"ticks\": \"\"}, \"colorscale\": [[0.0, \"#0d0887\"], [0.1111111111111111, \"#46039f\"], [0.2222222222222222, \"#7201a8\"], [0.3333333333333333, \"#9c179e\"], [0.4444444444444444, \"#bd3786\"], [0.5555555555555556, \"#d8576b\"], [0.6666666666666666, \"#ed7953\"], [0.7777777777777778, \"#fb9f3a\"], [0.8888888888888888, \"#fdca26\"], [1.0, \"#f0f921\"]], \"type\": \"histogram2d\"}], \"histogram2dcontour\": [{\"colorbar\": {\"outlinewidth\": 0, \"ticks\": \"\"}, \"colorscale\": [[0.0, \"#0d0887\"], [0.1111111111111111, \"#46039f\"], [0.2222222222222222, \"#7201a8\"], [0.3333333333333333, \"#9c179e\"], [0.4444444444444444, \"#bd3786\"], [0.5555555555555556, \"#d8576b\"], [0.6666666666666666, \"#ed7953\"], [0.7777777777777778, \"#fb9f3a\"], [0.8888888888888888, \"#fdca26\"], [1.0, \"#f0f921\"]], \"type\": \"histogram2dcontour\"}], \"mesh3d\": [{\"colorbar\": {\"outlinewidth\": 0, \"ticks\": \"\"}, \"type\": \"mesh3d\"}], \"parcoords\": [{\"line\": {\"colorbar\": {\"outlinewidth\": 0, \"ticks\": \"\"}}, \"type\": \"parcoords\"}], \"pie\": [{\"automargin\": true, \"type\": \"pie\"}], \"scatter\": [{\"marker\": {\"colorbar\": {\"outlinewidth\": 0, \"ticks\": \"\"}}, \"type\": \"scatter\"}], \"scatter3d\": [{\"line\": {\"colorbar\": {\"outlinewidth\": 0, \"ticks\": \"\"}}, \"marker\": {\"colorbar\": {\"outlinewidth\": 0, \"ticks\": \"\"}}, \"type\": \"scatter3d\"}], \"scattercarpet\": [{\"marker\": {\"colorbar\": {\"outlinewidth\": 0, \"ticks\": \"\"}}, \"type\": \"scattercarpet\"}], \"scattergeo\": [{\"marker\": {\"colorbar\": {\"outlinewidth\": 0, \"ticks\": \"\"}}, \"type\": \"scattergeo\"}], \"scattergl\": [{\"marker\": {\"colorbar\": {\"outlinewidth\": 0, \"ticks\": \"\"}}, \"type\": \"scattergl\"}], \"scattermapbox\": [{\"marker\": {\"colorbar\": {\"outlinewidth\": 0, \"ticks\": \"\"}}, \"type\": \"scattermapbox\"}], \"scatterpolar\": [{\"marker\": {\"colorbar\": {\"outlinewidth\": 0, \"ticks\": \"\"}}, \"type\": \"scatterpolar\"}], \"scatterpolargl\": [{\"marker\": {\"colorbar\": {\"outlinewidth\": 0, \"ticks\": \"\"}}, \"type\": \"scatterpolargl\"}], \"scatterternary\": [{\"marker\": {\"colorbar\": {\"outlinewidth\": 0, \"ticks\": \"\"}}, \"type\": \"scatterternary\"}], \"surface\": [{\"colorbar\": {\"outlinewidth\": 0, \"ticks\": \"\"}, \"colorscale\": [[0.0, \"#0d0887\"], [0.1111111111111111, \"#46039f\"], [0.2222222222222222, \"#7201a8\"], [0.3333333333333333, \"#9c179e\"], [0.4444444444444444, \"#bd3786\"], [0.5555555555555556, \"#d8576b\"], [0.6666666666666666, \"#ed7953\"], [0.7777777777777778, \"#fb9f3a\"], [0.8888888888888888, \"#fdca26\"], [1.0, \"#f0f921\"]], \"type\": \"surface\"}], \"table\": [{\"cells\": {\"fill\": {\"color\": \"#EBF0F8\"}, \"line\": {\"color\": \"white\"}}, \"header\": {\"fill\": {\"color\": \"#C8D4E3\"}, \"line\": {\"color\": \"white\"}}, \"type\": \"table\"}]}, \"layout\": {\"annotationdefaults\": {\"arrowcolor\": \"#2a3f5f\", \"arrowhead\": 0, \"arrowwidth\": 1}, \"autotypenumbers\": \"strict\", \"coloraxis\": {\"colorbar\": {\"outlinewidth\": 0, \"ticks\": \"\"}}, \"colorscale\": {\"diverging\": [[0, \"#8e0152\"], [0.1, \"#c51b7d\"], [0.2, \"#de77ae\"], [0.3, \"#f1b6da\"], [0.4, \"#fde0ef\"], [0.5, \"#f7f7f7\"], [0.6, \"#e6f5d0\"], [0.7, \"#b8e186\"], [0.8, \"#7fbc41\"], [0.9, \"#4d9221\"], [1, \"#276419\"]], \"sequential\": [[0.0, \"#0d0887\"], [0.1111111111111111, \"#46039f\"], [0.2222222222222222, \"#7201a8\"], [0.3333333333333333, \"#9c179e\"], [0.4444444444444444, \"#bd3786\"], [0.5555555555555556, \"#d8576b\"], [0.6666666666666666, \"#ed7953\"], [0.7777777777777778, \"#fb9f3a\"], [0.8888888888888888, \"#fdca26\"], [1.0, \"#f0f921\"]], \"sequentialminus\": [[0.0, \"#0d0887\"], [0.1111111111111111, \"#46039f\"], [0.2222222222222222, \"#7201a8\"], [0.3333333333333333, \"#9c179e\"], [0.4444444444444444, \"#bd3786\"], [0.5555555555555556, \"#d8576b\"], [0.6666666666666666, \"#ed7953\"], [0.7777777777777778, \"#fb9f3a\"], [0.8888888888888888, \"#fdca26\"], [1.0, \"#f0f921\"]]}, \"colorway\": [\"#636efa\", \"#EF553B\", \"#00cc96\", \"#ab63fa\", \"#FFA15A\", \"#19d3f3\", \"#FF6692\", \"#B6E880\", \"#FF97FF\", \"#FECB52\"], \"font\": {\"color\": \"#2a3f5f\"}, \"geo\": {\"bgcolor\": \"white\", \"lakecolor\": \"white\", \"landcolor\": \"#E5ECF6\", \"showlakes\": true, \"showland\": true, \"subunitcolor\": \"white\"}, \"hoverlabel\": {\"align\": \"left\"}, \"hovermode\": \"closest\", \"mapbox\": {\"style\": \"light\"}, \"paper_bgcolor\": \"white\", \"plot_bgcolor\": \"#E5ECF6\", \"polar\": {\"angularaxis\": {\"gridcolor\": \"white\", \"linecolor\": \"white\", \"ticks\": \"\"}, \"bgcolor\": \"#E5ECF6\", \"radialaxis\": {\"gridcolor\": \"white\", \"linecolor\": \"white\", \"ticks\": \"\"}}, \"scene\": {\"xaxis\": {\"backgroundcolor\": \"#E5ECF6\", \"gridcolor\": \"white\", \"gridwidth\": 2, \"linecolor\": \"white\", \"showbackground\": true, \"ticks\": \"\", \"zerolinecolor\": \"white\"}, \"yaxis\": {\"backgroundcolor\": \"#E5ECF6\", \"gridcolor\": \"white\", \"gridwidth\": 2, \"linecolor\": \"white\", \"showbackground\": true, \"ticks\": \"\", \"zerolinecolor\": \"white\"}, \"zaxis\": {\"backgroundcolor\": \"#E5ECF6\", \"gridcolor\": \"white\", \"gridwidth\": 2, \"linecolor\": \"white\", \"showbackground\": true, \"ticks\": \"\", \"zerolinecolor\": \"white\"}}, \"shapedefaults\": {\"line\": {\"color\": \"#2a3f5f\"}}, \"ternary\": {\"aaxis\": {\"gridcolor\": \"white\", \"linecolor\": \"white\", \"ticks\": \"\"}, \"baxis\": {\"gridcolor\": \"white\", \"linecolor\": \"white\", \"ticks\": \"\"}, \"bgcolor\": \"#E5ECF6\", \"caxis\": {\"gridcolor\": \"white\", \"linecolor\": \"white\", \"ticks\": \"\"}}, \"title\": {\"x\": 0.05}, \"xaxis\": {\"automargin\": true, \"gridcolor\": \"white\", \"linecolor\": \"white\", \"ticks\": \"\", \"title\": {\"standoff\": 15}, \"zerolinecolor\": \"white\", \"zerolinewidth\": 2}, \"yaxis\": {\"automargin\": true, \"gridcolor\": \"white\", \"linecolor\": \"white\", \"ticks\": \"\", \"title\": {\"standoff\": 15}, \"zerolinecolor\": \"white\", \"zerolinewidth\": 2}}}, \"title\": {\"font\": {\"family\": \"Arial\", \"size\": 16}, \"text\": \"Top 13 best authors\", \"x\": 0.5}, \"xaxis\": {\"anchor\": \"y\", \"domain\": [0.0, 1.0]}, \"yaxis\": {\"anchor\": \"x\", \"domain\": [0.0, 1.0]}},                        {\"responsive\": true}                    ).then(function(){\n",
       "                            \n",
       "var gd = document.getElementById('b829da48-df60-4cf8-a043-fb94ed0bd76b');\n",
       "var x = new MutationObserver(function (mutations, observer) {{\n",
       "        var display = window.getComputedStyle(gd).display;\n",
       "        if (!display || display === 'none') {{\n",
       "            console.log([gd, 'removed!']);\n",
       "            Plotly.purge(gd);\n",
       "            observer.disconnect();\n",
       "        }}\n",
       "}});\n",
       "\n",
       "// Listen for the removal of the full notebook cells\n",
       "var notebookContainer = gd.closest('#notebook-container');\n",
       "if (notebookContainer) {{\n",
       "    x.observe(notebookContainer, {childList: true});\n",
       "}}\n",
       "\n",
       "// Listen for the clearing of the current output cell\n",
       "var outputEl = gd.closest('.output');\n",
       "if (outputEl) {{\n",
       "    x.observe(outputEl, {childList: true});\n",
       "}}\n",
       "\n",
       "                        })                };                });            </script>        </div>"
      ]
     },
     "metadata": {},
     "output_type": "display_data"
    },
    {
     "data": {
      "text/html": [
       "<div>                            <div id=\"425506d2-23df-4493-a327-d0fe18043eb6\" class=\"plotly-graph-div\" style=\"height:525px; width:100%;\"></div>            <script type=\"text/javascript\">                require([\"plotly\"], function(Plotly) {                    window.PLOTLYENV=window.PLOTLYENV || {};                                    if (document.getElementById(\"425506d2-23df-4493-a327-d0fe18043eb6\")) {                    Plotly.newPlot(                        \"425506d2-23df-4493-a327-d0fe18043eb6\",                        [{\"marker\": {\"color\": [\"#ff6666\", \"#f76e6e\", \"#f07575\", \"#e87d7d\", \"#e08585\", \"#d98c8c\", \"#d19494\", \"#c99c9c\", \"#c2a3a3\", \"#baabab\"], \"line\": {\"color\": \"Gray\", \"width\": 1}}, \"name\": \"Count books\", \"type\": \"bar\", \"x\": [\"Jeff Kinney\", \"Rick Riordan\", \"J.K. Rowling\", \"Stephenie Meyer\", \"Dav Pilkey\", \"Bill O'Reilly\", \"John Grisham\", \"E L James\", \"Suzanne Collins\", \"Charlaine Harris\"], \"xaxis\": \"x\", \"y\": [12, 10, 8, 7, 6, 6, 5, 5, 5, 4], \"yaxis\": \"y\"}, {\"marker\": {\"color\": [\"#ff6666\", \"#f47171\", \"#e87d7d\", \"#dd8888\", \"#d19494\"], \"line\": {\"color\": \"Gray\", \"width\": 1}}, \"name\": \"Reviews\", \"type\": \"bar\", \"x\": [\"Where The Crawdads Sing\", \"The Girl On The Train\", \"Becoming\", \"Gone Girl\", \"The Fault In Our Stars\"], \"xaxis\": \"x2\", \"y\": [87841, 79446, 61133, 57271, 50482], \"yaxis\": \"y2\"}],                        {\"annotations\": [{\"font\": {\"size\": 16}, \"showarrow\": false, \"text\": \"Top 10 authors by number of bestsellers\", \"x\": 0.225, \"xanchor\": \"center\", \"xref\": \"paper\", \"y\": 1.0, \"yanchor\": \"bottom\", \"yref\": \"paper\"}, {\"font\": {\"size\": 16}, \"showarrow\": false, \"text\": \"Top 5 books by number of reviews\", \"x\": 0.775, \"xanchor\": \"center\", \"xref\": \"paper\", \"y\": 1.0, \"yanchor\": \"bottom\", \"yref\": \"paper\"}], \"font\": {\"color\": \"black\", \"family\": \"Arial\", \"size\": 12}, \"plot_bgcolor\": \"rgba(0,0,0,0)\", \"showlegend\": false, \"template\": {\"data\": {\"bar\": [{\"error_x\": {\"color\": \"#2a3f5f\"}, \"error_y\": {\"color\": \"#2a3f5f\"}, \"marker\": {\"line\": {\"color\": \"#E5ECF6\", \"width\": 0.5}}, \"type\": \"bar\"}], \"barpolar\": [{\"marker\": {\"line\": {\"color\": \"#E5ECF6\", \"width\": 0.5}}, \"type\": \"barpolar\"}], \"carpet\": [{\"aaxis\": {\"endlinecolor\": \"#2a3f5f\", \"gridcolor\": \"white\", \"linecolor\": \"white\", \"minorgridcolor\": \"white\", \"startlinecolor\": \"#2a3f5f\"}, \"baxis\": {\"endlinecolor\": \"#2a3f5f\", \"gridcolor\": \"white\", \"linecolor\": \"white\", \"minorgridcolor\": \"white\", \"startlinecolor\": \"#2a3f5f\"}, \"type\": \"carpet\"}], \"choropleth\": [{\"colorbar\": {\"outlinewidth\": 0, \"ticks\": \"\"}, \"type\": \"choropleth\"}], \"contour\": [{\"colorbar\": {\"outlinewidth\": 0, \"ticks\": \"\"}, \"colorscale\": [[0.0, \"#0d0887\"], [0.1111111111111111, \"#46039f\"], [0.2222222222222222, \"#7201a8\"], [0.3333333333333333, \"#9c179e\"], [0.4444444444444444, \"#bd3786\"], [0.5555555555555556, \"#d8576b\"], [0.6666666666666666, \"#ed7953\"], [0.7777777777777778, \"#fb9f3a\"], [0.8888888888888888, \"#fdca26\"], [1.0, \"#f0f921\"]], \"type\": \"contour\"}], \"contourcarpet\": [{\"colorbar\": {\"outlinewidth\": 0, \"ticks\": \"\"}, \"type\": \"contourcarpet\"}], \"heatmap\": [{\"colorbar\": {\"outlinewidth\": 0, \"ticks\": \"\"}, \"colorscale\": [[0.0, \"#0d0887\"], [0.1111111111111111, \"#46039f\"], [0.2222222222222222, \"#7201a8\"], [0.3333333333333333, \"#9c179e\"], [0.4444444444444444, \"#bd3786\"], [0.5555555555555556, \"#d8576b\"], [0.6666666666666666, \"#ed7953\"], [0.7777777777777778, \"#fb9f3a\"], [0.8888888888888888, \"#fdca26\"], [1.0, \"#f0f921\"]], \"type\": \"heatmap\"}], \"heatmapgl\": [{\"colorbar\": {\"outlinewidth\": 0, \"ticks\": \"\"}, \"colorscale\": [[0.0, \"#0d0887\"], [0.1111111111111111, \"#46039f\"], [0.2222222222222222, \"#7201a8\"], [0.3333333333333333, \"#9c179e\"], [0.4444444444444444, \"#bd3786\"], [0.5555555555555556, \"#d8576b\"], [0.6666666666666666, \"#ed7953\"], [0.7777777777777778, \"#fb9f3a\"], [0.8888888888888888, \"#fdca26\"], [1.0, \"#f0f921\"]], \"type\": \"heatmapgl\"}], \"histogram\": [{\"marker\": {\"colorbar\": {\"outlinewidth\": 0, \"ticks\": \"\"}}, \"type\": \"histogram\"}], \"histogram2d\": [{\"colorbar\": {\"outlinewidth\": 0, \"ticks\": \"\"}, \"colorscale\": [[0.0, \"#0d0887\"], [0.1111111111111111, \"#46039f\"], [0.2222222222222222, \"#7201a8\"], [0.3333333333333333, \"#9c179e\"], [0.4444444444444444, \"#bd3786\"], [0.5555555555555556, \"#d8576b\"], [0.6666666666666666, \"#ed7953\"], [0.7777777777777778, \"#fb9f3a\"], [0.8888888888888888, \"#fdca26\"], [1.0, \"#f0f921\"]], \"type\": \"histogram2d\"}], \"histogram2dcontour\": [{\"colorbar\": {\"outlinewidth\": 0, \"ticks\": \"\"}, \"colorscale\": [[0.0, \"#0d0887\"], [0.1111111111111111, \"#46039f\"], [0.2222222222222222, \"#7201a8\"], [0.3333333333333333, \"#9c179e\"], [0.4444444444444444, \"#bd3786\"], [0.5555555555555556, \"#d8576b\"], [0.6666666666666666, \"#ed7953\"], [0.7777777777777778, \"#fb9f3a\"], [0.8888888888888888, \"#fdca26\"], [1.0, \"#f0f921\"]], \"type\": \"histogram2dcontour\"}], \"mesh3d\": [{\"colorbar\": {\"outlinewidth\": 0, \"ticks\": \"\"}, \"type\": \"mesh3d\"}], \"parcoords\": [{\"line\": {\"colorbar\": {\"outlinewidth\": 0, \"ticks\": \"\"}}, \"type\": \"parcoords\"}], \"pie\": [{\"automargin\": true, \"type\": \"pie\"}], \"scatter\": [{\"marker\": {\"colorbar\": {\"outlinewidth\": 0, \"ticks\": \"\"}}, \"type\": \"scatter\"}], \"scatter3d\": [{\"line\": {\"colorbar\": {\"outlinewidth\": 0, \"ticks\": \"\"}}, \"marker\": {\"colorbar\": {\"outlinewidth\": 0, \"ticks\": \"\"}}, \"type\": \"scatter3d\"}], \"scattercarpet\": [{\"marker\": {\"colorbar\": {\"outlinewidth\": 0, \"ticks\": \"\"}}, \"type\": \"scattercarpet\"}], \"scattergeo\": [{\"marker\": {\"colorbar\": {\"outlinewidth\": 0, \"ticks\": \"\"}}, \"type\": \"scattergeo\"}], \"scattergl\": [{\"marker\": {\"colorbar\": {\"outlinewidth\": 0, \"ticks\": \"\"}}, \"type\": \"scattergl\"}], \"scattermapbox\": [{\"marker\": {\"colorbar\": {\"outlinewidth\": 0, \"ticks\": \"\"}}, \"type\": \"scattermapbox\"}], \"scatterpolar\": [{\"marker\": {\"colorbar\": {\"outlinewidth\": 0, \"ticks\": \"\"}}, \"type\": \"scatterpolar\"}], \"scatterpolargl\": [{\"marker\": {\"colorbar\": {\"outlinewidth\": 0, \"ticks\": \"\"}}, \"type\": \"scatterpolargl\"}], \"scatterternary\": [{\"marker\": {\"colorbar\": {\"outlinewidth\": 0, \"ticks\": \"\"}}, \"type\": \"scatterternary\"}], \"surface\": [{\"colorbar\": {\"outlinewidth\": 0, \"ticks\": \"\"}, \"colorscale\": [[0.0, \"#0d0887\"], [0.1111111111111111, \"#46039f\"], [0.2222222222222222, \"#7201a8\"], [0.3333333333333333, \"#9c179e\"], [0.4444444444444444, \"#bd3786\"], [0.5555555555555556, \"#d8576b\"], [0.6666666666666666, \"#ed7953\"], [0.7777777777777778, \"#fb9f3a\"], [0.8888888888888888, \"#fdca26\"], [1.0, \"#f0f921\"]], \"type\": \"surface\"}], \"table\": [{\"cells\": {\"fill\": {\"color\": \"#EBF0F8\"}, \"line\": {\"color\": \"white\"}}, \"header\": {\"fill\": {\"color\": \"#C8D4E3\"}, \"line\": {\"color\": \"white\"}}, \"type\": \"table\"}]}, \"layout\": {\"annotationdefaults\": {\"arrowcolor\": \"#2a3f5f\", \"arrowhead\": 0, \"arrowwidth\": 1}, \"autotypenumbers\": \"strict\", \"coloraxis\": {\"colorbar\": {\"outlinewidth\": 0, \"ticks\": \"\"}}, \"colorscale\": {\"diverging\": [[0, \"#8e0152\"], [0.1, \"#c51b7d\"], [0.2, \"#de77ae\"], [0.3, \"#f1b6da\"], [0.4, \"#fde0ef\"], [0.5, \"#f7f7f7\"], [0.6, \"#e6f5d0\"], [0.7, \"#b8e186\"], [0.8, \"#7fbc41\"], [0.9, \"#4d9221\"], [1, \"#276419\"]], \"sequential\": [[0.0, \"#0d0887\"], [0.1111111111111111, \"#46039f\"], [0.2222222222222222, \"#7201a8\"], [0.3333333333333333, \"#9c179e\"], [0.4444444444444444, \"#bd3786\"], [0.5555555555555556, \"#d8576b\"], [0.6666666666666666, \"#ed7953\"], [0.7777777777777778, \"#fb9f3a\"], [0.8888888888888888, \"#fdca26\"], [1.0, \"#f0f921\"]], \"sequentialminus\": [[0.0, \"#0d0887\"], [0.1111111111111111, \"#46039f\"], [0.2222222222222222, \"#7201a8\"], [0.3333333333333333, \"#9c179e\"], [0.4444444444444444, \"#bd3786\"], [0.5555555555555556, \"#d8576b\"], [0.6666666666666666, \"#ed7953\"], [0.7777777777777778, \"#fb9f3a\"], [0.8888888888888888, \"#fdca26\"], [1.0, \"#f0f921\"]]}, \"colorway\": [\"#636efa\", \"#EF553B\", \"#00cc96\", \"#ab63fa\", \"#FFA15A\", \"#19d3f3\", \"#FF6692\", \"#B6E880\", \"#FF97FF\", \"#FECB52\"], \"font\": {\"color\": \"#2a3f5f\"}, \"geo\": {\"bgcolor\": \"white\", \"lakecolor\": \"white\", \"landcolor\": \"#E5ECF6\", \"showlakes\": true, \"showland\": true, \"subunitcolor\": \"white\"}, \"hoverlabel\": {\"align\": \"left\"}, \"hovermode\": \"closest\", \"mapbox\": {\"style\": \"light\"}, \"paper_bgcolor\": \"white\", \"plot_bgcolor\": \"#E5ECF6\", \"polar\": {\"angularaxis\": {\"gridcolor\": \"white\", \"linecolor\": \"white\", \"ticks\": \"\"}, \"bgcolor\": \"#E5ECF6\", \"radialaxis\": {\"gridcolor\": \"white\", \"linecolor\": \"white\", \"ticks\": \"\"}}, \"scene\": {\"xaxis\": {\"backgroundcolor\": \"#E5ECF6\", \"gridcolor\": \"white\", \"gridwidth\": 2, \"linecolor\": \"white\", \"showbackground\": true, \"ticks\": \"\", \"zerolinecolor\": \"white\"}, \"yaxis\": {\"backgroundcolor\": \"#E5ECF6\", \"gridcolor\": \"white\", \"gridwidth\": 2, \"linecolor\": \"white\", \"showbackground\": true, \"ticks\": \"\", \"zerolinecolor\": \"white\"}, \"zaxis\": {\"backgroundcolor\": \"#E5ECF6\", \"gridcolor\": \"white\", \"gridwidth\": 2, \"linecolor\": \"white\", \"showbackground\": true, \"ticks\": \"\", \"zerolinecolor\": \"white\"}}, \"shapedefaults\": {\"line\": {\"color\": \"#2a3f5f\"}}, \"ternary\": {\"aaxis\": {\"gridcolor\": \"white\", \"linecolor\": \"white\", \"ticks\": \"\"}, \"baxis\": {\"gridcolor\": \"white\", \"linecolor\": \"white\", \"ticks\": \"\"}, \"bgcolor\": \"#E5ECF6\", \"caxis\": {\"gridcolor\": \"white\", \"linecolor\": \"white\", \"ticks\": \"\"}}, \"title\": {\"x\": 0.05}, \"xaxis\": {\"automargin\": true, \"gridcolor\": \"white\", \"linecolor\": \"white\", \"ticks\": \"\", \"title\": {\"standoff\": 15}, \"zerolinecolor\": \"white\", \"zerolinewidth\": 2}, \"yaxis\": {\"automargin\": true, \"gridcolor\": \"white\", \"linecolor\": \"white\", \"ticks\": \"\", \"title\": {\"standoff\": 15}, \"zerolinecolor\": \"white\", \"zerolinewidth\": 2}}}, \"xaxis\": {\"anchor\": \"y\", \"domain\": [0.0, 0.45]}, \"xaxis2\": {\"anchor\": \"y2\", \"domain\": [0.55, 1.0]}, \"yaxis\": {\"anchor\": \"x\", \"domain\": [0.0, 1.0]}, \"yaxis2\": {\"anchor\": \"x2\", \"domain\": [0.0, 1.0]}},                        {\"responsive\": true}                    ).then(function(){\n",
       "                            \n",
       "var gd = document.getElementById('425506d2-23df-4493-a327-d0fe18043eb6');\n",
       "var x = new MutationObserver(function (mutations, observer) {{\n",
       "        var display = window.getComputedStyle(gd).display;\n",
       "        if (!display || display === 'none') {{\n",
       "            console.log([gd, 'removed!']);\n",
       "            Plotly.purge(gd);\n",
       "            observer.disconnect();\n",
       "        }}\n",
       "}});\n",
       "\n",
       "// Listen for the removal of the full notebook cells\n",
       "var notebookContainer = gd.closest('#notebook-container');\n",
       "if (notebookContainer) {{\n",
       "    x.observe(notebookContainer, {childList: true});\n",
       "}}\n",
       "\n",
       "// Listen for the clearing of the current output cell\n",
       "var outputEl = gd.closest('.output');\n",
       "if (outputEl) {{\n",
       "    x.observe(outputEl, {childList: true});\n",
       "}}\n",
       "\n",
       "                        })                };                });            </script>        </div>"
      ]
     },
     "metadata": {},
     "output_type": "display_data"
    },
    {
     "data": {
      "text/html": [
       "<div>                            <div id=\"ff78fc6c-b5bf-411d-88eb-0049cd3d2dcf\" class=\"plotly-graph-div\" style=\"height:525px; width:100%;\"></div>            <script type=\"text/javascript\">                require([\"plotly\"], function(Plotly) {                    window.PLOTLYENV=window.PLOTLYENV || {};                                    if (document.getElementById(\"ff78fc6c-b5bf-411d-88eb-0049cd3d2dcf\")) {                    Plotly.newPlot(                        \"ff78fc6c-b5bf-411d-88eb-0049cd3d2dcf\",                        [{\"hole\": 0.3, \"insidetextorientation\": \"radial\", \"labels\": [\"Non Fiction\", \"Fiction\"], \"marker\": {\"colors\": [\"Gray\", \"Salmon\"], \"line\": {\"color\": \"Gray\", \"width\": 1}}, \"textfont\": {\"color\": \"#FFFFFF\", \"size\": 12}, \"textinfo\": \"label+percent\", \"title\": {\"text\": \"Genre\"}, \"type\": \"pie\", \"values\": [190, 160]}],                        {\"font\": {\"color\": \"black\", \"family\": \"Arial\", \"size\": 12}, \"margin\": {\"t\": 30}, \"showlegend\": false, \"template\": {\"data\": {\"bar\": [{\"error_x\": {\"color\": \"#2a3f5f\"}, \"error_y\": {\"color\": \"#2a3f5f\"}, \"marker\": {\"line\": {\"color\": \"#E5ECF6\", \"width\": 0.5}}, \"type\": \"bar\"}], \"barpolar\": [{\"marker\": {\"line\": {\"color\": \"#E5ECF6\", \"width\": 0.5}}, \"type\": \"barpolar\"}], \"carpet\": [{\"aaxis\": {\"endlinecolor\": \"#2a3f5f\", \"gridcolor\": \"white\", \"linecolor\": \"white\", \"minorgridcolor\": \"white\", \"startlinecolor\": \"#2a3f5f\"}, \"baxis\": {\"endlinecolor\": \"#2a3f5f\", \"gridcolor\": \"white\", \"linecolor\": \"white\", \"minorgridcolor\": \"white\", \"startlinecolor\": \"#2a3f5f\"}, \"type\": \"carpet\"}], \"choropleth\": [{\"colorbar\": {\"outlinewidth\": 0, \"ticks\": \"\"}, \"type\": \"choropleth\"}], \"contour\": [{\"colorbar\": {\"outlinewidth\": 0, \"ticks\": \"\"}, \"colorscale\": [[0.0, \"#0d0887\"], [0.1111111111111111, \"#46039f\"], [0.2222222222222222, \"#7201a8\"], [0.3333333333333333, \"#9c179e\"], [0.4444444444444444, \"#bd3786\"], [0.5555555555555556, \"#d8576b\"], [0.6666666666666666, \"#ed7953\"], [0.7777777777777778, \"#fb9f3a\"], [0.8888888888888888, \"#fdca26\"], [1.0, \"#f0f921\"]], \"type\": \"contour\"}], \"contourcarpet\": [{\"colorbar\": {\"outlinewidth\": 0, \"ticks\": \"\"}, \"type\": \"contourcarpet\"}], \"heatmap\": [{\"colorbar\": {\"outlinewidth\": 0, \"ticks\": \"\"}, \"colorscale\": [[0.0, \"#0d0887\"], [0.1111111111111111, \"#46039f\"], [0.2222222222222222, \"#7201a8\"], [0.3333333333333333, \"#9c179e\"], [0.4444444444444444, \"#bd3786\"], [0.5555555555555556, \"#d8576b\"], [0.6666666666666666, \"#ed7953\"], [0.7777777777777778, \"#fb9f3a\"], [0.8888888888888888, \"#fdca26\"], [1.0, \"#f0f921\"]], \"type\": \"heatmap\"}], \"heatmapgl\": [{\"colorbar\": {\"outlinewidth\": 0, \"ticks\": \"\"}, \"colorscale\": [[0.0, \"#0d0887\"], [0.1111111111111111, \"#46039f\"], [0.2222222222222222, \"#7201a8\"], [0.3333333333333333, \"#9c179e\"], [0.4444444444444444, \"#bd3786\"], [0.5555555555555556, \"#d8576b\"], [0.6666666666666666, \"#ed7953\"], [0.7777777777777778, \"#fb9f3a\"], [0.8888888888888888, \"#fdca26\"], [1.0, \"#f0f921\"]], \"type\": \"heatmapgl\"}], \"histogram\": [{\"marker\": {\"colorbar\": {\"outlinewidth\": 0, \"ticks\": \"\"}}, \"type\": \"histogram\"}], \"histogram2d\": [{\"colorbar\": {\"outlinewidth\": 0, \"ticks\": \"\"}, \"colorscale\": [[0.0, \"#0d0887\"], [0.1111111111111111, \"#46039f\"], [0.2222222222222222, \"#7201a8\"], [0.3333333333333333, \"#9c179e\"], [0.4444444444444444, \"#bd3786\"], [0.5555555555555556, \"#d8576b\"], [0.6666666666666666, \"#ed7953\"], [0.7777777777777778, \"#fb9f3a\"], [0.8888888888888888, \"#fdca26\"], [1.0, \"#f0f921\"]], \"type\": \"histogram2d\"}], \"histogram2dcontour\": [{\"colorbar\": {\"outlinewidth\": 0, \"ticks\": \"\"}, \"colorscale\": [[0.0, \"#0d0887\"], [0.1111111111111111, \"#46039f\"], [0.2222222222222222, \"#7201a8\"], [0.3333333333333333, \"#9c179e\"], [0.4444444444444444, \"#bd3786\"], [0.5555555555555556, \"#d8576b\"], [0.6666666666666666, \"#ed7953\"], [0.7777777777777778, \"#fb9f3a\"], [0.8888888888888888, \"#fdca26\"], [1.0, \"#f0f921\"]], \"type\": \"histogram2dcontour\"}], \"mesh3d\": [{\"colorbar\": {\"outlinewidth\": 0, \"ticks\": \"\"}, \"type\": \"mesh3d\"}], \"parcoords\": [{\"line\": {\"colorbar\": {\"outlinewidth\": 0, \"ticks\": \"\"}}, \"type\": \"parcoords\"}], \"pie\": [{\"automargin\": true, \"type\": \"pie\"}], \"scatter\": [{\"marker\": {\"colorbar\": {\"outlinewidth\": 0, \"ticks\": \"\"}}, \"type\": \"scatter\"}], \"scatter3d\": [{\"line\": {\"colorbar\": {\"outlinewidth\": 0, \"ticks\": \"\"}}, \"marker\": {\"colorbar\": {\"outlinewidth\": 0, \"ticks\": \"\"}}, \"type\": \"scatter3d\"}], \"scattercarpet\": [{\"marker\": {\"colorbar\": {\"outlinewidth\": 0, \"ticks\": \"\"}}, \"type\": \"scattercarpet\"}], \"scattergeo\": [{\"marker\": {\"colorbar\": {\"outlinewidth\": 0, \"ticks\": \"\"}}, \"type\": \"scattergeo\"}], \"scattergl\": [{\"marker\": {\"colorbar\": {\"outlinewidth\": 0, \"ticks\": \"\"}}, \"type\": \"scattergl\"}], \"scattermapbox\": [{\"marker\": {\"colorbar\": {\"outlinewidth\": 0, \"ticks\": \"\"}}, \"type\": \"scattermapbox\"}], \"scatterpolar\": [{\"marker\": {\"colorbar\": {\"outlinewidth\": 0, \"ticks\": \"\"}}, \"type\": \"scatterpolar\"}], \"scatterpolargl\": [{\"marker\": {\"colorbar\": {\"outlinewidth\": 0, \"ticks\": \"\"}}, \"type\": \"scatterpolargl\"}], \"scatterternary\": [{\"marker\": {\"colorbar\": {\"outlinewidth\": 0, \"ticks\": \"\"}}, \"type\": \"scatterternary\"}], \"surface\": [{\"colorbar\": {\"outlinewidth\": 0, \"ticks\": \"\"}, \"colorscale\": [[0.0, \"#0d0887\"], [0.1111111111111111, \"#46039f\"], [0.2222222222222222, \"#7201a8\"], [0.3333333333333333, \"#9c179e\"], [0.4444444444444444, \"#bd3786\"], [0.5555555555555556, \"#d8576b\"], [0.6666666666666666, \"#ed7953\"], [0.7777777777777778, \"#fb9f3a\"], [0.8888888888888888, \"#fdca26\"], [1.0, \"#f0f921\"]], \"type\": \"surface\"}], \"table\": [{\"cells\": {\"fill\": {\"color\": \"#EBF0F8\"}, \"line\": {\"color\": \"white\"}}, \"header\": {\"fill\": {\"color\": \"#C8D4E3\"}, \"line\": {\"color\": \"white\"}}, \"type\": \"table\"}]}, \"layout\": {\"annotationdefaults\": {\"arrowcolor\": \"#2a3f5f\", \"arrowhead\": 0, \"arrowwidth\": 1}, \"autotypenumbers\": \"strict\", \"coloraxis\": {\"colorbar\": {\"outlinewidth\": 0, \"ticks\": \"\"}}, \"colorscale\": {\"diverging\": [[0, \"#8e0152\"], [0.1, \"#c51b7d\"], [0.2, \"#de77ae\"], [0.3, \"#f1b6da\"], [0.4, \"#fde0ef\"], [0.5, \"#f7f7f7\"], [0.6, \"#e6f5d0\"], [0.7, \"#b8e186\"], [0.8, \"#7fbc41\"], [0.9, \"#4d9221\"], [1, \"#276419\"]], \"sequential\": [[0.0, \"#0d0887\"], [0.1111111111111111, \"#46039f\"], [0.2222222222222222, \"#7201a8\"], [0.3333333333333333, \"#9c179e\"], [0.4444444444444444, \"#bd3786\"], [0.5555555555555556, \"#d8576b\"], [0.6666666666666666, \"#ed7953\"], [0.7777777777777778, \"#fb9f3a\"], [0.8888888888888888, \"#fdca26\"], [1.0, \"#f0f921\"]], \"sequentialminus\": [[0.0, \"#0d0887\"], [0.1111111111111111, \"#46039f\"], [0.2222222222222222, \"#7201a8\"], [0.3333333333333333, \"#9c179e\"], [0.4444444444444444, \"#bd3786\"], [0.5555555555555556, \"#d8576b\"], [0.6666666666666666, \"#ed7953\"], [0.7777777777777778, \"#fb9f3a\"], [0.8888888888888888, \"#fdca26\"], [1.0, \"#f0f921\"]]}, \"colorway\": [\"#636efa\", \"#EF553B\", \"#00cc96\", \"#ab63fa\", \"#FFA15A\", \"#19d3f3\", \"#FF6692\", \"#B6E880\", \"#FF97FF\", \"#FECB52\"], \"font\": {\"color\": \"#2a3f5f\"}, \"geo\": {\"bgcolor\": \"white\", \"lakecolor\": \"white\", \"landcolor\": \"#E5ECF6\", \"showlakes\": true, \"showland\": true, \"subunitcolor\": \"white\"}, \"hoverlabel\": {\"align\": \"left\"}, \"hovermode\": \"closest\", \"mapbox\": {\"style\": \"light\"}, \"paper_bgcolor\": \"white\", \"plot_bgcolor\": \"#E5ECF6\", \"polar\": {\"angularaxis\": {\"gridcolor\": \"white\", \"linecolor\": \"white\", \"ticks\": \"\"}, \"bgcolor\": \"#E5ECF6\", \"radialaxis\": {\"gridcolor\": \"white\", \"linecolor\": \"white\", \"ticks\": \"\"}}, \"scene\": {\"xaxis\": {\"backgroundcolor\": \"#E5ECF6\", \"gridcolor\": \"white\", \"gridwidth\": 2, \"linecolor\": \"white\", \"showbackground\": true, \"ticks\": \"\", \"zerolinecolor\": \"white\"}, \"yaxis\": {\"backgroundcolor\": \"#E5ECF6\", \"gridcolor\": \"white\", \"gridwidth\": 2, \"linecolor\": \"white\", \"showbackground\": true, \"ticks\": \"\", \"zerolinecolor\": \"white\"}, \"zaxis\": {\"backgroundcolor\": \"#E5ECF6\", \"gridcolor\": \"white\", \"gridwidth\": 2, \"linecolor\": \"white\", \"showbackground\": true, \"ticks\": \"\", \"zerolinecolor\": \"white\"}}, \"shapedefaults\": {\"line\": {\"color\": \"#2a3f5f\"}}, \"ternary\": {\"aaxis\": {\"gridcolor\": \"white\", \"linecolor\": \"white\", \"ticks\": \"\"}, \"baxis\": {\"gridcolor\": \"white\", \"linecolor\": \"white\", \"ticks\": \"\"}, \"bgcolor\": \"#E5ECF6\", \"caxis\": {\"gridcolor\": \"white\", \"linecolor\": \"white\", \"ticks\": \"\"}}, \"title\": {\"x\": 0.05}, \"xaxis\": {\"automargin\": true, \"gridcolor\": \"white\", \"linecolor\": \"white\", \"ticks\": \"\", \"title\": {\"standoff\": 15}, \"zerolinecolor\": \"white\", \"zerolinewidth\": 2}, \"yaxis\": {\"automargin\": true, \"gridcolor\": \"white\", \"linecolor\": \"white\", \"ticks\": \"\", \"title\": {\"standoff\": 15}, \"zerolinecolor\": \"white\", \"zerolinewidth\": 2}}}, \"title\": {\"text\": \"Count of books genre\", \"x\": 0.5}},                        {\"responsive\": true}                    ).then(function(){\n",
       "                            \n",
       "var gd = document.getElementById('ff78fc6c-b5bf-411d-88eb-0049cd3d2dcf');\n",
       "var x = new MutationObserver(function (mutations, observer) {{\n",
       "        var display = window.getComputedStyle(gd).display;\n",
       "        if (!display || display === 'none') {{\n",
       "            console.log([gd, 'removed!']);\n",
       "            Plotly.purge(gd);\n",
       "            observer.disconnect();\n",
       "        }}\n",
       "}});\n",
       "\n",
       "// Listen for the removal of the full notebook cells\n",
       "var notebookContainer = gd.closest('#notebook-container');\n",
       "if (notebookContainer) {{\n",
       "    x.observe(notebookContainer, {childList: true});\n",
       "}}\n",
       "\n",
       "// Listen for the clearing of the current output cell\n",
       "var outputEl = gd.closest('.output');\n",
       "if (outputEl) {{\n",
       "    x.observe(outputEl, {childList: true});\n",
       "}}\n",
       "\n",
       "                        })                };                });            </script>        </div>"
      ]
     },
     "metadata": {},
     "output_type": "display_data"
    }
   ],
   "source": [
    "# Let's set the visualization parameters\n",
    "fig_1 = make_subplots(rows=1, cols=1, subplot_titles=(\"\")) # Let's set the number of rows and columns\n",
    "\n",
    "\n",
    "# Setting table parameters\n",
    "fig_1.add_trace(go.Table(columnorder = [1,2],\n",
    "                         columnwidth = [100,50],\n",
    "                         header=dict(values=top_13_autors.columns, \n",
    "                                     line_color='darkslategray',\n",
    "                                     fill_color='Salmon',\n",
    "                                     height=30),\n",
    "                         cells=dict(values=[top_13_autors['Author'],\n",
    "                                    top_13_autors['User Rating']], \n",
    "                                    line_color='darkslategray',\n",
    "                                    fill_color='White')))\n",
    "\n",
    "# Setting the parameters of the chart when displaying\n",
    "fig_1.update_layout(showlegend=False, \n",
    "                    title_text='Top 13 best authors', \n",
    "                    title_font_size=16, \n",
    "                    title_font_family='Arial', \n",
    "                    title_x=0.5,\n",
    "                    font=dict(family='Arial', \n",
    "                              size=12, \n",
    "                              color='black'))\n",
    "\n",
    "# Displaying the graph\n",
    "fig_1.show()\n",
    "\n",
    "# Let's set the visualization parameters\n",
    "fig_2 = make_subplots(rows=1, cols=2,\n",
    "                      specs=[[{'type': 'xy'}, {\"type\": \"xy\"}]],\n",
    "                      subplot_titles=(\"Top 10 authors by number of bestsellers\", \n",
    "                                      \"Top 5 books by number of reviews\"))\n",
    "\n",
    "# Setting Bar parameters\n",
    "fig_2.add_trace(go.Bar(x=number_of_books_written['Author'], \n",
    "                       y=number_of_books_written['Name'],\n",
    "                       name ='Count books',\n",
    "                       marker_color=['#ff6666','#f76e6e', '#f07575', '#e87d7d', '#e08585',\n",
    "                                     '#d98c8c', '#d19494', '#c99c9c', '#c2a3a3', '#baabab']),\n",
    "                       row=1, col=1)\n",
    "\n",
    "# Setting Bar parameters\n",
    "fig_2.add_trace(go.Bar(x=books_with_the_number_of_reviews['Name'], \n",
    "                       y=books_with_the_number_of_reviews['Reviews'],\n",
    "                       marker_color=['#ff6666','#f47171', '#e87d7d', '#dd8888', '#d19494'],\n",
    "                       name ='Reviews'),\n",
    "                       row=1, col=2)\n",
    "\n",
    "# Setting the parameters of the chart when displaying\n",
    "fig_2.update_traces(marker_line_color='Gray',\n",
    "                    marker_line_width=1)\n",
    "\n",
    "# Setting the parameters of the chart when displaying\n",
    "fig_2.update_layout(showlegend=False, \n",
    "                    plot_bgcolor='rgba(0,0,0,0)',\n",
    "                    font=dict(family='Arial', \n",
    "                              size=12, \n",
    "                              color='black'))\n",
    "\n",
    "# Displaying the graph\n",
    "fig_2.show()\n",
    "\n",
    "# Let's set the visualization parameters\n",
    "fig_3 = make_subplots(rows=1, cols=1,\n",
    "                      specs=[[{'type': 'domain'}]],\n",
    "                      subplot_titles=(\"\"))\n",
    "\n",
    "# Setting Pie parameters\n",
    "fig_3.add_trace(go.Pie(values=number_of_books_by_genre['Name'],\n",
    "                       title='Genre',\n",
    "                       labels=['Non Fiction', 'Fiction'],\n",
    "                       textinfo='label+percent',\n",
    "                       insidetextorientation='radial',\n",
    "                       hole=0.3,\n",
    "                       marker=dict(colors=['Gray','Salmon'], \n",
    "                                   line_color='Gray', \n",
    "                                   line_width=1),\n",
    "                       textfont={'color': '#FFFFFF', 'size': 12},\n",
    "                       textfont_size=12))\n",
    "\n",
    "# Setting the parameters of the chart when displaying\n",
    "fig_3.update_layout(margin_t=30, \n",
    "                    showlegend=False, \n",
    "                    title_text='Count of books genre', \n",
    "                    title_x=0.5, \n",
    "                    font=dict(family='Arial', \n",
    "                              size=12, \n",
    "                              color='black'))\n",
    "\n",
    "# Displaying the graph\n",
    "fig_3.show()"
   ]
  },
  {
   "cell_type": "markdown",
   "metadata": {
    "papermill": {
     "duration": 0.056848,
     "end_time": "2021-05-31T13:54:08.749513",
     "exception": false,
     "start_time": "2021-05-31T13:54:08.692665",
     "status": "completed"
    },
    "tags": []
   },
   "source": [
    "<div style=\"background: #DCDCDC\">\n",
    "<p style=\"font-family: Arials, sans-serif; font-size: 16px; color: #000000\"><strong>INSIGHT:</strong> By analyzing the categorical data, it is established:</p>\n",
    "<ol style=\"font-family: Arials, sans-serif; font-size: 14px; line-height:1.5; color: rgba(0,0,0,.7)\">\n",
    "<li>The following 13 authors have the highest rating: Nathan W. Pyle, Patrick Thorpe, Eric Carle, Emily Winfield Martin, Chip Gaines, Jill Twiss, Rush Limbaugh, Sherri Duskey Rinker, Alice Schertle, Pete Souza, Sarah Young, Lin-Manuel Miranda, Bill Martin Jr., Dav Pilkey. The average rating for their works was 4.9. When buying a new book, you should pay attention to these authors.</li>\n",
    "<p></p>\n",
    "<li>Authors who have written more bestsellers: Jeff Kinney - 12 books, Rick Riordan - 10 books, J.K. Rowling - 8 books, Stephenie Meyer - 7 books, Dav Pilkey - 6 books, Bill O'Reilly - 6 books, John Grisham - 5 books, E L James - 5 books, Suzanne Collins - 5 books, Charlaine Harris - 4 books. These authors always have something to read.</li>\n",
    "<p></p>\n",
    "<li>Books with the most reviews: Where The Crawdads Sing - 87841 Reviews, The Girl On The Train - 79446 Reviews, Becoming - 61133 Reviews, Gone Girl - 57271 Reviews, The Fault In Our Stars - 50482 Reviews. It's definitely worth reading the book Where The Crawdads Sing, it's not for nothing that it is the most talked about.</li>\n",
    "<p></p>\n",
    "<li>Non-fiction is more likely to become a bestseller. Later we will find out how users relate to these genres.</li>\n",
    "<p></p>\n",
    "</ol>        \n",
    "</div>"
   ]
  },
  {
   "cell_type": "markdown",
   "metadata": {
    "papermill": {
     "duration": 0.056854,
     "end_time": "2021-05-31T13:54:08.857229",
     "exception": false,
     "start_time": "2021-05-31T13:54:08.800375",
     "status": "completed"
    },
    "tags": []
   },
   "source": [
    "<p id=\"part8\"></p>\n",
    "\n",
    "<p style=\"font-family: Arials; font-size: 16px; font-style: normal; font-weight: normal; letter-spacing: 3px; color: #FF8C00; line-height:1.0\">2.5 Numeric data</p>"
   ]
  },
  {
   "cell_type": "markdown",
   "metadata": {
    "papermill": {
     "duration": 0.050016,
     "end_time": "2021-05-31T13:54:08.962436",
     "exception": false,
     "start_time": "2021-05-31T13:54:08.912420",
     "status": "completed"
    },
    "tags": []
   },
   "source": [
    "<p style=\"font-family: Arials, sans-serif; font-size: 14px; color: rgba(0,0,0,.7)\">Let's look at the measures of the central trend that characterize the distribution of numerical values in the data. We render a box-plot for each numeric variable.</p>"
   ]
  },
  {
   "cell_type": "code",
   "execution_count": 27,
   "metadata": {
    "execution": {
     "iopub.execute_input": "2021-05-31T13:54:09.067919Z",
     "iopub.status.busy": "2021-05-31T13:54:09.066979Z",
     "iopub.status.idle": "2021-05-31T13:54:09.093885Z",
     "shell.execute_reply": "2021-05-31T13:54:09.094393Z"
    },
    "papermill": {
     "duration": 0.080874,
     "end_time": "2021-05-31T13:54:09.094549",
     "exception": false,
     "start_time": "2021-05-31T13:54:09.013675",
     "status": "completed"
    },
    "tags": []
   },
   "outputs": [
    {
     "data": {
      "text/html": [
       "<div>\n",
       "<style scoped>\n",
       "    .dataframe tbody tr th:only-of-type {\n",
       "        vertical-align: middle;\n",
       "    }\n",
       "\n",
       "    .dataframe tbody tr th {\n",
       "        vertical-align: top;\n",
       "    }\n",
       "\n",
       "    .dataframe thead th {\n",
       "        text-align: right;\n",
       "    }\n",
       "</style>\n",
       "<table border=\"1\" class=\"dataframe\">\n",
       "  <thead>\n",
       "    <tr style=\"text-align: right;\">\n",
       "      <th></th>\n",
       "      <th>count</th>\n",
       "      <th>mean</th>\n",
       "      <th>std</th>\n",
       "      <th>min</th>\n",
       "      <th>25%</th>\n",
       "      <th>50%</th>\n",
       "      <th>75%</th>\n",
       "      <th>max</th>\n",
       "    </tr>\n",
       "  </thead>\n",
       "  <tbody>\n",
       "    <tr>\n",
       "      <th>User Rating</th>\n",
       "      <td>350.0</td>\n",
       "      <td>4.608857</td>\n",
       "      <td>0.226993</td>\n",
       "      <td>3.3</td>\n",
       "      <td>4.50</td>\n",
       "      <td>4.6</td>\n",
       "      <td>4.80</td>\n",
       "      <td>4.9</td>\n",
       "    </tr>\n",
       "    <tr>\n",
       "      <th>Reviews</th>\n",
       "      <td>350.0</td>\n",
       "      <td>9804.605714</td>\n",
       "      <td>10885.017686</td>\n",
       "      <td>37.0</td>\n",
       "      <td>3435.25</td>\n",
       "      <td>6328.0</td>\n",
       "      <td>11510.25</td>\n",
       "      <td>87841.0</td>\n",
       "    </tr>\n",
       "    <tr>\n",
       "      <th>Price</th>\n",
       "      <td>350.0</td>\n",
       "      <td>12.925714</td>\n",
       "      <td>10.003161</td>\n",
       "      <td>0.0</td>\n",
       "      <td>7.25</td>\n",
       "      <td>11.0</td>\n",
       "      <td>16.00</td>\n",
       "      <td>105.0</td>\n",
       "    </tr>\n",
       "  </tbody>\n",
       "</table>\n",
       "</div>"
      ],
      "text/plain": [
       "             count         mean           std   min      25%     50%  \\\n",
       "User Rating  350.0     4.608857      0.226993   3.3     4.50     4.6   \n",
       "Reviews      350.0  9804.605714  10885.017686  37.0  3435.25  6328.0   \n",
       "Price        350.0    12.925714     10.003161   0.0     7.25    11.0   \n",
       "\n",
       "                  75%      max  \n",
       "User Rating      4.80      4.9  \n",
       "Reviews      11510.25  87841.0  \n",
       "Price           16.00    105.0  "
      ]
     },
     "execution_count": 27,
     "metadata": {},
     "output_type": "execute_result"
    }
   ],
   "source": [
    "# Displaying measures of the central trend\n",
    "bestsellers.describe().T"
   ]
  },
  {
   "cell_type": "code",
   "execution_count": 28,
   "metadata": {
    "_kg_hide-input": true,
    "execution": {
     "iopub.execute_input": "2021-05-31T13:54:09.199766Z",
     "iopub.status.busy": "2021-05-31T13:54:09.198843Z",
     "iopub.status.idle": "2021-05-31T13:54:09.929026Z",
     "shell.execute_reply": "2021-05-31T13:54:09.929489Z"
    },
    "papermill": {
     "duration": 0.784137,
     "end_time": "2021-05-31T13:54:09.929640",
     "exception": false,
     "start_time": "2021-05-31T13:54:09.145503",
     "status": "completed"
    },
    "tags": []
   },
   "outputs": [
    {
     "data": {
      "text/html": [
       "<div>                            <div id=\"25dfe73f-ea96-4fce-8217-205fdecc0238\" class=\"plotly-graph-div\" style=\"height:525px; width:100%;\"></div>            <script type=\"text/javascript\">                require([\"plotly\"], function(Plotly) {                    window.PLOTLYENV=window.PLOTLYENV || {};                                    if (document.getElementById(\"25dfe73f-ea96-4fce-8217-205fdecc0238\")) {                    Plotly.newPlot(                        \"25dfe73f-ea96-4fce-8217-205fdecc0238\",                        [{\"marker\": {\"color\": \"Salmon\"}, \"name\": \"User Rating\", \"type\": \"box\", \"x\": [4.7, 4.6, 4.7, 4.7, 4.8, 4.4, 4.7, 4.7, 4.7, 4.6, 4.6, 4.6, 4.5, 4.6, 4.5, 4.6, 4.4, 4.5, 4.8, 4.6, 3.9, 4.6, 4.3, 4.6, 4.7, 4.2, 4.6, 4.6, 4.8, 4.7, 4.8, 4.8, 4.7, 4.7, 4.6, 4.5, 4.9, 4.8, 4.6, 4.8, 4.5, 4.7, 4.7, 4.7, 4.3, 4.8, 4.8, 4.6, 4.8, 4.4, 4.6, 4.3, 4.2, 4.8, 4.6, 4.6, 4.5, 4.8, 4.8, 4.8, 4.6, 4.6, 4.5, 4.6, 4.7, 4.8, 4.9, 4.9, 4.9, 4.9, 4.9, 4.9, 4.8, 4.6, 4.5, 4.5, 4.3, 4.5, 4.7, 4.7, 4.7, 4.7, 4.6, 4.7, 4.4, 4.4, 4.5, 3.8, 4.5, 4.2, 4.7, 4.4, 4.7, 4.4, 4.6, 4.5, 4.6, 4.8, 4.6, 4.6, 4.6, 3.6, 4.8, 4.6, 4.0, 4.6, 4.5, 4.8, 4.9, 4.6, 4.4, 4.8, 4.9, 4.8, 4.9, 4.0, 4.9, 4.9, 4.9, 4.7, 4.8, 4.8, 4.7, 4.4, 4.8, 4.7, 4.3, 4.8, 4.9, 4.7, 4.8, 4.6, 4.8, 4.3, 4.4, 4.1, 4.6, 4.4, 4.8, 4.9, 4.6, 4.5, 4.6, 4.5, 4.6, 4.7, 4.6, 4.6, 4.8, 4.8, 4.5, 4.9, 4.6, 4.5, 4.5, 4.4, 4.8, 4.5, 4.1, 4.9, 4.5, 4.5, 4.2, 4.8, 4.8, 4.5, 4.7, 4.8, 4.7, 4.4, 4.6, 4.5, 4.8, 4.8, 4.6, 4.7, 4.6, 4.9, 4.9, 4.8, 4.2, 4.6, 4.5, 4.3, 4.6, 4.6, 4.7, 4.8, 4.8, 4.7, 4.3, 4.5, 4.8, 4.6, 4.7, 4.6, 4.9, 4.9, 4.8, 4.6, 4.8, 4.7, 4.7, 4.8, 4.1, 4.7, 4.6, 4.6, 4.9, 4.0, 4.5, 4.6, 4.5, 4.4, 4.3, 4.3, 4.8, 4.8, 4.7, 4.7, 4.6, 4.7, 4.7, 4.8, 4.2, 4.8, 4.7, 4.6, 4.8, 4.8, 3.3, 4.7, 4.3, 4.3, 4.8, 4.4, 4.8, 4.1, 4.0, 4.7, 4.6, 4.6, 4.7, 4.8, 4.1, 4.7, 4.7, 4.7, 4.4, 4.8, 3.9, 4.4, 4.5, 4.7, 4.3, 4.6, 4.8, 4.8, 4.8, 4.7, 4.7, 4.8, 4.7, 4.3, 4.7, 4.8, 4.9, 4.4, 4.5, 4.4, 4.8, 4.2, 4.8, 4.9, 4.8, 4.7, 4.5, 4.8, 4.6, 4.8, 4.4, 4.3, 4.3, 4.8, 4.8, 4.8, 4.5, 4.4, 4.8, 4.6, 4.3, 4.3, 4.6, 4.6, 4.8, 4.6, 4.6, 4.5, 4.8, 4.6, 4.7, 4.7, 4.7, 4.4, 4.4, 4.7, 4.7, 4.8, 4.7, 4.9, 4.6, 4.9, 4.8, 4.7, 4.7, 4.6, 4.5, 4.5, 4.3, 4.6, 4.3, 4.8, 4.6, 4.8, 4.5, 4.7, 4.5, 4.8, 4.3, 4.9, 4.8, 4.7, 4.8, 4.5, 4.6, 4.7, 4.7, 4.8, 4.4, 4.4, 4.8, 4.8, 4.8, 4.6, 4.4, 4.5, 4.2, 4.8, 4.9, 4.7]}],                        {\"font\": {\"color\": \"black\", \"family\": \"Arial\", \"size\": 12}, \"showlegend\": false, \"template\": {\"data\": {\"bar\": [{\"error_x\": {\"color\": \"rgb(36,36,36)\"}, \"error_y\": {\"color\": \"rgb(36,36,36)\"}, \"marker\": {\"line\": {\"color\": \"white\", \"width\": 0.5}}, \"type\": \"bar\"}], \"barpolar\": [{\"marker\": {\"line\": {\"color\": \"white\", \"width\": 0.5}}, \"type\": \"barpolar\"}], \"carpet\": [{\"aaxis\": {\"endlinecolor\": \"rgb(36,36,36)\", \"gridcolor\": \"white\", \"linecolor\": \"white\", \"minorgridcolor\": \"white\", \"startlinecolor\": \"rgb(36,36,36)\"}, \"baxis\": {\"endlinecolor\": \"rgb(36,36,36)\", \"gridcolor\": \"white\", \"linecolor\": \"white\", \"minorgridcolor\": \"white\", \"startlinecolor\": \"rgb(36,36,36)\"}, \"type\": \"carpet\"}], \"choropleth\": [{\"colorbar\": {\"outlinewidth\": 1, \"tickcolor\": \"rgb(36,36,36)\", \"ticks\": \"outside\"}, \"type\": \"choropleth\"}], \"contour\": [{\"colorbar\": {\"outlinewidth\": 1, \"tickcolor\": \"rgb(36,36,36)\", \"ticks\": \"outside\"}, \"colorscale\": [[0.0, \"#440154\"], [0.1111111111111111, \"#482878\"], [0.2222222222222222, \"#3e4989\"], [0.3333333333333333, \"#31688e\"], [0.4444444444444444, \"#26828e\"], [0.5555555555555556, \"#1f9e89\"], [0.6666666666666666, \"#35b779\"], [0.7777777777777778, \"#6ece58\"], [0.8888888888888888, \"#b5de2b\"], [1.0, \"#fde725\"]], \"type\": \"contour\"}], \"contourcarpet\": [{\"colorbar\": {\"outlinewidth\": 1, \"tickcolor\": \"rgb(36,36,36)\", \"ticks\": \"outside\"}, \"type\": \"contourcarpet\"}], \"heatmap\": [{\"colorbar\": {\"outlinewidth\": 1, \"tickcolor\": \"rgb(36,36,36)\", \"ticks\": \"outside\"}, \"colorscale\": [[0.0, \"#440154\"], [0.1111111111111111, \"#482878\"], [0.2222222222222222, \"#3e4989\"], [0.3333333333333333, \"#31688e\"], [0.4444444444444444, \"#26828e\"], [0.5555555555555556, \"#1f9e89\"], [0.6666666666666666, \"#35b779\"], [0.7777777777777778, \"#6ece58\"], [0.8888888888888888, \"#b5de2b\"], [1.0, \"#fde725\"]], \"type\": \"heatmap\"}], \"heatmapgl\": [{\"colorbar\": {\"outlinewidth\": 1, \"tickcolor\": \"rgb(36,36,36)\", \"ticks\": \"outside\"}, \"colorscale\": [[0.0, \"#440154\"], [0.1111111111111111, \"#482878\"], [0.2222222222222222, \"#3e4989\"], [0.3333333333333333, \"#31688e\"], [0.4444444444444444, \"#26828e\"], [0.5555555555555556, \"#1f9e89\"], [0.6666666666666666, \"#35b779\"], [0.7777777777777778, \"#6ece58\"], [0.8888888888888888, \"#b5de2b\"], [1.0, \"#fde725\"]], \"type\": \"heatmapgl\"}], \"histogram\": [{\"marker\": {\"line\": {\"color\": \"white\", \"width\": 0.6}}, \"type\": \"histogram\"}], \"histogram2d\": [{\"colorbar\": {\"outlinewidth\": 1, \"tickcolor\": \"rgb(36,36,36)\", \"ticks\": \"outside\"}, \"colorscale\": [[0.0, \"#440154\"], [0.1111111111111111, \"#482878\"], [0.2222222222222222, \"#3e4989\"], [0.3333333333333333, \"#31688e\"], [0.4444444444444444, \"#26828e\"], [0.5555555555555556, \"#1f9e89\"], [0.6666666666666666, \"#35b779\"], [0.7777777777777778, \"#6ece58\"], [0.8888888888888888, \"#b5de2b\"], [1.0, \"#fde725\"]], \"type\": \"histogram2d\"}], \"histogram2dcontour\": [{\"colorbar\": {\"outlinewidth\": 1, \"tickcolor\": \"rgb(36,36,36)\", \"ticks\": \"outside\"}, \"colorscale\": [[0.0, \"#440154\"], [0.1111111111111111, \"#482878\"], [0.2222222222222222, \"#3e4989\"], [0.3333333333333333, \"#31688e\"], [0.4444444444444444, \"#26828e\"], [0.5555555555555556, \"#1f9e89\"], [0.6666666666666666, \"#35b779\"], [0.7777777777777778, \"#6ece58\"], [0.8888888888888888, \"#b5de2b\"], [1.0, \"#fde725\"]], \"type\": \"histogram2dcontour\"}], \"mesh3d\": [{\"colorbar\": {\"outlinewidth\": 1, \"tickcolor\": \"rgb(36,36,36)\", \"ticks\": \"outside\"}, \"type\": \"mesh3d\"}], \"parcoords\": [{\"line\": {\"colorbar\": {\"outlinewidth\": 1, \"tickcolor\": \"rgb(36,36,36)\", \"ticks\": \"outside\"}}, \"type\": \"parcoords\"}], \"pie\": [{\"automargin\": true, \"type\": \"pie\"}], \"scatter\": [{\"marker\": {\"colorbar\": {\"outlinewidth\": 1, \"tickcolor\": \"rgb(36,36,36)\", \"ticks\": \"outside\"}}, \"type\": \"scatter\"}], \"scatter3d\": [{\"line\": {\"colorbar\": {\"outlinewidth\": 1, \"tickcolor\": \"rgb(36,36,36)\", \"ticks\": \"outside\"}}, \"marker\": {\"colorbar\": {\"outlinewidth\": 1, \"tickcolor\": \"rgb(36,36,36)\", \"ticks\": \"outside\"}}, \"type\": \"scatter3d\"}], \"scattercarpet\": [{\"marker\": {\"colorbar\": {\"outlinewidth\": 1, \"tickcolor\": \"rgb(36,36,36)\", \"ticks\": \"outside\"}}, \"type\": \"scattercarpet\"}], \"scattergeo\": [{\"marker\": {\"colorbar\": {\"outlinewidth\": 1, \"tickcolor\": \"rgb(36,36,36)\", \"ticks\": \"outside\"}}, \"type\": \"scattergeo\"}], \"scattergl\": [{\"marker\": {\"colorbar\": {\"outlinewidth\": 1, \"tickcolor\": \"rgb(36,36,36)\", \"ticks\": \"outside\"}}, \"type\": \"scattergl\"}], \"scattermapbox\": [{\"marker\": {\"colorbar\": {\"outlinewidth\": 1, \"tickcolor\": \"rgb(36,36,36)\", \"ticks\": \"outside\"}}, \"type\": \"scattermapbox\"}], \"scatterpolar\": [{\"marker\": {\"colorbar\": {\"outlinewidth\": 1, \"tickcolor\": \"rgb(36,36,36)\", \"ticks\": \"outside\"}}, \"type\": \"scatterpolar\"}], \"scatterpolargl\": [{\"marker\": {\"colorbar\": {\"outlinewidth\": 1, \"tickcolor\": \"rgb(36,36,36)\", \"ticks\": \"outside\"}}, \"type\": \"scatterpolargl\"}], \"scatterternary\": [{\"marker\": {\"colorbar\": {\"outlinewidth\": 1, \"tickcolor\": \"rgb(36,36,36)\", \"ticks\": \"outside\"}}, \"type\": \"scatterternary\"}], \"surface\": [{\"colorbar\": {\"outlinewidth\": 1, \"tickcolor\": \"rgb(36,36,36)\", \"ticks\": \"outside\"}, \"colorscale\": [[0.0, \"#440154\"], [0.1111111111111111, \"#482878\"], [0.2222222222222222, \"#3e4989\"], [0.3333333333333333, \"#31688e\"], [0.4444444444444444, \"#26828e\"], [0.5555555555555556, \"#1f9e89\"], [0.6666666666666666, \"#35b779\"], [0.7777777777777778, \"#6ece58\"], [0.8888888888888888, \"#b5de2b\"], [1.0, \"#fde725\"]], \"type\": \"surface\"}], \"table\": [{\"cells\": {\"fill\": {\"color\": \"rgb(237,237,237)\"}, \"line\": {\"color\": \"white\"}}, \"header\": {\"fill\": {\"color\": \"rgb(217,217,217)\"}, \"line\": {\"color\": \"white\"}}, \"type\": \"table\"}]}, \"layout\": {\"annotationdefaults\": {\"arrowhead\": 0, \"arrowwidth\": 1}, \"autotypenumbers\": \"strict\", \"coloraxis\": {\"colorbar\": {\"outlinewidth\": 1, \"tickcolor\": \"rgb(36,36,36)\", \"ticks\": \"outside\"}}, \"colorscale\": {\"diverging\": [[0.0, \"rgb(103,0,31)\"], [0.1, \"rgb(178,24,43)\"], [0.2, \"rgb(214,96,77)\"], [0.3, \"rgb(244,165,130)\"], [0.4, \"rgb(253,219,199)\"], [0.5, \"rgb(247,247,247)\"], [0.6, \"rgb(209,229,240)\"], [0.7, \"rgb(146,197,222)\"], [0.8, \"rgb(67,147,195)\"], [0.9, \"rgb(33,102,172)\"], [1.0, \"rgb(5,48,97)\"]], \"sequential\": [[0.0, \"#440154\"], [0.1111111111111111, \"#482878\"], [0.2222222222222222, \"#3e4989\"], [0.3333333333333333, \"#31688e\"], [0.4444444444444444, \"#26828e\"], [0.5555555555555556, \"#1f9e89\"], [0.6666666666666666, \"#35b779\"], [0.7777777777777778, \"#6ece58\"], [0.8888888888888888, \"#b5de2b\"], [1.0, \"#fde725\"]], \"sequentialminus\": [[0.0, \"#440154\"], [0.1111111111111111, \"#482878\"], [0.2222222222222222, \"#3e4989\"], [0.3333333333333333, \"#31688e\"], [0.4444444444444444, \"#26828e\"], [0.5555555555555556, \"#1f9e89\"], [0.6666666666666666, \"#35b779\"], [0.7777777777777778, \"#6ece58\"], [0.8888888888888888, \"#b5de2b\"], [1.0, \"#fde725\"]]}, \"colorway\": [\"#1F77B4\", \"#FF7F0E\", \"#2CA02C\", \"#D62728\", \"#9467BD\", \"#8C564B\", \"#E377C2\", \"#7F7F7F\", \"#BCBD22\", \"#17BECF\"], \"font\": {\"color\": \"rgb(36,36,36)\"}, \"geo\": {\"bgcolor\": \"white\", \"lakecolor\": \"white\", \"landcolor\": \"white\", \"showlakes\": true, \"showland\": true, \"subunitcolor\": \"white\"}, \"hoverlabel\": {\"align\": \"left\"}, \"hovermode\": \"closest\", \"mapbox\": {\"style\": \"light\"}, \"paper_bgcolor\": \"white\", \"plot_bgcolor\": \"white\", \"polar\": {\"angularaxis\": {\"gridcolor\": \"rgb(232,232,232)\", \"linecolor\": \"rgb(36,36,36)\", \"showgrid\": false, \"showline\": true, \"ticks\": \"outside\"}, \"bgcolor\": \"white\", \"radialaxis\": {\"gridcolor\": \"rgb(232,232,232)\", \"linecolor\": \"rgb(36,36,36)\", \"showgrid\": false, \"showline\": true, \"ticks\": \"outside\"}}, \"scene\": {\"xaxis\": {\"backgroundcolor\": \"white\", \"gridcolor\": \"rgb(232,232,232)\", \"gridwidth\": 2, \"linecolor\": \"rgb(36,36,36)\", \"showbackground\": true, \"showgrid\": false, \"showline\": true, \"ticks\": \"outside\", \"zeroline\": false, \"zerolinecolor\": \"rgb(36,36,36)\"}, \"yaxis\": {\"backgroundcolor\": \"white\", \"gridcolor\": \"rgb(232,232,232)\", \"gridwidth\": 2, \"linecolor\": \"rgb(36,36,36)\", \"showbackground\": true, \"showgrid\": false, \"showline\": true, \"ticks\": \"outside\", \"zeroline\": false, \"zerolinecolor\": \"rgb(36,36,36)\"}, \"zaxis\": {\"backgroundcolor\": \"white\", \"gridcolor\": \"rgb(232,232,232)\", \"gridwidth\": 2, \"linecolor\": \"rgb(36,36,36)\", \"showbackground\": true, \"showgrid\": false, \"showline\": true, \"ticks\": \"outside\", \"zeroline\": false, \"zerolinecolor\": \"rgb(36,36,36)\"}}, \"shapedefaults\": {\"fillcolor\": \"black\", \"line\": {\"width\": 0}, \"opacity\": 0.3}, \"ternary\": {\"aaxis\": {\"gridcolor\": \"rgb(232,232,232)\", \"linecolor\": \"rgb(36,36,36)\", \"showgrid\": false, \"showline\": true, \"ticks\": \"outside\"}, \"baxis\": {\"gridcolor\": \"rgb(232,232,232)\", \"linecolor\": \"rgb(36,36,36)\", \"showgrid\": false, \"showline\": true, \"ticks\": \"outside\"}, \"bgcolor\": \"white\", \"caxis\": {\"gridcolor\": \"rgb(232,232,232)\", \"linecolor\": \"rgb(36,36,36)\", \"showgrid\": false, \"showline\": true, \"ticks\": \"outside\"}}, \"title\": {\"x\": 0.05}, \"xaxis\": {\"automargin\": true, \"gridcolor\": \"rgb(232,232,232)\", \"linecolor\": \"rgb(36,36,36)\", \"showgrid\": false, \"showline\": true, \"ticks\": \"outside\", \"title\": {\"standoff\": 15}, \"zeroline\": false, \"zerolinecolor\": \"rgb(36,36,36)\"}, \"yaxis\": {\"automargin\": true, \"gridcolor\": \"rgb(232,232,232)\", \"linecolor\": \"rgb(36,36,36)\", \"showgrid\": false, \"showline\": true, \"ticks\": \"outside\", \"title\": {\"standoff\": 15}, \"zeroline\": false, \"zerolinecolor\": \"rgb(36,36,36)\"}}}, \"xaxis\": {\"anchor\": \"y\", \"domain\": [0.0, 1.0]}, \"yaxis\": {\"anchor\": \"x\", \"domain\": [0.0, 1.0]}},                        {\"responsive\": true}                    ).then(function(){\n",
       "                            \n",
       "var gd = document.getElementById('25dfe73f-ea96-4fce-8217-205fdecc0238');\n",
       "var x = new MutationObserver(function (mutations, observer) {{\n",
       "        var display = window.getComputedStyle(gd).display;\n",
       "        if (!display || display === 'none') {{\n",
       "            console.log([gd, 'removed!']);\n",
       "            Plotly.purge(gd);\n",
       "            observer.disconnect();\n",
       "        }}\n",
       "}});\n",
       "\n",
       "// Listen for the removal of the full notebook cells\n",
       "var notebookContainer = gd.closest('#notebook-container');\n",
       "if (notebookContainer) {{\n",
       "    x.observe(notebookContainer, {childList: true});\n",
       "}}\n",
       "\n",
       "// Listen for the clearing of the current output cell\n",
       "var outputEl = gd.closest('.output');\n",
       "if (outputEl) {{\n",
       "    x.observe(outputEl, {childList: true});\n",
       "}}\n",
       "\n",
       "                        })                };                });            </script>        </div>"
      ]
     },
     "metadata": {},
     "output_type": "display_data"
    },
    {
     "data": {
      "text/html": [
       "<div>                            <div id=\"daacff99-f981-4eb8-91f4-c098e717de55\" class=\"plotly-graph-div\" style=\"height:525px; width:100%;\"></div>            <script type=\"text/javascript\">                require([\"plotly\"], function(Plotly) {                    window.PLOTLYENV=window.PLOTLYENV || {};                                    if (document.getElementById(\"daacff99-f981-4eb8-91f4-c098e717de55\")) {                    Plotly.newPlot(                        \"daacff99-f981-4eb8-91f4-c098e717de55\",                        [{\"marker\": {\"color\": \"Salmon\"}, \"name\": \"Reviews\", \"type\": \"box\", \"x\": [17350, 2052, 18979, 21424, 7665, 12643, 19735, 19699, 5983, 23848, 460, 4149, 5153, 5013, 2313, 2925, 2951, 2426, 9198, 36348, 6310, 15921, 12159, 798, 9374, 491, 5360, 1909, 1296, 615, 61133, 11113, 10070, 3729, 9769, 471, 14344, 4505, 10369, 16244, 2884, 22614, 4761, 1542, 6143, 4022, 3871, 4866, 1329, 4642, 1541, 1924, 2094, 10922, 2137, 1651, 6679, 6812, 3837, 6540, 7955, 27098, 17684, 37, 15845, 3181, 5062, 4786, 7235, 12619, 9089, 5470, 5118, 2134, 2525, 720, 956, 6346, 5505, 5505, 28729, 5413, 10721, 4370, 6042, 23631, 20262, 47265, 13964, 13677, 17323, 1555, 3642, 1215, 5594, 408, 4799, 14038, 7660, 22288, 1365, 14982, 9568, 1636, 57271, 10141, 3457, 8837, 7038, 5972, 25624, 5476, 5867, 4148, 19622, 23973, 7758, 3146, 10052, 3564, 13471, 1930, 15779, 15526, 3776, 25001, 5272, 3490, 2812, 4896, 9737, 1320, 16643, 7153, 4571, 29651, 5299, 7396, 7062, 19576, 978, 4748, 8393, 11391, 8634, 9342, 10927, 5235, 8916, 2507, 3673, 11881, 6990, 6132, 3014, 7550, 3828, 2752, 1467, 1884, 25706, 8491, 1649, 18613, 9867, 1386, 10199, 2926, 17739, 3113, 5542, 26741, 5347, 7866, 5680, 5178, 8093, 3192, 21834, 6169, 4519, 3163, 1831, 18904, 21930, 10426, 10820, 548, 16990, 3503, 13616, 8580, 4757, 10009, 1985, 22536, 7150, 3836, 7802, 3619, 23047, 9366, 1265, 3923, 2272, 973, 220, 7827, 9382, 5069, 1583, 1907, 23114, 637, 2314, 4587, 25554, 1680, 4725, 35799, 2580, 11813, 3536, 6600, 1789, 12361, 858, 23148, 8081, 23358, 9372, 4633, 13061, 3523, 2774, 440, 8922, 2023, 1859, 50482, 3207, 803, 23308, 5836, 79446, 7747, 7251, 7251, 10559, 5249, 33844, 11616, 13609, 8587, 29442, 11098, 9947, 13871, 6982, 32122, 32122, 16949, 9289, 7368, 4028, 4628, 5396, 4247, 22641, 6222, 4506, 8747, 1655, 7861, 6247, 39459, 10101, 5898, 2744, 49288, 1201, 807, 3759, 2663, 3428, 2876, 3601, 7058, 9784, 10795, 10191, 14493, 2186, 1204, 2091, 19720, 2122, 27536, 4290, 26490, 5487, 6377, 1463, 3759, 3503, 11550, 3801, 3796, 9030, 19546, 7508, 8842, 30183, 6169, 7034, 11034, 7932, 1904, 3319, 11128, 5977, 26234, 4360, 2282, 438, 11676, 2586, 29673, 6740, 5956, 6108, 4585, 3829, 8958, 5492, 9292, 1873, 8170, 3341, 7497, 13779, 87841, 9967, 6669, 17044, 10760, 1302, 21625, 9413, 14331]}],                        {\"font\": {\"color\": \"black\", \"family\": \"Arial\", \"size\": 12}, \"showlegend\": false, \"template\": {\"data\": {\"bar\": [{\"error_x\": {\"color\": \"rgb(36,36,36)\"}, \"error_y\": {\"color\": \"rgb(36,36,36)\"}, \"marker\": {\"line\": {\"color\": \"white\", \"width\": 0.5}}, \"type\": \"bar\"}], \"barpolar\": [{\"marker\": {\"line\": {\"color\": \"white\", \"width\": 0.5}}, \"type\": \"barpolar\"}], \"carpet\": [{\"aaxis\": {\"endlinecolor\": \"rgb(36,36,36)\", \"gridcolor\": \"white\", \"linecolor\": \"white\", \"minorgridcolor\": \"white\", \"startlinecolor\": \"rgb(36,36,36)\"}, \"baxis\": {\"endlinecolor\": \"rgb(36,36,36)\", \"gridcolor\": \"white\", \"linecolor\": \"white\", \"minorgridcolor\": \"white\", \"startlinecolor\": \"rgb(36,36,36)\"}, \"type\": \"carpet\"}], \"choropleth\": [{\"colorbar\": {\"outlinewidth\": 1, \"tickcolor\": \"rgb(36,36,36)\", \"ticks\": \"outside\"}, \"type\": \"choropleth\"}], \"contour\": [{\"colorbar\": {\"outlinewidth\": 1, \"tickcolor\": \"rgb(36,36,36)\", \"ticks\": \"outside\"}, \"colorscale\": [[0.0, \"#440154\"], [0.1111111111111111, \"#482878\"], [0.2222222222222222, \"#3e4989\"], [0.3333333333333333, \"#31688e\"], [0.4444444444444444, \"#26828e\"], [0.5555555555555556, \"#1f9e89\"], [0.6666666666666666, \"#35b779\"], [0.7777777777777778, \"#6ece58\"], [0.8888888888888888, \"#b5de2b\"], [1.0, \"#fde725\"]], \"type\": \"contour\"}], \"contourcarpet\": [{\"colorbar\": {\"outlinewidth\": 1, \"tickcolor\": \"rgb(36,36,36)\", \"ticks\": \"outside\"}, \"type\": \"contourcarpet\"}], \"heatmap\": [{\"colorbar\": {\"outlinewidth\": 1, \"tickcolor\": \"rgb(36,36,36)\", \"ticks\": \"outside\"}, \"colorscale\": [[0.0, \"#440154\"], [0.1111111111111111, \"#482878\"], [0.2222222222222222, \"#3e4989\"], [0.3333333333333333, \"#31688e\"], [0.4444444444444444, \"#26828e\"], [0.5555555555555556, \"#1f9e89\"], [0.6666666666666666, \"#35b779\"], [0.7777777777777778, \"#6ece58\"], [0.8888888888888888, \"#b5de2b\"], [1.0, \"#fde725\"]], \"type\": \"heatmap\"}], \"heatmapgl\": [{\"colorbar\": {\"outlinewidth\": 1, \"tickcolor\": \"rgb(36,36,36)\", \"ticks\": \"outside\"}, \"colorscale\": [[0.0, \"#440154\"], [0.1111111111111111, \"#482878\"], [0.2222222222222222, \"#3e4989\"], [0.3333333333333333, \"#31688e\"], [0.4444444444444444, \"#26828e\"], [0.5555555555555556, \"#1f9e89\"], [0.6666666666666666, \"#35b779\"], [0.7777777777777778, \"#6ece58\"], [0.8888888888888888, \"#b5de2b\"], [1.0, \"#fde725\"]], \"type\": \"heatmapgl\"}], \"histogram\": [{\"marker\": {\"line\": {\"color\": \"white\", \"width\": 0.6}}, \"type\": \"histogram\"}], \"histogram2d\": [{\"colorbar\": {\"outlinewidth\": 1, \"tickcolor\": \"rgb(36,36,36)\", \"ticks\": \"outside\"}, \"colorscale\": [[0.0, \"#440154\"], [0.1111111111111111, \"#482878\"], [0.2222222222222222, \"#3e4989\"], [0.3333333333333333, \"#31688e\"], [0.4444444444444444, \"#26828e\"], [0.5555555555555556, \"#1f9e89\"], [0.6666666666666666, \"#35b779\"], [0.7777777777777778, \"#6ece58\"], [0.8888888888888888, \"#b5de2b\"], [1.0, \"#fde725\"]], \"type\": \"histogram2d\"}], \"histogram2dcontour\": [{\"colorbar\": {\"outlinewidth\": 1, \"tickcolor\": \"rgb(36,36,36)\", \"ticks\": \"outside\"}, \"colorscale\": [[0.0, \"#440154\"], [0.1111111111111111, \"#482878\"], [0.2222222222222222, \"#3e4989\"], [0.3333333333333333, \"#31688e\"], [0.4444444444444444, \"#26828e\"], [0.5555555555555556, \"#1f9e89\"], [0.6666666666666666, \"#35b779\"], [0.7777777777777778, \"#6ece58\"], [0.8888888888888888, \"#b5de2b\"], [1.0, \"#fde725\"]], \"type\": \"histogram2dcontour\"}], \"mesh3d\": [{\"colorbar\": {\"outlinewidth\": 1, \"tickcolor\": \"rgb(36,36,36)\", \"ticks\": \"outside\"}, \"type\": \"mesh3d\"}], \"parcoords\": [{\"line\": {\"colorbar\": {\"outlinewidth\": 1, \"tickcolor\": \"rgb(36,36,36)\", \"ticks\": \"outside\"}}, \"type\": \"parcoords\"}], \"pie\": [{\"automargin\": true, \"type\": \"pie\"}], \"scatter\": [{\"marker\": {\"colorbar\": {\"outlinewidth\": 1, \"tickcolor\": \"rgb(36,36,36)\", \"ticks\": \"outside\"}}, \"type\": \"scatter\"}], \"scatter3d\": [{\"line\": {\"colorbar\": {\"outlinewidth\": 1, \"tickcolor\": \"rgb(36,36,36)\", \"ticks\": \"outside\"}}, \"marker\": {\"colorbar\": {\"outlinewidth\": 1, \"tickcolor\": \"rgb(36,36,36)\", \"ticks\": \"outside\"}}, \"type\": \"scatter3d\"}], \"scattercarpet\": [{\"marker\": {\"colorbar\": {\"outlinewidth\": 1, \"tickcolor\": \"rgb(36,36,36)\", \"ticks\": \"outside\"}}, \"type\": \"scattercarpet\"}], \"scattergeo\": [{\"marker\": {\"colorbar\": {\"outlinewidth\": 1, \"tickcolor\": \"rgb(36,36,36)\", \"ticks\": \"outside\"}}, \"type\": \"scattergeo\"}], \"scattergl\": [{\"marker\": {\"colorbar\": {\"outlinewidth\": 1, \"tickcolor\": \"rgb(36,36,36)\", \"ticks\": \"outside\"}}, \"type\": \"scattergl\"}], \"scattermapbox\": [{\"marker\": {\"colorbar\": {\"outlinewidth\": 1, \"tickcolor\": \"rgb(36,36,36)\", \"ticks\": \"outside\"}}, \"type\": \"scattermapbox\"}], \"scatterpolar\": [{\"marker\": {\"colorbar\": {\"outlinewidth\": 1, \"tickcolor\": \"rgb(36,36,36)\", \"ticks\": \"outside\"}}, \"type\": \"scatterpolar\"}], \"scatterpolargl\": [{\"marker\": {\"colorbar\": {\"outlinewidth\": 1, \"tickcolor\": \"rgb(36,36,36)\", \"ticks\": \"outside\"}}, \"type\": \"scatterpolargl\"}], \"scatterternary\": [{\"marker\": {\"colorbar\": {\"outlinewidth\": 1, \"tickcolor\": \"rgb(36,36,36)\", \"ticks\": \"outside\"}}, \"type\": \"scatterternary\"}], \"surface\": [{\"colorbar\": {\"outlinewidth\": 1, \"tickcolor\": \"rgb(36,36,36)\", \"ticks\": \"outside\"}, \"colorscale\": [[0.0, \"#440154\"], [0.1111111111111111, \"#482878\"], [0.2222222222222222, \"#3e4989\"], [0.3333333333333333, \"#31688e\"], [0.4444444444444444, \"#26828e\"], [0.5555555555555556, \"#1f9e89\"], [0.6666666666666666, \"#35b779\"], [0.7777777777777778, \"#6ece58\"], [0.8888888888888888, \"#b5de2b\"], [1.0, \"#fde725\"]], \"type\": \"surface\"}], \"table\": [{\"cells\": {\"fill\": {\"color\": \"rgb(237,237,237)\"}, \"line\": {\"color\": \"white\"}}, \"header\": {\"fill\": {\"color\": \"rgb(217,217,217)\"}, \"line\": {\"color\": \"white\"}}, \"type\": \"table\"}]}, \"layout\": {\"annotationdefaults\": {\"arrowhead\": 0, \"arrowwidth\": 1}, \"autotypenumbers\": \"strict\", \"coloraxis\": {\"colorbar\": {\"outlinewidth\": 1, \"tickcolor\": \"rgb(36,36,36)\", \"ticks\": \"outside\"}}, \"colorscale\": {\"diverging\": [[0.0, \"rgb(103,0,31)\"], [0.1, \"rgb(178,24,43)\"], [0.2, \"rgb(214,96,77)\"], [0.3, \"rgb(244,165,130)\"], [0.4, \"rgb(253,219,199)\"], [0.5, \"rgb(247,247,247)\"], [0.6, \"rgb(209,229,240)\"], [0.7, \"rgb(146,197,222)\"], [0.8, \"rgb(67,147,195)\"], [0.9, \"rgb(33,102,172)\"], [1.0, \"rgb(5,48,97)\"]], \"sequential\": [[0.0, \"#440154\"], [0.1111111111111111, \"#482878\"], [0.2222222222222222, \"#3e4989\"], [0.3333333333333333, \"#31688e\"], [0.4444444444444444, \"#26828e\"], [0.5555555555555556, \"#1f9e89\"], [0.6666666666666666, \"#35b779\"], [0.7777777777777778, \"#6ece58\"], [0.8888888888888888, \"#b5de2b\"], [1.0, \"#fde725\"]], \"sequentialminus\": [[0.0, \"#440154\"], [0.1111111111111111, \"#482878\"], [0.2222222222222222, \"#3e4989\"], [0.3333333333333333, \"#31688e\"], [0.4444444444444444, \"#26828e\"], [0.5555555555555556, \"#1f9e89\"], [0.6666666666666666, \"#35b779\"], [0.7777777777777778, \"#6ece58\"], [0.8888888888888888, \"#b5de2b\"], [1.0, \"#fde725\"]]}, \"colorway\": [\"#1F77B4\", \"#FF7F0E\", \"#2CA02C\", \"#D62728\", \"#9467BD\", \"#8C564B\", \"#E377C2\", \"#7F7F7F\", \"#BCBD22\", \"#17BECF\"], \"font\": {\"color\": \"rgb(36,36,36)\"}, \"geo\": {\"bgcolor\": \"white\", \"lakecolor\": \"white\", \"landcolor\": \"white\", \"showlakes\": true, \"showland\": true, \"subunitcolor\": \"white\"}, \"hoverlabel\": {\"align\": \"left\"}, \"hovermode\": \"closest\", \"mapbox\": {\"style\": \"light\"}, \"paper_bgcolor\": \"white\", \"plot_bgcolor\": \"white\", \"polar\": {\"angularaxis\": {\"gridcolor\": \"rgb(232,232,232)\", \"linecolor\": \"rgb(36,36,36)\", \"showgrid\": false, \"showline\": true, \"ticks\": \"outside\"}, \"bgcolor\": \"white\", \"radialaxis\": {\"gridcolor\": \"rgb(232,232,232)\", \"linecolor\": \"rgb(36,36,36)\", \"showgrid\": false, \"showline\": true, \"ticks\": \"outside\"}}, \"scene\": {\"xaxis\": {\"backgroundcolor\": \"white\", \"gridcolor\": \"rgb(232,232,232)\", \"gridwidth\": 2, \"linecolor\": \"rgb(36,36,36)\", \"showbackground\": true, \"showgrid\": false, \"showline\": true, \"ticks\": \"outside\", \"zeroline\": false, \"zerolinecolor\": \"rgb(36,36,36)\"}, \"yaxis\": {\"backgroundcolor\": \"white\", \"gridcolor\": \"rgb(232,232,232)\", \"gridwidth\": 2, \"linecolor\": \"rgb(36,36,36)\", \"showbackground\": true, \"showgrid\": false, \"showline\": true, \"ticks\": \"outside\", \"zeroline\": false, \"zerolinecolor\": \"rgb(36,36,36)\"}, \"zaxis\": {\"backgroundcolor\": \"white\", \"gridcolor\": \"rgb(232,232,232)\", \"gridwidth\": 2, \"linecolor\": \"rgb(36,36,36)\", \"showbackground\": true, \"showgrid\": false, \"showline\": true, \"ticks\": \"outside\", \"zeroline\": false, \"zerolinecolor\": \"rgb(36,36,36)\"}}, \"shapedefaults\": {\"fillcolor\": \"black\", \"line\": {\"width\": 0}, \"opacity\": 0.3}, \"ternary\": {\"aaxis\": {\"gridcolor\": \"rgb(232,232,232)\", \"linecolor\": \"rgb(36,36,36)\", \"showgrid\": false, \"showline\": true, \"ticks\": \"outside\"}, \"baxis\": {\"gridcolor\": \"rgb(232,232,232)\", \"linecolor\": \"rgb(36,36,36)\", \"showgrid\": false, \"showline\": true, \"ticks\": \"outside\"}, \"bgcolor\": \"white\", \"caxis\": {\"gridcolor\": \"rgb(232,232,232)\", \"linecolor\": \"rgb(36,36,36)\", \"showgrid\": false, \"showline\": true, \"ticks\": \"outside\"}}, \"title\": {\"x\": 0.05}, \"xaxis\": {\"automargin\": true, \"gridcolor\": \"rgb(232,232,232)\", \"linecolor\": \"rgb(36,36,36)\", \"showgrid\": false, \"showline\": true, \"ticks\": \"outside\", \"title\": {\"standoff\": 15}, \"zeroline\": false, \"zerolinecolor\": \"rgb(36,36,36)\"}, \"yaxis\": {\"automargin\": true, \"gridcolor\": \"rgb(232,232,232)\", \"linecolor\": \"rgb(36,36,36)\", \"showgrid\": false, \"showline\": true, \"ticks\": \"outside\", \"title\": {\"standoff\": 15}, \"zeroline\": false, \"zerolinecolor\": \"rgb(36,36,36)\"}}}, \"xaxis\": {\"anchor\": \"y\", \"domain\": [0.0, 1.0]}, \"yaxis\": {\"anchor\": \"x\", \"domain\": [0.0, 1.0]}},                        {\"responsive\": true}                    ).then(function(){\n",
       "                            \n",
       "var gd = document.getElementById('daacff99-f981-4eb8-91f4-c098e717de55');\n",
       "var x = new MutationObserver(function (mutations, observer) {{\n",
       "        var display = window.getComputedStyle(gd).display;\n",
       "        if (!display || display === 'none') {{\n",
       "            console.log([gd, 'removed!']);\n",
       "            Plotly.purge(gd);\n",
       "            observer.disconnect();\n",
       "        }}\n",
       "}});\n",
       "\n",
       "// Listen for the removal of the full notebook cells\n",
       "var notebookContainer = gd.closest('#notebook-container');\n",
       "if (notebookContainer) {{\n",
       "    x.observe(notebookContainer, {childList: true});\n",
       "}}\n",
       "\n",
       "// Listen for the clearing of the current output cell\n",
       "var outputEl = gd.closest('.output');\n",
       "if (outputEl) {{\n",
       "    x.observe(outputEl, {childList: true});\n",
       "}}\n",
       "\n",
       "                        })                };                });            </script>        </div>"
      ]
     },
     "metadata": {},
     "output_type": "display_data"
    },
    {
     "data": {
      "text/html": [
       "<div>                            <div id=\"b1d24348-ceee-4b4f-a6ea-9d3a7314981a\" class=\"plotly-graph-div\" style=\"height:525px; width:100%;\"></div>            <script type=\"text/javascript\">                require([\"plotly\"], function(Plotly) {                    window.PLOTLYENV=window.PLOTLYENV || {};                                    if (document.getElementById(\"b1d24348-ceee-4b4f-a6ea-9d3a7314981a\")) {                    Plotly.newPlot(                        \"b1d24348-ceee-4b4f-a6ea-9d3a7314981a\",                        [{\"marker\": {\"color\": \"Salmon\"}, \"name\": \"Price\", \"type\": \"box\", \"x\": [8, 22, 15, 6, 12, 11, 30, 15, 3, 8, 2, 32, 5, 17, 4, 6, 6, 8, 13, 14, 13, 9, 13, 5, 9, 14, 5, 11, 24, 21, 11, 15, 13, 18, 13, 8, 5, 0, 4, 18, 28, 11, 16, 14, 8, 4, 5, 11, 10, 13, 4, 8, 4, 5, 17, 15, 105, 0, 15, 22, 5, 15, 6, 6, 13, 12, 6, 8, 4, 8, 8, 6, 20, 5, 16, 1, 14, 9, 7, 18, 15, 9, 8, 15, 2, 7, 11, 14, 32, 6, 4, 9, 0, 9, 5, 20, 16, 4, 12, 12, 11, 19, 9, 6, 9, 6, 14, 5, 7, 10, 14, 7, 54, 11, 30, 12, 18, 30, 22, 9, 52, 4, 10, 14, 22, 11, 16, 15, 17, 17, 7, 7, 4, 9, 21, 14, 20, 13, 12, 8, 0, 12, 17, 12, 25, 10, 6, 5, 6, 8, 4, 13, 4, 13, 21, 6, 15, 18, 10, 0, 12, 7, 13, 5, 16, 20, 11, 27, 8, 6, 10, 8, 16, 11, 10, 9, 14, 22, 8, 7, 12, 13, 9, 13, 11, 20, 5, 2, 27, 9, 10, 46, 4, 7, 9, 12, 12, 12, 20, 10, 6, 9, 11, 16, 6, 25, 17, 20, 6, 17, 18, 13, 18, 20, 22, 21, 8, 12, 16, 39, 9, 10, 17, 11, 14, 12, 53, 6, 8, 12, 12, 21, 6, 13, 0, 11, 9, 15, 11, 7, 6, 9, 6, 0, 7, 14, 9, 16, 2, 5, 20, 7, 14, 10, 7, 13, 11, 7, 14, 14, 8, 30, 9, 7, 9, 7, 20, 13, 11, 18, 14, 19, 13, 5, 10, 9, 8, 8, 12, 11, 40, 36, 16, 17, 14, 21, 18, 17, 5, 21, 18, 18, 12, 14, 12, 8, 0, 14, 10, 15, 9, 7, 10, 6, 9, 10, 82, 12, 10, 5, 16, 10, 4, 16, 15, 19, 9, 23, 11, 23, 12, 7, 21, 21, 15, 9, 5, 13, 20, 11, 4, 9, 42, 12, 18, 17, 14, 13, 9, 6, 14, 15, 13, 12, 18, 15, 11, 9, 8, 8]}],                        {\"font\": {\"color\": \"black\", \"family\": \"Arial\", \"size\": 12}, \"showlegend\": false, \"template\": {\"data\": {\"bar\": [{\"error_x\": {\"color\": \"rgb(36,36,36)\"}, \"error_y\": {\"color\": \"rgb(36,36,36)\"}, \"marker\": {\"line\": {\"color\": \"white\", \"width\": 0.5}}, \"type\": \"bar\"}], \"barpolar\": [{\"marker\": {\"line\": {\"color\": \"white\", \"width\": 0.5}}, \"type\": \"barpolar\"}], \"carpet\": [{\"aaxis\": {\"endlinecolor\": \"rgb(36,36,36)\", \"gridcolor\": \"white\", \"linecolor\": \"white\", \"minorgridcolor\": \"white\", \"startlinecolor\": \"rgb(36,36,36)\"}, \"baxis\": {\"endlinecolor\": \"rgb(36,36,36)\", \"gridcolor\": \"white\", \"linecolor\": \"white\", \"minorgridcolor\": \"white\", \"startlinecolor\": \"rgb(36,36,36)\"}, \"type\": \"carpet\"}], \"choropleth\": [{\"colorbar\": {\"outlinewidth\": 1, \"tickcolor\": \"rgb(36,36,36)\", \"ticks\": \"outside\"}, \"type\": \"choropleth\"}], \"contour\": [{\"colorbar\": {\"outlinewidth\": 1, \"tickcolor\": \"rgb(36,36,36)\", \"ticks\": \"outside\"}, \"colorscale\": [[0.0, \"#440154\"], [0.1111111111111111, \"#482878\"], [0.2222222222222222, \"#3e4989\"], [0.3333333333333333, \"#31688e\"], [0.4444444444444444, \"#26828e\"], [0.5555555555555556, \"#1f9e89\"], [0.6666666666666666, \"#35b779\"], [0.7777777777777778, \"#6ece58\"], [0.8888888888888888, \"#b5de2b\"], [1.0, \"#fde725\"]], \"type\": \"contour\"}], \"contourcarpet\": [{\"colorbar\": {\"outlinewidth\": 1, \"tickcolor\": \"rgb(36,36,36)\", \"ticks\": \"outside\"}, \"type\": \"contourcarpet\"}], \"heatmap\": [{\"colorbar\": {\"outlinewidth\": 1, \"tickcolor\": \"rgb(36,36,36)\", \"ticks\": \"outside\"}, \"colorscale\": [[0.0, \"#440154\"], [0.1111111111111111, \"#482878\"], [0.2222222222222222, \"#3e4989\"], [0.3333333333333333, \"#31688e\"], [0.4444444444444444, \"#26828e\"], [0.5555555555555556, \"#1f9e89\"], [0.6666666666666666, \"#35b779\"], [0.7777777777777778, \"#6ece58\"], [0.8888888888888888, \"#b5de2b\"], [1.0, \"#fde725\"]], \"type\": \"heatmap\"}], \"heatmapgl\": [{\"colorbar\": {\"outlinewidth\": 1, \"tickcolor\": \"rgb(36,36,36)\", \"ticks\": \"outside\"}, \"colorscale\": [[0.0, \"#440154\"], [0.1111111111111111, \"#482878\"], [0.2222222222222222, \"#3e4989\"], [0.3333333333333333, \"#31688e\"], [0.4444444444444444, \"#26828e\"], [0.5555555555555556, \"#1f9e89\"], [0.6666666666666666, \"#35b779\"], [0.7777777777777778, \"#6ece58\"], [0.8888888888888888, \"#b5de2b\"], [1.0, \"#fde725\"]], \"type\": \"heatmapgl\"}], \"histogram\": [{\"marker\": {\"line\": {\"color\": \"white\", \"width\": 0.6}}, \"type\": \"histogram\"}], \"histogram2d\": [{\"colorbar\": {\"outlinewidth\": 1, \"tickcolor\": \"rgb(36,36,36)\", \"ticks\": \"outside\"}, \"colorscale\": [[0.0, \"#440154\"], [0.1111111111111111, \"#482878\"], [0.2222222222222222, \"#3e4989\"], [0.3333333333333333, \"#31688e\"], [0.4444444444444444, \"#26828e\"], [0.5555555555555556, \"#1f9e89\"], [0.6666666666666666, \"#35b779\"], [0.7777777777777778, \"#6ece58\"], [0.8888888888888888, \"#b5de2b\"], [1.0, \"#fde725\"]], \"type\": \"histogram2d\"}], \"histogram2dcontour\": [{\"colorbar\": {\"outlinewidth\": 1, \"tickcolor\": \"rgb(36,36,36)\", \"ticks\": \"outside\"}, \"colorscale\": [[0.0, \"#440154\"], [0.1111111111111111, \"#482878\"], [0.2222222222222222, \"#3e4989\"], [0.3333333333333333, \"#31688e\"], [0.4444444444444444, \"#26828e\"], [0.5555555555555556, \"#1f9e89\"], [0.6666666666666666, \"#35b779\"], [0.7777777777777778, \"#6ece58\"], [0.8888888888888888, \"#b5de2b\"], [1.0, \"#fde725\"]], \"type\": \"histogram2dcontour\"}], \"mesh3d\": [{\"colorbar\": {\"outlinewidth\": 1, \"tickcolor\": \"rgb(36,36,36)\", \"ticks\": \"outside\"}, \"type\": \"mesh3d\"}], \"parcoords\": [{\"line\": {\"colorbar\": {\"outlinewidth\": 1, \"tickcolor\": \"rgb(36,36,36)\", \"ticks\": \"outside\"}}, \"type\": \"parcoords\"}], \"pie\": [{\"automargin\": true, \"type\": \"pie\"}], \"scatter\": [{\"marker\": {\"colorbar\": {\"outlinewidth\": 1, \"tickcolor\": \"rgb(36,36,36)\", \"ticks\": \"outside\"}}, \"type\": \"scatter\"}], \"scatter3d\": [{\"line\": {\"colorbar\": {\"outlinewidth\": 1, \"tickcolor\": \"rgb(36,36,36)\", \"ticks\": \"outside\"}}, \"marker\": {\"colorbar\": {\"outlinewidth\": 1, \"tickcolor\": \"rgb(36,36,36)\", \"ticks\": \"outside\"}}, \"type\": \"scatter3d\"}], \"scattercarpet\": [{\"marker\": {\"colorbar\": {\"outlinewidth\": 1, \"tickcolor\": \"rgb(36,36,36)\", \"ticks\": \"outside\"}}, \"type\": \"scattercarpet\"}], \"scattergeo\": [{\"marker\": {\"colorbar\": {\"outlinewidth\": 1, \"tickcolor\": \"rgb(36,36,36)\", \"ticks\": \"outside\"}}, \"type\": \"scattergeo\"}], \"scattergl\": [{\"marker\": {\"colorbar\": {\"outlinewidth\": 1, \"tickcolor\": \"rgb(36,36,36)\", \"ticks\": \"outside\"}}, \"type\": \"scattergl\"}], \"scattermapbox\": [{\"marker\": {\"colorbar\": {\"outlinewidth\": 1, \"tickcolor\": \"rgb(36,36,36)\", \"ticks\": \"outside\"}}, \"type\": \"scattermapbox\"}], \"scatterpolar\": [{\"marker\": {\"colorbar\": {\"outlinewidth\": 1, \"tickcolor\": \"rgb(36,36,36)\", \"ticks\": \"outside\"}}, \"type\": \"scatterpolar\"}], \"scatterpolargl\": [{\"marker\": {\"colorbar\": {\"outlinewidth\": 1, \"tickcolor\": \"rgb(36,36,36)\", \"ticks\": \"outside\"}}, \"type\": \"scatterpolargl\"}], \"scatterternary\": [{\"marker\": {\"colorbar\": {\"outlinewidth\": 1, \"tickcolor\": \"rgb(36,36,36)\", \"ticks\": \"outside\"}}, \"type\": \"scatterternary\"}], \"surface\": [{\"colorbar\": {\"outlinewidth\": 1, \"tickcolor\": \"rgb(36,36,36)\", \"ticks\": \"outside\"}, \"colorscale\": [[0.0, \"#440154\"], [0.1111111111111111, \"#482878\"], [0.2222222222222222, \"#3e4989\"], [0.3333333333333333, \"#31688e\"], [0.4444444444444444, \"#26828e\"], [0.5555555555555556, \"#1f9e89\"], [0.6666666666666666, \"#35b779\"], [0.7777777777777778, \"#6ece58\"], [0.8888888888888888, \"#b5de2b\"], [1.0, \"#fde725\"]], \"type\": \"surface\"}], \"table\": [{\"cells\": {\"fill\": {\"color\": \"rgb(237,237,237)\"}, \"line\": {\"color\": \"white\"}}, \"header\": {\"fill\": {\"color\": \"rgb(217,217,217)\"}, \"line\": {\"color\": \"white\"}}, \"type\": \"table\"}]}, \"layout\": {\"annotationdefaults\": {\"arrowhead\": 0, \"arrowwidth\": 1}, \"autotypenumbers\": \"strict\", \"coloraxis\": {\"colorbar\": {\"outlinewidth\": 1, \"tickcolor\": \"rgb(36,36,36)\", \"ticks\": \"outside\"}}, \"colorscale\": {\"diverging\": [[0.0, \"rgb(103,0,31)\"], [0.1, \"rgb(178,24,43)\"], [0.2, \"rgb(214,96,77)\"], [0.3, \"rgb(244,165,130)\"], [0.4, \"rgb(253,219,199)\"], [0.5, \"rgb(247,247,247)\"], [0.6, \"rgb(209,229,240)\"], [0.7, \"rgb(146,197,222)\"], [0.8, \"rgb(67,147,195)\"], [0.9, \"rgb(33,102,172)\"], [1.0, \"rgb(5,48,97)\"]], \"sequential\": [[0.0, \"#440154\"], [0.1111111111111111, \"#482878\"], [0.2222222222222222, \"#3e4989\"], [0.3333333333333333, \"#31688e\"], [0.4444444444444444, \"#26828e\"], [0.5555555555555556, \"#1f9e89\"], [0.6666666666666666, \"#35b779\"], [0.7777777777777778, \"#6ece58\"], [0.8888888888888888, \"#b5de2b\"], [1.0, \"#fde725\"]], \"sequentialminus\": [[0.0, \"#440154\"], [0.1111111111111111, \"#482878\"], [0.2222222222222222, \"#3e4989\"], [0.3333333333333333, \"#31688e\"], [0.4444444444444444, \"#26828e\"], [0.5555555555555556, \"#1f9e89\"], [0.6666666666666666, \"#35b779\"], [0.7777777777777778, \"#6ece58\"], [0.8888888888888888, \"#b5de2b\"], [1.0, \"#fde725\"]]}, \"colorway\": [\"#1F77B4\", \"#FF7F0E\", \"#2CA02C\", \"#D62728\", \"#9467BD\", \"#8C564B\", \"#E377C2\", \"#7F7F7F\", \"#BCBD22\", \"#17BECF\"], \"font\": {\"color\": \"rgb(36,36,36)\"}, \"geo\": {\"bgcolor\": \"white\", \"lakecolor\": \"white\", \"landcolor\": \"white\", \"showlakes\": true, \"showland\": true, \"subunitcolor\": \"white\"}, \"hoverlabel\": {\"align\": \"left\"}, \"hovermode\": \"closest\", \"mapbox\": {\"style\": \"light\"}, \"paper_bgcolor\": \"white\", \"plot_bgcolor\": \"white\", \"polar\": {\"angularaxis\": {\"gridcolor\": \"rgb(232,232,232)\", \"linecolor\": \"rgb(36,36,36)\", \"showgrid\": false, \"showline\": true, \"ticks\": \"outside\"}, \"bgcolor\": \"white\", \"radialaxis\": {\"gridcolor\": \"rgb(232,232,232)\", \"linecolor\": \"rgb(36,36,36)\", \"showgrid\": false, \"showline\": true, \"ticks\": \"outside\"}}, \"scene\": {\"xaxis\": {\"backgroundcolor\": \"white\", \"gridcolor\": \"rgb(232,232,232)\", \"gridwidth\": 2, \"linecolor\": \"rgb(36,36,36)\", \"showbackground\": true, \"showgrid\": false, \"showline\": true, \"ticks\": \"outside\", \"zeroline\": false, \"zerolinecolor\": \"rgb(36,36,36)\"}, \"yaxis\": {\"backgroundcolor\": \"white\", \"gridcolor\": \"rgb(232,232,232)\", \"gridwidth\": 2, \"linecolor\": \"rgb(36,36,36)\", \"showbackground\": true, \"showgrid\": false, \"showline\": true, \"ticks\": \"outside\", \"zeroline\": false, \"zerolinecolor\": \"rgb(36,36,36)\"}, \"zaxis\": {\"backgroundcolor\": \"white\", \"gridcolor\": \"rgb(232,232,232)\", \"gridwidth\": 2, \"linecolor\": \"rgb(36,36,36)\", \"showbackground\": true, \"showgrid\": false, \"showline\": true, \"ticks\": \"outside\", \"zeroline\": false, \"zerolinecolor\": \"rgb(36,36,36)\"}}, \"shapedefaults\": {\"fillcolor\": \"black\", \"line\": {\"width\": 0}, \"opacity\": 0.3}, \"ternary\": {\"aaxis\": {\"gridcolor\": \"rgb(232,232,232)\", \"linecolor\": \"rgb(36,36,36)\", \"showgrid\": false, \"showline\": true, \"ticks\": \"outside\"}, \"baxis\": {\"gridcolor\": \"rgb(232,232,232)\", \"linecolor\": \"rgb(36,36,36)\", \"showgrid\": false, \"showline\": true, \"ticks\": \"outside\"}, \"bgcolor\": \"white\", \"caxis\": {\"gridcolor\": \"rgb(232,232,232)\", \"linecolor\": \"rgb(36,36,36)\", \"showgrid\": false, \"showline\": true, \"ticks\": \"outside\"}}, \"title\": {\"x\": 0.05}, \"xaxis\": {\"automargin\": true, \"gridcolor\": \"rgb(232,232,232)\", \"linecolor\": \"rgb(36,36,36)\", \"showgrid\": false, \"showline\": true, \"ticks\": \"outside\", \"title\": {\"standoff\": 15}, \"zeroline\": false, \"zerolinecolor\": \"rgb(36,36,36)\"}, \"yaxis\": {\"automargin\": true, \"gridcolor\": \"rgb(232,232,232)\", \"linecolor\": \"rgb(36,36,36)\", \"showgrid\": false, \"showline\": true, \"ticks\": \"outside\", \"title\": {\"standoff\": 15}, \"zeroline\": false, \"zerolinecolor\": \"rgb(36,36,36)\"}}}, \"xaxis\": {\"anchor\": \"y\", \"domain\": [0.0, 1.0]}, \"yaxis\": {\"anchor\": \"x\", \"domain\": [0.0, 1.0]}},                        {\"responsive\": true}                    ).then(function(){\n",
       "                            \n",
       "var gd = document.getElementById('b1d24348-ceee-4b4f-a6ea-9d3a7314981a');\n",
       "var x = new MutationObserver(function (mutations, observer) {{\n",
       "        var display = window.getComputedStyle(gd).display;\n",
       "        if (!display || display === 'none') {{\n",
       "            console.log([gd, 'removed!']);\n",
       "            Plotly.purge(gd);\n",
       "            observer.disconnect();\n",
       "        }}\n",
       "}});\n",
       "\n",
       "// Listen for the removal of the full notebook cells\n",
       "var notebookContainer = gd.closest('#notebook-container');\n",
       "if (notebookContainer) {{\n",
       "    x.observe(notebookContainer, {childList: true});\n",
       "}}\n",
       "\n",
       "// Listen for the clearing of the current output cell\n",
       "var outputEl = gd.closest('.output');\n",
       "if (outputEl) {{\n",
       "    x.observe(outputEl, {childList: true});\n",
       "}}\n",
       "\n",
       "                        })                };                });            </script>        </div>"
      ]
     },
     "metadata": {},
     "output_type": "display_data"
    }
   ],
   "source": [
    "# Let's set the visualization parameters\n",
    "fig_4 = make_subplots(rows=1, cols=1, specs=[[{'type': 'xy'}]])\n",
    "\n",
    "# Setting Box parameters\n",
    "fig_4.add_trace(go.Box(x=bestsellers['User Rating'], \n",
    "                       name='User Rating'))\n",
    "\n",
    "# Setting the parameters of the Box when displaying\n",
    "fig_4.update_traces(marker_color='Salmon')\n",
    "\n",
    "# Setting the parameters of the Box when displaying\n",
    "fig_4.update_layout(showlegend=False, \n",
    "                    template='simple_white', \n",
    "                    font=dict(family='Arial', \n",
    "                              size=12, \n",
    "                              color='black'))\n",
    "\n",
    "# Displaying the Box\n",
    "fig_4.show()\n",
    "\n",
    "# Let's set the visualization parameters\n",
    "fig_5 = make_subplots(rows=1, cols=1, specs=[[{'type': 'xy'}]])\n",
    "\n",
    "# Setting Box parameters\n",
    "fig_5.add_trace(go.Box(x=bestsellers['Reviews'], \n",
    "                       name='Reviews'))\n",
    "\n",
    "# Setting the parameters of the Box when displaying\n",
    "fig_5.update_traces(marker_color='Salmon')\n",
    "\n",
    "# Setting the parameters of the Box when displaying\n",
    "fig_5.update_layout(showlegend=False, \n",
    "                    template='simple_white', \n",
    "                    font=dict(family='Arial', \n",
    "                              size=12, \n",
    "                              color='black'))\n",
    "\n",
    "# Displaying the Box\n",
    "fig_5.show()\n",
    "\n",
    "# Let's set the visualization parameters\n",
    "fig_6 = make_subplots(rows=1, cols=1, specs=[[{'type': 'xy'}]])\n",
    "\n",
    "# Setting Box parameters\n",
    "fig_6.add_trace(go.Box(x=bestsellers['Price'], \n",
    "                       name='Price'))\n",
    "\n",
    "# Setting the parameters of the Box when displaying\n",
    "fig_6.update_traces(marker_color='Salmon')\n",
    "\n",
    "# Setting the parameters of the Box when displaying\n",
    "fig_6.update_layout(showlegend=False, \n",
    "                    template='simple_white', \n",
    "                    font=dict(family='Arial', \n",
    "                              size=12, \n",
    "                              color='black'))\n",
    "\n",
    "# Displaying the Box\n",
    "fig_6.show()"
   ]
  },
  {
   "cell_type": "markdown",
   "metadata": {
    "papermill": {
     "duration": 0.053271,
     "end_time": "2021-05-31T13:54:10.035397",
     "exception": false,
     "start_time": "2021-05-31T13:54:09.982126",
     "status": "completed"
    },
    "tags": []
   },
   "source": [
    "<div style=\"background: #DCDCDC\">\n",
    "<p style=\"font-family: Arials, sans-serif; font-size: 16px; color: #000000\"><strong>INSIGHT:</strong> By analyzing the numeric data, it is established:</p>\n",
    "<p style=\"font-family: Arials, sans-serif; font-size: 16px; color: #000000\"><strong>User Rating:</strong></p>   \n",
    "<ol style=\"font-family: Arials, sans-serif; font-size: 14px; line-height:1.5; color: rgba(0,0,0,.7)\">\n",
    "<li>Data is not distributed normally. Asymmetry is observed.</li>\n",
    "<p></p>\n",
    "<li>Average and median book ratings are 4.6.</li>\n",
    "<p></p>\n",
    "<li>There are outliers in the data. There are a small number of books in the data below the 4.1 rating.</li>\n",
    "<p></p>\n",
    "</ol>    \n",
    "<p style=\"font-family: Arials, sans-serif; font-size: 16px; color: #000000\"><strong>Reviews:</strong></p>  \n",
    "<ol style=\"font-family: Arials, sans-serif; font-size: 14px; line-height:1.5; color: rgba(0,0,0,.7)\">\n",
    "<li>Data is not distributed normally. Asymmetry is observed.</li>\n",
    "<p></p>\n",
    "<li>The data has a wide range.</li>\n",
    "<p></p>\n",
    "<li>There are outliers in the data. There are a small number of books receiving reviews well above the 75 percentile.</li>\n",
    "<p></p>\n",
    "</ol> \n",
    "<p style=\"font-family: Arials, sans-serif; font-size: 16px; color: #000000\"><strong>Price:</strong></p>  \n",
    "<ol style=\"font-family: Arials, sans-serif; font-size: 14px; line-height:1.5; color: rgba(0,0,0,.7)\">\n",
    "<li>Data is not distributed normally. Asymmetry is observed.</li>\n",
    "<p></p>\n",
    "<li>There are books that cost much higher than the average, as well as books with a cost of 0, which is strange.There are books that cost much higher than the average, as well as books with a cost of 0, which is strange. Either the book is given for free or this error.</li>\n",
    "<p></p>\n",
    "</ol> \n",
    "</div>"
   ]
  },
  {
   "cell_type": "markdown",
   "metadata": {
    "papermill": {
     "duration": 0.051383,
     "end_time": "2021-05-31T13:54:10.141751",
     "exception": false,
     "start_time": "2021-05-31T13:54:10.090368",
     "status": "completed"
    },
    "tags": []
   },
   "source": [
    "<p style=\"font-family: Arials, sans-serif; font-size: 14px; color: rgba(0,0,0,.7)\">Let's look at the correlation in the data.</p>"
   ]
  },
  {
   "cell_type": "code",
   "execution_count": 29,
   "metadata": {
    "execution": {
     "iopub.execute_input": "2021-05-31T13:54:10.250179Z",
     "iopub.status.busy": "2021-05-31T13:54:10.249272Z",
     "iopub.status.idle": "2021-05-31T13:54:10.261687Z",
     "shell.execute_reply": "2021-05-31T13:54:10.261055Z"
    },
    "papermill": {
     "duration": 0.067855,
     "end_time": "2021-05-31T13:54:10.261846",
     "exception": false,
     "start_time": "2021-05-31T13:54:10.193991",
     "status": "completed"
    },
    "tags": []
   },
   "outputs": [
    {
     "data": {
      "text/html": [
       "<div>\n",
       "<style scoped>\n",
       "    .dataframe tbody tr th:only-of-type {\n",
       "        vertical-align: middle;\n",
       "    }\n",
       "\n",
       "    .dataframe tbody tr th {\n",
       "        vertical-align: top;\n",
       "    }\n",
       "\n",
       "    .dataframe thead th {\n",
       "        text-align: right;\n",
       "    }\n",
       "</style>\n",
       "<table border=\"1\" class=\"dataframe\">\n",
       "  <thead>\n",
       "    <tr style=\"text-align: right;\">\n",
       "      <th></th>\n",
       "      <th>User Rating</th>\n",
       "      <th>Reviews</th>\n",
       "      <th>Price</th>\n",
       "    </tr>\n",
       "  </thead>\n",
       "  <tbody>\n",
       "    <tr>\n",
       "      <th>User Rating</th>\n",
       "      <td>1.000000</td>\n",
       "      <td>-0.055478</td>\n",
       "      <td>-0.028228</td>\n",
       "    </tr>\n",
       "    <tr>\n",
       "      <th>Reviews</th>\n",
       "      <td>-0.055478</td>\n",
       "      <td>1.000000</td>\n",
       "      <td>-0.045705</td>\n",
       "    </tr>\n",
       "    <tr>\n",
       "      <th>Price</th>\n",
       "      <td>-0.028228</td>\n",
       "      <td>-0.045705</td>\n",
       "      <td>1.000000</td>\n",
       "    </tr>\n",
       "  </tbody>\n",
       "</table>\n",
       "</div>"
      ],
      "text/plain": [
       "             User Rating   Reviews     Price\n",
       "User Rating     1.000000 -0.055478 -0.028228\n",
       "Reviews        -0.055478  1.000000 -0.045705\n",
       "Price          -0.028228 -0.045705  1.000000"
      ]
     },
     "execution_count": 29,
     "metadata": {},
     "output_type": "execute_result"
    }
   ],
   "source": [
    "# Building a correlation matrix and building a correlation matrix and visualizing relationships\n",
    "bestsellers.corr()"
   ]
  },
  {
   "cell_type": "code",
   "execution_count": 30,
   "metadata": {
    "_kg_hide-input": true,
    "execution": {
     "iopub.execute_input": "2021-05-31T13:54:10.394016Z",
     "iopub.status.busy": "2021-05-31T13:54:10.393319Z",
     "iopub.status.idle": "2021-05-31T13:54:10.515553Z",
     "shell.execute_reply": "2021-05-31T13:54:10.516145Z"
    },
    "papermill": {
     "duration": 0.199611,
     "end_time": "2021-05-31T13:54:10.516326",
     "exception": false,
     "start_time": "2021-05-31T13:54:10.316715",
     "status": "completed"
    },
    "tags": []
   },
   "outputs": [
    {
     "data": {
      "text/html": [
       "<div>                            <div id=\"0e4676ec-814f-4146-aa4a-ee763b6978ca\" class=\"plotly-graph-div\" style=\"height:525px; width:100%;\"></div>            <script type=\"text/javascript\">                require([\"plotly\"], function(Plotly) {                    window.PLOTLYENV=window.PLOTLYENV || {};                                    if (document.getElementById(\"0e4676ec-814f-4146-aa4a-ee763b6978ca\")) {                    Plotly.newPlot(                        \"0e4676ec-814f-4146-aa4a-ee763b6978ca\",                        [{\"marker\": {\"color\": \"salmon\"}, \"mode\": \"markers\", \"type\": \"scattergl\", \"x\": [4.7, 4.6, 4.7, 4.7, 4.8, 4.4, 4.7, 4.7, 4.7, 4.6, 4.6, 4.6, 4.5, 4.6, 4.5, 4.6, 4.4, 4.5, 4.8, 4.6, 3.9, 4.6, 4.3, 4.6, 4.7, 4.2, 4.6, 4.6, 4.8, 4.7, 4.8, 4.8, 4.7, 4.7, 4.6, 4.5, 4.9, 4.8, 4.6, 4.8, 4.5, 4.7, 4.7, 4.7, 4.3, 4.8, 4.8, 4.6, 4.8, 4.4, 4.6, 4.3, 4.2, 4.8, 4.6, 4.6, 4.5, 4.8, 4.8, 4.8, 4.6, 4.6, 4.5, 4.6, 4.7, 4.8, 4.9, 4.9, 4.9, 4.9, 4.9, 4.9, 4.8, 4.6, 4.5, 4.5, 4.3, 4.5, 4.7, 4.7, 4.7, 4.7, 4.6, 4.7, 4.4, 4.4, 4.5, 3.8, 4.5, 4.2, 4.7, 4.4, 4.7, 4.4, 4.6, 4.5, 4.6, 4.8, 4.6, 4.6, 4.6, 3.6, 4.8, 4.6, 4.0, 4.6, 4.5, 4.8, 4.9, 4.6, 4.4, 4.8, 4.9, 4.8, 4.9, 4.0, 4.9, 4.9, 4.9, 4.7, 4.8, 4.8, 4.7, 4.4, 4.8, 4.7, 4.3, 4.8, 4.9, 4.7, 4.8, 4.6, 4.8, 4.3, 4.4, 4.1, 4.6, 4.4, 4.8, 4.9, 4.6, 4.5, 4.6, 4.5, 4.6, 4.7, 4.6, 4.6, 4.8, 4.8, 4.5, 4.9, 4.6, 4.5, 4.5, 4.4, 4.8, 4.5, 4.1, 4.9, 4.5, 4.5, 4.2, 4.8, 4.8, 4.5, 4.7, 4.8, 4.7, 4.4, 4.6, 4.5, 4.8, 4.8, 4.6, 4.7, 4.6, 4.9, 4.9, 4.8, 4.2, 4.6, 4.5, 4.3, 4.6, 4.6, 4.7, 4.8, 4.8, 4.7, 4.3, 4.5, 4.8, 4.6, 4.7, 4.6, 4.9, 4.9, 4.8, 4.6, 4.8, 4.7, 4.7, 4.8, 4.1, 4.7, 4.6, 4.6, 4.9, 4.0, 4.5, 4.6, 4.5, 4.4, 4.3, 4.3, 4.8, 4.8, 4.7, 4.7, 4.6, 4.7, 4.7, 4.8, 4.2, 4.8, 4.7, 4.6, 4.8, 4.8, 3.3, 4.7, 4.3, 4.3, 4.8, 4.4, 4.8, 4.1, 4.0, 4.7, 4.6, 4.6, 4.7, 4.8, 4.1, 4.7, 4.7, 4.7, 4.4, 4.8, 3.9, 4.4, 4.5, 4.7, 4.3, 4.6, 4.8, 4.8, 4.8, 4.7, 4.7, 4.8, 4.7, 4.3, 4.7, 4.8, 4.9, 4.4, 4.5, 4.4, 4.8, 4.2, 4.8, 4.9, 4.8, 4.7, 4.5, 4.8, 4.6, 4.8, 4.4, 4.3, 4.3, 4.8, 4.8, 4.8, 4.5, 4.4, 4.8, 4.6, 4.3, 4.3, 4.6, 4.6, 4.8, 4.6, 4.6, 4.5, 4.8, 4.6, 4.7, 4.7, 4.7, 4.4, 4.4, 4.7, 4.7, 4.8, 4.7, 4.9, 4.6, 4.9, 4.8, 4.7, 4.7, 4.6, 4.5, 4.5, 4.3, 4.6, 4.3, 4.8, 4.6, 4.8, 4.5, 4.7, 4.5, 4.8, 4.3, 4.9, 4.8, 4.7, 4.8, 4.5, 4.6, 4.7, 4.7, 4.8, 4.4, 4.4, 4.8, 4.8, 4.8, 4.6, 4.4, 4.5, 4.2, 4.8, 4.9, 4.7], \"y\": [17350, 2052, 18979, 21424, 7665, 12643, 19735, 19699, 5983, 23848, 460, 4149, 5153, 5013, 2313, 2925, 2951, 2426, 9198, 36348, 6310, 15921, 12159, 798, 9374, 491, 5360, 1909, 1296, 615, 61133, 11113, 10070, 3729, 9769, 471, 14344, 4505, 10369, 16244, 2884, 22614, 4761, 1542, 6143, 4022, 3871, 4866, 1329, 4642, 1541, 1924, 2094, 10922, 2137, 1651, 6679, 6812, 3837, 6540, 7955, 27098, 17684, 37, 15845, 3181, 5062, 4786, 7235, 12619, 9089, 5470, 5118, 2134, 2525, 720, 956, 6346, 5505, 5505, 28729, 5413, 10721, 4370, 6042, 23631, 20262, 47265, 13964, 13677, 17323, 1555, 3642, 1215, 5594, 408, 4799, 14038, 7660, 22288, 1365, 14982, 9568, 1636, 57271, 10141, 3457, 8837, 7038, 5972, 25624, 5476, 5867, 4148, 19622, 23973, 7758, 3146, 10052, 3564, 13471, 1930, 15779, 15526, 3776, 25001, 5272, 3490, 2812, 4896, 9737, 1320, 16643, 7153, 4571, 29651, 5299, 7396, 7062, 19576, 978, 4748, 8393, 11391, 8634, 9342, 10927, 5235, 8916, 2507, 3673, 11881, 6990, 6132, 3014, 7550, 3828, 2752, 1467, 1884, 25706, 8491, 1649, 18613, 9867, 1386, 10199, 2926, 17739, 3113, 5542, 26741, 5347, 7866, 5680, 5178, 8093, 3192, 21834, 6169, 4519, 3163, 1831, 18904, 21930, 10426, 10820, 548, 16990, 3503, 13616, 8580, 4757, 10009, 1985, 22536, 7150, 3836, 7802, 3619, 23047, 9366, 1265, 3923, 2272, 973, 220, 7827, 9382, 5069, 1583, 1907, 23114, 637, 2314, 4587, 25554, 1680, 4725, 35799, 2580, 11813, 3536, 6600, 1789, 12361, 858, 23148, 8081, 23358, 9372, 4633, 13061, 3523, 2774, 440, 8922, 2023, 1859, 50482, 3207, 803, 23308, 5836, 79446, 7747, 7251, 7251, 10559, 5249, 33844, 11616, 13609, 8587, 29442, 11098, 9947, 13871, 6982, 32122, 32122, 16949, 9289, 7368, 4028, 4628, 5396, 4247, 22641, 6222, 4506, 8747, 1655, 7861, 6247, 39459, 10101, 5898, 2744, 49288, 1201, 807, 3759, 2663, 3428, 2876, 3601, 7058, 9784, 10795, 10191, 14493, 2186, 1204, 2091, 19720, 2122, 27536, 4290, 26490, 5487, 6377, 1463, 3759, 3503, 11550, 3801, 3796, 9030, 19546, 7508, 8842, 30183, 6169, 7034, 11034, 7932, 1904, 3319, 11128, 5977, 26234, 4360, 2282, 438, 11676, 2586, 29673, 6740, 5956, 6108, 4585, 3829, 8958, 5492, 9292, 1873, 8170, 3341, 7497, 13779, 87841, 9967, 6669, 17044, 10760, 1302, 21625, 9413, 14331]}],                        {\"font\": {\"color\": \"black\", \"family\": \"Arial\", \"size\": 12}, \"showlegend\": false, \"template\": {\"data\": {\"bar\": [{\"error_x\": {\"color\": \"rgb(36,36,36)\"}, \"error_y\": {\"color\": \"rgb(36,36,36)\"}, \"marker\": {\"line\": {\"color\": \"white\", \"width\": 0.5}}, \"type\": \"bar\"}], \"barpolar\": [{\"marker\": {\"line\": {\"color\": \"white\", \"width\": 0.5}}, \"type\": \"barpolar\"}], \"carpet\": [{\"aaxis\": {\"endlinecolor\": \"rgb(36,36,36)\", \"gridcolor\": \"white\", \"linecolor\": \"white\", \"minorgridcolor\": \"white\", \"startlinecolor\": \"rgb(36,36,36)\"}, \"baxis\": {\"endlinecolor\": \"rgb(36,36,36)\", \"gridcolor\": \"white\", \"linecolor\": \"white\", \"minorgridcolor\": \"white\", \"startlinecolor\": \"rgb(36,36,36)\"}, \"type\": \"carpet\"}], \"choropleth\": [{\"colorbar\": {\"outlinewidth\": 1, \"tickcolor\": \"rgb(36,36,36)\", \"ticks\": \"outside\"}, \"type\": \"choropleth\"}], \"contour\": [{\"colorbar\": {\"outlinewidth\": 1, \"tickcolor\": \"rgb(36,36,36)\", \"ticks\": \"outside\"}, \"colorscale\": [[0.0, \"#440154\"], [0.1111111111111111, \"#482878\"], [0.2222222222222222, \"#3e4989\"], [0.3333333333333333, \"#31688e\"], [0.4444444444444444, \"#26828e\"], [0.5555555555555556, \"#1f9e89\"], [0.6666666666666666, \"#35b779\"], [0.7777777777777778, \"#6ece58\"], [0.8888888888888888, \"#b5de2b\"], [1.0, \"#fde725\"]], \"type\": \"contour\"}], \"contourcarpet\": [{\"colorbar\": {\"outlinewidth\": 1, \"tickcolor\": \"rgb(36,36,36)\", \"ticks\": \"outside\"}, \"type\": \"contourcarpet\"}], \"heatmap\": [{\"colorbar\": {\"outlinewidth\": 1, \"tickcolor\": \"rgb(36,36,36)\", \"ticks\": \"outside\"}, \"colorscale\": [[0.0, \"#440154\"], [0.1111111111111111, \"#482878\"], [0.2222222222222222, \"#3e4989\"], [0.3333333333333333, \"#31688e\"], [0.4444444444444444, \"#26828e\"], [0.5555555555555556, \"#1f9e89\"], [0.6666666666666666, \"#35b779\"], [0.7777777777777778, \"#6ece58\"], [0.8888888888888888, \"#b5de2b\"], [1.0, \"#fde725\"]], \"type\": \"heatmap\"}], \"heatmapgl\": [{\"colorbar\": {\"outlinewidth\": 1, \"tickcolor\": \"rgb(36,36,36)\", \"ticks\": \"outside\"}, \"colorscale\": [[0.0, \"#440154\"], [0.1111111111111111, \"#482878\"], [0.2222222222222222, \"#3e4989\"], [0.3333333333333333, \"#31688e\"], [0.4444444444444444, \"#26828e\"], [0.5555555555555556, \"#1f9e89\"], [0.6666666666666666, \"#35b779\"], [0.7777777777777778, \"#6ece58\"], [0.8888888888888888, \"#b5de2b\"], [1.0, \"#fde725\"]], \"type\": \"heatmapgl\"}], \"histogram\": [{\"marker\": {\"line\": {\"color\": \"white\", \"width\": 0.6}}, \"type\": \"histogram\"}], \"histogram2d\": [{\"colorbar\": {\"outlinewidth\": 1, \"tickcolor\": \"rgb(36,36,36)\", \"ticks\": \"outside\"}, \"colorscale\": [[0.0, \"#440154\"], [0.1111111111111111, \"#482878\"], [0.2222222222222222, \"#3e4989\"], [0.3333333333333333, \"#31688e\"], [0.4444444444444444, \"#26828e\"], [0.5555555555555556, \"#1f9e89\"], [0.6666666666666666, \"#35b779\"], [0.7777777777777778, \"#6ece58\"], [0.8888888888888888, \"#b5de2b\"], [1.0, \"#fde725\"]], \"type\": \"histogram2d\"}], \"histogram2dcontour\": [{\"colorbar\": {\"outlinewidth\": 1, \"tickcolor\": \"rgb(36,36,36)\", \"ticks\": \"outside\"}, \"colorscale\": [[0.0, \"#440154\"], [0.1111111111111111, \"#482878\"], [0.2222222222222222, \"#3e4989\"], [0.3333333333333333, \"#31688e\"], [0.4444444444444444, \"#26828e\"], [0.5555555555555556, \"#1f9e89\"], [0.6666666666666666, \"#35b779\"], [0.7777777777777778, \"#6ece58\"], [0.8888888888888888, \"#b5de2b\"], [1.0, \"#fde725\"]], \"type\": \"histogram2dcontour\"}], \"mesh3d\": [{\"colorbar\": {\"outlinewidth\": 1, \"tickcolor\": \"rgb(36,36,36)\", \"ticks\": \"outside\"}, \"type\": \"mesh3d\"}], \"parcoords\": [{\"line\": {\"colorbar\": {\"outlinewidth\": 1, \"tickcolor\": \"rgb(36,36,36)\", \"ticks\": \"outside\"}}, \"type\": \"parcoords\"}], \"pie\": [{\"automargin\": true, \"type\": \"pie\"}], \"scatter\": [{\"marker\": {\"colorbar\": {\"outlinewidth\": 1, \"tickcolor\": \"rgb(36,36,36)\", \"ticks\": \"outside\"}}, \"type\": \"scatter\"}], \"scatter3d\": [{\"line\": {\"colorbar\": {\"outlinewidth\": 1, \"tickcolor\": \"rgb(36,36,36)\", \"ticks\": \"outside\"}}, \"marker\": {\"colorbar\": {\"outlinewidth\": 1, \"tickcolor\": \"rgb(36,36,36)\", \"ticks\": \"outside\"}}, \"type\": \"scatter3d\"}], \"scattercarpet\": [{\"marker\": {\"colorbar\": {\"outlinewidth\": 1, \"tickcolor\": \"rgb(36,36,36)\", \"ticks\": \"outside\"}}, \"type\": \"scattercarpet\"}], \"scattergeo\": [{\"marker\": {\"colorbar\": {\"outlinewidth\": 1, \"tickcolor\": \"rgb(36,36,36)\", \"ticks\": \"outside\"}}, \"type\": \"scattergeo\"}], \"scattergl\": [{\"marker\": {\"colorbar\": {\"outlinewidth\": 1, \"tickcolor\": \"rgb(36,36,36)\", \"ticks\": \"outside\"}}, \"type\": \"scattergl\"}], \"scattermapbox\": [{\"marker\": {\"colorbar\": {\"outlinewidth\": 1, \"tickcolor\": \"rgb(36,36,36)\", \"ticks\": \"outside\"}}, \"type\": \"scattermapbox\"}], \"scatterpolar\": [{\"marker\": {\"colorbar\": {\"outlinewidth\": 1, \"tickcolor\": \"rgb(36,36,36)\", \"ticks\": \"outside\"}}, \"type\": \"scatterpolar\"}], \"scatterpolargl\": [{\"marker\": {\"colorbar\": {\"outlinewidth\": 1, \"tickcolor\": \"rgb(36,36,36)\", \"ticks\": \"outside\"}}, \"type\": \"scatterpolargl\"}], \"scatterternary\": [{\"marker\": {\"colorbar\": {\"outlinewidth\": 1, \"tickcolor\": \"rgb(36,36,36)\", \"ticks\": \"outside\"}}, \"type\": \"scatterternary\"}], \"surface\": [{\"colorbar\": {\"outlinewidth\": 1, \"tickcolor\": \"rgb(36,36,36)\", \"ticks\": \"outside\"}, \"colorscale\": [[0.0, \"#440154\"], [0.1111111111111111, \"#482878\"], [0.2222222222222222, \"#3e4989\"], [0.3333333333333333, \"#31688e\"], [0.4444444444444444, \"#26828e\"], [0.5555555555555556, \"#1f9e89\"], [0.6666666666666666, \"#35b779\"], [0.7777777777777778, \"#6ece58\"], [0.8888888888888888, \"#b5de2b\"], [1.0, \"#fde725\"]], \"type\": \"surface\"}], \"table\": [{\"cells\": {\"fill\": {\"color\": \"rgb(237,237,237)\"}, \"line\": {\"color\": \"white\"}}, \"header\": {\"fill\": {\"color\": \"rgb(217,217,217)\"}, \"line\": {\"color\": \"white\"}}, \"type\": \"table\"}]}, \"layout\": {\"annotationdefaults\": {\"arrowhead\": 0, \"arrowwidth\": 1}, \"autotypenumbers\": \"strict\", \"coloraxis\": {\"colorbar\": {\"outlinewidth\": 1, \"tickcolor\": \"rgb(36,36,36)\", \"ticks\": \"outside\"}}, \"colorscale\": {\"diverging\": [[0.0, \"rgb(103,0,31)\"], [0.1, \"rgb(178,24,43)\"], [0.2, \"rgb(214,96,77)\"], [0.3, \"rgb(244,165,130)\"], [0.4, \"rgb(253,219,199)\"], [0.5, \"rgb(247,247,247)\"], [0.6, \"rgb(209,229,240)\"], [0.7, \"rgb(146,197,222)\"], [0.8, \"rgb(67,147,195)\"], [0.9, \"rgb(33,102,172)\"], [1.0, \"rgb(5,48,97)\"]], \"sequential\": [[0.0, \"#440154\"], [0.1111111111111111, \"#482878\"], [0.2222222222222222, \"#3e4989\"], [0.3333333333333333, \"#31688e\"], [0.4444444444444444, \"#26828e\"], [0.5555555555555556, \"#1f9e89\"], [0.6666666666666666, \"#35b779\"], [0.7777777777777778, \"#6ece58\"], [0.8888888888888888, \"#b5de2b\"], [1.0, \"#fde725\"]], \"sequentialminus\": [[0.0, \"#440154\"], [0.1111111111111111, \"#482878\"], [0.2222222222222222, \"#3e4989\"], [0.3333333333333333, \"#31688e\"], [0.4444444444444444, \"#26828e\"], [0.5555555555555556, \"#1f9e89\"], [0.6666666666666666, \"#35b779\"], [0.7777777777777778, \"#6ece58\"], [0.8888888888888888, \"#b5de2b\"], [1.0, \"#fde725\"]]}, \"colorway\": [\"#1F77B4\", \"#FF7F0E\", \"#2CA02C\", \"#D62728\", \"#9467BD\", \"#8C564B\", \"#E377C2\", \"#7F7F7F\", \"#BCBD22\", \"#17BECF\"], \"font\": {\"color\": \"rgb(36,36,36)\"}, \"geo\": {\"bgcolor\": \"white\", \"lakecolor\": \"white\", \"landcolor\": \"white\", \"showlakes\": true, \"showland\": true, \"subunitcolor\": \"white\"}, \"hoverlabel\": {\"align\": \"left\"}, \"hovermode\": \"closest\", \"mapbox\": {\"style\": \"light\"}, \"paper_bgcolor\": \"white\", \"plot_bgcolor\": \"white\", \"polar\": {\"angularaxis\": {\"gridcolor\": \"rgb(232,232,232)\", \"linecolor\": \"rgb(36,36,36)\", \"showgrid\": false, \"showline\": true, \"ticks\": \"outside\"}, \"bgcolor\": \"white\", \"radialaxis\": {\"gridcolor\": \"rgb(232,232,232)\", \"linecolor\": \"rgb(36,36,36)\", \"showgrid\": false, \"showline\": true, \"ticks\": \"outside\"}}, \"scene\": {\"xaxis\": {\"backgroundcolor\": \"white\", \"gridcolor\": \"rgb(232,232,232)\", \"gridwidth\": 2, \"linecolor\": \"rgb(36,36,36)\", \"showbackground\": true, \"showgrid\": false, \"showline\": true, \"ticks\": \"outside\", \"zeroline\": false, \"zerolinecolor\": \"rgb(36,36,36)\"}, \"yaxis\": {\"backgroundcolor\": \"white\", \"gridcolor\": \"rgb(232,232,232)\", \"gridwidth\": 2, \"linecolor\": \"rgb(36,36,36)\", \"showbackground\": true, \"showgrid\": false, \"showline\": true, \"ticks\": \"outside\", \"zeroline\": false, \"zerolinecolor\": \"rgb(36,36,36)\"}, \"zaxis\": {\"backgroundcolor\": \"white\", \"gridcolor\": \"rgb(232,232,232)\", \"gridwidth\": 2, \"linecolor\": \"rgb(36,36,36)\", \"showbackground\": true, \"showgrid\": false, \"showline\": true, \"ticks\": \"outside\", \"zeroline\": false, \"zerolinecolor\": \"rgb(36,36,36)\"}}, \"shapedefaults\": {\"fillcolor\": \"black\", \"line\": {\"width\": 0}, \"opacity\": 0.3}, \"ternary\": {\"aaxis\": {\"gridcolor\": \"rgb(232,232,232)\", \"linecolor\": \"rgb(36,36,36)\", \"showgrid\": false, \"showline\": true, \"ticks\": \"outside\"}, \"baxis\": {\"gridcolor\": \"rgb(232,232,232)\", \"linecolor\": \"rgb(36,36,36)\", \"showgrid\": false, \"showline\": true, \"ticks\": \"outside\"}, \"bgcolor\": \"white\", \"caxis\": {\"gridcolor\": \"rgb(232,232,232)\", \"linecolor\": \"rgb(36,36,36)\", \"showgrid\": false, \"showline\": true, \"ticks\": \"outside\"}}, \"title\": {\"x\": 0.05}, \"xaxis\": {\"automargin\": true, \"gridcolor\": \"rgb(232,232,232)\", \"linecolor\": \"rgb(36,36,36)\", \"showgrid\": false, \"showline\": true, \"ticks\": \"outside\", \"title\": {\"standoff\": 15}, \"zeroline\": false, \"zerolinecolor\": \"rgb(36,36,36)\"}, \"yaxis\": {\"automargin\": true, \"gridcolor\": \"rgb(232,232,232)\", \"linecolor\": \"rgb(36,36,36)\", \"showgrid\": false, \"showline\": true, \"ticks\": \"outside\", \"title\": {\"standoff\": 15}, \"zeroline\": false, \"zerolinecolor\": \"rgb(36,36,36)\"}}}, \"xaxis\": {\"anchor\": \"y\", \"domain\": [0.0, 1.0], \"title\": {\"text\": \"User Rating\"}}, \"yaxis\": {\"anchor\": \"x\", \"domain\": [0.0, 1.0], \"title\": {\"text\": \"Reviews\"}}},                        {\"responsive\": true}                    ).then(function(){\n",
       "                            \n",
       "var gd = document.getElementById('0e4676ec-814f-4146-aa4a-ee763b6978ca');\n",
       "var x = new MutationObserver(function (mutations, observer) {{\n",
       "        var display = window.getComputedStyle(gd).display;\n",
       "        if (!display || display === 'none') {{\n",
       "            console.log([gd, 'removed!']);\n",
       "            Plotly.purge(gd);\n",
       "            observer.disconnect();\n",
       "        }}\n",
       "}});\n",
       "\n",
       "// Listen for the removal of the full notebook cells\n",
       "var notebookContainer = gd.closest('#notebook-container');\n",
       "if (notebookContainer) {{\n",
       "    x.observe(notebookContainer, {childList: true});\n",
       "}}\n",
       "\n",
       "// Listen for the clearing of the current output cell\n",
       "var outputEl = gd.closest('.output');\n",
       "if (outputEl) {{\n",
       "    x.observe(outputEl, {childList: true});\n",
       "}}\n",
       "\n",
       "                        })                };                });            </script>        </div>"
      ]
     },
     "metadata": {},
     "output_type": "display_data"
    },
    {
     "data": {
      "text/html": [
       "<div>                            <div id=\"4189c3b3-9c4f-4092-bc0b-fe0d0b5e9447\" class=\"plotly-graph-div\" style=\"height:525px; width:100%;\"></div>            <script type=\"text/javascript\">                require([\"plotly\"], function(Plotly) {                    window.PLOTLYENV=window.PLOTLYENV || {};                                    if (document.getElementById(\"4189c3b3-9c4f-4092-bc0b-fe0d0b5e9447\")) {                    Plotly.newPlot(                        \"4189c3b3-9c4f-4092-bc0b-fe0d0b5e9447\",                        [{\"marker\": {\"color\": \"salmon\"}, \"mode\": \"markers\", \"type\": \"scattergl\", \"x\": [4.7, 4.6, 4.7, 4.7, 4.8, 4.4, 4.7, 4.7, 4.7, 4.6, 4.6, 4.6, 4.5, 4.6, 4.5, 4.6, 4.4, 4.5, 4.8, 4.6, 3.9, 4.6, 4.3, 4.6, 4.7, 4.2, 4.6, 4.6, 4.8, 4.7, 4.8, 4.8, 4.7, 4.7, 4.6, 4.5, 4.9, 4.8, 4.6, 4.8, 4.5, 4.7, 4.7, 4.7, 4.3, 4.8, 4.8, 4.6, 4.8, 4.4, 4.6, 4.3, 4.2, 4.8, 4.6, 4.6, 4.5, 4.8, 4.8, 4.8, 4.6, 4.6, 4.5, 4.6, 4.7, 4.8, 4.9, 4.9, 4.9, 4.9, 4.9, 4.9, 4.8, 4.6, 4.5, 4.5, 4.3, 4.5, 4.7, 4.7, 4.7, 4.7, 4.6, 4.7, 4.4, 4.4, 4.5, 3.8, 4.5, 4.2, 4.7, 4.4, 4.7, 4.4, 4.6, 4.5, 4.6, 4.8, 4.6, 4.6, 4.6, 3.6, 4.8, 4.6, 4.0, 4.6, 4.5, 4.8, 4.9, 4.6, 4.4, 4.8, 4.9, 4.8, 4.9, 4.0, 4.9, 4.9, 4.9, 4.7, 4.8, 4.8, 4.7, 4.4, 4.8, 4.7, 4.3, 4.8, 4.9, 4.7, 4.8, 4.6, 4.8, 4.3, 4.4, 4.1, 4.6, 4.4, 4.8, 4.9, 4.6, 4.5, 4.6, 4.5, 4.6, 4.7, 4.6, 4.6, 4.8, 4.8, 4.5, 4.9, 4.6, 4.5, 4.5, 4.4, 4.8, 4.5, 4.1, 4.9, 4.5, 4.5, 4.2, 4.8, 4.8, 4.5, 4.7, 4.8, 4.7, 4.4, 4.6, 4.5, 4.8, 4.8, 4.6, 4.7, 4.6, 4.9, 4.9, 4.8, 4.2, 4.6, 4.5, 4.3, 4.6, 4.6, 4.7, 4.8, 4.8, 4.7, 4.3, 4.5, 4.8, 4.6, 4.7, 4.6, 4.9, 4.9, 4.8, 4.6, 4.8, 4.7, 4.7, 4.8, 4.1, 4.7, 4.6, 4.6, 4.9, 4.0, 4.5, 4.6, 4.5, 4.4, 4.3, 4.3, 4.8, 4.8, 4.7, 4.7, 4.6, 4.7, 4.7, 4.8, 4.2, 4.8, 4.7, 4.6, 4.8, 4.8, 3.3, 4.7, 4.3, 4.3, 4.8, 4.4, 4.8, 4.1, 4.0, 4.7, 4.6, 4.6, 4.7, 4.8, 4.1, 4.7, 4.7, 4.7, 4.4, 4.8, 3.9, 4.4, 4.5, 4.7, 4.3, 4.6, 4.8, 4.8, 4.8, 4.7, 4.7, 4.8, 4.7, 4.3, 4.7, 4.8, 4.9, 4.4, 4.5, 4.4, 4.8, 4.2, 4.8, 4.9, 4.8, 4.7, 4.5, 4.8, 4.6, 4.8, 4.4, 4.3, 4.3, 4.8, 4.8, 4.8, 4.5, 4.4, 4.8, 4.6, 4.3, 4.3, 4.6, 4.6, 4.8, 4.6, 4.6, 4.5, 4.8, 4.6, 4.7, 4.7, 4.7, 4.4, 4.4, 4.7, 4.7, 4.8, 4.7, 4.9, 4.6, 4.9, 4.8, 4.7, 4.7, 4.6, 4.5, 4.5, 4.3, 4.6, 4.3, 4.8, 4.6, 4.8, 4.5, 4.7, 4.5, 4.8, 4.3, 4.9, 4.8, 4.7, 4.8, 4.5, 4.6, 4.7, 4.7, 4.8, 4.4, 4.4, 4.8, 4.8, 4.8, 4.6, 4.4, 4.5, 4.2, 4.8, 4.9, 4.7], \"y\": [8, 22, 15, 6, 12, 11, 30, 15, 3, 8, 2, 32, 5, 17, 4, 6, 6, 8, 13, 14, 13, 9, 13, 5, 9, 14, 5, 11, 24, 21, 11, 15, 13, 18, 13, 8, 5, 0, 4, 18, 28, 11, 16, 14, 8, 4, 5, 11, 10, 13, 4, 8, 4, 5, 17, 15, 105, 0, 15, 22, 5, 15, 6, 6, 13, 12, 6, 8, 4, 8, 8, 6, 20, 5, 16, 1, 14, 9, 7, 18, 15, 9, 8, 15, 2, 7, 11, 14, 32, 6, 4, 9, 0, 9, 5, 20, 16, 4, 12, 12, 11, 19, 9, 6, 9, 6, 14, 5, 7, 10, 14, 7, 54, 11, 30, 12, 18, 30, 22, 9, 52, 4, 10, 14, 22, 11, 16, 15, 17, 17, 7, 7, 4, 9, 21, 14, 20, 13, 12, 8, 0, 12, 17, 12, 25, 10, 6, 5, 6, 8, 4, 13, 4, 13, 21, 6, 15, 18, 10, 0, 12, 7, 13, 5, 16, 20, 11, 27, 8, 6, 10, 8, 16, 11, 10, 9, 14, 22, 8, 7, 12, 13, 9, 13, 11, 20, 5, 2, 27, 9, 10, 46, 4, 7, 9, 12, 12, 12, 20, 10, 6, 9, 11, 16, 6, 25, 17, 20, 6, 17, 18, 13, 18, 20, 22, 21, 8, 12, 16, 39, 9, 10, 17, 11, 14, 12, 53, 6, 8, 12, 12, 21, 6, 13, 0, 11, 9, 15, 11, 7, 6, 9, 6, 0, 7, 14, 9, 16, 2, 5, 20, 7, 14, 10, 7, 13, 11, 7, 14, 14, 8, 30, 9, 7, 9, 7, 20, 13, 11, 18, 14, 19, 13, 5, 10, 9, 8, 8, 12, 11, 40, 36, 16, 17, 14, 21, 18, 17, 5, 21, 18, 18, 12, 14, 12, 8, 0, 14, 10, 15, 9, 7, 10, 6, 9, 10, 82, 12, 10, 5, 16, 10, 4, 16, 15, 19, 9, 23, 11, 23, 12, 7, 21, 21, 15, 9, 5, 13, 20, 11, 4, 9, 42, 12, 18, 17, 14, 13, 9, 6, 14, 15, 13, 12, 18, 15, 11, 9, 8, 8]}],                        {\"font\": {\"color\": \"black\", \"family\": \"Arial\", \"size\": 12}, \"showlegend\": false, \"template\": {\"data\": {\"bar\": [{\"error_x\": {\"color\": \"rgb(36,36,36)\"}, \"error_y\": {\"color\": \"rgb(36,36,36)\"}, \"marker\": {\"line\": {\"color\": \"white\", \"width\": 0.5}}, \"type\": \"bar\"}], \"barpolar\": [{\"marker\": {\"line\": {\"color\": \"white\", \"width\": 0.5}}, \"type\": \"barpolar\"}], \"carpet\": [{\"aaxis\": {\"endlinecolor\": \"rgb(36,36,36)\", \"gridcolor\": \"white\", \"linecolor\": \"white\", \"minorgridcolor\": \"white\", \"startlinecolor\": \"rgb(36,36,36)\"}, \"baxis\": {\"endlinecolor\": \"rgb(36,36,36)\", \"gridcolor\": \"white\", \"linecolor\": \"white\", \"minorgridcolor\": \"white\", \"startlinecolor\": \"rgb(36,36,36)\"}, \"type\": \"carpet\"}], \"choropleth\": [{\"colorbar\": {\"outlinewidth\": 1, \"tickcolor\": \"rgb(36,36,36)\", \"ticks\": \"outside\"}, \"type\": \"choropleth\"}], \"contour\": [{\"colorbar\": {\"outlinewidth\": 1, \"tickcolor\": \"rgb(36,36,36)\", \"ticks\": \"outside\"}, \"colorscale\": [[0.0, \"#440154\"], [0.1111111111111111, \"#482878\"], [0.2222222222222222, \"#3e4989\"], [0.3333333333333333, \"#31688e\"], [0.4444444444444444, \"#26828e\"], [0.5555555555555556, \"#1f9e89\"], [0.6666666666666666, \"#35b779\"], [0.7777777777777778, \"#6ece58\"], [0.8888888888888888, \"#b5de2b\"], [1.0, \"#fde725\"]], \"type\": \"contour\"}], \"contourcarpet\": [{\"colorbar\": {\"outlinewidth\": 1, \"tickcolor\": \"rgb(36,36,36)\", \"ticks\": \"outside\"}, \"type\": \"contourcarpet\"}], \"heatmap\": [{\"colorbar\": {\"outlinewidth\": 1, \"tickcolor\": \"rgb(36,36,36)\", \"ticks\": \"outside\"}, \"colorscale\": [[0.0, \"#440154\"], [0.1111111111111111, \"#482878\"], [0.2222222222222222, \"#3e4989\"], [0.3333333333333333, \"#31688e\"], [0.4444444444444444, \"#26828e\"], [0.5555555555555556, \"#1f9e89\"], [0.6666666666666666, \"#35b779\"], [0.7777777777777778, \"#6ece58\"], [0.8888888888888888, \"#b5de2b\"], [1.0, \"#fde725\"]], \"type\": \"heatmap\"}], \"heatmapgl\": [{\"colorbar\": {\"outlinewidth\": 1, \"tickcolor\": \"rgb(36,36,36)\", \"ticks\": \"outside\"}, \"colorscale\": [[0.0, \"#440154\"], [0.1111111111111111, \"#482878\"], [0.2222222222222222, \"#3e4989\"], [0.3333333333333333, \"#31688e\"], [0.4444444444444444, \"#26828e\"], [0.5555555555555556, \"#1f9e89\"], [0.6666666666666666, \"#35b779\"], [0.7777777777777778, \"#6ece58\"], [0.8888888888888888, \"#b5de2b\"], [1.0, \"#fde725\"]], \"type\": \"heatmapgl\"}], \"histogram\": [{\"marker\": {\"line\": {\"color\": \"white\", \"width\": 0.6}}, \"type\": \"histogram\"}], \"histogram2d\": [{\"colorbar\": {\"outlinewidth\": 1, \"tickcolor\": \"rgb(36,36,36)\", \"ticks\": \"outside\"}, \"colorscale\": [[0.0, \"#440154\"], [0.1111111111111111, \"#482878\"], [0.2222222222222222, \"#3e4989\"], [0.3333333333333333, \"#31688e\"], [0.4444444444444444, \"#26828e\"], [0.5555555555555556, \"#1f9e89\"], [0.6666666666666666, \"#35b779\"], [0.7777777777777778, \"#6ece58\"], [0.8888888888888888, \"#b5de2b\"], [1.0, \"#fde725\"]], \"type\": \"histogram2d\"}], \"histogram2dcontour\": [{\"colorbar\": {\"outlinewidth\": 1, \"tickcolor\": \"rgb(36,36,36)\", \"ticks\": \"outside\"}, \"colorscale\": [[0.0, \"#440154\"], [0.1111111111111111, \"#482878\"], [0.2222222222222222, \"#3e4989\"], [0.3333333333333333, \"#31688e\"], [0.4444444444444444, \"#26828e\"], [0.5555555555555556, \"#1f9e89\"], [0.6666666666666666, \"#35b779\"], [0.7777777777777778, \"#6ece58\"], [0.8888888888888888, \"#b5de2b\"], [1.0, \"#fde725\"]], \"type\": \"histogram2dcontour\"}], \"mesh3d\": [{\"colorbar\": {\"outlinewidth\": 1, \"tickcolor\": \"rgb(36,36,36)\", \"ticks\": \"outside\"}, \"type\": \"mesh3d\"}], \"parcoords\": [{\"line\": {\"colorbar\": {\"outlinewidth\": 1, \"tickcolor\": \"rgb(36,36,36)\", \"ticks\": \"outside\"}}, \"type\": \"parcoords\"}], \"pie\": [{\"automargin\": true, \"type\": \"pie\"}], \"scatter\": [{\"marker\": {\"colorbar\": {\"outlinewidth\": 1, \"tickcolor\": \"rgb(36,36,36)\", \"ticks\": \"outside\"}}, \"type\": \"scatter\"}], \"scatter3d\": [{\"line\": {\"colorbar\": {\"outlinewidth\": 1, \"tickcolor\": \"rgb(36,36,36)\", \"ticks\": \"outside\"}}, \"marker\": {\"colorbar\": {\"outlinewidth\": 1, \"tickcolor\": \"rgb(36,36,36)\", \"ticks\": \"outside\"}}, \"type\": \"scatter3d\"}], \"scattercarpet\": [{\"marker\": {\"colorbar\": {\"outlinewidth\": 1, \"tickcolor\": \"rgb(36,36,36)\", \"ticks\": \"outside\"}}, \"type\": \"scattercarpet\"}], \"scattergeo\": [{\"marker\": {\"colorbar\": {\"outlinewidth\": 1, \"tickcolor\": \"rgb(36,36,36)\", \"ticks\": \"outside\"}}, \"type\": \"scattergeo\"}], \"scattergl\": [{\"marker\": {\"colorbar\": {\"outlinewidth\": 1, \"tickcolor\": \"rgb(36,36,36)\", \"ticks\": \"outside\"}}, \"type\": \"scattergl\"}], \"scattermapbox\": [{\"marker\": {\"colorbar\": {\"outlinewidth\": 1, \"tickcolor\": \"rgb(36,36,36)\", \"ticks\": \"outside\"}}, \"type\": \"scattermapbox\"}], \"scatterpolar\": [{\"marker\": {\"colorbar\": {\"outlinewidth\": 1, \"tickcolor\": \"rgb(36,36,36)\", \"ticks\": \"outside\"}}, \"type\": \"scatterpolar\"}], \"scatterpolargl\": [{\"marker\": {\"colorbar\": {\"outlinewidth\": 1, \"tickcolor\": \"rgb(36,36,36)\", \"ticks\": \"outside\"}}, \"type\": \"scatterpolargl\"}], \"scatterternary\": [{\"marker\": {\"colorbar\": {\"outlinewidth\": 1, \"tickcolor\": \"rgb(36,36,36)\", \"ticks\": \"outside\"}}, \"type\": \"scatterternary\"}], \"surface\": [{\"colorbar\": {\"outlinewidth\": 1, \"tickcolor\": \"rgb(36,36,36)\", \"ticks\": \"outside\"}, \"colorscale\": [[0.0, \"#440154\"], [0.1111111111111111, \"#482878\"], [0.2222222222222222, \"#3e4989\"], [0.3333333333333333, \"#31688e\"], [0.4444444444444444, \"#26828e\"], [0.5555555555555556, \"#1f9e89\"], [0.6666666666666666, \"#35b779\"], [0.7777777777777778, \"#6ece58\"], [0.8888888888888888, \"#b5de2b\"], [1.0, \"#fde725\"]], \"type\": \"surface\"}], \"table\": [{\"cells\": {\"fill\": {\"color\": \"rgb(237,237,237)\"}, \"line\": {\"color\": \"white\"}}, \"header\": {\"fill\": {\"color\": \"rgb(217,217,217)\"}, \"line\": {\"color\": \"white\"}}, \"type\": \"table\"}]}, \"layout\": {\"annotationdefaults\": {\"arrowhead\": 0, \"arrowwidth\": 1}, \"autotypenumbers\": \"strict\", \"coloraxis\": {\"colorbar\": {\"outlinewidth\": 1, \"tickcolor\": \"rgb(36,36,36)\", \"ticks\": \"outside\"}}, \"colorscale\": {\"diverging\": [[0.0, \"rgb(103,0,31)\"], [0.1, \"rgb(178,24,43)\"], [0.2, \"rgb(214,96,77)\"], [0.3, \"rgb(244,165,130)\"], [0.4, \"rgb(253,219,199)\"], [0.5, \"rgb(247,247,247)\"], [0.6, \"rgb(209,229,240)\"], [0.7, \"rgb(146,197,222)\"], [0.8, \"rgb(67,147,195)\"], [0.9, \"rgb(33,102,172)\"], [1.0, \"rgb(5,48,97)\"]], \"sequential\": [[0.0, \"#440154\"], [0.1111111111111111, \"#482878\"], [0.2222222222222222, \"#3e4989\"], [0.3333333333333333, \"#31688e\"], [0.4444444444444444, \"#26828e\"], [0.5555555555555556, \"#1f9e89\"], [0.6666666666666666, \"#35b779\"], [0.7777777777777778, \"#6ece58\"], [0.8888888888888888, \"#b5de2b\"], [1.0, \"#fde725\"]], \"sequentialminus\": [[0.0, \"#440154\"], [0.1111111111111111, \"#482878\"], [0.2222222222222222, \"#3e4989\"], [0.3333333333333333, \"#31688e\"], [0.4444444444444444, \"#26828e\"], [0.5555555555555556, \"#1f9e89\"], [0.6666666666666666, \"#35b779\"], [0.7777777777777778, \"#6ece58\"], [0.8888888888888888, \"#b5de2b\"], [1.0, \"#fde725\"]]}, \"colorway\": [\"#1F77B4\", \"#FF7F0E\", \"#2CA02C\", \"#D62728\", \"#9467BD\", \"#8C564B\", \"#E377C2\", \"#7F7F7F\", \"#BCBD22\", \"#17BECF\"], \"font\": {\"color\": \"rgb(36,36,36)\"}, \"geo\": {\"bgcolor\": \"white\", \"lakecolor\": \"white\", \"landcolor\": \"white\", \"showlakes\": true, \"showland\": true, \"subunitcolor\": \"white\"}, \"hoverlabel\": {\"align\": \"left\"}, \"hovermode\": \"closest\", \"mapbox\": {\"style\": \"light\"}, \"paper_bgcolor\": \"white\", \"plot_bgcolor\": \"white\", \"polar\": {\"angularaxis\": {\"gridcolor\": \"rgb(232,232,232)\", \"linecolor\": \"rgb(36,36,36)\", \"showgrid\": false, \"showline\": true, \"ticks\": \"outside\"}, \"bgcolor\": \"white\", \"radialaxis\": {\"gridcolor\": \"rgb(232,232,232)\", \"linecolor\": \"rgb(36,36,36)\", \"showgrid\": false, \"showline\": true, \"ticks\": \"outside\"}}, \"scene\": {\"xaxis\": {\"backgroundcolor\": \"white\", \"gridcolor\": \"rgb(232,232,232)\", \"gridwidth\": 2, \"linecolor\": \"rgb(36,36,36)\", \"showbackground\": true, \"showgrid\": false, \"showline\": true, \"ticks\": \"outside\", \"zeroline\": false, \"zerolinecolor\": \"rgb(36,36,36)\"}, \"yaxis\": {\"backgroundcolor\": \"white\", \"gridcolor\": \"rgb(232,232,232)\", \"gridwidth\": 2, \"linecolor\": \"rgb(36,36,36)\", \"showbackground\": true, \"showgrid\": false, \"showline\": true, \"ticks\": \"outside\", \"zeroline\": false, \"zerolinecolor\": \"rgb(36,36,36)\"}, \"zaxis\": {\"backgroundcolor\": \"white\", \"gridcolor\": \"rgb(232,232,232)\", \"gridwidth\": 2, \"linecolor\": \"rgb(36,36,36)\", \"showbackground\": true, \"showgrid\": false, \"showline\": true, \"ticks\": \"outside\", \"zeroline\": false, \"zerolinecolor\": \"rgb(36,36,36)\"}}, \"shapedefaults\": {\"fillcolor\": \"black\", \"line\": {\"width\": 0}, \"opacity\": 0.3}, \"ternary\": {\"aaxis\": {\"gridcolor\": \"rgb(232,232,232)\", \"linecolor\": \"rgb(36,36,36)\", \"showgrid\": false, \"showline\": true, \"ticks\": \"outside\"}, \"baxis\": {\"gridcolor\": \"rgb(232,232,232)\", \"linecolor\": \"rgb(36,36,36)\", \"showgrid\": false, \"showline\": true, \"ticks\": \"outside\"}, \"bgcolor\": \"white\", \"caxis\": {\"gridcolor\": \"rgb(232,232,232)\", \"linecolor\": \"rgb(36,36,36)\", \"showgrid\": false, \"showline\": true, \"ticks\": \"outside\"}}, \"title\": {\"x\": 0.05}, \"xaxis\": {\"automargin\": true, \"gridcolor\": \"rgb(232,232,232)\", \"linecolor\": \"rgb(36,36,36)\", \"showgrid\": false, \"showline\": true, \"ticks\": \"outside\", \"title\": {\"standoff\": 15}, \"zeroline\": false, \"zerolinecolor\": \"rgb(36,36,36)\"}, \"yaxis\": {\"automargin\": true, \"gridcolor\": \"rgb(232,232,232)\", \"linecolor\": \"rgb(36,36,36)\", \"showgrid\": false, \"showline\": true, \"ticks\": \"outside\", \"title\": {\"standoff\": 15}, \"zeroline\": false, \"zerolinecolor\": \"rgb(36,36,36)\"}}}, \"xaxis\": {\"anchor\": \"y\", \"domain\": [0.0, 1.0], \"title\": {\"text\": \"User Rating\"}}, \"yaxis\": {\"anchor\": \"x\", \"domain\": [0.0, 1.0], \"title\": {\"text\": \"Price\"}}},                        {\"responsive\": true}                    ).then(function(){\n",
       "                            \n",
       "var gd = document.getElementById('4189c3b3-9c4f-4092-bc0b-fe0d0b5e9447');\n",
       "var x = new MutationObserver(function (mutations, observer) {{\n",
       "        var display = window.getComputedStyle(gd).display;\n",
       "        if (!display || display === 'none') {{\n",
       "            console.log([gd, 'removed!']);\n",
       "            Plotly.purge(gd);\n",
       "            observer.disconnect();\n",
       "        }}\n",
       "}});\n",
       "\n",
       "// Listen for the removal of the full notebook cells\n",
       "var notebookContainer = gd.closest('#notebook-container');\n",
       "if (notebookContainer) {{\n",
       "    x.observe(notebookContainer, {childList: true});\n",
       "}}\n",
       "\n",
       "// Listen for the clearing of the current output cell\n",
       "var outputEl = gd.closest('.output');\n",
       "if (outputEl) {{\n",
       "    x.observe(outputEl, {childList: true});\n",
       "}}\n",
       "\n",
       "                        })                };                });            </script>        </div>"
      ]
     },
     "metadata": {},
     "output_type": "display_data"
    },
    {
     "data": {
      "text/html": [
       "<div>                            <div id=\"7ff686db-cc19-4fb0-97eb-8d84c8d0f9c4\" class=\"plotly-graph-div\" style=\"height:525px; width:100%;\"></div>            <script type=\"text/javascript\">                require([\"plotly\"], function(Plotly) {                    window.PLOTLYENV=window.PLOTLYENV || {};                                    if (document.getElementById(\"7ff686db-cc19-4fb0-97eb-8d84c8d0f9c4\")) {                    Plotly.newPlot(                        \"7ff686db-cc19-4fb0-97eb-8d84c8d0f9c4\",                        [{\"marker\": {\"color\": \"salmon\"}, \"mode\": \"markers\", \"type\": \"scattergl\", \"x\": [8, 22, 15, 6, 12, 11, 30, 15, 3, 8, 2, 32, 5, 17, 4, 6, 6, 8, 13, 14, 13, 9, 13, 5, 9, 14, 5, 11, 24, 21, 11, 15, 13, 18, 13, 8, 5, 0, 4, 18, 28, 11, 16, 14, 8, 4, 5, 11, 10, 13, 4, 8, 4, 5, 17, 15, 105, 0, 15, 22, 5, 15, 6, 6, 13, 12, 6, 8, 4, 8, 8, 6, 20, 5, 16, 1, 14, 9, 7, 18, 15, 9, 8, 15, 2, 7, 11, 14, 32, 6, 4, 9, 0, 9, 5, 20, 16, 4, 12, 12, 11, 19, 9, 6, 9, 6, 14, 5, 7, 10, 14, 7, 54, 11, 30, 12, 18, 30, 22, 9, 52, 4, 10, 14, 22, 11, 16, 15, 17, 17, 7, 7, 4, 9, 21, 14, 20, 13, 12, 8, 0, 12, 17, 12, 25, 10, 6, 5, 6, 8, 4, 13, 4, 13, 21, 6, 15, 18, 10, 0, 12, 7, 13, 5, 16, 20, 11, 27, 8, 6, 10, 8, 16, 11, 10, 9, 14, 22, 8, 7, 12, 13, 9, 13, 11, 20, 5, 2, 27, 9, 10, 46, 4, 7, 9, 12, 12, 12, 20, 10, 6, 9, 11, 16, 6, 25, 17, 20, 6, 17, 18, 13, 18, 20, 22, 21, 8, 12, 16, 39, 9, 10, 17, 11, 14, 12, 53, 6, 8, 12, 12, 21, 6, 13, 0, 11, 9, 15, 11, 7, 6, 9, 6, 0, 7, 14, 9, 16, 2, 5, 20, 7, 14, 10, 7, 13, 11, 7, 14, 14, 8, 30, 9, 7, 9, 7, 20, 13, 11, 18, 14, 19, 13, 5, 10, 9, 8, 8, 12, 11, 40, 36, 16, 17, 14, 21, 18, 17, 5, 21, 18, 18, 12, 14, 12, 8, 0, 14, 10, 15, 9, 7, 10, 6, 9, 10, 82, 12, 10, 5, 16, 10, 4, 16, 15, 19, 9, 23, 11, 23, 12, 7, 21, 21, 15, 9, 5, 13, 20, 11, 4, 9, 42, 12, 18, 17, 14, 13, 9, 6, 14, 15, 13, 12, 18, 15, 11, 9, 8, 8], \"y\": [17350, 2052, 18979, 21424, 7665, 12643, 19735, 19699, 5983, 23848, 460, 4149, 5153, 5013, 2313, 2925, 2951, 2426, 9198, 36348, 6310, 15921, 12159, 798, 9374, 491, 5360, 1909, 1296, 615, 61133, 11113, 10070, 3729, 9769, 471, 14344, 4505, 10369, 16244, 2884, 22614, 4761, 1542, 6143, 4022, 3871, 4866, 1329, 4642, 1541, 1924, 2094, 10922, 2137, 1651, 6679, 6812, 3837, 6540, 7955, 27098, 17684, 37, 15845, 3181, 5062, 4786, 7235, 12619, 9089, 5470, 5118, 2134, 2525, 720, 956, 6346, 5505, 5505, 28729, 5413, 10721, 4370, 6042, 23631, 20262, 47265, 13964, 13677, 17323, 1555, 3642, 1215, 5594, 408, 4799, 14038, 7660, 22288, 1365, 14982, 9568, 1636, 57271, 10141, 3457, 8837, 7038, 5972, 25624, 5476, 5867, 4148, 19622, 23973, 7758, 3146, 10052, 3564, 13471, 1930, 15779, 15526, 3776, 25001, 5272, 3490, 2812, 4896, 9737, 1320, 16643, 7153, 4571, 29651, 5299, 7396, 7062, 19576, 978, 4748, 8393, 11391, 8634, 9342, 10927, 5235, 8916, 2507, 3673, 11881, 6990, 6132, 3014, 7550, 3828, 2752, 1467, 1884, 25706, 8491, 1649, 18613, 9867, 1386, 10199, 2926, 17739, 3113, 5542, 26741, 5347, 7866, 5680, 5178, 8093, 3192, 21834, 6169, 4519, 3163, 1831, 18904, 21930, 10426, 10820, 548, 16990, 3503, 13616, 8580, 4757, 10009, 1985, 22536, 7150, 3836, 7802, 3619, 23047, 9366, 1265, 3923, 2272, 973, 220, 7827, 9382, 5069, 1583, 1907, 23114, 637, 2314, 4587, 25554, 1680, 4725, 35799, 2580, 11813, 3536, 6600, 1789, 12361, 858, 23148, 8081, 23358, 9372, 4633, 13061, 3523, 2774, 440, 8922, 2023, 1859, 50482, 3207, 803, 23308, 5836, 79446, 7747, 7251, 7251, 10559, 5249, 33844, 11616, 13609, 8587, 29442, 11098, 9947, 13871, 6982, 32122, 32122, 16949, 9289, 7368, 4028, 4628, 5396, 4247, 22641, 6222, 4506, 8747, 1655, 7861, 6247, 39459, 10101, 5898, 2744, 49288, 1201, 807, 3759, 2663, 3428, 2876, 3601, 7058, 9784, 10795, 10191, 14493, 2186, 1204, 2091, 19720, 2122, 27536, 4290, 26490, 5487, 6377, 1463, 3759, 3503, 11550, 3801, 3796, 9030, 19546, 7508, 8842, 30183, 6169, 7034, 11034, 7932, 1904, 3319, 11128, 5977, 26234, 4360, 2282, 438, 11676, 2586, 29673, 6740, 5956, 6108, 4585, 3829, 8958, 5492, 9292, 1873, 8170, 3341, 7497, 13779, 87841, 9967, 6669, 17044, 10760, 1302, 21625, 9413, 14331]}],                        {\"font\": {\"color\": \"black\", \"family\": \"Arial\", \"size\": 12}, \"showlegend\": false, \"template\": {\"data\": {\"bar\": [{\"error_x\": {\"color\": \"rgb(36,36,36)\"}, \"error_y\": {\"color\": \"rgb(36,36,36)\"}, \"marker\": {\"line\": {\"color\": \"white\", \"width\": 0.5}}, \"type\": \"bar\"}], \"barpolar\": [{\"marker\": {\"line\": {\"color\": \"white\", \"width\": 0.5}}, \"type\": \"barpolar\"}], \"carpet\": [{\"aaxis\": {\"endlinecolor\": \"rgb(36,36,36)\", \"gridcolor\": \"white\", \"linecolor\": \"white\", \"minorgridcolor\": \"white\", \"startlinecolor\": \"rgb(36,36,36)\"}, \"baxis\": {\"endlinecolor\": \"rgb(36,36,36)\", \"gridcolor\": \"white\", \"linecolor\": \"white\", \"minorgridcolor\": \"white\", \"startlinecolor\": \"rgb(36,36,36)\"}, \"type\": \"carpet\"}], \"choropleth\": [{\"colorbar\": {\"outlinewidth\": 1, \"tickcolor\": \"rgb(36,36,36)\", \"ticks\": \"outside\"}, \"type\": \"choropleth\"}], \"contour\": [{\"colorbar\": {\"outlinewidth\": 1, \"tickcolor\": \"rgb(36,36,36)\", \"ticks\": \"outside\"}, \"colorscale\": [[0.0, \"#440154\"], [0.1111111111111111, \"#482878\"], [0.2222222222222222, \"#3e4989\"], [0.3333333333333333, \"#31688e\"], [0.4444444444444444, \"#26828e\"], [0.5555555555555556, \"#1f9e89\"], [0.6666666666666666, \"#35b779\"], [0.7777777777777778, \"#6ece58\"], [0.8888888888888888, \"#b5de2b\"], [1.0, \"#fde725\"]], \"type\": \"contour\"}], \"contourcarpet\": [{\"colorbar\": {\"outlinewidth\": 1, \"tickcolor\": \"rgb(36,36,36)\", \"ticks\": \"outside\"}, \"type\": \"contourcarpet\"}], \"heatmap\": [{\"colorbar\": {\"outlinewidth\": 1, \"tickcolor\": \"rgb(36,36,36)\", \"ticks\": \"outside\"}, \"colorscale\": [[0.0, \"#440154\"], [0.1111111111111111, \"#482878\"], [0.2222222222222222, \"#3e4989\"], [0.3333333333333333, \"#31688e\"], [0.4444444444444444, \"#26828e\"], [0.5555555555555556, \"#1f9e89\"], [0.6666666666666666, \"#35b779\"], [0.7777777777777778, \"#6ece58\"], [0.8888888888888888, \"#b5de2b\"], [1.0, \"#fde725\"]], \"type\": \"heatmap\"}], \"heatmapgl\": [{\"colorbar\": {\"outlinewidth\": 1, \"tickcolor\": \"rgb(36,36,36)\", \"ticks\": \"outside\"}, \"colorscale\": [[0.0, \"#440154\"], [0.1111111111111111, \"#482878\"], [0.2222222222222222, \"#3e4989\"], [0.3333333333333333, \"#31688e\"], [0.4444444444444444, \"#26828e\"], [0.5555555555555556, \"#1f9e89\"], [0.6666666666666666, \"#35b779\"], [0.7777777777777778, \"#6ece58\"], [0.8888888888888888, \"#b5de2b\"], [1.0, \"#fde725\"]], \"type\": \"heatmapgl\"}], \"histogram\": [{\"marker\": {\"line\": {\"color\": \"white\", \"width\": 0.6}}, \"type\": \"histogram\"}], \"histogram2d\": [{\"colorbar\": {\"outlinewidth\": 1, \"tickcolor\": \"rgb(36,36,36)\", \"ticks\": \"outside\"}, \"colorscale\": [[0.0, \"#440154\"], [0.1111111111111111, \"#482878\"], [0.2222222222222222, \"#3e4989\"], [0.3333333333333333, \"#31688e\"], [0.4444444444444444, \"#26828e\"], [0.5555555555555556, \"#1f9e89\"], [0.6666666666666666, \"#35b779\"], [0.7777777777777778, \"#6ece58\"], [0.8888888888888888, \"#b5de2b\"], [1.0, \"#fde725\"]], \"type\": \"histogram2d\"}], \"histogram2dcontour\": [{\"colorbar\": {\"outlinewidth\": 1, \"tickcolor\": \"rgb(36,36,36)\", \"ticks\": \"outside\"}, \"colorscale\": [[0.0, \"#440154\"], [0.1111111111111111, \"#482878\"], [0.2222222222222222, \"#3e4989\"], [0.3333333333333333, \"#31688e\"], [0.4444444444444444, \"#26828e\"], [0.5555555555555556, \"#1f9e89\"], [0.6666666666666666, \"#35b779\"], [0.7777777777777778, \"#6ece58\"], [0.8888888888888888, \"#b5de2b\"], [1.0, \"#fde725\"]], \"type\": \"histogram2dcontour\"}], \"mesh3d\": [{\"colorbar\": {\"outlinewidth\": 1, \"tickcolor\": \"rgb(36,36,36)\", \"ticks\": \"outside\"}, \"type\": \"mesh3d\"}], \"parcoords\": [{\"line\": {\"colorbar\": {\"outlinewidth\": 1, \"tickcolor\": \"rgb(36,36,36)\", \"ticks\": \"outside\"}}, \"type\": \"parcoords\"}], \"pie\": [{\"automargin\": true, \"type\": \"pie\"}], \"scatter\": [{\"marker\": {\"colorbar\": {\"outlinewidth\": 1, \"tickcolor\": \"rgb(36,36,36)\", \"ticks\": \"outside\"}}, \"type\": \"scatter\"}], \"scatter3d\": [{\"line\": {\"colorbar\": {\"outlinewidth\": 1, \"tickcolor\": \"rgb(36,36,36)\", \"ticks\": \"outside\"}}, \"marker\": {\"colorbar\": {\"outlinewidth\": 1, \"tickcolor\": \"rgb(36,36,36)\", \"ticks\": \"outside\"}}, \"type\": \"scatter3d\"}], \"scattercarpet\": [{\"marker\": {\"colorbar\": {\"outlinewidth\": 1, \"tickcolor\": \"rgb(36,36,36)\", \"ticks\": \"outside\"}}, \"type\": \"scattercarpet\"}], \"scattergeo\": [{\"marker\": {\"colorbar\": {\"outlinewidth\": 1, \"tickcolor\": \"rgb(36,36,36)\", \"ticks\": \"outside\"}}, \"type\": \"scattergeo\"}], \"scattergl\": [{\"marker\": {\"colorbar\": {\"outlinewidth\": 1, \"tickcolor\": \"rgb(36,36,36)\", \"ticks\": \"outside\"}}, \"type\": \"scattergl\"}], \"scattermapbox\": [{\"marker\": {\"colorbar\": {\"outlinewidth\": 1, \"tickcolor\": \"rgb(36,36,36)\", \"ticks\": \"outside\"}}, \"type\": \"scattermapbox\"}], \"scatterpolar\": [{\"marker\": {\"colorbar\": {\"outlinewidth\": 1, \"tickcolor\": \"rgb(36,36,36)\", \"ticks\": \"outside\"}}, \"type\": \"scatterpolar\"}], \"scatterpolargl\": [{\"marker\": {\"colorbar\": {\"outlinewidth\": 1, \"tickcolor\": \"rgb(36,36,36)\", \"ticks\": \"outside\"}}, \"type\": \"scatterpolargl\"}], \"scatterternary\": [{\"marker\": {\"colorbar\": {\"outlinewidth\": 1, \"tickcolor\": \"rgb(36,36,36)\", \"ticks\": \"outside\"}}, \"type\": \"scatterternary\"}], \"surface\": [{\"colorbar\": {\"outlinewidth\": 1, \"tickcolor\": \"rgb(36,36,36)\", \"ticks\": \"outside\"}, \"colorscale\": [[0.0, \"#440154\"], [0.1111111111111111, \"#482878\"], [0.2222222222222222, \"#3e4989\"], [0.3333333333333333, \"#31688e\"], [0.4444444444444444, \"#26828e\"], [0.5555555555555556, \"#1f9e89\"], [0.6666666666666666, \"#35b779\"], [0.7777777777777778, \"#6ece58\"], [0.8888888888888888, \"#b5de2b\"], [1.0, \"#fde725\"]], \"type\": \"surface\"}], \"table\": [{\"cells\": {\"fill\": {\"color\": \"rgb(237,237,237)\"}, \"line\": {\"color\": \"white\"}}, \"header\": {\"fill\": {\"color\": \"rgb(217,217,217)\"}, \"line\": {\"color\": \"white\"}}, \"type\": \"table\"}]}, \"layout\": {\"annotationdefaults\": {\"arrowhead\": 0, \"arrowwidth\": 1}, \"autotypenumbers\": \"strict\", \"coloraxis\": {\"colorbar\": {\"outlinewidth\": 1, \"tickcolor\": \"rgb(36,36,36)\", \"ticks\": \"outside\"}}, \"colorscale\": {\"diverging\": [[0.0, \"rgb(103,0,31)\"], [0.1, \"rgb(178,24,43)\"], [0.2, \"rgb(214,96,77)\"], [0.3, \"rgb(244,165,130)\"], [0.4, \"rgb(253,219,199)\"], [0.5, \"rgb(247,247,247)\"], [0.6, \"rgb(209,229,240)\"], [0.7, \"rgb(146,197,222)\"], [0.8, \"rgb(67,147,195)\"], [0.9, \"rgb(33,102,172)\"], [1.0, \"rgb(5,48,97)\"]], \"sequential\": [[0.0, \"#440154\"], [0.1111111111111111, \"#482878\"], [0.2222222222222222, \"#3e4989\"], [0.3333333333333333, \"#31688e\"], [0.4444444444444444, \"#26828e\"], [0.5555555555555556, \"#1f9e89\"], [0.6666666666666666, \"#35b779\"], [0.7777777777777778, \"#6ece58\"], [0.8888888888888888, \"#b5de2b\"], [1.0, \"#fde725\"]], \"sequentialminus\": [[0.0, \"#440154\"], [0.1111111111111111, \"#482878\"], [0.2222222222222222, \"#3e4989\"], [0.3333333333333333, \"#31688e\"], [0.4444444444444444, \"#26828e\"], [0.5555555555555556, \"#1f9e89\"], [0.6666666666666666, \"#35b779\"], [0.7777777777777778, \"#6ece58\"], [0.8888888888888888, \"#b5de2b\"], [1.0, \"#fde725\"]]}, \"colorway\": [\"#1F77B4\", \"#FF7F0E\", \"#2CA02C\", \"#D62728\", \"#9467BD\", \"#8C564B\", \"#E377C2\", \"#7F7F7F\", \"#BCBD22\", \"#17BECF\"], \"font\": {\"color\": \"rgb(36,36,36)\"}, \"geo\": {\"bgcolor\": \"white\", \"lakecolor\": \"white\", \"landcolor\": \"white\", \"showlakes\": true, \"showland\": true, \"subunitcolor\": \"white\"}, \"hoverlabel\": {\"align\": \"left\"}, \"hovermode\": \"closest\", \"mapbox\": {\"style\": \"light\"}, \"paper_bgcolor\": \"white\", \"plot_bgcolor\": \"white\", \"polar\": {\"angularaxis\": {\"gridcolor\": \"rgb(232,232,232)\", \"linecolor\": \"rgb(36,36,36)\", \"showgrid\": false, \"showline\": true, \"ticks\": \"outside\"}, \"bgcolor\": \"white\", \"radialaxis\": {\"gridcolor\": \"rgb(232,232,232)\", \"linecolor\": \"rgb(36,36,36)\", \"showgrid\": false, \"showline\": true, \"ticks\": \"outside\"}}, \"scene\": {\"xaxis\": {\"backgroundcolor\": \"white\", \"gridcolor\": \"rgb(232,232,232)\", \"gridwidth\": 2, \"linecolor\": \"rgb(36,36,36)\", \"showbackground\": true, \"showgrid\": false, \"showline\": true, \"ticks\": \"outside\", \"zeroline\": false, \"zerolinecolor\": \"rgb(36,36,36)\"}, \"yaxis\": {\"backgroundcolor\": \"white\", \"gridcolor\": \"rgb(232,232,232)\", \"gridwidth\": 2, \"linecolor\": \"rgb(36,36,36)\", \"showbackground\": true, \"showgrid\": false, \"showline\": true, \"ticks\": \"outside\", \"zeroline\": false, \"zerolinecolor\": \"rgb(36,36,36)\"}, \"zaxis\": {\"backgroundcolor\": \"white\", \"gridcolor\": \"rgb(232,232,232)\", \"gridwidth\": 2, \"linecolor\": \"rgb(36,36,36)\", \"showbackground\": true, \"showgrid\": false, \"showline\": true, \"ticks\": \"outside\", \"zeroline\": false, \"zerolinecolor\": \"rgb(36,36,36)\"}}, \"shapedefaults\": {\"fillcolor\": \"black\", \"line\": {\"width\": 0}, \"opacity\": 0.3}, \"ternary\": {\"aaxis\": {\"gridcolor\": \"rgb(232,232,232)\", \"linecolor\": \"rgb(36,36,36)\", \"showgrid\": false, \"showline\": true, \"ticks\": \"outside\"}, \"baxis\": {\"gridcolor\": \"rgb(232,232,232)\", \"linecolor\": \"rgb(36,36,36)\", \"showgrid\": false, \"showline\": true, \"ticks\": \"outside\"}, \"bgcolor\": \"white\", \"caxis\": {\"gridcolor\": \"rgb(232,232,232)\", \"linecolor\": \"rgb(36,36,36)\", \"showgrid\": false, \"showline\": true, \"ticks\": \"outside\"}}, \"title\": {\"x\": 0.05}, \"xaxis\": {\"automargin\": true, \"gridcolor\": \"rgb(232,232,232)\", \"linecolor\": \"rgb(36,36,36)\", \"showgrid\": false, \"showline\": true, \"ticks\": \"outside\", \"title\": {\"standoff\": 15}, \"zeroline\": false, \"zerolinecolor\": \"rgb(36,36,36)\"}, \"yaxis\": {\"automargin\": true, \"gridcolor\": \"rgb(232,232,232)\", \"linecolor\": \"rgb(36,36,36)\", \"showgrid\": false, \"showline\": true, \"ticks\": \"outside\", \"title\": {\"standoff\": 15}, \"zeroline\": false, \"zerolinecolor\": \"rgb(36,36,36)\"}}}, \"xaxis\": {\"anchor\": \"y\", \"domain\": [0.0, 1.0], \"title\": {\"text\": \"Price\"}}, \"yaxis\": {\"anchor\": \"x\", \"domain\": [0.0, 1.0], \"title\": {\"text\": \"Reviews\"}}},                        {\"responsive\": true}                    ).then(function(){\n",
       "                            \n",
       "var gd = document.getElementById('7ff686db-cc19-4fb0-97eb-8d84c8d0f9c4');\n",
       "var x = new MutationObserver(function (mutations, observer) {{\n",
       "        var display = window.getComputedStyle(gd).display;\n",
       "        if (!display || display === 'none') {{\n",
       "            console.log([gd, 'removed!']);\n",
       "            Plotly.purge(gd);\n",
       "            observer.disconnect();\n",
       "        }}\n",
       "}});\n",
       "\n",
       "// Listen for the removal of the full notebook cells\n",
       "var notebookContainer = gd.closest('#notebook-container');\n",
       "if (notebookContainer) {{\n",
       "    x.observe(notebookContainer, {childList: true});\n",
       "}}\n",
       "\n",
       "// Listen for the clearing of the current output cell\n",
       "var outputEl = gd.closest('.output');\n",
       "if (outputEl) {{\n",
       "    x.observe(outputEl, {childList: true});\n",
       "}}\n",
       "\n",
       "                        })                };                });            </script>        </div>"
      ]
     },
     "metadata": {},
     "output_type": "display_data"
    }
   ],
   "source": [
    "# Let's set the visualization parameters\n",
    "fig_7 = make_subplots(rows=1, cols=1, specs=[[{'type': 'xy'}]])\n",
    "\n",
    "# Setting Scatter parameters\n",
    "fig_7.add_trace(go.Scattergl(x=bestsellers['User Rating'],\n",
    "                             y=bestsellers['Reviews'],\n",
    "                             mode='markers',\n",
    "                             marker_color='salmon'))\n",
    "\n",
    "# Setting the parameters of the Scatter when displaying\n",
    "fig_7.update_layout(template='simple_white',\n",
    "                    showlegend=False, \n",
    "                    xaxis = {'title':'User Rating'}, \n",
    "                    yaxis = {'title':'Reviews'},\n",
    "                    font=dict(family='Arial', \n",
    "                              size=12, \n",
    "                              color='black'))\n",
    "\n",
    "# Displaying the Scatter\n",
    "fig_7.show()\n",
    "\n",
    "# Let's set the visualization parameters\n",
    "fig_8 = make_subplots(rows=1, cols=1, specs=[[{'type': 'xy'}]])\n",
    "\n",
    "# Setting Scatter parameters\n",
    "fig_8.add_trace(go.Scattergl(x=bestsellers['User Rating'],\n",
    "                             y=bestsellers['Price'],\n",
    "                             mode='markers',\n",
    "                             marker_color='salmon'))\n",
    "\n",
    "# Setting the parameters of the Scatter when displaying\n",
    "fig_8.update_layout(template='simple_white',\n",
    "                    showlegend=False,\n",
    "                    xaxis = {'title':'User Rating'}, \n",
    "                    yaxis = {'title':'Price'},\n",
    "                    font=dict(family='Arial', \n",
    "                              size=12, \n",
    "                              color='black'))\n",
    "\n",
    "# Displaying the Scatter\n",
    "fig_8.show()\n",
    "\n",
    "# Let's set the visualization parameters\n",
    "fig_9 = make_subplots(rows=1, cols=1, specs=[[{'type': 'xy'}]])\n",
    "\n",
    "# Setting Scatter parameters\n",
    "fig_9.add_trace(go.Scattergl(x=bestsellers['Price'],\n",
    "                             y=bestsellers['Reviews'],\n",
    "                             mode='markers',\n",
    "                             marker_color='salmon'))\n",
    "\n",
    "# Setting the parameters of the Scatter when displaying\n",
    "fig_9.update_layout(template='simple_white',\n",
    "                    showlegend=False, \n",
    "                    xaxis = {'title':'Price'}, \n",
    "                    yaxis = {'title':'Reviews'},\n",
    "                    font=dict(family='Arial', size=12, color='black'))\n",
    "\n",
    "# Displaying the Scatter\n",
    "fig_9.show()"
   ]
  },
  {
   "cell_type": "markdown",
   "metadata": {
    "papermill": {
     "duration": 0.057301,
     "end_time": "2021-05-31T13:54:10.630651",
     "exception": false,
     "start_time": "2021-05-31T13:54:10.573350",
     "status": "completed"
    },
    "tags": []
   },
   "source": [
    "<div style=\"background: #DCDCDC\">\n",
    "<p style=\"font-family: Arials, sans-serif; font-size: 16px; color: #000000\"><strong>INSIGHT:</strong> Based on the constructed correlation matrix as well as the constructed visualizations, it can be seen that the data does not contain any positive or negative linear relationship between the rating, reviews and the price of books.</p>\n",
    "</div>"
   ]
  },
  {
   "cell_type": "markdown",
   "metadata": {
    "papermill": {
     "duration": 0.055214,
     "end_time": "2021-05-31T13:54:10.742647",
     "exception": false,
     "start_time": "2021-05-31T13:54:10.687433",
     "status": "completed"
    },
    "tags": []
   },
   "source": [
    "<p id=\"part9\"></p>\n",
    "\n",
    "# <span style=\"font-family: Arials; font-size: 16px; font-style: bold; font-weight: bold; letter-spacing: 3px; color: #FF8C00\">3 TESTING HYPOTHESES</span>\n",
    "<hr style=\"height: 0.5px; border: 0; background-color: #808080\">\n",
    "\n",
    "<p style=\"font-family: Arials, sans-serif; font-size: 14px; color: rgba(0,0,0,.7)\">In this article, let us test the following hypothesis: \"Do genres differ in terms of rating?\".</p>\n",
    "\n",
    "<p style=\"font-family: Arials, sans-serif; font-size: 14px; color: rgba(0,0,0,.7)\"><strong>We will test the hypothesis according to the following algorithm:</strong></p>\n",
    "<ol style=\"font-family: Arials, sans-serif; font-size: 14px; line-height:1.5; color: rgba(0,0,0,.7)\">\n",
    "<li>Null and alternative hypotheses are formulated.</li>\n",
    "<p></p>\n",
    "<li>The distribution was checked for normality using \"Shapiro Wilk test of normality\".</li>\n",
    "<p></p>\n",
    "<li>Two samples were formed. Books related to the Non Fiction genre and books related to the Fiction genre.</li>\n",
    "<p></p>\n",
    "<li>Testing was carried out in order to identify statistical differences between the study groups.</li>\n",
    "<p></p>\n",
    "</ol>   \n"
   ]
  },
  {
   "cell_type": "markdown",
   "metadata": {
    "papermill": {
     "duration": 0.054729,
     "end_time": "2021-05-31T13:54:10.854442",
     "exception": false,
     "start_time": "2021-05-31T13:54:10.799713",
     "status": "completed"
    },
    "tags": []
   },
   "source": [
    "<p style=\"font-family: Arials, sans-serif; font-size: 14px; color: rgba(0,0,0,.7)\">1. Let us formulate the null and alternative hypotheses.</p>\n",
    "<p style=\"font-family: Arials, sans-serif; font-size: 14px; color: rgba(0,0,0,.7)\">H0 - There are no differences between genre racketeering</p>\n",
    "<p style=\"font-family: Arials, sans-serif; font-size: 14px; color: rgba(0,0,0,.7)\">H1 - There are differences between genre racketeering</p>"
   ]
  },
  {
   "cell_type": "markdown",
   "metadata": {
    "papermill": {
     "duration": 0.054747,
     "end_time": "2021-05-31T13:54:10.964350",
     "exception": false,
     "start_time": "2021-05-31T13:54:10.909603",
     "status": "completed"
    },
    "tags": []
   },
   "source": [
    "<p style=\"font-family: Arials, sans-serif; font-size: 14px; color: rgba(0,0,0,.7)\">2. Checking the distribution for normality. Using \"Shapiro Wilk test of normality\"."
   ]
  },
  {
   "cell_type": "code",
   "execution_count": 31,
   "metadata": {
    "_kg_hide-input": true,
    "execution": {
     "iopub.execute_input": "2021-05-31T13:54:11.078645Z",
     "iopub.status.busy": "2021-05-31T13:54:11.078062Z",
     "iopub.status.idle": "2021-05-31T13:54:11.086597Z",
     "shell.execute_reply": "2021-05-31T13:54:11.085909Z"
    },
    "papermill": {
     "duration": 0.066852,
     "end_time": "2021-05-31T13:54:11.086779",
     "exception": false,
     "start_time": "2021-05-31T13:54:11.019927",
     "status": "completed"
    },
    "tags": []
   },
   "outputs": [
    {
     "name": "stdout",
     "output_type": "stream",
     "text": [
      "Statistic: 0.877\n",
      "P-Value: 0.00000000000000045166\n",
      "Reject H0 - Data is not distributed normally.\n"
     ]
    }
   ],
   "source": [
    "# Set the alpha level\n",
    "alpha=0.05\n",
    "\n",
    "# We pass groups to the criterion for testing\n",
    "stat, pval = shapiro(bestsellers['User Rating'])\n",
    "\n",
    "print('Statistic:', f'{stat:.3f}')\n",
    "print('P-Value:', f'{pval:.20f}')\n",
    "    \n",
    "# Checking the condition for accepting or rejecting H0\n",
    "if pval > alpha:\n",
    "    print('Accept H0 - Data is distributed normally.')\n",
    "if pval < alpha:\n",
    "    print('Reject H0 - Data is not distributed normally.')"
   ]
  },
  {
   "cell_type": "markdown",
   "metadata": {
    "papermill": {
     "duration": 0.056139,
     "end_time": "2021-05-31T13:54:11.200711",
     "exception": false,
     "start_time": "2021-05-31T13:54:11.144572",
     "status": "completed"
    },
    "tags": []
   },
   "source": [
    "<p style=\"font-family: Arials, sans-serif; font-size: 14px; color: rgba(0,0,0,.7)\">3. Let's form two samples for testing.</p>"
   ]
  },
  {
   "cell_type": "code",
   "execution_count": 32,
   "metadata": {
    "execution": {
     "iopub.execute_input": "2021-05-31T13:54:11.322806Z",
     "iopub.status.busy": "2021-05-31T13:54:11.321930Z",
     "iopub.status.idle": "2021-05-31T13:54:11.324870Z",
     "shell.execute_reply": "2021-05-31T13:54:11.324313Z"
    },
    "papermill": {
     "duration": 0.066653,
     "end_time": "2021-05-31T13:54:11.324999",
     "exception": false,
     "start_time": "2021-05-31T13:54:11.258346",
     "status": "completed"
    },
    "tags": []
   },
   "outputs": [],
   "source": [
    "# Create group\n",
    "non_fiction = bestsellers[bestsellers['Genre'] == 'Non Fiction']['User Rating']\n",
    "fiction = bestsellers[bestsellers['Genre'] == 'Fiction']['User Rating']"
   ]
  },
  {
   "cell_type": "markdown",
   "metadata": {
    "papermill": {
     "duration": 0.057932,
     "end_time": "2021-05-31T13:54:11.439734",
     "exception": false,
     "start_time": "2021-05-31T13:54:11.381802",
     "status": "completed"
    },
    "tags": []
   },
   "source": [
    "<p style=\"font-family: Arials, sans-serif; font-size: 14px; color: rgba(0,0,0,.7)\">4. Let's carry out testing. Since the nadi data in the samples are not normally distributed, we will use the nonparametric Mann-Whitney test.</p>"
   ]
  },
  {
   "cell_type": "code",
   "execution_count": 33,
   "metadata": {
    "_kg_hide-input": true,
    "execution": {
     "iopub.execute_input": "2021-05-31T13:54:11.558912Z",
     "iopub.status.busy": "2021-05-31T13:54:11.558219Z",
     "iopub.status.idle": "2021-05-31T13:54:11.567649Z",
     "shell.execute_reply": "2021-05-31T13:54:11.568309Z"
    },
    "papermill": {
     "duration": 0.070808,
     "end_time": "2021-05-31T13:54:11.568533",
     "exception": false,
     "start_time": "2021-05-31T13:54:11.497725",
     "status": "completed"
    },
    "tags": []
   },
   "outputs": [
    {
     "name": "stdout",
     "output_type": "stream",
     "text": [
      "Statistic: 13013.000\n",
      "P-Value: 0.00931903468696572077\n",
      "Reject H0 - There are significant differences between the groups.\n"
     ]
    }
   ],
   "source": [
    "# Set the alpha level\n",
    "alpha=0.05\n",
    "\n",
    "# We pass groups to the criterion for testing\n",
    "stat, pval = mannwhitneyu(non_fiction, fiction)\n",
    "\n",
    "print('Statistic:', f'{stat:.3f}')\n",
    "print('P-Value:', f'{pval:.20f}')\n",
    " \n",
    "# Checking the condition for accepting or rejecting H0\n",
    "if pval > alpha:\n",
    "    print('Accept H0 - There is no significant difference between the groups.')\n",
    "if pval < alpha:\n",
    "    print('Reject H0 - There are significant differences between the groups.')"
   ]
  },
  {
   "cell_type": "markdown",
   "metadata": {
    "papermill": {
     "duration": 0.057993,
     "end_time": "2021-05-31T13:54:11.684732",
     "exception": false,
     "start_time": "2021-05-31T13:54:11.626739",
     "status": "completed"
    },
    "tags": []
   },
   "source": [
    "<p style=\"font-family: Arials, sans-serif; font-size: 14px; color: rgba(0,0,0,.7)\">Let's compare the median values in the groups.</p>"
   ]
  },
  {
   "cell_type": "code",
   "execution_count": 34,
   "metadata": {
    "execution": {
     "iopub.execute_input": "2021-05-31T13:54:11.809046Z",
     "iopub.status.busy": "2021-05-31T13:54:11.808096Z",
     "iopub.status.idle": "2021-05-31T13:54:11.811901Z",
     "shell.execute_reply": "2021-05-31T13:54:11.811353Z"
    },
    "papermill": {
     "duration": 0.069457,
     "end_time": "2021-05-31T13:54:11.812042",
     "exception": false,
     "start_time": "2021-05-31T13:54:11.742585",
     "status": "completed"
    },
    "tags": []
   },
   "outputs": [
    {
     "name": "stdout",
     "output_type": "stream",
     "text": [
      "Non_fiction median: 4.6, Fiction median: 4.7\n"
     ]
    }
   ],
   "source": [
    "print(f'Non_fiction median: {non_fiction.median()}, Fiction median: {fiction.median()}')"
   ]
  },
  {
   "cell_type": "markdown",
   "metadata": {
    "papermill": {
     "duration": 0.059087,
     "end_time": "2021-05-31T13:54:11.929690",
     "exception": false,
     "start_time": "2021-05-31T13:54:11.870603",
     "status": "completed"
    },
    "tags": []
   },
   "source": [
    "<p style=\"font-family: Arials, sans-serif; font-size: 14px; color: rgba(0,0,0,.7)\">Visualizing the density of distribution in samples.</p>"
   ]
  },
  {
   "cell_type": "code",
   "execution_count": 35,
   "metadata": {
    "_kg_hide-input": true,
    "execution": {
     "iopub.execute_input": "2021-05-31T13:54:12.063711Z",
     "iopub.status.busy": "2021-05-31T13:54:12.062673Z",
     "iopub.status.idle": "2021-05-31T13:54:12.158982Z",
     "shell.execute_reply": "2021-05-31T13:54:12.159567Z"
    },
    "papermill": {
     "duration": 0.159282,
     "end_time": "2021-05-31T13:54:12.159736",
     "exception": false,
     "start_time": "2021-05-31T13:54:12.000454",
     "status": "completed"
    },
    "tags": []
   },
   "outputs": [
    {
     "data": {
      "text/html": [
       "<div>                            <div id=\"b57ad5d8-90a7-464b-8b25-96949804a60a\" class=\"plotly-graph-div\" style=\"height:525px; width:100%;\"></div>            <script type=\"text/javascript\">                require([\"plotly\"], function(Plotly) {                    window.PLOTLYENV=window.PLOTLYENV || {};                                    if (document.getElementById(\"b57ad5d8-90a7-464b-8b25-96949804a60a\")) {                    Plotly.newPlot(                        \"b57ad5d8-90a7-464b-8b25-96949804a60a\",                        [{\"autobinx\": false, \"histnorm\": \"probability density\", \"legendgroup\": \"Non_fiction\", \"marker\": {\"color\": \"salmon\"}, \"name\": \"Non_fiction\", \"opacity\": 0.7, \"type\": \"histogram\", \"x\": [4.7, 4.7, 4.8, 4.7, 4.6, 4.6, 4.6, 4.5, 4.6, 4.4, 4.5, 4.8, 4.6, 4.6, 4.7, 4.2, 4.6, 4.6, 4.8, 4.7, 4.8, 4.8, 4.7, 4.7, 4.5, 4.6, 4.8, 4.5, 4.7, 4.7, 4.8, 4.8, 4.8, 4.4, 4.6, 4.6, 4.5, 4.6, 4.6, 4.6, 4.5, 4.5, 4.3, 4.5, 4.7, 4.7, 4.4, 4.2, 4.7, 4.4, 4.4, 4.5, 4.6, 4.6, 4.6, 4.6, 4.6, 4.6, 4.5, 4.6, 4.8, 4.9, 4.8, 4.7, 4.8, 4.7, 4.4, 4.8, 4.7, 4.3, 4.8, 4.9, 4.7, 4.8, 4.4, 4.4, 4.8, 4.9, 4.6, 4.5, 4.6, 4.7, 4.6, 4.6, 4.8, 4.8, 4.5, 4.6, 4.5, 4.5, 4.4, 4.8, 4.5, 4.2, 4.8, 4.5, 4.7, 4.8, 4.7, 4.4, 4.6, 4.8, 4.8, 4.7, 4.6, 4.9, 4.6, 4.5, 4.6, 4.7, 4.3, 4.5, 4.6, 4.7, 4.8, 4.8, 4.7, 4.7, 4.8, 4.1, 4.6, 4.6, 4.0, 4.5, 4.6, 4.4, 4.3, 4.3, 4.8, 4.8, 4.7, 4.6, 4.7, 4.2, 4.8, 4.7, 4.8, 4.7, 4.3, 4.8, 4.4, 4.1, 4.6, 4.6, 4.7, 4.7, 4.3, 4.7, 4.4, 4.5, 4.8, 4.9, 4.6, 4.4, 4.3, 4.8, 4.8, 4.8, 4.5, 4.4, 4.6, 4.6, 4.6, 4.7, 4.4, 4.7, 4.7, 4.6, 4.7, 4.7, 4.6, 4.5, 4.3, 4.6, 4.3, 4.6, 4.5, 4.8, 4.9, 4.8, 4.7, 4.6, 4.7, 4.4, 4.4, 4.8, 4.6, 4.4, 4.2, 4.7], \"xaxis\": \"x\", \"xbins\": {\"end\": 4.9, \"size\": 0.1, \"start\": 4.0}, \"yaxis\": \"y\"}, {\"autobinx\": false, \"histnorm\": \"probability density\", \"legendgroup\": \"Fiction\", \"marker\": {\"color\": \"gray\"}, \"name\": \"Fiction\", \"opacity\": 0.7, \"type\": \"histogram\", \"x\": [4.6, 4.7, 4.4, 4.7, 4.7, 4.6, 4.5, 4.6, 3.9, 4.3, 4.6, 4.9, 4.8, 4.7, 4.3, 4.6, 4.6, 4.3, 4.2, 4.8, 4.8, 4.8, 4.8, 4.6, 4.5, 4.7, 4.8, 4.9, 4.9, 4.9, 4.9, 4.9, 4.9, 4.8, 4.7, 4.7, 4.6, 4.7, 4.4, 4.5, 3.8, 4.5, 4.7, 4.6, 4.8, 3.6, 4.8, 4.0, 4.8, 4.9, 4.4, 4.9, 4.0, 4.9, 4.9, 4.9, 4.8, 4.6, 4.8, 4.3, 4.1, 4.6, 4.6, 4.5, 4.9, 4.1, 4.9, 4.5, 4.5, 4.8, 4.5, 4.6, 4.9, 4.8, 4.2, 4.3, 4.6, 4.8, 4.8, 4.7, 4.8, 4.6, 4.9, 4.9, 4.6, 4.7, 4.9, 4.5, 4.7, 4.7, 4.8, 4.6, 4.8, 3.3, 4.3, 4.8, 4.0, 4.7, 4.8, 4.1, 4.7, 4.7, 4.7, 4.4, 4.8, 3.9, 4.4, 4.5, 4.7, 4.3, 4.6, 4.8, 4.8, 4.8, 4.7, 4.7, 4.8, 4.8, 4.9, 4.4, 4.8, 4.2, 4.8, 4.7, 4.5, 4.8, 4.8, 4.3, 4.8, 4.3, 4.3, 4.6, 4.8, 4.6, 4.6, 4.5, 4.8, 4.7, 4.7, 4.4, 4.7, 4.8, 4.9, 4.9, 4.8, 4.5, 4.8, 4.8, 4.7, 4.5, 4.3, 4.8, 4.5, 4.7, 4.8, 4.8, 4.8, 4.5, 4.8, 4.9], \"xaxis\": \"x\", \"xbins\": {\"end\": 4.9, \"size\": 0.1, \"start\": 3.3}, \"yaxis\": \"y\"}, {\"legendgroup\": \"Non_fiction\", \"marker\": {\"color\": \"salmon\"}, \"mode\": \"lines\", \"name\": \"Non_fiction\", \"showlegend\": false, \"type\": \"scatter\", \"x\": [4.0, 4.0018, 4.0036, 4.0054, 4.0072, 4.009, 4.0108, 4.0126, 4.0144, 4.0162, 4.018, 4.0198, 4.0216, 4.0234, 4.0252, 4.027, 4.0288, 4.0306, 4.0324, 4.0342, 4.036, 4.0378, 4.0396, 4.0414, 4.0432, 4.045, 4.0468, 4.0486, 4.0504, 4.0522, 4.054, 4.0558, 4.0576, 4.0594, 4.0612, 4.063, 4.0648, 4.0666, 4.0684000000000005, 4.0702, 4.072, 4.0738, 4.0756, 4.0774, 4.0792, 4.081, 4.0828, 4.0846, 4.0864, 4.0882, 4.09, 4.0918, 4.0936, 4.0954, 4.0972, 4.099, 4.1008000000000004, 4.1026, 4.1044, 4.1062, 4.108, 4.1098, 4.1116, 4.1134, 4.1152, 4.117, 4.1188, 4.1206000000000005, 4.1224, 4.1242, 4.126, 4.1278, 4.1296, 4.1314, 4.1332, 4.135, 4.1368, 4.1386, 4.1404, 4.1422, 4.144, 4.1458, 4.1476, 4.1494, 4.1512, 4.1530000000000005, 4.1548, 4.1566, 4.1584, 4.1602, 4.162, 4.1638, 4.1656, 4.1674, 4.1692, 4.171, 4.1728000000000005, 4.1746, 4.1764, 4.1782, 4.18, 4.1818, 4.1836, 4.1854000000000005, 4.1872, 4.189, 4.1908, 4.1926, 4.1944, 4.1962, 4.198, 4.1998, 4.2016, 4.2034, 4.2052000000000005, 4.207, 4.2088, 4.2106, 4.2124, 4.2142, 4.216, 4.2178, 4.2196, 4.2214, 4.2232, 4.225, 4.2268, 4.2286, 4.2304, 4.2322, 4.234, 4.2358, 4.2376000000000005, 4.2394, 4.2412, 4.243, 4.2448, 4.2466, 4.2484, 4.2502, 4.252, 4.2538, 4.2556, 4.2574000000000005, 4.2592, 4.261, 4.2628, 4.2646, 4.2664, 4.2682, 4.2700000000000005, 4.2718, 4.2736, 4.2754, 4.277200000000001, 4.279, 4.2808, 4.2826, 4.2844, 4.2862, 4.288, 4.2898000000000005, 4.2916, 4.2934, 4.2952, 4.297, 4.2988, 4.3006, 4.3024000000000004, 4.3042, 4.306, 4.3078, 4.3096000000000005, 4.3114, 4.3132, 4.315, 4.3168, 4.3186, 4.3204, 4.3222000000000005, 4.324, 4.3258, 4.3276, 4.3294, 4.3312, 4.333, 4.3348, 4.3366, 4.3384, 4.3402, 4.3420000000000005, 4.3438, 4.3456, 4.3474, 4.3492, 4.351, 4.3528, 4.3546000000000005, 4.3564, 4.3582, 4.36, 4.361800000000001, 4.3636, 4.3654, 4.3672, 4.369, 4.3708, 4.3726, 4.3744000000000005, 4.3762, 4.378, 4.3798, 4.381600000000001, 4.3834, 4.3852, 4.3870000000000005, 4.3888, 4.3906, 4.3924, 4.3942000000000005, 4.396, 4.3978, 4.3996, 4.4014, 4.4032, 4.405, 4.4068000000000005, 4.4086, 4.4104, 4.4122, 4.414, 4.4158, 4.4176, 4.4194, 4.4212, 4.423, 4.4248, 4.4266000000000005, 4.4284, 4.4302, 4.432, 4.4338, 4.4356, 4.4374, 4.4392000000000005, 4.441, 4.4428, 4.4446, 4.446400000000001, 4.4482, 4.45, 4.4518, 4.4536, 4.4554, 4.4572, 4.4590000000000005, 4.4608, 4.4626, 4.4644, 4.466200000000001, 4.468, 4.4698, 4.4716000000000005, 4.4734, 4.4752, 4.477, 4.478800000000001, 4.4806, 4.4824, 4.4842, 4.486, 4.4878, 4.4896, 4.4914000000000005, 4.4932, 4.495, 4.4968, 4.498600000000001, 4.5004, 4.5022, 4.5040000000000004, 4.5058, 4.5076, 4.5094, 4.5112000000000005, 4.513, 4.5148, 4.5166, 4.5184, 4.5202, 4.522, 4.5238000000000005, 4.525600000000001, 4.5274, 4.5292, 4.531000000000001, 4.5328, 4.5346, 4.5364, 4.5382, 4.54, 4.5418, 4.5436000000000005, 4.5454, 4.5472, 4.549, 4.550800000000001, 4.5526, 4.5544, 4.5562000000000005, 4.558, 4.5598, 4.5616, 4.563400000000001, 4.5652, 4.567, 4.5688, 4.570600000000001, 4.5724, 4.5742, 4.5760000000000005, 4.5778, 4.5796, 4.5814, 4.583200000000001, 4.585, 4.5868, 4.5886000000000005, 4.590400000000001, 4.5922, 4.594, 4.5958000000000006, 4.5976, 4.5994, 4.6012, 4.603, 4.6048, 4.6066, 4.6084000000000005, 4.610200000000001, 4.612, 4.6138, 4.615600000000001, 4.6174, 4.6192, 4.621, 4.6228, 4.6246, 4.6264, 4.6282000000000005, 4.63, 4.6318, 4.6336, 4.635400000000001, 4.6372, 4.639, 4.6408000000000005, 4.6426, 4.6444, 4.6462, 4.648000000000001, 4.6498, 4.6516, 4.6534, 4.655200000000001, 4.657, 4.6588, 4.6606000000000005, 4.6624, 4.6642, 4.666, 4.667800000000001, 4.6696, 4.6714, 4.6732000000000005, 4.675000000000001, 4.6768, 4.6786, 4.680400000000001, 4.6822, 4.684, 4.6858, 4.6876, 4.6894, 4.6912, 4.6930000000000005, 4.694800000000001, 4.6966, 4.6984, 4.700200000000001, 4.702, 4.7038, 4.7056000000000004, 4.707400000000001, 4.7092, 4.711, 4.7128000000000005, 4.7146, 4.7164, 4.7182, 4.720000000000001, 4.7218, 4.7236, 4.7254000000000005, 4.7272, 4.729, 4.7308, 4.732600000000001, 4.7344, 4.7362, 4.738, 4.739800000000001, 4.7416, 4.7434, 4.7452000000000005, 4.747, 4.7488, 4.7506, 4.752400000000001, 4.7542, 4.756, 4.7578000000000005, 4.759600000000001, 4.7614, 4.7632, 4.765000000000001, 4.7668, 4.7686, 4.7704, 4.7722, 4.774, 4.7758, 4.7776000000000005, 4.779400000000001, 4.7812, 4.783, 4.784800000000001, 4.7866, 4.7884, 4.7902000000000005, 4.792000000000001, 4.7938, 4.7956, 4.7974000000000006, 4.7992, 4.801, 4.8028, 4.804600000000001, 4.8064, 4.8082, 4.8100000000000005, 4.8118, 4.8136, 4.8154, 4.817200000000001, 4.819000000000001, 4.8208, 4.8226, 4.824400000000001, 4.8262, 4.828, 4.8298000000000005, 4.8316, 4.8334, 4.8352, 4.837000000000001, 4.8388, 4.8406, 4.8424000000000005, 4.844200000000001, 4.846, 4.8478, 4.849600000000001, 4.8514, 4.8532, 4.855, 4.856800000000001, 4.8586, 4.8604, 4.8622000000000005, 4.864000000000001, 4.8658, 4.8676, 4.869400000000001, 4.8712, 4.873, 4.8748000000000005, 4.876600000000001, 4.8784, 4.8802, 4.882000000000001, 4.8838, 4.8856, 4.8874, 4.889200000000001, 4.891, 4.8928, 4.8946000000000005, 4.8964, 4.8982], \"xaxis\": \"x\", \"y\": [0.05327416738009041, 0.05422942836556439, 0.05518895296527463, 0.05615303338518323, 0.05712198711637915, 0.058096155488503824, 0.059075902157785264, 0.06006161154610755, 0.06105368724783416, 0.06205255042123149, 0.06305863818123535, 0.06407240201003164, 0.06509430620142052, 0.06612482635426514, 0.06716444792944452, 0.06821366488364831, 0.0692729783921483, 0.07034289567124781, 0.07142392890957867, 0.07251659431571911, 0.07362141128782704, 0.07473890170908284, 0.0758695893707763, 0.07701399952288653, 0.07817265854996204, 0.07934609376810348, 0.08053483333685413, 0.08173940627789598, 0.08296034259059003, 0.08419817345268996, 0.08545343149295279, 0.0867266511209674, 0.08801836889826814, 0.08932912393376713, 0.09065945828575735, 0.09200991735215594, 0.09338105023037371, 0.09477341002814382, 0.09618755410692714, 0.09762404423998751, 0.09908344666808433, 0.10056633203678843, 0.10207327520080924, 0.1036048548823384, 0.10516165317227417, 0.10674425486532588, 0.1083532466222789, 0.10998921595521746, 0.11165275003413941, 0.1133444343161953, 0.11506485100163716, 0.11681457732348358, 0.11859418368087471, 0.12040423162898477, 0.1222452717412408, 0.12411784136233339, 0.12602246227315017, 0.12795963829116855, 0.12992985283207942, 0.1319335664603454, 0.13397121445808383, 0.13604320444299955, 0.13814991406703547, 0.14029168882808127, 0.142468840027221, 0.14468164290383087, 0.14693033498015975, 0.1492151146459851, 0.15153614001239002, 0.153893528061793, 0.15628735411895328, 0.1587176516649541, 0.16118441251297974, 0.1636875873611725, 0.16622708673408088, 0.16880278232002244, 0.17141450870737296, 0.17406206551819803, 0.17674521993297093, 0.17946370959532612, 0.18221724588093532, 0.18500551750986954, 0.18782819447704208, 0.19068493227081323, 0.19357537634545635, 0.1964991668091904, 0.1994559432856526, 0.2024453499034342, 0.20546704036532432, 0.20852068304657026, 0.21160596606954407, 0.21472260230091259, 0.21787033421677848, 0.22104893858114583, 0.2242582308837253, 0.22749806948432869, 0.23076835941309157, 0.23406905577833217, 0.2374001667371403, 0.2407617559876454, 0.24415394474644714, 0.2475769131796825, 0.2510309012617637, 0.2545162090418485, 0.2580331963044757, 0.26158228161751607, 0.2651639407675487, 0.26877870458990466, 0.27242715620786495, 0.27610992770258597, 0.2798276962425879, 0.28358117970841284, 0.28737113185479257, 0.2911983370588449, 0.2950636047087012, 0.2989677632921461, 0.3029116542495456, 0.30689612565920293, 0.31092202582653966, 0.31499019685075014, 0.3191014682440773, 0.32325665067944015, 0.3274565299416703, 0.3317018611563267, 0.33599336336764596, 0.34033171453395317, 0.34471754700456797, 0.3491514435370291, 0.35363393390752224, 0.35816549216039734, 0.36274653453514805, 0.36737741810081437, 0.3720584401190341, 0.37678983814741784, 0.38157179088532667, 0.3864044197539936, 0.3912877911928565, 0.39622191964374454, 0.401206771184481, 0.40624226776371836, 0.411328291979297, 0.41646469233356515, 0.42165128889072157, 0.42688787925383304, 0.43217424477238814, 0.4375101568857215, 0.44289538350293334, 0.4483296953166566, 0.4538128719457952, 0.4593447078015022, 0.4649250175712904, 0.4705536412179583, 0.4762304483934281, 0.4819553421722403, 0.4877282620155946, 0.4935491858842834, 0.4994181314275342, 0.5053351561847355, 0.5113003567481654, 0.5173138668468181, 0.523375854324402, 0.5294865169984161, 0.5356460774013966, 0.5418547764203347, 0.5481128658651884, 0.5544206000127007, 0.5607782261867035, 0.5671859744508627, 0.573644046504271, 0.5801526038838112, 0.5867117555902162, 0.5933215452664375, 0.5999819380677666, 0.6066928073723082, 0.6134539214883775, 0.6202649305214936, 0.6271253535682602, 0.63403456640699, 0.6409917898556606, 0.6479960789667613, 0.6550463132251324, 0.6621411879099383, 0.6692792067745201, 0.6764586761889125, 0.6836777008786642, 0.6909341813807331, 0.6982258133228854, 0.7055500886167146, 0.7129042986371024, 0.7202855394420541, 0.7276907190672532, 0.7351165669089136, 0.7425596451874517, 0.7500163624627569, 0.7574829891502785, 0.7649556749654076, 0.772430468202376, 0.7799033367333446, 0.7873701905934014, 0.7948269059986118, 0.8022693506267763, 0.8096934099747638, 0.8170950145922222, 0.8244701679791812, 0.8318149749250988, 0.8391256700590362, 0.8463986463751686, 0.8536304834947461, 0.860817975425197, 0.8679581575789832, 0.8750483328194362, 0.882086096307799, 0.8890693589353129, 0.8959963691360325, 0.9028657328901945, 0.909676431744172, 0.916427838691355, 0.9231197317780387, 0.9297523053198484, 0.936326178636974, 0.942842402240046, 0.9493024614229668, 0.9557082772436896, 0.9620622048991339, 0.9683670295250029, 0.974625959475732, 0.980842617163448, 0.9870210275572103, 0.9931656044651485, 0.9992811347417276, 1.005372760580131, 1.0114459600655668, 1.0175065261786442, 1.023560544449188, 1.029614369469202, 1.0356746004794903, 1.0417480562475143, 1.0478417494542591, 1.0539628608052125, 1.0601187130753444, 1.066316745289714, 1.0725644872307976, 1.0788695344504857, 1.0852395239490815, 1.091682110666452, 1.0982049449109292, 1.1048156508306577, 1.111521806010055, 1.118330922250741, 1.1252504275725543, 1.1322876494462628, 1.1394497992452564, 1.1467439578802325, 1.1541770625576226, 1.161755894580888, 1.1694870680934235, 1.1773770196430633, 1.1854319984317783, 1.1936580570996964, 1.2020610428811582, 1.2106465889614515, 1.2194201058571932, 1.2283867726403521, 1.2375515278266822, 1.246919059752964, 1.2564937962745708, 1.2662798936254387, 1.2762812242960047, 1.286501363801546, 1.296943576232887, 1.307610798504033, 1.3185056232360826, 1.3296302802437587, 1.3409866166201436, 1.3525760754453349, 1.3643996731765748, 1.376457975809521, 1.3887510739331075, 1.4012785568326416, 1.4140394858278231, 1.4270323670627527, 1.4402551239946402, 1.4537050698548166, 1.4673788803804262, 1.481272567137571, 1.4953814517750321, 1.5097001415632192, 1.5242225065842372, 1.5389416589463156, 1.553849934398578, 1.5689388767205452, 1.5841992252542307, 1.5996209059358135, 1.6151930261676455, 1.6309038738510209, 1.6467409208745907, 1.6626908313238715, 1.678739474643281, 1.6948719439437958, 1.711072579608615, 1.7273249983035233, 1.7436121274516132, 1.7599162451818644, 1.7762190257091328, 1.79250159005043, 1.8087445619279183, 1.8249281286557177, 1.8410321067538034, 1.8570360119799363, 1.872919133419829, 1.8886606112275253, 1.9042395175622613, 1.919634940225882, 1.9348260684671772, 1.9497922803853895, 1.964513231336724, 1.978968942724094, 1.993139890532841, 2.007007092963058, 2.020552196504005, 2.0337575597964572, 2.046606334636332, 2.0590825434865256, 2.071171152883909, 2.082858142154885, 2.0941305668852164, 2.104976616628229, 2.115385666378904, 2.1253483213904794, 2.134856454963193, 2.143903238892445, 2.1524831663244304, 2.16059206683114, 2.1682271135827906, 2.1753868225629907, 2.1820710438408293, 2.1882809449822203, 2.1940189867510718, 2.1992888913172806, 2.2040956032532746, 2.208445243662633, 2.212345057842775, 2.215803356938142, 2.2188294540901072, 2.2214335956346885, 2.2236268879378476, 2.2254212204914983, 2.2268291859197697, 2.227863997564974, 2.2285394053358485, 2.2288696105066257, 2.2288691801543816, 2.2285529619142066, 2.227935999716654, 2.2270334511502874, 2.225860507063988, 2.224432313989613, 2.2227638999253525, 2.220870103975378, 2.21876551029127, 2.2164643867070115, 2.213980628401798, 2.21132770686499, 2.208518624375234, 2.2055658741421165, 2.2024814061948375, 2.1992765990380656, 2.1959622370322975, 2.192548493394123, 2.189044918653041, 2.185460434344794, 2.1818033316687893, 2.1780812747887475, 2.1743013084119323, 2.1704698692440076, 2.166592800883633, 2.1626753716942884, 2.1587222951699845, 2.154737752297642, 2.1507254154113515, 2.1466884730326226, 2.1426296551965924, 2.138551258776067, 2.134455172333596, 2.1303429000561414, 2.126215584356605, 2.122074026761673, 2.11791870674523, 2.113749798210454, 2.1095671833715013, 2.1053704638360133, 2.1011589687428387, 2.096931759863744, 2.0926876336334885, 2.0884251201282633, 2.0841424790679675, 2.0798376929716085, 2.0755084576475844, 2.0711521702501328, 2.0667659151799733, 2.0623464481497003, 2.0578901787733392, 2.0533931520730198, 2.0488510293243927, 2.0442590686853728, 2.0396121060700563, 2.0349045367406204, 2.0301302980949583, 2.025282854126374, 2.0203551820238204, 2.0153397613674033, 2.010228566353654, 2.005013061459304, 1.9996842009209697, 1.994232432371414, 1.9886477049318152, 1.9829194820137825, 1.9770367590355002, 1.97098808620376, 1.9647615964585081, 1.9583450386193253, 1.951725815715104, 1.9448910284188787, 1.937827523450936, 1.9305219467551853, 1.922960801196845, 1.9151305084747272, 1.9070174748893127, 1.8986081605589944, 1.8898891516317973, 1.8808472349989112, 1.871469474980971, 1.861743291426478, 1.8516565386370134, 1.8411975845140824, 1.8303553893090514, 1.8191195833500848, 1.8074805431189296, 1.7954294650553637, 1.7829584364784363, 1.7700605030306473, 1.75672973207453, 1.7429612714995042, 1.7287514034310614, 1.714097592372942, 1.6989985273563797, 1.6834541577179467, 1.667465722178258, 1.651035770947711, 1.634168180641898, 1.6168681618474199, 1.599142259238222, 1.5809983442029294, 1.5624456000037459, 1.5434944995471818, 1.5241567759056276, 1.5044453857856983, 1.484374466193999, 1.463959284603435, 1.443216182971617, 1.4221625160088387, 1.4008165841342786, 1.3791975615962229, 1.3573254202647014, 1.335220849632784, 1.3129051735851214, 1.2904002645103985, 1.2677284553462362, 1.244912450152672, 1.2219752338118155, 1.1989399814485124, 1.1758299681582536, 1.1526684796160767, 1.129478724122085, 1.1062837466177047, 1.0831063451809293, 1.059968990478818, 1.0368937486230456, 1.0139022078381896, 0.9910154093142436, 0.9682537825740607, 0.9456370856446328, 0.9231843502772625, 0.9009138324178662, 0.8788429680835803, 0.8569883347572815, 0.835365618367863, 0.8139895858800092, 0.792874063475559, 0.7720319202676229, 0.7514750574499445, 0.7312144027471145, 0.7112599099971252, 0.6916205636661623, 0.6723043880664156, 0.6533184610221602, 0.6346689317063354, 0.6163610423506012, 0.5983991535151212, 0.5807867725916593], \"yaxis\": \"y\"}, {\"legendgroup\": \"Fiction\", \"marker\": {\"color\": \"gray\"}, \"mode\": \"lines\", \"name\": \"Fiction\", \"showlegend\": false, \"type\": \"scatter\", \"x\": [3.3, 3.3032, 3.3064, 3.3095999999999997, 3.3127999999999997, 3.316, 3.3192, 3.3224, 3.3255999999999997, 3.3287999999999998, 3.332, 3.3352, 3.3384, 3.3415999999999997, 3.3447999999999998, 3.348, 3.3512, 3.3544, 3.3575999999999997, 3.3608, 3.364, 3.3672, 3.3704, 3.3735999999999997, 3.3768, 3.38, 3.3832, 3.3864, 3.3895999999999997, 3.3928, 3.396, 3.3992, 3.4023999999999996, 3.4055999999999997, 3.4088, 3.412, 3.4152, 3.4183999999999997, 3.4215999999999998, 3.4248, 3.428, 3.4312, 3.4343999999999997, 3.4375999999999998, 3.4408, 3.444, 3.4472, 3.4503999999999997, 3.4536, 3.4568, 3.46, 3.4632, 3.4663999999999997, 3.4696, 3.4728, 3.476, 3.4792, 3.4823999999999997, 3.4856, 3.4888, 3.492, 3.4952, 3.4983999999999997, 3.5016, 3.5048, 3.508, 3.5112, 3.5143999999999997, 3.5176, 3.5208, 3.524, 3.5271999999999997, 3.5303999999999998, 3.5336, 3.5368, 3.54, 3.5431999999999997, 3.5463999999999998, 3.5496, 3.5528, 3.556, 3.5591999999999997, 3.5624, 3.5656, 3.5688, 3.572, 3.5751999999999997, 3.5784, 3.5816, 3.5848, 3.588, 3.5911999999999997, 3.5944, 3.5976, 3.6008, 3.604, 3.6071999999999997, 3.6104, 3.6136, 3.6168, 3.62, 3.6231999999999998, 3.6264, 3.6296, 3.6328, 3.636, 3.6391999999999998, 3.6424, 3.6456, 3.6488, 3.652, 3.6552, 3.6584, 3.6616, 3.6648, 3.668, 3.6712, 3.6744, 3.6776, 3.6808, 3.684, 3.6872, 3.6904, 3.6936, 3.6968, 3.7, 3.7032, 3.7064, 3.7096, 3.7128, 3.7159999999999997, 3.7192, 3.7224, 3.7256, 3.7288, 3.732, 3.7352, 3.7384, 3.7416, 3.7448, 3.748, 3.7512, 3.7544, 3.7576, 3.7608, 3.7640000000000002, 3.7672, 3.7704, 3.7736, 3.7768, 3.78, 3.7832, 3.7864, 3.7896, 3.7928, 3.796, 3.7992, 3.8024, 3.8056, 3.8087999999999997, 3.8120000000000003, 3.8152, 3.8184, 3.8216, 3.8247999999999998, 3.8280000000000003, 3.8312, 3.8344, 3.8376, 3.8407999999999998, 3.8440000000000003, 3.8472, 3.8504, 3.8536, 3.8568, 3.8600000000000003, 3.8632, 3.8664, 3.8696, 3.8728, 3.876, 3.8792, 3.8824, 3.8856, 3.8888, 3.892, 3.8952, 3.8984, 3.9016, 3.9048, 3.908, 3.9112, 3.9144, 3.9176, 3.9208, 3.924, 3.9272, 3.9304, 3.9336, 3.9368, 3.94, 3.9432, 3.9464, 3.9496, 3.9528, 3.956, 3.9592, 3.9624, 3.9656000000000002, 3.9688, 3.972, 3.9752, 3.9784, 3.9816000000000003, 3.9848, 3.988, 3.9912, 3.9944, 3.9976000000000003, 4.0008, 4.004, 4.0072, 4.0104, 4.0136, 4.0168, 4.02, 4.0232, 4.0264, 4.0296, 4.0328, 4.036, 4.0392, 4.0424, 4.0456, 4.0488, 4.052, 4.0552, 4.0584, 4.0616, 4.0648, 4.068, 4.0712, 4.0744, 4.0776, 4.0808, 4.084, 4.0872, 4.0904, 4.0936, 4.0968, 4.1, 4.1032, 4.1064, 4.1096, 4.1128, 4.116, 4.1192, 4.1224, 4.1256, 4.1288, 4.132, 4.1352, 4.1384, 4.1416, 4.1448, 4.148, 4.1512, 4.1544, 4.1576, 4.1608, 4.164, 4.1672, 4.1704, 4.1736, 4.1768, 4.18, 4.1832, 4.1864, 4.1896, 4.1928, 4.196, 4.1992, 4.2024, 4.2056000000000004, 4.2088, 4.212, 4.2152, 4.2184, 4.2216000000000005, 4.2248, 4.228, 4.2312, 4.2344, 4.2376000000000005, 4.2408, 4.244, 4.2472, 4.2504, 4.2536000000000005, 4.2568, 4.26, 4.2632, 4.2664, 4.2696000000000005, 4.2728, 4.276, 4.2792, 4.2824, 4.2856000000000005, 4.2888, 4.292, 4.2952, 4.2984, 4.3016000000000005, 4.3048, 4.308, 4.3112, 4.3144, 4.3176000000000005, 4.3208, 4.324, 4.3272, 4.3304, 4.333600000000001, 4.3368, 4.34, 4.3432, 4.3464, 4.349600000000001, 4.3528, 4.356, 4.3592, 4.3624, 4.365600000000001, 4.3688, 4.372, 4.3752, 4.3784, 4.381600000000001, 4.3848, 4.388, 4.3911999999999995, 4.3944, 4.397600000000001, 4.4008, 4.404, 4.4072, 4.4104, 4.413600000000001, 4.4168, 4.42, 4.4232, 4.4264, 4.429600000000001, 4.4328, 4.436, 4.4392, 4.4424, 4.445600000000001, 4.4488, 4.452, 4.4552, 4.4584, 4.461600000000001, 4.4648, 4.468, 4.4712000000000005, 4.4744, 4.477600000000001, 4.4808, 4.484, 4.4872000000000005, 4.4904, 4.493600000000001, 4.4968, 4.5, 4.5032000000000005, 4.5064, 4.509600000000001, 4.5128, 4.516, 4.5192000000000005, 4.5224, 4.525600000000001, 4.5288, 4.532, 4.535200000000001, 4.5384, 4.5416, 4.5448, 4.548, 4.551200000000001, 4.5544, 4.5576, 4.5608, 4.564, 4.567200000000001, 4.5704, 4.5736, 4.5768, 4.58, 4.583200000000001, 4.5864, 4.5896, 4.5928, 4.596, 4.599200000000001, 4.6024, 4.6056, 4.6088000000000005, 4.612, 4.615200000000001, 4.6184, 4.6216, 4.6248000000000005, 4.628, 4.631200000000001, 4.6344, 4.6376, 4.6408000000000005, 4.644, 4.6472, 4.6504, 4.6536, 4.6568000000000005, 4.66, 4.6632, 4.6664, 4.6696, 4.6728000000000005, 4.676, 4.6792, 4.6824, 4.6856, 4.6888000000000005, 4.692, 4.6952, 4.6984, 4.7016, 4.7048000000000005, 4.708, 4.7112, 4.7144, 4.7176, 4.7208000000000006, 4.724, 4.7272, 4.7304, 4.7336, 4.736800000000001, 4.74, 4.7432, 4.7464, 4.749600000000001, 4.752800000000001, 4.756, 4.7592, 4.7624, 4.765600000000001, 4.768800000000001, 4.772, 4.7752, 4.7784, 4.781600000000001, 4.784800000000001, 4.788, 4.7912, 4.7944, 4.7976, 4.800800000000001, 4.804, 4.8072, 4.8104000000000005, 4.8136, 4.816800000000001, 4.82, 4.8232, 4.8264000000000005, 4.8296, 4.832800000000001, 4.836, 4.8392, 4.8424000000000005, 4.8456, 4.848800000000001, 4.852, 4.8552, 4.8584000000000005, 4.8616, 4.864800000000001, 4.868, 4.8712, 4.8744000000000005, 4.8776, 4.880800000000001, 4.884, 4.8872, 4.8904000000000005, 4.8936, 4.896800000000001], \"xaxis\": \"x\", \"y\": [0.025340171227256614, 0.025354037578452206, 0.02534437214185452, 0.025311471928447436, 0.025255722968518704, 0.025177599390179523, 0.025077662055383646, 0.024956556759592814, 0.02481501200395696, 0.024653836351509462, 0.02447391538139695, 0.024276208257551515, 0.02406174393045446, 0.02383161699271628, 0.023586983211098797, 0.02332905475931623, 0.023059095177467646, 0.022778414085265618, 0.022488361677331852, 0.022190323029725137, 0.021885712247558045, 0.02157596648403903, 0.021262539861560466, 0.020946897325541607, 0.02063050846163579, 0.02031484130664145, 0.020001356183015274, 0.019691499586298355, 0.019386698154036333, 0.019088352743918284, 0.01879783264789553, 0.018516469967974812, 0.018245554178234886, 0.017986326896397804, 0.01773997688701135, 0.017507635316979995, 0.017290371282829266, 0.017089187627712787, 0.016905017064778524, 0.016738718622116164, 0.016591074423106873, 0.016462786814604547, 0.016354475853991877, 0.016266677164777452, 0.016199840169037413, 0.01615432670364911, 0.016130410025920933, 0.01612827421288401, 0.016148013957177663, 0.016189634761127274, 0.016253053529275818, 0.01633809955828541, 0.016444515921766753, 0.01657196124622262, 0.016720011872895967, 0.016888164398898946, 0.01707583858955771, 0.017282380652440345, 0.01750706686204488, 0.017749107522604526, 0.0180076512549316, 0.01828178959166245, 0.01857056186369983, 0.018872960359075562, 0.019187935733887145, 0.019514402653410354, 0.019851245639959443, 0.020197325102580314, 0.020551483522225963, 0.0209125517646959, 0.021279355492341327, 0.021650721644352625, 0.022025484954385926, 0.022402494473350826, 0.022780620064408025, 0.02315875883661033, 0.023535841483192713, 0.023910838490287654, 0.024282766181816916, 0.02465069256651493, 0.025013742953466516, 0.025371105303216623, 0.02572203528242137, 0.02606586099117277, 0.02640198733354273, 0.02672990000354236, 0.02704916906059488, 0.02735945207074548, 0.027660496792183097, 0.027952143386211874, 0.028234326137557404, 0.028507074670824147, 0.028770514652996296, 0.029024867975083152, 0.02927045240932625, 0.02950768074177109, 0.029737059383449796, 0.029959186466877962, 0.03017474943801522, 0.030384522157248905, 0.03058936152628821, 0.030790203661090827, 0.030988059634037172, 0.03118401081150271, 0.03137920381572288, 0.03157484514237258, 0.031772195467570166, 0.031972563680041845, 0.03217730067592694, 0.03238779295515226, 0.03260545605944101, 0.032831727892834575, 0.03306806196609829, 0.03331592060653007, 0.03357676817452237, 0.033852064327716425, 0.034143257372765655, 0.03445177774357728, 0.03477903164347103, 0.03512639488695995, 0.03549520697487691, 0.03588676543433277, 0.03630232045254119, 0.036743069830891734, 0.037210154282845145, 0.03770465309625649, 0.03822758017767729, 0.03877988049303321, 0.03936242691588455, 0.039976017491261, 0.04062137311986146, 0.04129913566424717, 0.042009866475566295, 0.042754045336354504, 0.04353206981208173, 0.044344255001392247, 0.04519083367241998, 0.0460719567702014, 0.04698769427802726, 0.04793803641363895, 0.04892289513944953, 0.04994210596449411, 0.050995430014587124, 0.052082556346175445, 0.05320310447865532, 0.054356627119437596, 0.05554261305580944, 0.05676049018765927, 0.05800962867535457, 0.05928934417753786, 0.060598901154264445, 0.0619375162117732, 0.06330436146622477, 0.06469856790495417, 0.06611922872512677, 0.06756540263117958, 0.06903611707400918, 0.07053037141655422, 0.07204714001216919, 0.07358537518398799, 0.07514401009530748, 0.07672196150288224, 0.07831813238686004, 0.07993141445291752, 0.08156069050395875, 0.0832048366804695, 0.08486272457030648, 0.08653322319031535, 0.08821520084365952, 0.08990752685819547, 0.09160907321251253, 0.09331871605746907, 0.09503533714214009, 0.09675782515402022, 0.09848507698418517, 0.10021599892877536, 0.1019495078387474, 0.10368453223026822, 0.10542001336839976, 0.10715490633691768, 0.10888818110712802, 0.1106188236184594, 0.11234583688341221, 0.11406824212911, 0.11578507998727731, 0.11749541174392283, 0.11919832065936854, 0.12089291336854892, 0.12257832137067422, 0.12425370261646683, 0.12591824320021705, 0.12757115916286565, 0.129211698411242, 0.13083914275744568, 0.13245281008116006, 0.1340520566164986, 0.135636279363691, 0.13720491862466763, 0.13875746066028305, 0.14029344046561448, 0.1418124446584414, 0.14331411447468057, 0.14479814886322476, 0.14626430767129894, 0.14771241491012924, 0.14914236208940373, 0.15055411160769938, 0.1519477001847797, 0.1533232423203772, 0.15468093376284872, 0.15602105496986193, 0.1573439745420721, 0.1586501526095945, 0.15994014414992866, 0.1612146022149216, 0.1624742810432895, 0.16372003903421253, 0.16495284155659248, 0.1661737635676514, 0.16738399201374607, 0.16858482798554933, 0.16977768859906367, 0.1709641085734381, 0.17214574147608294, 0.17332436060529377, 0.17450185948043376, 0.17568025190970782, 0.17686167160573263, 0.1780483713194878, 0.17924272146377124, 0.18044720819810742, 0.1816644309480969, 0.1828970993334911, 0.18414802948088424, 0.18542013969879317, 0.18671644549509583, 0.18804005391932918, 0.18939415721521188, 0.1907820257719617, 0.1922070003665409, 0.19367248369287943, 0.19518193117839527, 0.19673884109272752, 0.1983467439585691, 0.2000091912797394, 0.20172974360721704, 0.2035119579696749, 0.2053593747011876, 0.20727550370504189, 0.2092638101990395, 0.2113276999942836, 0.2134705043660582, 0.21569546458204464, 0.21800571615973563, 0.22040427293132628, 0.22289401100065317, 0.22547765268272213, 0.22815775052201556, 0.23093667149096977, 0.23381658147472378, 0.23679943015234592, 0.23988693638820746, 0.24308057424983975, 0.24638155977055917, 0.24979083857606543, 0.2533090744943476, 0.2569366392671995, 0.2606736034796948, 0.26451972882082, 0.26847446178420986, 0.2725369289125752, 0.2767059336828059, 0.28097995512102425, 0.2853571482280423, 0.2898353462855994, 0.2944120651027987, 0.2990845092500047, 0.30384958031445053, 0.30870388719791375, 0.313643758462092, 0.3186652567119927, 0.3237641949916973, 0.32893615515057084, 0.3341765081213451, 0.33948043603476147, 0.3448429560787353, 0.35025894599344604, 0.3557231710775793, 0.3612303125652429, 0.366774997218079, 0.3723518279629853, 0.3779554153926302, 0.38358040993407166, 0.3892215344801035, 0.3948736172687228, 0.4005316247886077, 0.4061906944825162, 0.41184616701648596, 0.41749361788054257, 0.4231288880863521, 0.4287481137291459, 0.43434775418497285, 0.43992461872032973, 0.4454758912991337, 0.4509991533819119, 0.45649240452408796, 0.461954080593914, 0.46738306944628566, 0.472778723905889, 0.47814087193184235, 0.48346982385630277, 0.48876637661073674, 0.4940318148760411, 0.49926790911596847, 0.5044769104770362, 0.5096615425625602, 0.514824990112739, 0.5199708846472169, 0.525103287150709, 0.5302266679058433, 0.5353458836003835, 0.540466151857933, 0.545593023362089, 0.5507323517634769, 0.5558902615770895, 0.5610731142935915, 0.5662874729426359, 0.5715400653586663, 0.5768377464099529, 0.582187459459683, 0.5875961973337762, 0.593070963073527, 0.5986187307523153, 0.6042464066344565, 0.6099607909505669, 0.6157685405581445, 0.6216761327477857, 0.6276898304454206, 0.6338156490486031, 0.6400593251207729, 0.6464262871515124, 0.6529216285733461, 0.6595500832066932, 0.6663160032844513, 0.6732233401865511, 0.6802756279927312, 0.6874759699392454, 0.6948270278420825, 0.7023310145260772, 0.7099896892760795, 0.7178043563032115, 0.7257758661967252, 0.7339046203098993, 0.742190578007155, 0.7506332666793258, 0.7592317944146979, 0.7679848651955575, 0.7768907964733222, 0.7859475389601295, 0.7951526984611892, 0.8045035595601667, 0.8139971109594514, 0.8236300722686425, 0.8333989220274508, 0.8432999267440973, 0.8533291707266607, 0.8634825864828208, 0.8737559854632185, 0.884145088924755, 0.8946455586927805, 0.9052530276051699, 0.9159631294265153, 0.9267715280270381, 0.9376739456285244, 0.9486661899277029, 0.9597441799171981, 0.9709039702338121, 0.9821417738747987, 0.9934539831339317, 1.0048371886206, 1.0162881962373256, 1.0278040420029713, 1.0393820046214717, 1.0510196157081353, 1.0627146675980512, 1.0744652186735888, 1.0862695961601752, 1.098126396351851, 1.1100344822403103, 1.1219929785328298, 1.1340012640566233, 1.1460589615586556, 1.1581659249215397, 1.1703222238276234, 1.1825281259146285, 1.1947840764774318, 1.2070906757818636, 1.2194486540673264, 1.2318588443262208, 1.2443221529592758, 1.2568395284168123, 1.2694119279471197, 1.282040282584119, 1.2947254605175385, 1.3074682289998194, 1.3202692149548763, 1.3331288644647052, 1.346047401320439, 1.3590247848350612, 1.3720606671248812, 1.385154350077028, 1.3983047422293624, 1.4115103157980053, 1.424769064095975, 1.438078459593634, 1.4514354128782003, 1.4648362327749906, 1.478276587897403, 1.491751469895595, 1.5052551586755605, 1.5187811898602495, 1.5323223247630917, 1.5458705231407561, 1.5594169189869915, 1.572951799622504, 1.5864645883265223, 1.599943830744831, 1.6133771852959442, 1.6267514177815963, 1.640052400390789, 1.6532651152668283, 1.6663736627857393, 1.679361274670895, 1.6922103320436286, 1.7049023884828824, 1.717418198138259, 1.7297377489113632, 1.7418403006892378, 1.7537044285818195, 1.7653080710828095, 1.7766285830401198, 1.7876427932889714, 1.7983270667674582, 1.808657370901605, 1.8186093460148804, 1.8281583794859961, 1.8372796833489407, 1.845948375001068, 1.8541395606584716, 1.8618284211737652, 1.8689902998095531, 1.8756007915414128, 1.8816358334481433, 1.8870717957334278, 1.8918855729130555, 1.896054674695052, 1.899557316076479, 1.9023725061810994, 1.904480135365379, 1.9058610601276431, 1.90649718536573, 1.9063715435423516, 1.9054683703346609, 1.9037731763647723, 1.9012728146312199, 1.8979555432871271, 1.893811083439358, 1.8888306716732353, 1.8830071070399608, 1.8763347922776605, 1.868809769072386, 1.8604297472013307, 1.8511941274373374, 1.8411040181307325, 1.8301622454213522, 1.8183733570701786, 1.8057436199356056, 1.7922810111543053, 1.7779952031200401, 1.7628975423855895, 1.7470010226433617, 1.7303202519682457, 1.7128714145324844, 1.6946722270261807, 1.6757418900383454, 1.656101034672604, 1.635771664688048, 1.6147770944698692, 1.593141883145812, 1.5708917651737657, 1.5480535777324884, 1.5246551852519152, 1.5007254014220068, 1.476293909019303, 1.45139117788879, 1.4260483814157767, 1.4002973118172346, 1.3741702945764442, 1.3477001023371584, 1.3209198685651555], \"yaxis\": \"y\"}],                        {\"barmode\": \"overlay\", \"font\": {\"color\": \"black\", \"family\": \"Arial\", \"size\": 12}, \"hovermode\": \"closest\", \"legend\": {\"traceorder\": \"reversed\"}, \"template\": {\"data\": {\"bar\": [{\"error_x\": {\"color\": \"rgb(36,36,36)\"}, \"error_y\": {\"color\": \"rgb(36,36,36)\"}, \"marker\": {\"line\": {\"color\": \"white\", \"width\": 0.5}}, \"type\": \"bar\"}], \"barpolar\": [{\"marker\": {\"line\": {\"color\": \"white\", \"width\": 0.5}}, \"type\": \"barpolar\"}], \"carpet\": [{\"aaxis\": {\"endlinecolor\": \"rgb(36,36,36)\", \"gridcolor\": \"white\", \"linecolor\": \"white\", \"minorgridcolor\": \"white\", \"startlinecolor\": \"rgb(36,36,36)\"}, \"baxis\": {\"endlinecolor\": \"rgb(36,36,36)\", \"gridcolor\": \"white\", \"linecolor\": \"white\", \"minorgridcolor\": \"white\", \"startlinecolor\": \"rgb(36,36,36)\"}, \"type\": \"carpet\"}], \"choropleth\": [{\"colorbar\": {\"outlinewidth\": 1, \"tickcolor\": \"rgb(36,36,36)\", \"ticks\": \"outside\"}, \"type\": \"choropleth\"}], \"contour\": [{\"colorbar\": {\"outlinewidth\": 1, \"tickcolor\": \"rgb(36,36,36)\", \"ticks\": \"outside\"}, \"colorscale\": [[0.0, \"#440154\"], [0.1111111111111111, \"#482878\"], [0.2222222222222222, \"#3e4989\"], [0.3333333333333333, \"#31688e\"], [0.4444444444444444, \"#26828e\"], [0.5555555555555556, \"#1f9e89\"], [0.6666666666666666, \"#35b779\"], [0.7777777777777778, \"#6ece58\"], [0.8888888888888888, \"#b5de2b\"], [1.0, \"#fde725\"]], \"type\": \"contour\"}], \"contourcarpet\": [{\"colorbar\": {\"outlinewidth\": 1, \"tickcolor\": \"rgb(36,36,36)\", \"ticks\": \"outside\"}, \"type\": \"contourcarpet\"}], \"heatmap\": [{\"colorbar\": {\"outlinewidth\": 1, \"tickcolor\": \"rgb(36,36,36)\", \"ticks\": \"outside\"}, \"colorscale\": [[0.0, \"#440154\"], [0.1111111111111111, \"#482878\"], [0.2222222222222222, \"#3e4989\"], [0.3333333333333333, \"#31688e\"], [0.4444444444444444, \"#26828e\"], [0.5555555555555556, \"#1f9e89\"], [0.6666666666666666, \"#35b779\"], [0.7777777777777778, \"#6ece58\"], [0.8888888888888888, \"#b5de2b\"], [1.0, \"#fde725\"]], \"type\": \"heatmap\"}], \"heatmapgl\": [{\"colorbar\": {\"outlinewidth\": 1, \"tickcolor\": \"rgb(36,36,36)\", \"ticks\": \"outside\"}, \"colorscale\": [[0.0, \"#440154\"], [0.1111111111111111, \"#482878\"], [0.2222222222222222, \"#3e4989\"], [0.3333333333333333, \"#31688e\"], [0.4444444444444444, \"#26828e\"], [0.5555555555555556, \"#1f9e89\"], [0.6666666666666666, \"#35b779\"], [0.7777777777777778, \"#6ece58\"], [0.8888888888888888, \"#b5de2b\"], [1.0, \"#fde725\"]], \"type\": \"heatmapgl\"}], \"histogram\": [{\"marker\": {\"line\": {\"color\": \"white\", \"width\": 0.6}}, \"type\": \"histogram\"}], \"histogram2d\": [{\"colorbar\": {\"outlinewidth\": 1, \"tickcolor\": \"rgb(36,36,36)\", \"ticks\": \"outside\"}, \"colorscale\": [[0.0, \"#440154\"], [0.1111111111111111, \"#482878\"], [0.2222222222222222, \"#3e4989\"], [0.3333333333333333, \"#31688e\"], [0.4444444444444444, \"#26828e\"], [0.5555555555555556, \"#1f9e89\"], [0.6666666666666666, \"#35b779\"], [0.7777777777777778, \"#6ece58\"], [0.8888888888888888, \"#b5de2b\"], [1.0, \"#fde725\"]], \"type\": \"histogram2d\"}], \"histogram2dcontour\": [{\"colorbar\": {\"outlinewidth\": 1, \"tickcolor\": \"rgb(36,36,36)\", \"ticks\": \"outside\"}, \"colorscale\": [[0.0, \"#440154\"], [0.1111111111111111, \"#482878\"], [0.2222222222222222, \"#3e4989\"], [0.3333333333333333, \"#31688e\"], [0.4444444444444444, \"#26828e\"], [0.5555555555555556, \"#1f9e89\"], [0.6666666666666666, \"#35b779\"], [0.7777777777777778, \"#6ece58\"], [0.8888888888888888, \"#b5de2b\"], [1.0, \"#fde725\"]], \"type\": \"histogram2dcontour\"}], \"mesh3d\": [{\"colorbar\": {\"outlinewidth\": 1, \"tickcolor\": \"rgb(36,36,36)\", \"ticks\": \"outside\"}, \"type\": \"mesh3d\"}], \"parcoords\": [{\"line\": {\"colorbar\": {\"outlinewidth\": 1, \"tickcolor\": \"rgb(36,36,36)\", \"ticks\": \"outside\"}}, \"type\": \"parcoords\"}], \"pie\": [{\"automargin\": true, \"type\": \"pie\"}], \"scatter\": [{\"marker\": {\"colorbar\": {\"outlinewidth\": 1, \"tickcolor\": \"rgb(36,36,36)\", \"ticks\": \"outside\"}}, \"type\": \"scatter\"}], \"scatter3d\": [{\"line\": {\"colorbar\": {\"outlinewidth\": 1, \"tickcolor\": \"rgb(36,36,36)\", \"ticks\": \"outside\"}}, \"marker\": {\"colorbar\": {\"outlinewidth\": 1, \"tickcolor\": \"rgb(36,36,36)\", \"ticks\": \"outside\"}}, \"type\": \"scatter3d\"}], \"scattercarpet\": [{\"marker\": {\"colorbar\": {\"outlinewidth\": 1, \"tickcolor\": \"rgb(36,36,36)\", \"ticks\": \"outside\"}}, \"type\": \"scattercarpet\"}], \"scattergeo\": [{\"marker\": {\"colorbar\": {\"outlinewidth\": 1, \"tickcolor\": \"rgb(36,36,36)\", \"ticks\": \"outside\"}}, \"type\": \"scattergeo\"}], \"scattergl\": [{\"marker\": {\"colorbar\": {\"outlinewidth\": 1, \"tickcolor\": \"rgb(36,36,36)\", \"ticks\": \"outside\"}}, \"type\": \"scattergl\"}], \"scattermapbox\": [{\"marker\": {\"colorbar\": {\"outlinewidth\": 1, \"tickcolor\": \"rgb(36,36,36)\", \"ticks\": \"outside\"}}, \"type\": \"scattermapbox\"}], \"scatterpolar\": [{\"marker\": {\"colorbar\": {\"outlinewidth\": 1, \"tickcolor\": \"rgb(36,36,36)\", \"ticks\": \"outside\"}}, \"type\": \"scatterpolar\"}], \"scatterpolargl\": [{\"marker\": {\"colorbar\": {\"outlinewidth\": 1, \"tickcolor\": \"rgb(36,36,36)\", \"ticks\": \"outside\"}}, \"type\": \"scatterpolargl\"}], \"scatterternary\": [{\"marker\": {\"colorbar\": {\"outlinewidth\": 1, \"tickcolor\": \"rgb(36,36,36)\", \"ticks\": \"outside\"}}, \"type\": \"scatterternary\"}], \"surface\": [{\"colorbar\": {\"outlinewidth\": 1, \"tickcolor\": \"rgb(36,36,36)\", \"ticks\": \"outside\"}, \"colorscale\": [[0.0, \"#440154\"], [0.1111111111111111, \"#482878\"], [0.2222222222222222, \"#3e4989\"], [0.3333333333333333, \"#31688e\"], [0.4444444444444444, \"#26828e\"], [0.5555555555555556, \"#1f9e89\"], [0.6666666666666666, \"#35b779\"], [0.7777777777777778, \"#6ece58\"], [0.8888888888888888, \"#b5de2b\"], [1.0, \"#fde725\"]], \"type\": \"surface\"}], \"table\": [{\"cells\": {\"fill\": {\"color\": \"rgb(237,237,237)\"}, \"line\": {\"color\": \"white\"}}, \"header\": {\"fill\": {\"color\": \"rgb(217,217,217)\"}, \"line\": {\"color\": \"white\"}}, \"type\": \"table\"}]}, \"layout\": {\"annotationdefaults\": {\"arrowhead\": 0, \"arrowwidth\": 1}, \"autotypenumbers\": \"strict\", \"coloraxis\": {\"colorbar\": {\"outlinewidth\": 1, \"tickcolor\": \"rgb(36,36,36)\", \"ticks\": \"outside\"}}, \"colorscale\": {\"diverging\": [[0.0, \"rgb(103,0,31)\"], [0.1, \"rgb(178,24,43)\"], [0.2, \"rgb(214,96,77)\"], [0.3, \"rgb(244,165,130)\"], [0.4, \"rgb(253,219,199)\"], [0.5, \"rgb(247,247,247)\"], [0.6, \"rgb(209,229,240)\"], [0.7, \"rgb(146,197,222)\"], [0.8, \"rgb(67,147,195)\"], [0.9, \"rgb(33,102,172)\"], [1.0, \"rgb(5,48,97)\"]], \"sequential\": [[0.0, \"#440154\"], [0.1111111111111111, \"#482878\"], [0.2222222222222222, \"#3e4989\"], [0.3333333333333333, \"#31688e\"], [0.4444444444444444, \"#26828e\"], [0.5555555555555556, \"#1f9e89\"], [0.6666666666666666, \"#35b779\"], [0.7777777777777778, \"#6ece58\"], [0.8888888888888888, \"#b5de2b\"], [1.0, \"#fde725\"]], \"sequentialminus\": [[0.0, \"#440154\"], [0.1111111111111111, \"#482878\"], [0.2222222222222222, \"#3e4989\"], [0.3333333333333333, \"#31688e\"], [0.4444444444444444, \"#26828e\"], [0.5555555555555556, \"#1f9e89\"], [0.6666666666666666, \"#35b779\"], [0.7777777777777778, \"#6ece58\"], [0.8888888888888888, \"#b5de2b\"], [1.0, \"#fde725\"]]}, \"colorway\": [\"#1F77B4\", \"#FF7F0E\", \"#2CA02C\", \"#D62728\", \"#9467BD\", \"#8C564B\", \"#E377C2\", \"#7F7F7F\", \"#BCBD22\", \"#17BECF\"], \"font\": {\"color\": \"rgb(36,36,36)\"}, \"geo\": {\"bgcolor\": \"white\", \"lakecolor\": \"white\", \"landcolor\": \"white\", \"showlakes\": true, \"showland\": true, \"subunitcolor\": \"white\"}, \"hoverlabel\": {\"align\": \"left\"}, \"hovermode\": \"closest\", \"mapbox\": {\"style\": \"light\"}, \"paper_bgcolor\": \"white\", \"plot_bgcolor\": \"white\", \"polar\": {\"angularaxis\": {\"gridcolor\": \"rgb(232,232,232)\", \"linecolor\": \"rgb(36,36,36)\", \"showgrid\": false, \"showline\": true, \"ticks\": \"outside\"}, \"bgcolor\": \"white\", \"radialaxis\": {\"gridcolor\": \"rgb(232,232,232)\", \"linecolor\": \"rgb(36,36,36)\", \"showgrid\": false, \"showline\": true, \"ticks\": \"outside\"}}, \"scene\": {\"xaxis\": {\"backgroundcolor\": \"white\", \"gridcolor\": \"rgb(232,232,232)\", \"gridwidth\": 2, \"linecolor\": \"rgb(36,36,36)\", \"showbackground\": true, \"showgrid\": false, \"showline\": true, \"ticks\": \"outside\", \"zeroline\": false, \"zerolinecolor\": \"rgb(36,36,36)\"}, \"yaxis\": {\"backgroundcolor\": \"white\", \"gridcolor\": \"rgb(232,232,232)\", \"gridwidth\": 2, \"linecolor\": \"rgb(36,36,36)\", \"showbackground\": true, \"showgrid\": false, \"showline\": true, \"ticks\": \"outside\", \"zeroline\": false, \"zerolinecolor\": \"rgb(36,36,36)\"}, \"zaxis\": {\"backgroundcolor\": \"white\", \"gridcolor\": \"rgb(232,232,232)\", \"gridwidth\": 2, \"linecolor\": \"rgb(36,36,36)\", \"showbackground\": true, \"showgrid\": false, \"showline\": true, \"ticks\": \"outside\", \"zeroline\": false, \"zerolinecolor\": \"rgb(36,36,36)\"}}, \"shapedefaults\": {\"fillcolor\": \"black\", \"line\": {\"width\": 0}, \"opacity\": 0.3}, \"ternary\": {\"aaxis\": {\"gridcolor\": \"rgb(232,232,232)\", \"linecolor\": \"rgb(36,36,36)\", \"showgrid\": false, \"showline\": true, \"ticks\": \"outside\"}, \"baxis\": {\"gridcolor\": \"rgb(232,232,232)\", \"linecolor\": \"rgb(36,36,36)\", \"showgrid\": false, \"showline\": true, \"ticks\": \"outside\"}, \"bgcolor\": \"white\", \"caxis\": {\"gridcolor\": \"rgb(232,232,232)\", \"linecolor\": \"rgb(36,36,36)\", \"showgrid\": false, \"showline\": true, \"ticks\": \"outside\"}}, \"title\": {\"x\": 0.05}, \"xaxis\": {\"automargin\": true, \"gridcolor\": \"rgb(232,232,232)\", \"linecolor\": \"rgb(36,36,36)\", \"showgrid\": false, \"showline\": true, \"ticks\": \"outside\", \"title\": {\"standoff\": 15}, \"zeroline\": false, \"zerolinecolor\": \"rgb(36,36,36)\"}, \"yaxis\": {\"automargin\": true, \"gridcolor\": \"rgb(232,232,232)\", \"linecolor\": \"rgb(36,36,36)\", \"showgrid\": false, \"showline\": true, \"ticks\": \"outside\", \"title\": {\"standoff\": 15}, \"zeroline\": false, \"zerolinecolor\": \"rgb(36,36,36)\"}}}, \"title\": {\"text\": \"\\u0421omparison of the distribution density in the group Non_fiction and the group\"}, \"xaxis\": {\"anchor\": \"y2\", \"domain\": [0.0, 1.0], \"zeroline\": false}, \"yaxis\": {\"anchor\": \"free\", \"domain\": [0.0, 1], \"position\": 0.0}},                        {\"responsive\": true}                    ).then(function(){\n",
       "                            \n",
       "var gd = document.getElementById('b57ad5d8-90a7-464b-8b25-96949804a60a');\n",
       "var x = new MutationObserver(function (mutations, observer) {{\n",
       "        var display = window.getComputedStyle(gd).display;\n",
       "        if (!display || display === 'none') {{\n",
       "            console.log([gd, 'removed!']);\n",
       "            Plotly.purge(gd);\n",
       "            observer.disconnect();\n",
       "        }}\n",
       "}});\n",
       "\n",
       "// Listen for the removal of the full notebook cells\n",
       "var notebookContainer = gd.closest('#notebook-container');\n",
       "if (notebookContainer) {{\n",
       "    x.observe(notebookContainer, {childList: true});\n",
       "}}\n",
       "\n",
       "// Listen for the clearing of the current output cell\n",
       "var outputEl = gd.closest('.output');\n",
       "if (outputEl) {{\n",
       "    x.observe(outputEl, {childList: true});\n",
       "}}\n",
       "\n",
       "                        })                };                });            </script>        </div>"
      ]
     },
     "metadata": {},
     "output_type": "display_data"
    }
   ],
   "source": [
    "# Create distplot with curve_type set to 'normal'\n",
    "fig_10 = ff.create_distplot([non_fiction, fiction], \n",
    "                         ['Non_fiction', 'Fiction'], \n",
    "                         colors=['salmon', 'gray',],\n",
    "                         bin_size=.1, \n",
    "                         show_rug=False)\n",
    "\n",
    "# Add title\n",
    "fig_10.update_layout(title_text='Сomparison of the distribution density in the group Non_fiction and the group', \n",
    "                     template='simple_white',\n",
    "                     font=dict(family='Arial', size=12, color='black'))\n",
    "fig_10.show()"
   ]
  },
  {
   "cell_type": "markdown",
   "metadata": {
    "papermill": {
     "duration": 0.060149,
     "end_time": "2021-05-31T13:54:12.279770",
     "exception": false,
     "start_time": "2021-05-31T13:54:12.219621",
     "status": "completed"
    },
    "tags": []
   },
   "source": [
    "<div style=\"background: #DCDCDC\">\n",
    "<p style=\"font-family: Arials, sans-serif; font-size: 16px; color: #000000\"><strong>INSIGHT:</strong> As a result of the testing, statistically significant differences were obtained between the compared groups. Based on the results obtained, it can be argued that users evaluate books differently depending on the genre, and based on the median values, readers give preference to works of fiction.</p>\n",
    "</div>"
   ]
  },
  {
   "cell_type": "markdown",
   "metadata": {
    "papermill": {
     "duration": 0.060255,
     "end_time": "2021-05-31T13:54:12.400996",
     "exception": false,
     "start_time": "2021-05-31T13:54:12.340741",
     "status": "completed"
    },
    "tags": []
   },
   "source": [
    "<p id=\"part10\"></p>\n",
    "\n",
    "# <span style=\"font-family: Arials; font-size: 16px; font-style: bold; font-weight: bold; letter-spacing: 3px; color: #FF8C00\">4 FINAL CONCLUSIONS</span>\n",
    "<hr style=\"height: 0.5px; border: 0; background-color: #808080\">\n",
    "\n",
    "<p style=\"font-family: Arials, sans-serif; font-size: 14px; color: rgba(0,0,0,.7)\">In the course of the analysis, it was established which authors receive the highest ratings from readers, which authors have written the most bestsellers, which books receive the most reviews from readers. In addition, it was found that non-fiction literature is becoming more often a bestseller, but users also like fiction more, which is confirmed by the statistically significant results obtained during the testing.</p>"
   ]
  },
  {
   "cell_type": "markdown",
   "metadata": {
    "papermill": {
     "duration": 0.060475,
     "end_time": "2021-05-31T13:54:12.521906",
     "exception": false,
     "start_time": "2021-05-31T13:54:12.461431",
     "status": "completed"
    },
    "tags": []
   },
   "source": [
    "<p style=\"font-family: Arials; line-height: 1.5; font-size: 16px; font-weight: bold; letter-spacing: 2px; text-align: center; color: #FF8C00\">Thank you for reading this work!\n",
    "Any feedback on this work would be very grateful.\n",
    "If you liked this notebook, put your votes.</p>\n",
    "    <p style=\"text-align: center\">😊😊😊</p>"
   ]
  }
 ],
 "metadata": {
  "kernelspec": {
   "display_name": "Python 3",
   "language": "python",
   "name": "python3"
  },
  "language_info": {
   "codemirror_mode": {
    "name": "ipython",
    "version": 3
   },
   "file_extension": ".py",
   "mimetype": "text/x-python",
   "name": "python",
   "nbconvert_exporter": "python",
   "pygments_lexer": "ipython3",
   "version": "3.8.8"
  },
  "papermill": {
   "default_parameters": {},
   "duration": 18.795137,
   "end_time": "2021-05-31T13:54:13.292388",
   "environment_variables": {},
   "exception": null,
   "input_path": "__notebook__.ipynb",
   "output_path": "__notebook__.ipynb",
   "parameters": {},
   "start_time": "2021-05-31T13:53:54.497251",
   "version": "2.2.2"
  }
 },
 "nbformat": 4,
 "nbformat_minor": 4
}
